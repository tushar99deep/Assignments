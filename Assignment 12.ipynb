{
 "cells": [
  {
   "cell_type": "raw",
   "id": "3038e39c",
   "metadata": {},
   "source": [
    "\n",
    "\n",
    "1. **In what modes should the `PdfFileReader()` and `PdfFileWriter()` File objects be opened?**\n",
    "The `PdfFileReader()` should be opened in 'rb' (read binary) mode, and the `PdfFileWriter()` should be opened in 'wb' (write binary) mode.\n",
    "\n",
    "2. **From a `PdfFileReader` object, how do you get a Page object for page 5?**\n",
    "You can use the `getPage()` method of the `PdfFileReader` object to get a Page object for a specific page. To get a Page object for page 5, you can use the following code:\n",
    "```python\n",
    "page = pdf_reader.getPage(4)  # Page numbering starts from 0, so 4 corresponds to page 5\n",
    "```\n",
    "\n",
    "3. **What `PdfFileReader` variable stores the number of pages in the PDF document?**\n",
    "The `numPages` variable of the `PdfFileReader` object stores the number of pages in the PDF document.\n",
    "\n",
    "4. **If a `PdfFileReader` object’s PDF is encrypted with the password \"swordfish\", what must you do before you can obtain Page objects from it?**\n",
    "You need to decrypt the PDF using the `decrypt()` method of the `PdfFileReader` object before you can obtain Page objects from it. The `decrypt()` method requires the correct password as an argument.\n",
    "\n",
    "5. **What methods do you use to rotate a page?**\n",
    "To rotate a page, you can use the `rotateClockwise()` and `rotateCounterClockwise()` methods of the `Page` object. These methods allow you to rotate the page by 90 degrees in the respective direction.\n",
    "\n",
    "6. **What is the difference between a Run object and a Paragraph object?**\n",
    "In the context of the `python-docx` library, a `Paragraph` object represents a paragraph in a Word document, whereas a `Run` object represents a contiguous run of text within a paragraph that has the same formatting.\n",
    "\n",
    "7. **How do you obtain a list of `Paragraph` objects for a `Document` object that’s stored in a variable named `doc`?**\n",
    "You can use the `paragraphs` attribute of the `Document` object to obtain a list of `Paragraph` objects. The `paragraphs` attribute contains all the paragraphs in the document, and you can access them using indexing or iteration.\n",
    "\n",
    "8. **What type of object has `bold`, `underline`, `italic`, `strike`, and `outline` variables?**\n",
    "The `Run` object has the `bold`, `underline`, `italic`, `strike`, and `outline` variables. These variables represent the formatting attributes of the run of text.\n",
    "\n",
    "9. **What is the difference between `False`, `True`, and `None` for the `bold` variable?**\n",
    "In the context of the `bold` variable:\n",
    "- `False`: Represents that the text is not bold.\n",
    "- `True`: Represents that the text is bold.\n",
    "- `None`: Represents that the text inherits the bold formatting from its containing paragraph.\n",
    "\n",
    "10. **How do you create a `Document` object for a new Word document?**\n",
    "You can create a `Document` object for a new Word document using the `Document()` constructor. The following code snippet demonstrates the creation of a new `Document` object:\n",
    "```python\n",
    "from docx import Document\n",
    "\n",
    "doc = Document()  # Creates a new Document object\n",
    "```\n",
    "\n",
    "11. **How do you add a paragraph with the text 'Hello, there!' to a `Document` object stored in a variable named `doc`?**\n",
    "You can use the `add_paragraph()` method of the `Document` object to add a paragraph\n",
    "\n",
    " with the specified text. The following code snippet adds a paragraph with the text 'Hello, there!' to the `Document` object:\n",
    "```python\n",
    "doc.add_paragraph('Hello, there!')\n",
    "```\n",
    "\n",
    "12. **What integers represent the levels of headings available in Word documents?**\n",
    "In Word documents, the integer levels of headings range from 1 to 9, representing the different levels of heading styles available.\n"
   ]
  }
 ],
 "metadata": {
  "kernelspec": {
   "display_name": "Python 3 (ipykernel)",
   "language": "python",
   "name": "python3"
  },
  "language_info": {
   "codemirror_mode": {
    "name": "ipython",
    "version": 3
   },
   "file_extension": ".py",
   "mimetype": "text/x-python",
   "name": "python",
   "nbconvert_exporter": "python",
   "pygments_lexer": "ipython3",
   "version": "3.9.13"
  }
 },
 "nbformat": 4,
 "nbformat_minor": 5
}
