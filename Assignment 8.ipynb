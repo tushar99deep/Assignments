{
 "cells": [
  {
   "cell_type": "raw",
   "id": "798eb027",
   "metadata": {},
   "source": [
    "1. Is the Python Standard Library included with PyInputPlus?\n",
    "No, PyInputPlus is not a part of the Python Standard Library. It is a separate third-party library that provides additional \n",
    "functionality for taking input from the user.\n",
    "\n",
    "2. Why is PyInputPlus commonly imported with import pyinputplus as pypi?\n",
    "The common convention of importing PyInputPlus as pypi (or any other chosen alias) is simply a matter of personal preference. \n",
    "It allows you to use a shorter and more convenient alias when referencing the PyInputPlus module in your code.\n",
    "\n",
    "3. How do you distinguish between inputInt() and inputFloat()?\n",
    "inputInt() is a function from PyInputPlus that specifically prompts the user for an integer input and returns the entered value \n",
    "as an integer. On the other hand, inputFloat() is another function that prompts the user for a floating-point number input and \n",
    "returns the entered value as a float.\n",
    "\n",
    "4. Using PyInputPlus, how do you ensure that the user enters a whole number between 0 and 99?\n",
    "You can use the inputInt() function from PyInputPlus with the min and max keyword arguments to restrict the input to a range \n",
    "of values. In this case, you can use inputInt(min=0, max=99) to ensure that the user enters a whole number between 0 and 99.\n",
    "\n",
    "5. What is transferred to the keyword arguments allowRegexes and blockRegexes?\n",
    "The allowRegexes and blockRegexes keyword arguments in PyInputPlus are used to specify regular expressions patterns. \n",
    "allowRegexes is a list of regular expression patterns that the input must match to be considered valid, \n",
    "while blockRegexes is a list of regular expression patterns that the input must not match.\n",
    "\n",
    "6. If a blank input is entered three times, what does inputStr(limit=3) do?\n",
    "If a blank input is entered three times when using inputStr(limit=3), the function will raise a ValidationException. \n",
    "By default, blank input is considered invalid, and the limit parameter specifies the number of times the user can enter \n",
    "invalid input before an exception is raised.\n",
    "\n",
    "7. If blank input is entered three times, what does inputStr(limit=3, default='hello') do?\n",
    "If blank input is entered three times when using inputStr(limit=3, default='hello'), the function will return the default \n",
    "value 'hello' instead of raising an exception. The default parameter allows you to provide a fallback value that will be \n",
    "returned if the user exceeds the limit of invalid input entries."
   ]
  }
 ],
 "metadata": {
  "kernelspec": {
   "display_name": "Python 3 (ipykernel)",
   "language": "python",
   "name": "python3"
  },
  "language_info": {
   "codemirror_mode": {
    "name": "ipython",
    "version": 3
   },
   "file_extension": ".py",
   "mimetype": "text/x-python",
   "name": "python",
   "nbconvert_exporter": "python",
   "pygments_lexer": "ipython3",
   "version": "3.9.13"
  }
 },
 "nbformat": 4,
 "nbformat_minor": 5
}
