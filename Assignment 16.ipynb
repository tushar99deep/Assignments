{
 "cells": [
  {
   "cell_type": "code",
   "execution_count": null,
   "id": "ecc3f9b4",
   "metadata": {},
   "outputs": [],
   "source": [
    "\n",
    "\n",
    "1. Create a list called years_list, starting with the year of your birth, and each year thereafter until the year of your fifth birthday. For example, if you were born in 1980, the list would be years_list = [1980, 1981, 1982, 1983, 1984, 1985].\n",
    "   - Example: If you were born in 1990, the years_list would be [1990, 1991, 1992, 1993, 1994, 1995].\n",
    "\n",
    "2. In which year in years_list was your third birthday? Remember, you were 0 years of age for your first year.\n",
    "   - The year of your third birthday would be at index 3 in the years_list.\n",
    "\n",
    "3. In the years list, which year were you the oldest?\n",
    "   - The year in years_list where you were the oldest would be the last year in the list, which can be accessed using years_list[-1].\n",
    "\n",
    "4. Make a list called things with these three strings as elements: \"mozzarella\", \"cinderella\", \"salmonella\".\n",
    "   - things = [\"mozzarella\", \"cinderella\", \"salmonella\"]\n",
    "\n",
    "5. Capitalize the element in things that refers to a person and then print the list. Did it change the element in the list?\n",
    "   - To capitalize the element referring to a person, you can use the index of that element and the capitalize() method. Example: `things[1] = things[1].capitalize()`\n",
    "   - Yes, it will change the element in the list. The element \"cinderella\" will be changed to \"Cinderella\".\n",
    "\n",
    "6. Make a surprise list with the elements \"Groucho,\" \"Chico,\" and \"Harpo.\"\n",
    "   - surprise = [\"Groucho\", \"Chico\", \"Harpo\"]\n",
    "\n",
    "7. Lowercase the last element of the surprise list, reverse it, and then capitalize it.\n",
    "   - To perform the mentioned operations on the last element, you can use indexing and string methods. Example: `surprise[-1] = surprise[-1].lower()[::-1].capitalize()`\n",
    "\n",
    "8. Make an English-to-French dictionary called e2f and print it. Here are your starter words: \"dog\" is \"chien\", \"cat\" is \"chat\", and \"walrus\" is \"morse\".\n",
    "   - e2f = {\"dog\": \"chien\", \"cat\": \"chat\", \"walrus\": \"morse\"}\n",
    "   - You can print the dictionary using `print(e2f)`.\n",
    "\n",
    "9. Write the French word for \"walrus\" in your three-word dictionary e2f.\n",
    "   - To access the French word for \"walrus\", you can use the key \"walrus\" in the e2f dictionary. Example: `e2f[\"walrus\"]`\n",
    "\n",
    "10. Make a French-to-English dictionary called f2e from e2f. Use the items method.\n",
    "    - f2e = {value: key for key, value in e2f.items()}\n",
    "\n",
    "11. Print the English version of the French word \"chien\" using f2e.\n",
    "    - To get the English version of \"chien\", you can use the key \"chien\" in the f2e dictionary. Example: `f2e[\"chien\"]`\n",
    "\n",
    "12. Make and print a set of English words from the keys in e2f.\n",
    "    - You can create a set of English words from the keys in e2f using the set() function. Example: `english_words = set(e2f.keys())`\n",
    "\n",
    "13. Make a mult\n",
    "\n",
    "ilevel dictionary called life. Use these strings for the topmost keys: \"animals\", \"plants\", and \"other\". Make the \"animals\" key refer to another dictionary with the keys \"cats\", \"octopi\", and \"emus\". Make the \"cats\" key refer to a list of strings with the values \"Henri\", \"Grumpy\", and \"Lucy\". Make all the other keys refer to empty dictionaries.\n",
    "    - life = {\"animals\": {\"cats\": [\"Henri\", \"Grumpy\", \"Lucy\"], \"octopi\": {}, \"emus\": {}}, \"plants\": {}, \"other\": {}}\n",
    "\n",
    "14. Print the top-level keys of life.\n",
    "    - To print the top-level keys of life, you can use the keys() method on the dictionary. Example: `print(life.keys())`\n",
    "\n",
    "15. Print the keys for life['animals'].\n",
    "    - To print the keys for the 'animals' key in the life dictionary, you can use the keys() method on the nested dictionary. Example: `print(life['animals'].keys())`\n",
    "\n",
    "16. Print the values for life['animals']['cats'].\n",
    "    - To print the values for the 'cats' key in the nested dictionary under 'animals' in the life dictionary, you can access it using indexing. Example: `print(life['animals']['cats'])`\n"
   ]
  }
 ],
 "metadata": {
  "kernelspec": {
   "display_name": "Python 3 (ipykernel)",
   "language": "python",
   "name": "python3"
  },
  "language_info": {
   "codemirror_mode": {
    "name": "ipython",
    "version": 3
   },
   "file_extension": ".py",
   "mimetype": "text/x-python",
   "name": "python",
   "nbconvert_exporter": "python",
   "pygments_lexer": "ipython3",
   "version": "3.9.13"
  }
 },
 "nbformat": 4,
 "nbformat_minor": 5
}
