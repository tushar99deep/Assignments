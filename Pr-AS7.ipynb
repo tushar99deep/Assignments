{
 "cells": [
  {
   "cell_type": "code",
   "execution_count": null,
   "id": "76646337",
   "metadata": {},
   "outputs": [],
   "source": [
    "1. Write a Python Program to find sum of array?\n",
    "2. Write a Python Program to find largest element in an array?\n",
    "3. Write a Python Program for array rotation?\n",
    "4. Write a Python Program to Split the array and add the first part to the end?\n",
    "5. Write a Python Program to check if given array is Monotonic?"
   ]
  },
  {
   "cell_type": "code",
   "execution_count": null,
   "id": "2d3797e5",
   "metadata": {},
   "outputs": [],
   "source": [
    "def array_sum(arr):\n",
    "    total = sum(arr)\n",
    "    return total\n",
    "\n",
    "array = [int(x) for x in input(\"Enter the elements of the array (space-separated): \").split()]\n",
    "\n",
    "sum_array = array_sum(array)\n",
    "\n",
    "print(\"Sum of the array:\", sum_array)\n"
   ]
  },
  {
   "cell_type": "code",
   "execution_count": null,
   "id": "0e5cd9b4",
   "metadata": {},
   "outputs": [],
   "source": [
    "def find_largest(arr):\n",
    "    largest = max(arr)\n",
    "    return largest\n",
    "\n",
    "array = [int(x) for x in input(\"Enter the elements of the array (space-separated): \").split()]\n",
    "\n",
    "largest_element = find_largest(array)\n",
    "\n",
    "print(\"Largest element in the array:\", largest_element)\n"
   ]
  },
  {
   "cell_type": "code",
   "execution_count": null,
   "id": "8f57fe2e",
   "metadata": {},
   "outputs": [],
   "source": [
    "def rotate_array(arr, k):\n",
    "    k = k % len(arr)  # Handle k larger than array size\n",
    "    rotated = arr[k:] + arr[:k]\n",
    "    return rotated\n",
    "\n",
    "array = [int(x) for x in input(\"Enter the elements of the array (space-separated): \").split()]\n",
    "k = int(input(\"Enter the number of rotations: \"))\n",
    "\n",
    "rotated_array = rotate_array(array, k)\n",
    "\n",
    "print(\"Array after rotation:\", rotated_array)\n"
   ]
  },
  {
   "cell_type": "code",
   "execution_count": null,
   "id": "45fea179",
   "metadata": {},
   "outputs": [],
   "source": [
    "def split_array(arr, k):\n",
    "    split = arr[k:] + arr[:k]\n",
    "    return split\n",
    "\n",
    "array = [int(x) for x in input(\"Enter the elements of the array (space-separated): \").split()]\n",
    "k = int(input(\"Enter the split index: \"))\n",
    "\n",
    "split_result = split_array(array, k)\n",
    "\n",
    "print(\"Array after splitting and adding the first part to the end:\", split_result)\n"
   ]
  },
  {
   "cell_type": "code",
   "execution_count": null,
   "id": "0e455aba",
   "metadata": {},
   "outputs": [],
   "source": [
    "def is_monotonic(arr):\n",
    "    increasing = all(arr[i] <= arr[i + 1] for i in range(len(arr) - 1))\n",
    "    decreasing = all(arr[i] >= arr[i + 1] for i in range(len(arr) - 1))\n",
    "    return increasing or decreasing\n",
    "\n",
    "array = [int(x) for x in input(\"Enter the elements of the array (space-separated): \").split()]\n",
    "\n",
    "if is_monotonic(array):\n",
    "    print(\"The array is monotonic.\")\n",
    "else:\n",
    "    print(\"The array is not monotonic.\")\n"
   ]
  }
 ],
 "metadata": {
  "kernelspec": {
   "display_name": "Python 3 (ipykernel)",
   "language": "python",
   "name": "python3"
  },
  "language_info": {
   "codemirror_mode": {
    "name": "ipython",
    "version": 3
   },
   "file_extension": ".py",
   "mimetype": "text/x-python",
   "name": "python",
   "nbconvert_exporter": "python",
   "pygments_lexer": "ipython3",
   "version": "3.9.13"
  }
 },
 "nbformat": 4,
 "nbformat_minor": 5
}
