{
 "cells": [
  {
   "cell_type": "code",
   "execution_count": null,
   "id": "26cab34e",
   "metadata": {},
   "outputs": [],
   "source": [
    "'''\n",
    "Question1\n",
    "Create a function that takes a list of strings and integers, and filters out the list so that it returns a list of integers only.\n",
    "Examples\n",
    "filter_list([1, 2, 3, \"a\", \"b\", 4]) ➞ [1, 2, 3, 4]\n",
    "\n",
    "filter_list([\"A\", 0, \"Edabit\", 1729, \"Python\", \"1729\"]) ➞ [0, 1729]\n",
    "\n",
    "filter_list([\"Nothing\", \"here\"]) ➞ []\n",
    "'''\n",
    "\n",
    "class FilterList:\n",
    "    @staticmethod\n",
    "    def filter_list(lst):\n",
    "        return [item for item in lst if isinstance(item, int)]\n",
    "\n",
    "\n",
    "# Usage example\n",
    "filter_list = FilterList()\n",
    "print(filter_list.filter_list([1, 2, 3, \"a\", \"b\", 4]))\n"
   ]
  },
  {
   "cell_type": "code",
   "execution_count": null,
   "id": "b4ee5051",
   "metadata": {},
   "outputs": [],
   "source": [
    "'''\n",
    "Question2\n",
    "Given a list of numbers, create a function which returns the list but with each element's index in the list added to itself. This means you add 0 to the number at index 0, add 1 to the number at index 1, etc...\n",
    "Examples\n",
    "add_indexes([0, 0, 0, 0, 0]) ➞ [0, 1, 2, 3, 4]\n",
    "\n",
    "add_indexes([1, 2, 3, 4, 5]) ➞ [1, 3, 5, 7, 9]\n",
    "\n",
    "add_indexes([5, 4, 3, 2, 1]) ➞ [5, 5, 5, 5, 5]\n",
    "'''\n",
    "\n",
    "class AddIndexes:\n",
    "    @staticmethod\n",
    "    def add_indexes(lst):\n",
    "        return [index + value for index, value in enumerate(lst)]\n",
    "\n",
    "\n",
    "# Usage example\n",
    "add_indexes = AddIndexes()\n",
    "print(add_indexes.add_indexes([0, 0, 0, 0, 0]))\n"
   ]
  },
  {
   "cell_type": "code",
   "execution_count": 1,
   "id": "a6afd01a",
   "metadata": {},
   "outputs": [
    {
     "name": "stdout",
     "output_type": "stream",
     "text": [
      "12.57\n"
     ]
    }
   ],
   "source": [
    "'''\n",
    "Question3\n",
    "Create a function that takes the height and radius of a cone as arguments and returns the volume of the cone rounded to the nearest hundredth. See the resources tab for the formula.\n",
    "\n",
    "Examples\n",
    "cone_volume(3, 2) ➞ 12.57\n",
    "\n",
    "cone_volume(15, 6) ➞ 565.49\n",
    "\n",
    "cone_volume(18, 0) ➞ 0\n",
    "'''\n",
    "\n",
    "import math\n",
    "\n",
    "class ConeVolume:\n",
    "    @staticmethod\n",
    "    def cone_volume(height, radius):\n",
    "        volume = (math.pi * radius ** 2 * height) / 3\n",
    "        return round(volume, 2)\n",
    "\n",
    "\n",
    "# Usage example\n",
    "cone_volume = ConeVolume()\n",
    "print(cone_volume.cone_volume(3, 2))\n"
   ]
  },
  {
   "cell_type": "code",
   "execution_count": null,
   "id": "0bbd4aab",
   "metadata": {},
   "outputs": [],
   "source": [
    "'''\n",
    "Question4\n",
    "This Triangular Number Sequence is generated from a pattern of dots that form a triangle. The first 5 numbers of the sequence, or dots, are: \n",
    "1, 3, 6, 10, 15\n",
    "This means that the first triangle has just one dot, the second one has three dots, the third one has 6 dots and so on.\n",
    "Write a function that gives the number of dots with its corresponding triangle number of the sequence.\n",
    "Examples\n",
    "triangle(1) ➞ 1\n",
    "\n",
    "triangle(6) ➞ 21\n",
    "\n",
    "triangle(215) ➞ 23220\n",
    "'''\n",
    "\n",
    "class Triangle:\n",
    "    @staticmethod\n",
    "    def triangle(n):\n",
    "        return (n * (n + 1)) // 2\n",
    "\n",
    "\n",
    "# Usage example\n",
    "triangle = Triangle()\n",
    "print(triangle.triangle(6))\n"
   ]
  },
  {
   "cell_type": "code",
   "execution_count": null,
   "id": "61e975f3",
   "metadata": {},
   "outputs": [],
   "source": [
    "'''\n",
    "Question5\n",
    "Create a function that takes a list of numbers between 1 and 10 (excluding one number) and returns the missing number.\n",
    "Examples\n",
    "missing_num([1, 2, 3, 4, 6, 7, 8, 9, 10]) ➞ 5\n",
    "\n",
    "missing_num([7, 2, 3, 6, 5, 9, 1, 4, 8]) ➞ 10\n",
    "\n",
    "missing_num([10, 5, 1, 2, 4, 6, 8, 3, 9]) ➞ 7\n",
    "'''\n",
    "\n",
    "\n",
    "class MissingNum:\n",
    "    @staticmethod\n",
    "    def missing_num(lst):\n",
    "        return sum(range(1, 11)) - sum(lst)\n",
    "\n",
    "\n",
    "# Usage example\n",
    "missing_num = MissingNum()\n",
    "print(missing_num.missing_num([1, 2, 3, 4, 6, 7, 8, 9, 10]))\n"
   ]
  },
  {
   "cell_type": "code",
   "execution_count": null,
   "id": "cb8a361a",
   "metadata": {},
   "outputs": [],
   "source": []
  }
 ],
 "metadata": {
  "kernelspec": {
   "display_name": "Python 3 (ipykernel)",
   "language": "python",
   "name": "python3"
  },
  "language_info": {
   "codemirror_mode": {
    "name": "ipython",
    "version": 3
   },
   "file_extension": ".py",
   "mimetype": "text/x-python",
   "name": "python",
   "nbconvert_exporter": "python",
   "pygments_lexer": "ipython3",
   "version": "3.9.13"
  }
 },
 "nbformat": 4,
 "nbformat_minor": 5
}
