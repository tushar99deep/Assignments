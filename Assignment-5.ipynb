{
 "cells": [
  {
   "cell_type": "code",
   "execution_count": null,
   "id": "289646db",
   "metadata": {},
   "outputs": [],
   "source": [
    "1. What does an empty dictionary's code look like?\n",
    "\td={}\n",
    "\n",
    "2. What is the value of a dictionary value with the key 'foo' and the value 42?\n",
    "\t42\n",
    "3. What is the most significant distinction between a dictionary and a list?\n",
    "\n",
    "Lists are just like the arrays, lists need not be homogeneous always, a single list may contain DataTypes \n",
    "like integers, strings, as well as objects.\n",
    "Lists are mutable, and hence, they can be altered even after their creation.\n",
    "list1=[1,2,3,'tushar',6+7j,23.5]\n",
    "\n",
    "Dictionary is an unordered collection of data values, used to store data values \n",
    "like a map, which unlike other data types that hold only single value as an element, dictionary holds \n",
    "key:value pair. key-value is provided in the dictionary to make it more optimized. \n",
    "Each key-value pair in a Dictionary is separated by a colon :, whereas each key is separated by a ‘comma’.\n",
    "\n",
    "4. What happens if you try to access spam['foo'] if spam is {'bar': 100}?\n",
    "\n",
    "we will get keyerror because spam={'bar': 100} and we are accessing spam['foo'] which is not defined in dictionary\n",
    "\n",
    "5. If a dictionary is stored in spam, what is the difference between the expressions 'cat' in spam and\n",
    "'cat' in spam.keys()?\n",
    "\n",
    "'cat' in spam checks whether there is a 'cat' key in the dictionary,\n",
    " while 'cat' in spam.keys() checks whether there is a key 'cat' in spam \n",
    "\n",
    "6. If a dictionary is stored in spam, what is the difference between the expressions 'cat' in spam and\n",
    "'cat' in spam.values()?\n",
    "\n",
    "'cat' in spam checks whether there is a 'cat' key in the dictionary, \n",
    "while 'cat' in spam.values() checks whether there is a value 'cat' for one of the keys in spam \n",
    "\n",
    "7. What is a shortcut for the following code?\n",
    "if 'color' not in spam:\n",
    "spam['color'] = 'black'\n",
    "\n",
    "spam.setdefault('color','black')\n",
    "\n",
    "8. How do you \"pretty print\" dictionary values using which module and function?\n",
    "The module is pprint.\n",
    "The functions are pprint.pprint() and pprint.pformat()."
   ]
  }
 ],
 "metadata": {
  "kernelspec": {
   "display_name": "Python 3 (ipykernel)",
   "language": "python",
   "name": "python3"
  },
  "language_info": {
   "codemirror_mode": {
    "name": "ipython",
    "version": 3
   },
   "file_extension": ".py",
   "mimetype": "text/x-python",
   "name": "python",
   "nbconvert_exporter": "python",
   "pygments_lexer": "ipython3",
   "version": "3.9.13"
  }
 },
 "nbformat": 4,
 "nbformat_minor": 5
}
