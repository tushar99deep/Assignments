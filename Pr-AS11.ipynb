{
 "cells": [
  {
   "cell_type": "code",
   "execution_count": null,
   "id": "78cd349b",
   "metadata": {},
   "outputs": [],
   "source": [
    "1. Write a Python program to find words which are greater than given length k?\n",
    "2. Write a Python program for removing i-th character from a string?\n",
    "3. Write a Python program to split and join a string?\n",
    "4. Write a Python to check if a given string is binary string or not?\n",
    "5. Write a Python program to find uncommon words from two Strings?\n",
    "6. Write a Python to find all duplicate characters in string?\n",
    "7. Write a Python Program to check if a string contains any special character?"
   ]
  },
  {
   "cell_type": "code",
   "execution_count": null,
   "id": "898c577f",
   "metadata": {},
   "outputs": [],
   "source": [
    "def find_long_words(sentence, k):\n",
    "    words = sentence.split()\n",
    "    long_words = [word for word in words if len(word) > k]\n",
    "    return long_words\n",
    "\n",
    "sentence = input(\"Enter a sentence: \")\n",
    "k = int(input(\"Enter the length threshold: \"))\n",
    "\n",
    "long_words = find_long_words(sentence, k)\n",
    "\n",
    "print(\"Words greater than length\", k, \"in the sentence:\", long_words)\n"
   ]
  },
  {
   "cell_type": "code",
   "execution_count": null,
   "id": "7be1e0aa",
   "metadata": {},
   "outputs": [],
   "source": [
    "def remove_character(string, i):\n",
    "    new_string = string[:i] + string[i+1:]\n",
    "    return new_string\n",
    "\n",
    "string = input(\"Enter a string: \")\n",
    "i = int(input(\"Enter the index of the character to remove: \"))\n",
    "\n",
    "new_string = remove_character(string, i)\n",
    "\n",
    "print(\"String after removing the character:\", new_string)\n"
   ]
  },
  {
   "cell_type": "code",
   "execution_count": null,
   "id": "a73dfd3a",
   "metadata": {},
   "outputs": [],
   "source": [
    "def split_and_join(string):\n",
    "    words = string.split()\n",
    "    joined_string = \"-\".join(words)\n",
    "    return joined_string\n",
    "\n",
    "string = input(\"Enter a string: \")\n",
    "\n",
    "joined_string = split_and_join(string)\n",
    "\n",
    "print(\"String after splitting and joining:\", joined_string)\n"
   ]
  },
  {
   "cell_type": "code",
   "execution_count": null,
   "id": "9f5bc7bb",
   "metadata": {},
   "outputs": [],
   "source": [
    "def is_binary_string(string):\n",
    "    for char in string:\n",
    "        if char != '0' and char != '1':\n",
    "            return False\n",
    "    return True\n",
    "\n",
    "string = input(\"Enter a string: \")\n",
    "\n",
    "if is_binary_string(string):\n",
    "    print(\"The string is a binary string.\")\n",
    "else:\n",
    "    print(\"The string is not a binary string.\")\n"
   ]
  },
  {
   "cell_type": "code",
   "execution_count": null,
   "id": "f5856f6d",
   "metadata": {},
   "outputs": [],
   "source": [
    "def find_uncommon_words(string1, string2):\n",
    "    words1 = set(string1.split())\n",
    "    words2 = set(string2.split())\n",
    "    uncommon_words = words1.symmetric_difference(words2)\n",
    "    return uncommon_words\n",
    "\n",
    "string1 = input(\"Enter the first string: \")\n",
    "string2 = input(\"Enter the second string: \")\n",
    "\n",
    "uncommon_words = find_uncommon_words(string1, string2)\n",
    "\n",
    "print(\"Uncommon words between the two strings:\", uncommon_words)\n"
   ]
  },
  {
   "cell_type": "code",
   "execution_count": null,
   "id": "22eba659",
   "metadata": {},
   "outputs": [],
   "source": [
    "def find_duplicate_characters(string):\n",
    "    duplicate_chars = []\n",
    "    for char in string:\n",
    "        if string.count(char) > 1 and char not in duplicate_chars:\n",
    "            duplicate_chars.append(char)\n",
    "    return duplicate_chars\n",
    "\n",
    "string = input(\"Enter a string: \")\n",
    "\n",
    "duplicate_chars = find_duplicate_characters(string)\n",
    "\n",
    "print(\"Duplicate characters in the string:\", duplicate_chars)\n"
   ]
  },
  {
   "cell_type": "code",
   "execution_count": null,
   "id": "a68433b0",
   "metadata": {},
   "outputs": [],
   "source": [
    "import re\n",
    "\n",
    "def has_special_character(string):\n",
    "    special_char_regex = re.compile('[@_!#$%^&*()<>?/\\|}{~:]')\n",
    "    if special_char_regex.search(string):\n",
    "        return True\n",
    "    return False\n",
    "\n",
    "string = input(\"Enter a string: \")\n",
    "\n",
    "if has_special_character(string):\n",
    "    print(\"The string contains special characters.\")\n",
    "else:\n",
    "    print(\"The string does not contain any special characters.\")\n"
   ]
  }
 ],
 "metadata": {
  "kernelspec": {
   "display_name": "Python 3 (ipykernel)",
   "language": "python",
   "name": "python3"
  },
  "language_info": {
   "codemirror_mode": {
    "name": "ipython",
    "version": 3
   },
   "file_extension": ".py",
   "mimetype": "text/x-python",
   "name": "python",
   "nbconvert_exporter": "python",
   "pygments_lexer": "ipython3",
   "version": "3.9.13"
  }
 },
 "nbformat": 4,
 "nbformat_minor": 5
}
