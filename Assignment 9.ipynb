{
 "cells": [
  {
   "cell_type": "code",
   "execution_count": null,
   "id": "b5cb4412",
   "metadata": {},
   "outputs": [],
   "source": [
    "\n",
    "\n",
    "1. **To what does a relative path refer?**\n",
    "A relative path refers to the location of a file or directory relative to the current working directory. It does not start with the root directory or drive letter.\n",
    "\n",
    "2. **What does an absolute path start with on your operating system?**\n",
    "On most operating systems, an absolute path starts with the root directory or drive letter, depending on the file system. For example, on Windows, an absolute path may start with a drive letter like \"C:\\\" or \"D:\\\", while on Unix-like systems, it may start with a forward slash (\"/\").\n",
    "\n",
    "3. **What do the functions `os.getcwd()` and `os.chdir()` do?**\n",
    "The `os.getcwd()` function returns the current working directory, which is the directory that the Python script is currently executing in. On the other hand, `os.chdir()` is used to change the current working directory to a specified path.\n",
    "\n",
    "4. **What are the \".\" and \"..\" folders?**\n",
    "The \".\" folder represents the current directory, while the \"..\" folder represents the parent directory. These special notations are used to refer to the current directory or navigate to the parent directory in a file system.\n",
    "\n",
    "5. **In `C:\\bacon\\eggs\\spam.txt`, which part is the dir name, and which part is the base name?**\n",
    "In the path `C:\\bacon\\eggs\\spam.txt`, the directory name (dir name) is `C:\\bacon\\eggs`, and the base name is `spam.txt`.\n",
    "\n",
    "6. **What are the three \"mode\" arguments that can be passed to the `open()` function?**\n",
    "The three mode arguments that can be passed to the `open()` function are:\n",
    "   - `\"r\"`: Read mode - opens the file for reading.\n",
    "   - `\"w\"`: Write mode - opens the file for writing, truncating the file if it already exists or creating a new file.\n",
    "   - `\"a\"`: Append mode - opens the file for writing, appending data to the end of the file if it exists or creating a new file.\n",
    "\n",
    "7. **What happens if an existing file is opened in write mode?**\n",
    "If an existing file is opened in write mode (`\"w\"`), the file will be truncated, meaning that its contents will be deleted. If the file does not exist, a new empty file will be created.\n",
    "\n",
    "8. **How do you tell the difference between `read()` and `readlines()`?**\n",
    "The `read()` method of a file object reads the entire contents of the file as a single string, whereas the `readlines()` method reads the file line by line and returns a list of strings, with each line as an element in the list.\n",
    "\n",
    "9. **What data structure does a shelf value resemble?**\n",
    "A shelf value in Python resembles a dictionary. It is a persistent, dictionary-like object that stores key-value pairs on the disk.\n",
    "\n"
   ]
  }
 ],
 "metadata": {
  "kernelspec": {
   "display_name": "Python 3 (ipykernel)",
   "language": "python",
   "name": "python3"
  },
  "language_info": {
   "codemirror_mode": {
    "name": "ipython",
    "version": 3
   },
   "file_extension": ".py",
   "mimetype": "text/x-python",
   "name": "python",
   "nbconvert_exporter": "python",
   "pygments_lexer": "ipython3",
   "version": "3.9.13"
  }
 },
 "nbformat": 4,
 "nbformat_minor": 5
}
