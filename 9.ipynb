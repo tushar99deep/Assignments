{
 "cells": [
  {
   "cell_type": "code",
   "execution_count": 8,
   "id": "3c91e6eb",
   "metadata": {},
   "outputs": [
    {
     "name": "stdout",
     "output_type": "stream",
     "text": [
      "True\n"
     ]
    }
   ],
   "source": [
    "# Assignment Questions 9\n",
    "# **Question 1**\n",
    "\n",
    "\n",
    "def is_power_of_two(n):\n",
    "    if n <= 0:\n",
    "        return False\n",
    "    else:\n",
    "        # Check if there is only one bit set to 1\n",
    "        return (n & (n - 1)) == 0\n",
    "\n",
    "n = 16\n",
    "result = is_power_of_two(n)\n",
    "print(result)  "
   ]
  },
  {
   "cell_type": "code",
   "execution_count": 7,
   "id": "d3e329b4",
   "metadata": {},
   "outputs": [
    {
     "name": "stdout",
     "output_type": "stream",
     "text": [
      "15\n"
     ]
    }
   ],
   "source": [
    "# **Question 2**\n",
    "\n",
    "\n",
    "    \n",
    "    \n",
    "def sum_of_natural_numbers(n):\n",
    "    return n * (n + 1) // 2\n",
    "\n",
    "n = 5\n",
    "result = sum_of_natural_numbers(n)\n",
    "print(result)  "
   ]
  },
  {
   "cell_type": "code",
   "execution_count": 6,
   "id": "28844e99",
   "metadata": {},
   "outputs": [
    {
     "name": "stdout",
     "output_type": "stream",
     "text": [
      "120\n"
     ]
    }
   ],
   "source": [
    "#**Question 3**\n",
    "\n",
    "\n",
    "def factorial(N):\n",
    "    if N == 0:\n",
    "        return 1\n",
    "    else:\n",
    "        return N * factorial(N - 1)\n",
    "\n",
    "N = 5\n",
    "result = factorial(N)\n",
    "print(result)  \n"
   ]
  },
  {
   "cell_type": "code",
   "execution_count": 5,
   "id": "8574effa",
   "metadata": {},
   "outputs": [
    {
     "name": "stdout",
     "output_type": "stream",
     "text": [
      "25\n"
     ]
    }
   ],
   "source": [
    "#**Question 4**\n",
    "\n",
    "\n",
    "def exponent(N, P):\n",
    "    return N ** P\n",
    "\n",
    "N = 5\n",
    "P = 2\n",
    "result = exponent(N, P)\n",
    "print(result)  \n"
   ]
  },
  {
   "cell_type": "code",
   "execution_count": 4,
   "id": "c2652a50",
   "metadata": {},
   "outputs": [
    {
     "name": "stdout",
     "output_type": "stream",
     "text": [
      "8\n"
     ]
    }
   ],
   "source": [
    "#**Question 5**\n",
    "\n",
    "\n",
    "def find_max(arr):\n",
    "    if len(arr) == 1:\n",
    "        return arr[0]\n",
    "    else:\n",
    "        return max(arr[0], find_max(arr[1:]))\n",
    "\n",
    "arr = [1, 4, 3, -5, -4, 8, 6]\n",
    "result = find_max(arr)\n",
    "print(result) "
   ]
  },
  {
   "cell_type": "code",
   "execution_count": 3,
   "id": "44c1c5ec",
   "metadata": {},
   "outputs": [
    {
     "name": "stdout",
     "output_type": "stream",
     "text": [
      "6\n"
     ]
    }
   ],
   "source": [
    "#**Question 6**\n",
    "\n",
    "\n",
    "def nth_term_of_ap(a, d, N):\n",
    "    return a + (N - 1) * d\n",
    "\n",
    "a = 2\n",
    "d = 1\n",
    "N = 5\n",
    "result = nth_term_of_ap(a, d, N)\n",
    "print(result) "
   ]
  },
  {
   "cell_type": "code",
   "execution_count": 2,
   "id": "34ddb5b9",
   "metadata": {},
   "outputs": [
    {
     "name": "stdout",
     "output_type": "stream",
     "text": [
      "ABC\n",
      "ACB\n",
      "BAC\n",
      "BCA\n",
      "CAB\n",
      "CBA\n"
     ]
    }
   ],
   "source": [
    "#**Question 7**\n",
    "\n",
    "\n",
    "from itertools import permutations\n",
    "\n",
    "def print_permutations(S):\n",
    "    perm_list = list(permutations(S))\n",
    "    for perm in perm_list:\n",
    "        print(\"\".join(perm))\n",
    "\n",
    "S = \"ABC\"\n",
    "print_permutations(S)\n"
   ]
  },
  {
   "cell_type": "code",
   "execution_count": 1,
   "id": "39ba368a",
   "metadata": {},
   "outputs": [
    {
     "name": "stdout",
     "output_type": "stream",
     "text": [
      "120\n"
     ]
    }
   ],
   "source": [
    "#**Question 8**\n",
    "\n",
    "\n",
    "def product_of_array(arr):\n",
    "    product = 1\n",
    "    for num in arr:\n",
    "        product *= num\n",
    "    return product\n",
    "\n",
    "arr = [1, 2, 3, 4, 5]\n",
    "result = product_of_array(arr)\n",
    "print(result)  # Output: 120\n",
    "\n"
   ]
  },
  {
   "cell_type": "code",
   "execution_count": null,
   "id": "d9d6d01d",
   "metadata": {},
   "outputs": [],
   "source": []
  }
 ],
 "metadata": {
  "kernelspec": {
   "display_name": "Python 3 (ipykernel)",
   "language": "python",
   "name": "python3"
  },
  "language_info": {
   "codemirror_mode": {
    "name": "ipython",
    "version": 3
   },
   "file_extension": ".py",
   "mimetype": "text/x-python",
   "name": "python",
   "nbconvert_exporter": "python",
   "pygments_lexer": "ipython3",
   "version": "3.10.9"
  }
 },
 "nbformat": 4,
 "nbformat_minor": 5
}
