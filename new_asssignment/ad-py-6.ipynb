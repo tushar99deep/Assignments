{
 "cells": [
  {
   "cell_type": "markdown",
   "id": "08009835",
   "metadata": {},
   "source": [
    "Q1. Three applications for exception processing are:\n",
    "\n",
    "1. Error Handling: Exceptions provide a way to handle errors that occur during the execution of a program. By catching and handling exceptions, you can prevent your program from crashing and take appropriate actions to handle the error condition gracefully.\n",
    "\n",
    "2. Resource Cleanup: Exceptions can be used to ensure proper cleanup of resources, such as closing files or releasing network connections. By catching exceptions and using appropriate cleanup code in the exception handling blocks, you can ensure that resources are properly released even if an exception occurs.\n",
    "\n",
    "3. Program Flow Control: Exceptions can be used to control the flow of a program. By raising and catching exceptions at specific points in your code, you can change the program's execution path based on certain conditions or handle exceptional situations in a controlled manner.\n",
    "\n",
    "Q2. If you don't do something extra to treat an exception, it will propagate up the call stack until it is caught by an exception handler or it reaches the top level of the program. If an exception is not caught and handled, it will result in the program terminating abruptly and displaying an error message or traceback. This can lead to an unstable or unpredictable state of the program and may cause data loss or corruption.\n",
    "\n",
    "Q3. Your options for recovering from an exception in your script are:\n",
    "\n",
    "1. Catching and Handling the Exception: You can use a try-except block to catch and handle exceptions. Inside the try block, you place the code that may raise an exception, and inside the except block, you provide the necessary logic to handle the exception. By catching the exception, you can execute alternative code paths, display error messages, log the exception, or take other appropriate actions to recover from the exceptional condition.\n",
    "\n",
    "2. Raising a Different Exception: In some cases, you may want to catch an exception, perform some recovery actions, and then raise a different exception to indicate the modified state or error condition. This can be done using the `raise` statement within an except block. By raising a different exception, you can communicate the specific error or failure condition to higher-level exception handlers or terminate the program if necessary.\n",
    "\n",
    "Q4. Two methods for triggering exceptions in your script are:\n",
    "\n",
    "1. Using the `raise` statement: You can explicitly raise an exception using the `raise` statement followed by the type of exception you want to raise. For example, `raise ValueError(\"Invalid input\")` raises a `ValueError` exception with the specified error message. You can also raise built-in exceptions like `TypeError`, `FileNotFoundError`, or define custom exceptions by creating your own exception classes.\n",
    "\n",
    "2. Invoking functions or methods that raise exceptions: When you call a function or method that can potentially encounter an exceptional condition, it may raise an exception. For example, calling the `open()` function to open a file can raise a `FileNotFoundError` if the file doesn't exist. By invoking such functions or methods, you indirectly trigger exceptions in your script.\n",
    "\n",
    "Q5. Two methods for specifying actions to be executed at termination time, regardless of whether or not an exception exists are:\n",
    "\n",
    "1. Using the `finally` block: The `finally` block is a section of code that follows a try-except block. It allows you to specify cleanup or termination code that will always be executed, regardless of whether an exception occurs or is caught. The code inside the `finally` block will run before the control is transferred out of the try-except block, whether an exception was raised or not.\n",
    "\n",
    "2. Context Managers with the `__exit__` method: Context managers, implemented using the `with` statement, provide a convenient way to specify actions that need to be executed before and after a block of code. Context managers define an `__enter__` method to set up resources and an `__exit\n",
    "\n",
    "__` method to perform cleanup operations. The `__exit__` method will be called automatically, even if an exception occurs within the `with` block, ensuring that the specified actions are executed at termination time.\n",
    "\n"
   ]
  }
 ],
 "metadata": {
  "kernelspec": {
   "display_name": "Python 3 (ipykernel)",
   "language": "python",
   "name": "python3"
  },
  "language_info": {
   "codemirror_mode": {
    "name": "ipython",
    "version": 3
   },
   "file_extension": ".py",
   "mimetype": "text/x-python",
   "name": "python",
   "nbconvert_exporter": "python",
   "pygments_lexer": "ipython3",
   "version": "3.10.9"
  }
 },
 "nbformat": 4,
 "nbformat_minor": 5
}
