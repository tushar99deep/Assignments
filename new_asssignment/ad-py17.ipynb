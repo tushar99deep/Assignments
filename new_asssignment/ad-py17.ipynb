{
 "cells": [
  {
   "cell_type": "code",
   "execution_count": null,
   "id": "a46321cd",
   "metadata": {},
   "outputs": [],
   "source": [
    "Q1. Explain the difference between greedy and non-greedy syntax with visual terms in as few words as possible. What is the bare minimum effort required to transform a greedy pattern into a non-greedy one? What characters or characters can you introduce or change?\n",
    "\n",
    "A1. Greedy syntax matches as much as possible, while non-greedy matches as little as possible. The bare minimum effort to transform a greedy pattern into a non-greedy one is to add a question mark '?' after the quantifier or change it to the non-greedy version if available (e.g., '*' to '*?', '+' to '+?', '{m,n}' to '{m,n}?').\n",
    "\n",
    "Q2. When exactly does greedy versus non-greedy make a difference? What if you're looking for a non-greedy match but the only one available is greedy?\n",
    "\n",
    "A2. Greedy versus non-greedy makes a difference when multiple matches are possible. If you're looking for a non-greedy match but only a greedy one is available, you may need to modify the pattern or use look-around assertions to achieve the desired result.\n",
    "\n",
    "Q3. In a simple match of a string, which looks only for one match and does not do any replacement, is the use of a non-tagged group likely to make any practical difference?\n",
    "\n",
    "A3. In a simple match without replacement, the use of a non-tagged group is unlikely to make a practical difference as it's mainly used for capturing and referencing matched substrings.\n",
    "\n",
    "Q4. Describe a scenario in which using a non-tagged category would have a significant impact on the program's outcomes.\n",
    "\n",
    "A4. A scenario where using a non-tagged category would have a significant impact is when you want to extract specific parts of a matched string using capturing groups. Non-tagged groups allow you to refer to these groups by their position in the match, making the pattern more concise and flexible.\n",
    "\n",
    "Q5. Unlike a normal regex pattern, a look-ahead condition does not consume the characters it examines. Describe a situation in which this could make a difference in the results of your program.\n",
    "\n",
    "A5. Look-ahead conditions can make a difference when you want to match a pattern followed or not followed by specific characters but don't want those characters included in the actual match. This non-consumptive nature of look-ahead assertions helps achieve the desired result.\n",
    "\n",
    "Q6. In standard expressions, what is the difference between positive look-ahead and negative look-ahead?\n",
    "\n",
    "A6. Positive look-ahead (?=) asserts that a pattern must be followed by another pattern without including it in the match. Negative look-ahead (?!), on the other hand, asserts that a pattern must not be followed by another pattern.\n",
    "\n",
    "Q7. What is the benefit of referring to groups by name rather than by number in a standard expression?\n",
    "\n",
    "A7. Referring to groups by name improves readability and maintainability. It makes the pattern more self-explanatory and avoids the need to update numeric indices if the pattern is modified later.\n",
    "\n",
    "Q8. Can you identify repeated items within a target string using named groups, as in \"The cow jumped over the moon\"?\n",
    "\n",
    "A8. Yes, you can identify repeated items within a target string using named groups. By defining a named group and matching the pattern, you can access the repeated items by their group name.\n",
    "\n",
    "Q9. When parsing a string, what is at least one thing that the Scanner interface does for you that the re.findall feature does not?\n",
    "\n",
    "A9. The Scanner interface provides tokenization functionality, which automatically splits the input into meaningful units (tokens) based on predefined patterns. This saves you from writing additional code for pattern matching and tokenization, unlike re.findall which focuses solely on pattern matching.\n",
    "\n",
    "Q10. Does a Scanner object have to\n",
    "\n",
    " be named scanner?\n",
    "\n",
    "A10. No, a Scanner object does not have to be named 'scanner.' The choice of variable name is arbitrary and can be anything valid in the programming language you're using. It's good practice to choose a descriptive and meaningful name for better code readability."
   ]
  }
 ],
 "metadata": {
  "kernelspec": {
   "display_name": "Python 3 (ipykernel)",
   "language": "python",
   "name": "python3"
  },
  "language_info": {
   "codemirror_mode": {
    "name": "ipython",
    "version": 3
   },
   "file_extension": ".py",
   "mimetype": "text/x-python",
   "name": "python",
   "nbconvert_exporter": "python",
   "pygments_lexer": "ipython3",
   "version": "3.10.9"
  }
 },
 "nbformat": 4,
 "nbformat_minor": 5
}
