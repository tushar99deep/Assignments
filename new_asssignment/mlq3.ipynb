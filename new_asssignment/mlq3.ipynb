{
 "cells": [
  {
   "cell_type": "code",
   "execution_count": 1,
   "id": "3fec92ab",
   "metadata": {},
   "outputs": [],
   "source": [
    "import numpy as np\n",
    "import pandas as pd"
   ]
  },
  {
   "cell_type": "code",
   "execution_count": null,
   "id": "7dcbae8d",
   "metadata": {},
   "outputs": [],
   "source": [
    "import pandas as pd\n",
    "from sklearn.metrics.pairwise import cosine_similarity, euclidean_distances\n",
    "from sklearn.feature_extraction.text import TfidfVectorizer\n",
    "from scipy.spatial.distance import jaccard, correlation\n",
    "\n",
    "# Read JSON file line by line\n",
    "json_data = []\n",
    "with open('mlq3.json', 'r') as file:\n",
    "    for line in file:\n",
    "        json_data.append(json.loads(line))\n",
    "\n",
    "# Create DataFrame from the JSON data\n",
    "df = pd.DataFrame(json_data)\n",
    "\n",
    "# Display the DataFrame\n",
    "print(df.head())\n",
    "\n",
    "# Given data point\n",
    "given_data = 'This is a sample data point'\n",
    "\n",
    "# Concatenate 'headline' and 'short_description' columns into a single text column\n",
    "df['text'] = df['headline'] + ' ' + df['short_description']\n",
    "\n",
    "# Calculate cosine similarity\n",
    "tfidf = TfidfVectorizer()\n",
    "tfidf_matrix = tfidf.fit_transform(df['text'])\n",
    "cosine_similarities = cosine_similarity(tfidf_matrix, tfidf.transform([given_data])).flatten()\n",
    "\n",
    "# Calculate Euclidean distance\n",
    "euclidean_distances = euclidean_distances(tfidf_matrix, tfidf.transform([given_data])).flatten()\n",
    "\n",
    "# Convert text data to binary vectors\n",
    "binary_vectors = tfidf_matrix.sign()\n",
    "\n",
    "# Calculate Jaccard similarity\n",
    "jaccard_similarities = [1 - jaccard(binary_vectors[i].toarray().flatten(), tfidf.transform([given_data]).toarray().flatten()) for i in range(len(df))]\n",
    "\n",
    "# Calculate Pearson correlation coefficient\n",
    "pearson_correlations = [1 - correlation(tfidf_matrix[i].toarray().flatten(), tfidf.transform([given_data]).toarray().flatten()) for i in range(len(df))]\n",
    "\n",
    "# Create a DataFrame to store the similarity scores\n",
    "similarity_scores = pd.DataFrame({\n",
    "    'Category': df['category'],\n",
    "    'Cosine Similarity': cosine_similarities,\n",
    "    'Euclidean Distance': euclidean_distances,\n",
    "    'Jaccard Similarity': jaccard_similarities,\n",
    "    'Pearson Correlation': pearson_correlations\n",
    "})\n",
    "\n",
    "# Sort the DataFrame by similarity scores in descending order\n",
    "similarity_scores = similarity_scores.sort_values(by=['Cosine Similarity', 'Euclidean Distance', 'Jaccard Similarity', 'Pearson Correlation'], ascending=False)\n",
    "\n",
    "# Print the most similar data point\n",
    "most_similar_data = similarity_scores.iloc[0]\n",
    "print('\\nMost Similar Data:')\n",
    "print(most_similar_data)\n",
    "\n",
    "# Access specific information\n",
    "most_similar_category = most_similar_data['Category']\n",
    "most_similar_data_point = df.loc[df['category'] == most_similar_category, 'text'].values[0]\n",
    "print('\\nMost Similar Category:', most_similar_category)\n",
    "print('Most Similar Data Point:', most_similar_data_point)\n"
   ]
  },
  {
   "cell_type": "code",
   "execution_count": null,
   "id": "30bcd17e",
   "metadata": {},
   "outputs": [],
   "source": []
  }
 ],
 "metadata": {
  "kernelspec": {
   "display_name": "Python 3 (ipykernel)",
   "language": "python",
   "name": "python3"
  },
  "language_info": {
   "codemirror_mode": {
    "name": "ipython",
    "version": 3
   },
   "file_extension": ".py",
   "mimetype": "text/x-python",
   "name": "python",
   "nbconvert_exporter": "python",
   "pygments_lexer": "ipython3",
   "version": "3.10.9"
  }
 },
 "nbformat": 4,
 "nbformat_minor": 5
}
