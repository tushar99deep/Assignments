{
 "cells": [
  {
   "cell_type": "raw",
   "id": "ab4beaf6",
   "metadata": {},
   "source": [
    "a. Check whether the distribution of all the classes is the same or not:\n",
    "To test the equality of distributions among classes, we can use the Kruskal-Wallis test. The null hypothesis (H0) is that the distributions are the same across all classes, and the alternative hypothesis (H1) is that at least one distribution is different."
   ]
  },
  {
   "cell_type": "code",
   "execution_count": 1,
   "id": "bdcc8f66",
   "metadata": {},
   "outputs": [
    {
     "name": "stdout",
     "output_type": "stream",
     "text": [
      "Kruskal-Wallis test p-value: 0.1033287581872121\n"
     ]
    }
   ],
   "source": [
    "import scipy.stats as stats\n",
    "\n",
    "# Create lists for each class\n",
    "class1 = [130, 142, 120, 135, 148, 122, 137, 130, 142, 128]\n",
    "class2 = [120, 135, 118, 127, 140, 118, 129, 124, 137, 125]\n",
    "\n",
    "# Perform Kruskal-Wallis test\n",
    "statistic, p_value = stats.kruskal(class1, class2)\n",
    "print(\"Kruskal-Wallis test p-value:\", p_value)\n"
   ]
  },
  {
   "cell_type": "raw",
   "id": "ab5f90e5",
   "metadata": {},
   "source": [
    "b. Check for the equality of variance:\n",
    "To test the equality of variances among classes, we can use Levene's test. The null hypothesis (H0) is that the variances are equal across all classes, and the alternative hypothesis (H1) is that at least one variance is different."
   ]
  },
  {
   "cell_type": "code",
   "execution_count": 2,
   "id": "cc34fcaa",
   "metadata": {},
   "outputs": [
    {
     "name": "stdout",
     "output_type": "stream",
     "text": [
      "Levene's test p-value: 0.5984957080978963\n"
     ]
    }
   ],
   "source": [
    "# Perform Levene's test\n",
    "statistic, p_value = stats.levene(class1, class2)\n",
    "print(\"Levene's test p-value:\", p_value)\n"
   ]
  },
  {
   "cell_type": "raw",
   "id": "47724de8",
   "metadata": {},
   "source": [
    "c. Determine which method (LDA or QDA) would perform better for classification:\n",
    "To determine which method would perform better, we need to consider the assumptions and characteristics of each method. LDA assumes equal covariance matrices for all classes and linear decision boundaries, while QDA allows for different covariance matrices for each class and quadratic decision boundaries. We can assess the performance of each method using techniques like cross-validation or classification accuracy measures."
   ]
  },
  {
   "cell_type": "code",
   "execution_count": 5,
   "id": "77315b1a",
   "metadata": {},
   "outputs": [
    {
     "name": "stdout",
     "output_type": "stream",
     "text": [
      "Kruskal-Wallis test p-value: 0.02830719372930965\n",
      "Levene's test p-value: 0.5541077260974033\n",
      "t-test p-value: 0.023155306739765003\n"
     ]
    }
   ],
   "source": [
    "from sklearn.discriminant_analysis import LinearDiscriminantAnalysis, QuadraticDiscriminantAnalysis\n",
    "from sklearn.model_selection import cross_val_score\n",
    "\n",
    "import numpy as np\n",
    "\n",
    "import numpy as np\n",
    "from scipy import stats\n",
    "\n",
    "# Given data\n",
    "class1 = [130, 142, 120, 135, 148, 122, 137, 130, 120, 135, 118, 127, 140, 118, 129, 124]\n",
    "class2 = [145, 140, 135, 127, 141, 131, 135, 124, 136, 139, 145, 140, 135, 130, 136, 141]\n",
    "\n",
    "# Check whether the distributions of classes are the same or not\n",
    "alpha = 0.05\n",
    "\n",
    "# Perform Kruskal-Wallis test\n",
    "H, p_value_kruskal = stats.kruskal(class1, class2)\n",
    "print(\"Kruskal-Wallis test p-value:\", p_value_kruskal)\n",
    "\n",
    "# Perform Levene's test\n",
    "mean_diff = np.abs(np.mean(class1) - np.mean(class2))\n",
    "var_class1 = np.var(class1, ddof=1)\n",
    "var_class2 = np.var(class2, ddof=1)\n",
    "numerator = (mean_diff ** 2) / 2\n",
    "denominator = (var_class1 + var_class2) / 2\n",
    "W = numerator / denominator\n",
    "p_value_levene = 1 - stats.f.cdf(W, dfn=1, dfd=len(class1) + len(class2) - 2)\n",
    "print(\"Levene's test p-value:\", p_value_levene)\n",
    "\n",
    "# Check for equality of means between classes\n",
    "alpha = 0.05\n",
    "\n",
    "# Perform t-test\n",
    "t_stat, p_value_ttest = stats.ttest_ind(class1, class2)\n",
    "print(\"t-test p-value:\", p_value_ttest)\n"
   ]
  },
  {
   "cell_type": "raw",
   "id": "311c83dd",
   "metadata": {},
   "source": [
    "d. Check the equality of mean between all the classes:\n",
    "To test the equality of means among all classes, we can use the one-way ANOVA test. The null hypothesis (H0) is that the means are equal across all classes, and the alternative hypothesis (H1) is that at least one mean is different."
   ]
  },
  {
   "cell_type": "code",
   "execution_count": 6,
   "id": "8887ac5b",
   "metadata": {},
   "outputs": [
    {
     "name": "stdout",
     "output_type": "stream",
     "text": [
      "One-way ANOVA p-value: 0.023155306739764982\n"
     ]
    }
   ],
   "source": [
    "# Perform one-way ANOVA test\n",
    "statistic, p_value = stats.f_oneway(class1, class2)\n",
    "print(\"One-way ANOVA p-value:\", p_value)\n"
   ]
  },
  {
   "cell_type": "code",
   "execution_count": null,
   "id": "0dd023c1",
   "metadata": {},
   "outputs": [],
   "source": []
  }
 ],
 "metadata": {
  "kernelspec": {
   "display_name": "Python 3 (ipykernel)",
   "language": "python",
   "name": "python3"
  },
  "language_info": {
   "codemirror_mode": {
    "name": "ipython",
    "version": 3
   },
   "file_extension": ".py",
   "mimetype": "text/x-python",
   "name": "python",
   "nbconvert_exporter": "python",
   "pygments_lexer": "ipython3",
   "version": "3.10.9"
  }
 },
 "nbformat": 4,
 "nbformat_minor": 5
}
