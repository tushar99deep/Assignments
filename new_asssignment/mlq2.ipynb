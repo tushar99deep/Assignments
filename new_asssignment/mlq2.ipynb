{
 "cells": [
  {
   "cell_type": "markdown",
   "metadata": {
    "papermill": {
     "duration": 0.032634,
     "end_time": "2020-09-20T00:07:05.606994",
     "exception": false,
     "start_time": "2020-09-20T00:07:05.574360",
     "status": "completed"
    },
    "tags": []
   },
   "source": [
    "# Part 1: Data Preperation and Exploration"
   ]
  },
  {
   "cell_type": "code",
   "execution_count": 1,
   "metadata": {
    "_cell_guid": "b1076dfc-b9ad-4769-8c92-a6c4dae69d19",
    "_uuid": "8f2839f25d086af736a60e9eeb907d3b93b6e0e5",
    "execution": {
     "iopub.execute_input": "2020-09-20T00:07:05.677887Z",
     "iopub.status.busy": "2020-09-20T00:07:05.677212Z",
     "iopub.status.idle": "2020-09-20T00:07:06.827818Z",
     "shell.execute_reply": "2020-09-20T00:07:06.827027Z"
    },
    "papermill": {
     "duration": 1.188463,
     "end_time": "2020-09-20T00:07:06.827939",
     "exception": false,
     "start_time": "2020-09-20T00:07:05.639476",
     "status": "completed"
    },
    "tags": []
   },
   "outputs": [],
   "source": [
    "# import packages and libraries\n",
    "import pandas as pd\n",
    "import matplotlib.pyplot as plt\n",
    "import matplotlib\n",
    "import seaborn as sns\n",
    "import numpy as np\n",
    "from scipy.stats import shapiro\n",
    "%matplotlib inline"
   ]
  },
  {
   "cell_type": "code",
   "execution_count": 2,
   "metadata": {
    "_cell_guid": "79c7e3d0-c299-4dcb-8224-4455121ee9b0",
    "_uuid": "d629ff2d2480ee46fbb7e2d37f6b5fab8052498a",
    "execution": {
     "iopub.execute_input": "2020-09-20T00:07:06.897060Z",
     "iopub.status.busy": "2020-09-20T00:07:06.896398Z",
     "iopub.status.idle": "2020-09-20T00:07:06.919122Z",
     "shell.execute_reply": "2020-09-20T00:07:06.918433Z"
    },
    "papermill": {
     "duration": 0.059935,
     "end_time": "2020-09-20T00:07:06.919263",
     "exception": false,
     "start_time": "2020-09-20T00:07:06.859328",
     "status": "completed"
    },
    "tags": []
   },
   "outputs": [],
   "source": [
    "# Read file\n",
    "df = pd.read_csv(\"mlq2.csv\")"
   ]
  },
  {
   "cell_type": "markdown",
   "metadata": {
    "papermill": {
     "duration": 0.030761,
     "end_time": "2020-09-20T00:07:06.981097",
     "exception": false,
     "start_time": "2020-09-20T00:07:06.950336",
     "status": "completed"
    },
    "tags": []
   },
   "source": [
    "# About the Data\n",
    "\n",
    "This data comes from the [UCI Machine Learning Repository](https://archive.ics.uci.edu/ml/datasets/Estimation+of+obesity+levels+based+on+eating+habits+and+physical+condition+). This dataset include data for the estimation of obesity levels in individuals from the countries of Mexico, Peru and Colombia, based on their eating habits and physical condition.\n",
    "\n",
    "### Notes:\n",
    "<ul> \n",
    "    <li> This data is created via survery. However the data was imbalanced and records were synthasized using WEKA to simulate additional responses.\n",
    "    <li> The synthasized data fits the distribution of the data but generates floats (ratio data) where ordinal and integer data were the original values in the survey.\n",
    "    <li> The target variable is comprised of the variables height and weight. Height and weight are used to classisfy a persons BMI. The BMI measure was then used to classify each observation. \n",
    "</ul>\n",
    "\n",
    "### Features & Descriptions\n",
    "\n",
    "<table>\n",
    "    <thead>\n",
    "        <tr><th>Category</th><th>Feature Name</th><th>Description</th><th>Variable Type</th></tr>\n",
    "    </thead>\n",
    "    <tbody>\n",
    "        <tr><td>Target Variable</td><td>NObesity</td><td>Based on BMI</td><td>Categorical</td></tr>\n",
    "        <tr><td>Eating Habits</td><td>FAVC</td><td>Frequent consumption of high caloric food</td><td>Categorical</td></tr>\n",
    "        <tr><td>Eating Habits</td><td>FCVC</td><td>Frequency of consumption of vegetables</td><td>Ordinal</td></tr>\n",
    "        <tr><td>Eating Habits</td><td>NCP</td><td>Number of main meals</td><td>Ordinal</td></tr>\n",
    "        <tr><td>Eating Habits</td><td>CAEC</td><td>Consumption of food between meals</td><td>Ordinal</td></tr>\n",
    "        <tr><td>Eating Habits</td><td>CH20</td><td>Consumption of water daily</td><td>Ordinal</td></tr>\n",
    "        <tr><td>Eating Habits</td><td>CALC</td><td>Consumption of alcohol</td><td>Ordinal</td></tr>\n",
    "        <tr><td>Physical Conditioning</td><td>SCC</td><td>Calories consumption monitoring</td><td>Categorical</td></tr>\n",
    "        <tr><td>Physical Conditioning</td><td>FAF</td><td>Pysical activity frequency</td><td>Ordinal</td></tr>\n",
    "        <tr><td>Physical Conditioning</td><td>TUE</td><td>Time using technology devices</td><td>Ordinal</td></tr>\n",
    "        <tr><td>Physical Conditioning</td><td>MTRANS</td><td>Transportation used</td><td>Categorical</td></tr>\n",
    "        <tr><td>Physical Conditioning</td><td>SMOKE</td><td>Smokes Yes or No</td><td>Categorical</td></tr>\n",
    "        <tr><td>Responder Charateristics</td><td>Family History with Overweight</td><td>Yes or No</td><td>Categorical</td></tr>\n",
    "        <tr><td>Responder Charateristics</td><td>Gender</td><td>Gender is Male or Female</td><td>Categorical</td></tr>\n",
    "        <tr><td>Responder Charateristics</td><td>Age</td><td>Age in years</td><td>Integer</td></tr>\n",
    "        <tr><td>Responder Charateristics</td><td>Height</td><td>Height in meters</td><td>Float</td></tr>\n",
    "        <tr><td>Responder Charateristics</td><td>Weight</td><td>Weight in kilograms</td><td>Float</td></tr>        \n",
    "     </tbody>\n",
    "</table>"
   ]
  },
  {
   "cell_type": "markdown",
   "metadata": {
    "papermill": {
     "duration": 0.033012,
     "end_time": "2020-09-20T00:07:07.047645",
     "exception": false,
     "start_time": "2020-09-20T00:07:07.014633",
     "status": "completed"
    },
    "tags": []
   },
   "source": [
    "\n",
    "\n",
    "# Exploring the Data & Clean Up\n",
    "\n",
    "- The data contains 2111 records with 17 columns\n",
    "- The data loads as text and float objects for most of the objects. However we know that some are float, categorical and ordinal\n",
    "- All of the records are unique and contain no null values\n",
    "- Height and Weight are included however they have a direct correlation to each other and our target variable\n",
    "- The survey data is distinguishable from the synthazied data based on floats used for ordinal variables\n"
   ]
  },
  {
   "cell_type": "code",
   "execution_count": 3,
   "metadata": {
    "execution": {
     "iopub.execute_input": "2020-09-20T00:07:07.130103Z",
     "iopub.status.busy": "2020-09-20T00:07:07.128932Z",
     "iopub.status.idle": "2020-09-20T00:07:07.145158Z",
     "shell.execute_reply": "2020-09-20T00:07:07.145716Z"
    },
    "papermill": {
     "duration": 0.067187,
     "end_time": "2020-09-20T00:07:07.145851",
     "exception": false,
     "start_time": "2020-09-20T00:07:07.078664",
     "status": "completed"
    },
    "tags": []
   },
   "outputs": [
    {
     "data": {
      "text/html": [
       "<div>\n",
       "<style scoped>\n",
       "    .dataframe tbody tr th:only-of-type {\n",
       "        vertical-align: middle;\n",
       "    }\n",
       "\n",
       "    .dataframe tbody tr th {\n",
       "        vertical-align: top;\n",
       "    }\n",
       "\n",
       "    .dataframe thead th {\n",
       "        text-align: right;\n",
       "    }\n",
       "</style>\n",
       "<table border=\"1\" class=\"dataframe\">\n",
       "  <thead>\n",
       "    <tr style=\"text-align: right;\">\n",
       "      <th></th>\n",
       "      <th>Gender</th>\n",
       "      <th>Age</th>\n",
       "      <th>Height</th>\n",
       "      <th>Weight</th>\n",
       "      <th>family_history_with_overweight</th>\n",
       "      <th>FAVC</th>\n",
       "      <th>FCVC</th>\n",
       "      <th>NCP</th>\n",
       "      <th>CAEC</th>\n",
       "      <th>SMOKE</th>\n",
       "      <th>CH2O</th>\n",
       "      <th>SCC</th>\n",
       "      <th>FAF</th>\n",
       "      <th>TUE</th>\n",
       "      <th>CALC</th>\n",
       "      <th>MTRANS</th>\n",
       "      <th>NObeyesdad</th>\n",
       "    </tr>\n",
       "  </thead>\n",
       "  <tbody>\n",
       "    <tr>\n",
       "      <th>0</th>\n",
       "      <td>Female</td>\n",
       "      <td>21.0</td>\n",
       "      <td>1.62</td>\n",
       "      <td>64.0</td>\n",
       "      <td>yes</td>\n",
       "      <td>no</td>\n",
       "      <td>2.0</td>\n",
       "      <td>3.0</td>\n",
       "      <td>Sometimes</td>\n",
       "      <td>no</td>\n",
       "      <td>2.0</td>\n",
       "      <td>no</td>\n",
       "      <td>0.0</td>\n",
       "      <td>1.0</td>\n",
       "      <td>no</td>\n",
       "      <td>Public_Transportation</td>\n",
       "      <td>Normal_Weight</td>\n",
       "    </tr>\n",
       "    <tr>\n",
       "      <th>1</th>\n",
       "      <td>Female</td>\n",
       "      <td>21.0</td>\n",
       "      <td>1.52</td>\n",
       "      <td>56.0</td>\n",
       "      <td>yes</td>\n",
       "      <td>no</td>\n",
       "      <td>3.0</td>\n",
       "      <td>3.0</td>\n",
       "      <td>Sometimes</td>\n",
       "      <td>yes</td>\n",
       "      <td>3.0</td>\n",
       "      <td>yes</td>\n",
       "      <td>3.0</td>\n",
       "      <td>0.0</td>\n",
       "      <td>Sometimes</td>\n",
       "      <td>Public_Transportation</td>\n",
       "      <td>Normal_Weight</td>\n",
       "    </tr>\n",
       "    <tr>\n",
       "      <th>2</th>\n",
       "      <td>Male</td>\n",
       "      <td>23.0</td>\n",
       "      <td>1.80</td>\n",
       "      <td>77.0</td>\n",
       "      <td>yes</td>\n",
       "      <td>no</td>\n",
       "      <td>2.0</td>\n",
       "      <td>3.0</td>\n",
       "      <td>Sometimes</td>\n",
       "      <td>no</td>\n",
       "      <td>2.0</td>\n",
       "      <td>no</td>\n",
       "      <td>2.0</td>\n",
       "      <td>1.0</td>\n",
       "      <td>Frequently</td>\n",
       "      <td>Public_Transportation</td>\n",
       "      <td>Normal_Weight</td>\n",
       "    </tr>\n",
       "    <tr>\n",
       "      <th>3</th>\n",
       "      <td>Male</td>\n",
       "      <td>27.0</td>\n",
       "      <td>1.80</td>\n",
       "      <td>87.0</td>\n",
       "      <td>no</td>\n",
       "      <td>no</td>\n",
       "      <td>3.0</td>\n",
       "      <td>3.0</td>\n",
       "      <td>Sometimes</td>\n",
       "      <td>no</td>\n",
       "      <td>2.0</td>\n",
       "      <td>no</td>\n",
       "      <td>2.0</td>\n",
       "      <td>0.0</td>\n",
       "      <td>Frequently</td>\n",
       "      <td>Walking</td>\n",
       "      <td>Overweight_Level_I</td>\n",
       "    </tr>\n",
       "    <tr>\n",
       "      <th>4</th>\n",
       "      <td>Male</td>\n",
       "      <td>22.0</td>\n",
       "      <td>1.78</td>\n",
       "      <td>89.8</td>\n",
       "      <td>no</td>\n",
       "      <td>no</td>\n",
       "      <td>2.0</td>\n",
       "      <td>1.0</td>\n",
       "      <td>Sometimes</td>\n",
       "      <td>no</td>\n",
       "      <td>2.0</td>\n",
       "      <td>no</td>\n",
       "      <td>0.0</td>\n",
       "      <td>0.0</td>\n",
       "      <td>Sometimes</td>\n",
       "      <td>Public_Transportation</td>\n",
       "      <td>Overweight_Level_II</td>\n",
       "    </tr>\n",
       "  </tbody>\n",
       "</table>\n",
       "</div>"
      ],
      "text/plain": [
       "   Gender   Age  Height  Weight family_history_with_overweight FAVC  FCVC  \\\n",
       "0  Female  21.0    1.62    64.0                            yes   no   2.0   \n",
       "1  Female  21.0    1.52    56.0                            yes   no   3.0   \n",
       "2    Male  23.0    1.80    77.0                            yes   no   2.0   \n",
       "3    Male  27.0    1.80    87.0                             no   no   3.0   \n",
       "4    Male  22.0    1.78    89.8                             no   no   2.0   \n",
       "\n",
       "   NCP       CAEC SMOKE  CH2O  SCC  FAF  TUE        CALC  \\\n",
       "0  3.0  Sometimes    no   2.0   no  0.0  1.0          no   \n",
       "1  3.0  Sometimes   yes   3.0  yes  3.0  0.0   Sometimes   \n",
       "2  3.0  Sometimes    no   2.0   no  2.0  1.0  Frequently   \n",
       "3  3.0  Sometimes    no   2.0   no  2.0  0.0  Frequently   \n",
       "4  1.0  Sometimes    no   2.0   no  0.0  0.0   Sometimes   \n",
       "\n",
       "                  MTRANS           NObeyesdad  \n",
       "0  Public_Transportation        Normal_Weight  \n",
       "1  Public_Transportation        Normal_Weight  \n",
       "2  Public_Transportation        Normal_Weight  \n",
       "3                Walking   Overweight_Level_I  \n",
       "4  Public_Transportation  Overweight_Level_II  "
      ]
     },
     "execution_count": 3,
     "metadata": {},
     "output_type": "execute_result"
    }
   ],
   "source": [
    "# Top 5 rows show survey data\n",
    "df.head(5)"
   ]
  },
  {
   "cell_type": "code",
   "execution_count": 4,
   "metadata": {
    "execution": {
     "iopub.execute_input": "2020-09-20T00:07:07.234415Z",
     "iopub.status.busy": "2020-09-20T00:07:07.233587Z",
     "iopub.status.idle": "2020-09-20T00:07:07.237780Z",
     "shell.execute_reply": "2020-09-20T00:07:07.238328Z"
    },
    "papermill": {
     "duration": 0.060233,
     "end_time": "2020-09-20T00:07:07.238469",
     "exception": false,
     "start_time": "2020-09-20T00:07:07.178236",
     "status": "completed"
    },
    "tags": []
   },
   "outputs": [
    {
     "data": {
      "text/html": [
       "<div>\n",
       "<style scoped>\n",
       "    .dataframe tbody tr th:only-of-type {\n",
       "        vertical-align: middle;\n",
       "    }\n",
       "\n",
       "    .dataframe tbody tr th {\n",
       "        vertical-align: top;\n",
       "    }\n",
       "\n",
       "    .dataframe thead th {\n",
       "        text-align: right;\n",
       "    }\n",
       "</style>\n",
       "<table border=\"1\" class=\"dataframe\">\n",
       "  <thead>\n",
       "    <tr style=\"text-align: right;\">\n",
       "      <th></th>\n",
       "      <th>Gender</th>\n",
       "      <th>Age</th>\n",
       "      <th>Height</th>\n",
       "      <th>Weight</th>\n",
       "      <th>family_history_with_overweight</th>\n",
       "      <th>FAVC</th>\n",
       "      <th>FCVC</th>\n",
       "      <th>NCP</th>\n",
       "      <th>CAEC</th>\n",
       "      <th>SMOKE</th>\n",
       "      <th>CH2O</th>\n",
       "      <th>SCC</th>\n",
       "      <th>FAF</th>\n",
       "      <th>TUE</th>\n",
       "      <th>CALC</th>\n",
       "      <th>MTRANS</th>\n",
       "      <th>NObeyesdad</th>\n",
       "    </tr>\n",
       "  </thead>\n",
       "  <tbody>\n",
       "    <tr>\n",
       "      <th>2106</th>\n",
       "      <td>Female</td>\n",
       "      <td>20.976842</td>\n",
       "      <td>1.710730</td>\n",
       "      <td>131.408528</td>\n",
       "      <td>yes</td>\n",
       "      <td>yes</td>\n",
       "      <td>3.0</td>\n",
       "      <td>3.0</td>\n",
       "      <td>Sometimes</td>\n",
       "      <td>no</td>\n",
       "      <td>1.728139</td>\n",
       "      <td>no</td>\n",
       "      <td>1.676269</td>\n",
       "      <td>0.906247</td>\n",
       "      <td>Sometimes</td>\n",
       "      <td>Public_Transportation</td>\n",
       "      <td>Obesity_Type_III</td>\n",
       "    </tr>\n",
       "    <tr>\n",
       "      <th>2107</th>\n",
       "      <td>Female</td>\n",
       "      <td>21.982942</td>\n",
       "      <td>1.748584</td>\n",
       "      <td>133.742943</td>\n",
       "      <td>yes</td>\n",
       "      <td>yes</td>\n",
       "      <td>3.0</td>\n",
       "      <td>3.0</td>\n",
       "      <td>Sometimes</td>\n",
       "      <td>no</td>\n",
       "      <td>2.005130</td>\n",
       "      <td>no</td>\n",
       "      <td>1.341390</td>\n",
       "      <td>0.599270</td>\n",
       "      <td>Sometimes</td>\n",
       "      <td>Public_Transportation</td>\n",
       "      <td>Obesity_Type_III</td>\n",
       "    </tr>\n",
       "    <tr>\n",
       "      <th>2108</th>\n",
       "      <td>Female</td>\n",
       "      <td>22.524036</td>\n",
       "      <td>1.752206</td>\n",
       "      <td>133.689352</td>\n",
       "      <td>yes</td>\n",
       "      <td>yes</td>\n",
       "      <td>3.0</td>\n",
       "      <td>3.0</td>\n",
       "      <td>Sometimes</td>\n",
       "      <td>no</td>\n",
       "      <td>2.054193</td>\n",
       "      <td>no</td>\n",
       "      <td>1.414209</td>\n",
       "      <td>0.646288</td>\n",
       "      <td>Sometimes</td>\n",
       "      <td>Public_Transportation</td>\n",
       "      <td>Obesity_Type_III</td>\n",
       "    </tr>\n",
       "    <tr>\n",
       "      <th>2109</th>\n",
       "      <td>Female</td>\n",
       "      <td>24.361936</td>\n",
       "      <td>1.739450</td>\n",
       "      <td>133.346641</td>\n",
       "      <td>yes</td>\n",
       "      <td>yes</td>\n",
       "      <td>3.0</td>\n",
       "      <td>3.0</td>\n",
       "      <td>Sometimes</td>\n",
       "      <td>no</td>\n",
       "      <td>2.852339</td>\n",
       "      <td>no</td>\n",
       "      <td>1.139107</td>\n",
       "      <td>0.586035</td>\n",
       "      <td>Sometimes</td>\n",
       "      <td>Public_Transportation</td>\n",
       "      <td>Obesity_Type_III</td>\n",
       "    </tr>\n",
       "    <tr>\n",
       "      <th>2110</th>\n",
       "      <td>Female</td>\n",
       "      <td>23.664709</td>\n",
       "      <td>1.738836</td>\n",
       "      <td>133.472641</td>\n",
       "      <td>yes</td>\n",
       "      <td>yes</td>\n",
       "      <td>3.0</td>\n",
       "      <td>3.0</td>\n",
       "      <td>Sometimes</td>\n",
       "      <td>no</td>\n",
       "      <td>2.863513</td>\n",
       "      <td>no</td>\n",
       "      <td>1.026452</td>\n",
       "      <td>0.714137</td>\n",
       "      <td>Sometimes</td>\n",
       "      <td>Public_Transportation</td>\n",
       "      <td>Obesity_Type_III</td>\n",
       "    </tr>\n",
       "  </tbody>\n",
       "</table>\n",
       "</div>"
      ],
      "text/plain": [
       "      Gender        Age    Height      Weight family_history_with_overweight  \\\n",
       "2106  Female  20.976842  1.710730  131.408528                            yes   \n",
       "2107  Female  21.982942  1.748584  133.742943                            yes   \n",
       "2108  Female  22.524036  1.752206  133.689352                            yes   \n",
       "2109  Female  24.361936  1.739450  133.346641                            yes   \n",
       "2110  Female  23.664709  1.738836  133.472641                            yes   \n",
       "\n",
       "     FAVC  FCVC  NCP       CAEC SMOKE      CH2O SCC       FAF       TUE  \\\n",
       "2106  yes   3.0  3.0  Sometimes    no  1.728139  no  1.676269  0.906247   \n",
       "2107  yes   3.0  3.0  Sometimes    no  2.005130  no  1.341390  0.599270   \n",
       "2108  yes   3.0  3.0  Sometimes    no  2.054193  no  1.414209  0.646288   \n",
       "2109  yes   3.0  3.0  Sometimes    no  2.852339  no  1.139107  0.586035   \n",
       "2110  yes   3.0  3.0  Sometimes    no  2.863513  no  1.026452  0.714137   \n",
       "\n",
       "           CALC                 MTRANS        NObeyesdad  \n",
       "2106  Sometimes  Public_Transportation  Obesity_Type_III  \n",
       "2107  Sometimes  Public_Transportation  Obesity_Type_III  \n",
       "2108  Sometimes  Public_Transportation  Obesity_Type_III  \n",
       "2109  Sometimes  Public_Transportation  Obesity_Type_III  \n",
       "2110  Sometimes  Public_Transportation  Obesity_Type_III  "
      ]
     },
     "execution_count": 4,
     "metadata": {},
     "output_type": "execute_result"
    }
   ],
   "source": [
    "# Bottom 5 rows show synthetic data\n",
    "df.tail(5)"
   ]
  },
  {
   "cell_type": "code",
   "execution_count": 5,
   "metadata": {
    "execution": {
     "iopub.execute_input": "2020-09-20T00:07:07.329147Z",
     "iopub.status.busy": "2020-09-20T00:07:07.328133Z",
     "iopub.status.idle": "2020-09-20T00:07:07.332717Z",
     "shell.execute_reply": "2020-09-20T00:07:07.331972Z"
    },
    "papermill": {
     "duration": 0.061827,
     "end_time": "2020-09-20T00:07:07.332870",
     "exception": false,
     "start_time": "2020-09-20T00:07:07.271043",
     "status": "completed"
    },
    "tags": []
   },
   "outputs": [
    {
     "data": {
      "text/html": [
       "<div>\n",
       "<style scoped>\n",
       "    .dataframe tbody tr th:only-of-type {\n",
       "        vertical-align: middle;\n",
       "    }\n",
       "\n",
       "    .dataframe tbody tr th {\n",
       "        vertical-align: top;\n",
       "    }\n",
       "\n",
       "    .dataframe thead th {\n",
       "        text-align: right;\n",
       "    }\n",
       "</style>\n",
       "<table border=\"1\" class=\"dataframe\">\n",
       "  <thead>\n",
       "    <tr style=\"text-align: right;\">\n",
       "      <th></th>\n",
       "      <th>Gender</th>\n",
       "      <th>Age</th>\n",
       "      <th>Height</th>\n",
       "      <th>Weight</th>\n",
       "      <th>family_history_with_overweight</th>\n",
       "      <th>FAVC</th>\n",
       "      <th>FCVC</th>\n",
       "      <th>NCP</th>\n",
       "      <th>CAEC</th>\n",
       "      <th>SMOKE</th>\n",
       "      <th>CH2O</th>\n",
       "      <th>SCC</th>\n",
       "      <th>FAF</th>\n",
       "      <th>TUE</th>\n",
       "      <th>CALC</th>\n",
       "      <th>MTRANS</th>\n",
       "      <th>NObeyesdad</th>\n",
       "    </tr>\n",
       "  </thead>\n",
       "  <tbody>\n",
       "    <tr>\n",
       "      <th>501</th>\n",
       "      <td>Female</td>\n",
       "      <td>21.853826</td>\n",
       "      <td>1.755643</td>\n",
       "      <td>137.796884</td>\n",
       "      <td>yes</td>\n",
       "      <td>yes</td>\n",
       "      <td>3.000000</td>\n",
       "      <td>3.00000</td>\n",
       "      <td>Sometimes</td>\n",
       "      <td>no</td>\n",
       "      <td>2.184707</td>\n",
       "      <td>no</td>\n",
       "      <td>1.978631</td>\n",
       "      <td>0.838957</td>\n",
       "      <td>Sometimes</td>\n",
       "      <td>Public_Transportation</td>\n",
       "      <td>Obesity_Type_III</td>\n",
       "    </tr>\n",
       "    <tr>\n",
       "      <th>518</th>\n",
       "      <td>Female</td>\n",
       "      <td>23.501249</td>\n",
       "      <td>1.600000</td>\n",
       "      <td>45.000000</td>\n",
       "      <td>no</td>\n",
       "      <td>no</td>\n",
       "      <td>2.591439</td>\n",
       "      <td>3.00000</td>\n",
       "      <td>Frequently</td>\n",
       "      <td>no</td>\n",
       "      <td>2.074048</td>\n",
       "      <td>no</td>\n",
       "      <td>1.679935</td>\n",
       "      <td>0.000000</td>\n",
       "      <td>no</td>\n",
       "      <td>Public_Transportation</td>\n",
       "      <td>Insufficient_Weight</td>\n",
       "    </tr>\n",
       "    <tr>\n",
       "      <th>516</th>\n",
       "      <td>Female</td>\n",
       "      <td>21.491055</td>\n",
       "      <td>1.586952</td>\n",
       "      <td>43.087508</td>\n",
       "      <td>no</td>\n",
       "      <td>no</td>\n",
       "      <td>2.008760</td>\n",
       "      <td>1.73762</td>\n",
       "      <td>Frequently</td>\n",
       "      <td>no</td>\n",
       "      <td>1.792022</td>\n",
       "      <td>no</td>\n",
       "      <td>0.119643</td>\n",
       "      <td>0.000000</td>\n",
       "      <td>no</td>\n",
       "      <td>Public_Transportation</td>\n",
       "      <td>Insufficient_Weight</td>\n",
       "    </tr>\n",
       "  </tbody>\n",
       "</table>\n",
       "</div>"
      ],
      "text/plain": [
       "     Gender        Age    Height      Weight family_history_with_overweight  \\\n",
       "501  Female  21.853826  1.755643  137.796884                            yes   \n",
       "518  Female  23.501249  1.600000   45.000000                             no   \n",
       "516  Female  21.491055  1.586952   43.087508                             no   \n",
       "\n",
       "    FAVC      FCVC      NCP        CAEC SMOKE      CH2O SCC       FAF  \\\n",
       "501  yes  3.000000  3.00000   Sometimes    no  2.184707  no  1.978631   \n",
       "518   no  2.591439  3.00000  Frequently    no  2.074048  no  1.679935   \n",
       "516   no  2.008760  1.73762  Frequently    no  1.792022  no  0.119643   \n",
       "\n",
       "          TUE       CALC                 MTRANS           NObeyesdad  \n",
       "501  0.838957  Sometimes  Public_Transportation     Obesity_Type_III  \n",
       "518  0.000000         no  Public_Transportation  Insufficient_Weight  \n",
       "516  0.000000         no  Public_Transportation  Insufficient_Weight  "
      ]
     },
     "execution_count": 5,
     "metadata": {},
     "output_type": "execute_result"
    }
   ],
   "source": [
    "# Additional rows showing synthetic data\n",
    "df.iloc[[501,518,516]]"
   ]
  },
  {
   "cell_type": "markdown",
   "metadata": {
    "papermill": {
     "duration": 0.036881,
     "end_time": "2020-09-20T00:07:07.407160",
     "exception": false,
     "start_time": "2020-09-20T00:07:07.370279",
     "status": "completed"
    },
    "tags": []
   },
   "source": [
    "#### Data Prep / Clean Up\n",
    "\n",
    "- Drop Height and Weight columns as they are used in the BMI calculation for our target variable\n",
    "- Convert categorical variables to category instead of object/text\n",
    "- Convert synthetic floats & floats to whole integers to better reprsent the ordinal data from orignal survey data"
   ]
  },
  {
   "cell_type": "code",
   "execution_count": 6,
   "metadata": {
    "execution": {
     "iopub.execute_input": "2020-09-20T00:07:07.494651Z",
     "iopub.status.busy": "2020-09-20T00:07:07.493926Z",
     "iopub.status.idle": "2020-09-20T00:07:07.501624Z",
     "shell.execute_reply": "2020-09-20T00:07:07.500774Z"
    },
    "papermill": {
     "duration": 0.05713,
     "end_time": "2020-09-20T00:07:07.501786",
     "exception": false,
     "start_time": "2020-09-20T00:07:07.444656",
     "status": "completed"
    },
    "tags": []
   },
   "outputs": [
    {
     "name": "stdout",
     "output_type": "stream",
     "text": [
      "(2111, 15)\n"
     ]
    }
   ],
   "source": [
    "# Height and weight are highly correlated and they directly correlate to the BMI calc used for the target\n",
    "# Remove Height and Weight\n",
    "df = df.drop(columns=['Height', 'Weight'])\n",
    "print(df.shape)"
   ]
  },
  {
   "cell_type": "code",
   "execution_count": 7,
   "metadata": {
    "execution": {
     "iopub.execute_input": "2020-09-20T00:07:07.577966Z",
     "iopub.status.busy": "2020-09-20T00:07:07.577252Z",
     "iopub.status.idle": "2020-09-20T00:07:07.590856Z",
     "shell.execute_reply": "2020-09-20T00:07:07.590176Z"
    },
    "papermill": {
     "duration": 0.055088,
     "end_time": "2020-09-20T00:07:07.590972",
     "exception": false,
     "start_time": "2020-09-20T00:07:07.535884",
     "status": "completed"
    },
    "tags": []
   },
   "outputs": [
    {
     "data": {
      "text/html": [
       "<div>\n",
       "<style scoped>\n",
       "    .dataframe tbody tr th:only-of-type {\n",
       "        vertical-align: middle;\n",
       "    }\n",
       "\n",
       "    .dataframe tbody tr th {\n",
       "        vertical-align: top;\n",
       "    }\n",
       "\n",
       "    .dataframe thead th {\n",
       "        text-align: right;\n",
       "    }\n",
       "</style>\n",
       "<table border=\"1\" class=\"dataframe\">\n",
       "  <thead>\n",
       "    <tr style=\"text-align: right;\">\n",
       "      <th></th>\n",
       "      <th>Gender</th>\n",
       "      <th>Age</th>\n",
       "      <th>family_history_with_overweight</th>\n",
       "      <th>FAVC</th>\n",
       "      <th>FCVC</th>\n",
       "      <th>NCP</th>\n",
       "      <th>CAEC</th>\n",
       "      <th>SMOKE</th>\n",
       "      <th>CH2O</th>\n",
       "      <th>SCC</th>\n",
       "      <th>FAF</th>\n",
       "      <th>TUE</th>\n",
       "      <th>CALC</th>\n",
       "      <th>MTRANS</th>\n",
       "      <th>NObeyesdad</th>\n",
       "    </tr>\n",
       "  </thead>\n",
       "  <tbody>\n",
       "  </tbody>\n",
       "</table>\n",
       "</div>"
      ],
      "text/plain": [
       "Empty DataFrame\n",
       "Columns: [Gender, Age, family_history_with_overweight, FAVC, FCVC, NCP, CAEC, SMOKE, CH2O, SCC, FAF, TUE, CALC, MTRANS, NObeyesdad]\n",
       "Index: []"
      ]
     },
     "execution_count": 7,
     "metadata": {},
     "output_type": "execute_result"
    }
   ],
   "source": [
    "# no nulls \n",
    "df[df.isnull().any(axis=1)]"
   ]
  },
  {
   "cell_type": "code",
   "execution_count": 8,
   "metadata": {
    "execution": {
     "iopub.execute_input": "2020-09-20T00:07:07.674018Z",
     "iopub.status.busy": "2020-09-20T00:07:07.669920Z",
     "iopub.status.idle": "2020-09-20T00:07:07.685256Z",
     "shell.execute_reply": "2020-09-20T00:07:07.685813Z"
    },
    "papermill": {
     "duration": 0.06021,
     "end_time": "2020-09-20T00:07:07.685964",
     "exception": false,
     "start_time": "2020-09-20T00:07:07.625754",
     "status": "completed"
    },
    "tags": []
   },
   "outputs": [],
   "source": [
    "# Convert object/text variables to category variables\n",
    "columns = [\"Gender\", \"family_history_with_overweight\", \"FAVC\", \"CAEC\", \"SMOKE\", \"SCC\", \"CALC\", \"MTRANS\", \"NObeyesdad\"]\n",
    "\n",
    "for col in columns:\n",
    "    df[col] = df[col].astype('category')"
   ]
  },
  {
   "cell_type": "code",
   "execution_count": 9,
   "metadata": {
    "execution": {
     "iopub.execute_input": "2020-09-20T00:07:07.763842Z",
     "iopub.status.busy": "2020-09-20T00:07:07.763132Z",
     "iopub.status.idle": "2020-09-20T00:07:07.766567Z",
     "shell.execute_reply": "2020-09-20T00:07:07.765891Z"
    },
    "papermill": {
     "duration": 0.045055,
     "end_time": "2020-09-20T00:07:07.766684",
     "exception": false,
     "start_time": "2020-09-20T00:07:07.721629",
     "status": "completed"
    },
    "tags": []
   },
   "outputs": [],
   "source": [
    "# function to interigate data after conversion\n",
    "# provides min, max, unique counts\n",
    "def variable_counts(columns, stage):\n",
    "\n",
    "    if stage == 'pre':\n",
    "        print(\"Pre Conversion to Integer\")\n",
    "    else:\n",
    "        print(\"Post Conversion to Integer\")\n",
    "\n",
    "    for col in columns:    \n",
    "        print(\"Variable:\", col, \"| Count Unique:\",df[col].nunique(),\"| Min: \", df[col].min(), \"| Max: \",df[col].max())"
   ]
  },
  {
   "cell_type": "code",
   "execution_count": 10,
   "metadata": {
    "execution": {
     "iopub.execute_input": "2020-09-20T00:07:07.844715Z",
     "iopub.status.busy": "2020-09-20T00:07:07.844005Z",
     "iopub.status.idle": "2020-09-20T00:07:07.866132Z",
     "shell.execute_reply": "2020-09-20T00:07:07.865408Z"
    },
    "papermill": {
     "duration": 0.064582,
     "end_time": "2020-09-20T00:07:07.866288",
     "exception": false,
     "start_time": "2020-09-20T00:07:07.801706",
     "status": "completed"
    },
    "tags": []
   },
   "outputs": [
    {
     "name": "stdout",
     "output_type": "stream",
     "text": [
      "Pre Conversion to Integer\n",
      "Variable: FCVC | Count Unique: 810 | Min:  1.0 | Max:  3.0\n",
      "Variable: NCP | Count Unique: 635 | Min:  1.0 | Max:  4.0\n",
      "Variable: CH2O | Count Unique: 1268 | Min:  1.0 | Max:  3.0\n",
      "Variable: TUE | Count Unique: 1129 | Min:  0.0 | Max:  2.0\n",
      "Variable: FAF | Count Unique: 1190 | Min:  0.0 | Max:  3.0\n",
      "\n",
      "Post Conversion to Integer\n",
      "Variable: FCVC | Count Unique: 3 | Min:  1 | Max:  3\n",
      "Variable: NCP | Count Unique: 4 | Min:  1 | Max:  4\n",
      "Variable: CH2O | Count Unique: 3 | Min:  1 | Max:  3\n",
      "Variable: TUE | Count Unique: 3 | Min:  0 | Max:  2\n",
      "Variable: FAF | Count Unique: 4 | Min:  0 | Max:  3\n"
     ]
    }
   ],
   "source": [
    "# Convert float variables to integer to the nearest inter\n",
    "columns = [\"FCVC\", \"NCP\", \"CH2O\", \"TUE\", \"FAF\"]\n",
    "\n",
    "# pre conversion countss\n",
    "variable_counts(columns, 'pre')\n",
    "\n",
    "# convert to int / nearest int value\n",
    "for col in columns:\n",
    "    #round to nearest whole number\n",
    "    df[col] = round(df[col]).astype('int')  \n",
    "    \n",
    "# post conversion counts\n",
    "print(\"\")\n",
    "variable_counts(columns, 'post')"
   ]
  },
  {
   "cell_type": "code",
   "execution_count": 11,
   "metadata": {
    "execution": {
     "iopub.execute_input": "2020-09-20T00:07:07.952049Z",
     "iopub.status.busy": "2020-09-20T00:07:07.951266Z",
     "iopub.status.idle": "2020-09-20T00:07:07.967240Z",
     "shell.execute_reply": "2020-09-20T00:07:07.966474Z"
    },
    "papermill": {
     "duration": 0.060619,
     "end_time": "2020-09-20T00:07:07.967364",
     "exception": false,
     "start_time": "2020-09-20T00:07:07.906745",
     "status": "completed"
    },
    "tags": []
   },
   "outputs": [
    {
     "name": "stdout",
     "output_type": "stream",
     "text": [
      "<class 'pandas.core.frame.DataFrame'>\n",
      "RangeIndex: 2111 entries, 0 to 2110\n",
      "Data columns (total 15 columns):\n",
      " #   Column                          Non-Null Count  Dtype   \n",
      "---  ------                          --------------  -----   \n",
      " 0   Gender                          2111 non-null   category\n",
      " 1   Age                             2111 non-null   float64 \n",
      " 2   family_history_with_overweight  2111 non-null   category\n",
      " 3   FAVC                            2111 non-null   category\n",
      " 4   FCVC                            2111 non-null   int32   \n",
      " 5   NCP                             2111 non-null   int32   \n",
      " 6   CAEC                            2111 non-null   category\n",
      " 7   SMOKE                           2111 non-null   category\n",
      " 8   CH2O                            2111 non-null   int32   \n",
      " 9   SCC                             2111 non-null   category\n",
      " 10  FAF                             2111 non-null   int32   \n",
      " 11  TUE                             2111 non-null   int32   \n",
      " 12  CALC                            2111 non-null   category\n",
      " 13  MTRANS                          2111 non-null   category\n",
      " 14  NObeyesdad                      2111 non-null   category\n",
      "dtypes: category(9), float64(1), int32(5)\n",
      "memory usage: 78.0 KB\n"
     ]
    }
   ],
   "source": [
    "# confirm types\n",
    "df.info()"
   ]
  },
  {
   "cell_type": "code",
   "execution_count": 12,
   "metadata": {
    "execution": {
     "iopub.execute_input": "2020-09-20T00:07:08.074753Z",
     "iopub.status.busy": "2020-09-20T00:07:08.073800Z",
     "iopub.status.idle": "2020-09-20T00:07:08.078248Z",
     "shell.execute_reply": "2020-09-20T00:07:08.077554Z"
    },
    "papermill": {
     "duration": 0.070152,
     "end_time": "2020-09-20T00:07:08.078368",
     "exception": false,
     "start_time": "2020-09-20T00:07:08.008216",
     "status": "completed"
    },
    "tags": []
   },
   "outputs": [
    {
     "data": {
      "text/html": [
       "<div>\n",
       "<style scoped>\n",
       "    .dataframe tbody tr th:only-of-type {\n",
       "        vertical-align: middle;\n",
       "    }\n",
       "\n",
       "    .dataframe tbody tr th {\n",
       "        vertical-align: top;\n",
       "    }\n",
       "\n",
       "    .dataframe thead th {\n",
       "        text-align: right;\n",
       "    }\n",
       "</style>\n",
       "<table border=\"1\" class=\"dataframe\">\n",
       "  <thead>\n",
       "    <tr style=\"text-align: right;\">\n",
       "      <th></th>\n",
       "      <th>Gender</th>\n",
       "      <th>Age</th>\n",
       "      <th>family_history_with_overweight</th>\n",
       "      <th>FAVC</th>\n",
       "      <th>FCVC</th>\n",
       "      <th>NCP</th>\n",
       "      <th>CAEC</th>\n",
       "      <th>SMOKE</th>\n",
       "      <th>CH2O</th>\n",
       "      <th>SCC</th>\n",
       "      <th>FAF</th>\n",
       "      <th>TUE</th>\n",
       "      <th>CALC</th>\n",
       "      <th>MTRANS</th>\n",
       "      <th>NObeyesdad</th>\n",
       "    </tr>\n",
       "  </thead>\n",
       "  <tbody>\n",
       "    <tr>\n",
       "      <th>0</th>\n",
       "      <td>Female</td>\n",
       "      <td>21.0</td>\n",
       "      <td>yes</td>\n",
       "      <td>no</td>\n",
       "      <td>2</td>\n",
       "      <td>3</td>\n",
       "      <td>Sometimes</td>\n",
       "      <td>no</td>\n",
       "      <td>2</td>\n",
       "      <td>no</td>\n",
       "      <td>0</td>\n",
       "      <td>1</td>\n",
       "      <td>no</td>\n",
       "      <td>Public_Transportation</td>\n",
       "      <td>Normal_Weight</td>\n",
       "    </tr>\n",
       "    <tr>\n",
       "      <th>1</th>\n",
       "      <td>Female</td>\n",
       "      <td>21.0</td>\n",
       "      <td>yes</td>\n",
       "      <td>no</td>\n",
       "      <td>3</td>\n",
       "      <td>3</td>\n",
       "      <td>Sometimes</td>\n",
       "      <td>yes</td>\n",
       "      <td>3</td>\n",
       "      <td>yes</td>\n",
       "      <td>3</td>\n",
       "      <td>0</td>\n",
       "      <td>Sometimes</td>\n",
       "      <td>Public_Transportation</td>\n",
       "      <td>Normal_Weight</td>\n",
       "    </tr>\n",
       "    <tr>\n",
       "      <th>2</th>\n",
       "      <td>Male</td>\n",
       "      <td>23.0</td>\n",
       "      <td>yes</td>\n",
       "      <td>no</td>\n",
       "      <td>2</td>\n",
       "      <td>3</td>\n",
       "      <td>Sometimes</td>\n",
       "      <td>no</td>\n",
       "      <td>2</td>\n",
       "      <td>no</td>\n",
       "      <td>2</td>\n",
       "      <td>1</td>\n",
       "      <td>Frequently</td>\n",
       "      <td>Public_Transportation</td>\n",
       "      <td>Normal_Weight</td>\n",
       "    </tr>\n",
       "    <tr>\n",
       "      <th>3</th>\n",
       "      <td>Male</td>\n",
       "      <td>27.0</td>\n",
       "      <td>no</td>\n",
       "      <td>no</td>\n",
       "      <td>3</td>\n",
       "      <td>3</td>\n",
       "      <td>Sometimes</td>\n",
       "      <td>no</td>\n",
       "      <td>2</td>\n",
       "      <td>no</td>\n",
       "      <td>2</td>\n",
       "      <td>0</td>\n",
       "      <td>Frequently</td>\n",
       "      <td>Walking</td>\n",
       "      <td>Overweight_Level_I</td>\n",
       "    </tr>\n",
       "    <tr>\n",
       "      <th>4</th>\n",
       "      <td>Male</td>\n",
       "      <td>22.0</td>\n",
       "      <td>no</td>\n",
       "      <td>no</td>\n",
       "      <td>2</td>\n",
       "      <td>1</td>\n",
       "      <td>Sometimes</td>\n",
       "      <td>no</td>\n",
       "      <td>2</td>\n",
       "      <td>no</td>\n",
       "      <td>0</td>\n",
       "      <td>0</td>\n",
       "      <td>Sometimes</td>\n",
       "      <td>Public_Transportation</td>\n",
       "      <td>Overweight_Level_II</td>\n",
       "    </tr>\n",
       "  </tbody>\n",
       "</table>\n",
       "</div>"
      ],
      "text/plain": [
       "   Gender   Age family_history_with_overweight FAVC  FCVC  NCP       CAEC  \\\n",
       "0  Female  21.0                            yes   no     2    3  Sometimes   \n",
       "1  Female  21.0                            yes   no     3    3  Sometimes   \n",
       "2    Male  23.0                            yes   no     2    3  Sometimes   \n",
       "3    Male  27.0                             no   no     3    3  Sometimes   \n",
       "4    Male  22.0                             no   no     2    1  Sometimes   \n",
       "\n",
       "  SMOKE  CH2O  SCC  FAF  TUE        CALC                 MTRANS  \\\n",
       "0    no     2   no    0    1          no  Public_Transportation   \n",
       "1   yes     3  yes    3    0   Sometimes  Public_Transportation   \n",
       "2    no     2   no    2    1  Frequently  Public_Transportation   \n",
       "3    no     2   no    2    0  Frequently                Walking   \n",
       "4    no     2   no    0    0   Sometimes  Public_Transportation   \n",
       "\n",
       "            NObeyesdad  \n",
       "0        Normal_Weight  \n",
       "1        Normal_Weight  \n",
       "2        Normal_Weight  \n",
       "3   Overweight_Level_I  \n",
       "4  Overweight_Level_II  "
      ]
     },
     "execution_count": 12,
     "metadata": {},
     "output_type": "execute_result"
    }
   ],
   "source": [
    "# review non synthetic are still the same\n",
    "df.head()"
   ]
  },
  {
   "cell_type": "markdown",
   "metadata": {
    "papermill": {
     "duration": 0.035997,
     "end_time": "2020-09-20T00:07:08.150867",
     "exception": false,
     "start_time": "2020-09-20T00:07:08.114870",
     "status": "completed"
    },
    "tags": []
   },
   "source": [
    "## Data Intuition & Further Exploration\n",
    "\n",
    "##### Categorical Variables\n",
    "- The categorical variables are not gaussian\n",
    "- Most of the categorical variables are bernoulli in nature\n",
    "- The target variables based on synthetic process are fairly balanced\n",
    "\n",
    "##### Ordinal Variables                                        \n",
    "- Will be treated as nominal         \n",
    "- Non are Gaussian distributed\n",
    "\n",
    "##### Ratio Variable\n",
    "- Age is the only ratio varible\n",
    "- Is not Gaussian\n",
    "\n",
    "##### Predictor Coorelations \n",
    "- The predictor variables not highly correlated\n",
    "- Height and Weight have been removed for their correlation to each other and the target\n",
    "\n",
    "##### Target Variable\n",
    "- Is categorical with > 2 classes\n",
    "- Is faily balanced in its distribution of weights"
   ]
  },
  {
   "cell_type": "code",
   "execution_count": 13,
   "metadata": {
    "execution": {
     "iopub.execute_input": "2020-09-20T00:07:08.237938Z",
     "iopub.status.busy": "2020-09-20T00:07:08.237177Z",
     "iopub.status.idle": "2020-09-20T00:07:09.651055Z",
     "shell.execute_reply": "2020-09-20T00:07:09.650457Z"
    },
    "papermill": {
     "duration": 1.46359,
     "end_time": "2020-09-20T00:07:09.651169",
     "exception": false,
     "start_time": "2020-09-20T00:07:08.187579",
     "status": "completed"
    },
    "tags": []
   },
   "outputs": [
    {
     "ename": "ValueError",
     "evalue": "could not convert string to float: 'Female'",
     "output_type": "error",
     "traceback": [
      "\u001b[1;31m---------------------------------------------------------------------------\u001b[0m",
      "\u001b[1;31mValueError\u001b[0m                                Traceback (most recent call last)",
      "Cell \u001b[1;32mIn[13], line 7\u001b[0m\n\u001b[0;32m      5\u001b[0m fig, ax \u001b[38;5;241m=\u001b[39m plt\u001b[38;5;241m.\u001b[39msubplots(\u001b[38;5;241m3\u001b[39m, \u001b[38;5;241m3\u001b[39m, figsize\u001b[38;5;241m=\u001b[39m(\u001b[38;5;241m15\u001b[39m, \u001b[38;5;241m10\u001b[39m))\n\u001b[0;32m      6\u001b[0m \u001b[38;5;28;01mfor\u001b[39;00m col, subplot \u001b[38;5;129;01min\u001b[39;00m \u001b[38;5;28mzip\u001b[39m(columns, ax\u001b[38;5;241m.\u001b[39mflatten()):\n\u001b[1;32m----> 7\u001b[0m     \u001b[43msns\u001b[49m\u001b[38;5;241;43m.\u001b[39;49m\u001b[43mcountplot\u001b[49m\u001b[43m(\u001b[49m\u001b[43mdf\u001b[49m\u001b[43m[\u001b[49m\u001b[43mcol\u001b[49m\u001b[43m]\u001b[49m\u001b[43m,\u001b[49m\u001b[43m \u001b[49m\u001b[43max\u001b[49m\u001b[38;5;241;43m=\u001b[39;49m\u001b[43msubplot\u001b[49m\u001b[43m)\u001b[49m\n\u001b[0;32m      9\u001b[0m     \u001b[38;5;28;01mif\u001b[39;00m col\u001b[38;5;241m==\u001b[39m\u001b[38;5;124m\"\u001b[39m\u001b[38;5;124mMTRANS\u001b[39m\u001b[38;5;124m\"\u001b[39m:\n\u001b[0;32m     10\u001b[0m         sns\u001b[38;5;241m.\u001b[39mcountplot(df[col],ax\u001b[38;5;241m=\u001b[39msubplot)\n",
      "File \u001b[1;32m~\\anaconda3\\lib\\site-packages\\seaborn\\categorical.py:2943\u001b[0m, in \u001b[0;36mcountplot\u001b[1;34m(data, x, y, hue, order, hue_order, orient, color, palette, saturation, width, dodge, ax, **kwargs)\u001b[0m\n\u001b[0;32m   2940\u001b[0m \u001b[38;5;28;01melif\u001b[39;00m x \u001b[38;5;129;01mis\u001b[39;00m \u001b[38;5;129;01mnot\u001b[39;00m \u001b[38;5;28;01mNone\u001b[39;00m \u001b[38;5;129;01mand\u001b[39;00m y \u001b[38;5;129;01mis\u001b[39;00m \u001b[38;5;129;01mnot\u001b[39;00m \u001b[38;5;28;01mNone\u001b[39;00m:\n\u001b[0;32m   2941\u001b[0m     \u001b[38;5;28;01mraise\u001b[39;00m \u001b[38;5;167;01mValueError\u001b[39;00m(\u001b[38;5;124m\"\u001b[39m\u001b[38;5;124mCannot pass values for both `x` and `y`\u001b[39m\u001b[38;5;124m\"\u001b[39m)\n\u001b[1;32m-> 2943\u001b[0m plotter \u001b[38;5;241m=\u001b[39m \u001b[43m_CountPlotter\u001b[49m\u001b[43m(\u001b[49m\n\u001b[0;32m   2944\u001b[0m \u001b[43m    \u001b[49m\u001b[43mx\u001b[49m\u001b[43m,\u001b[49m\u001b[43m \u001b[49m\u001b[43my\u001b[49m\u001b[43m,\u001b[49m\u001b[43m \u001b[49m\u001b[43mhue\u001b[49m\u001b[43m,\u001b[49m\u001b[43m \u001b[49m\u001b[43mdata\u001b[49m\u001b[43m,\u001b[49m\u001b[43m \u001b[49m\u001b[43morder\u001b[49m\u001b[43m,\u001b[49m\u001b[43m \u001b[49m\u001b[43mhue_order\u001b[49m\u001b[43m,\u001b[49m\n\u001b[0;32m   2945\u001b[0m \u001b[43m    \u001b[49m\u001b[43mestimator\u001b[49m\u001b[43m,\u001b[49m\u001b[43m \u001b[49m\u001b[43merrorbar\u001b[49m\u001b[43m,\u001b[49m\u001b[43m \u001b[49m\u001b[43mn_boot\u001b[49m\u001b[43m,\u001b[49m\u001b[43m \u001b[49m\u001b[43munits\u001b[49m\u001b[43m,\u001b[49m\u001b[43m \u001b[49m\u001b[43mseed\u001b[49m\u001b[43m,\u001b[49m\n\u001b[0;32m   2946\u001b[0m \u001b[43m    \u001b[49m\u001b[43morient\u001b[49m\u001b[43m,\u001b[49m\u001b[43m \u001b[49m\u001b[43mcolor\u001b[49m\u001b[43m,\u001b[49m\u001b[43m \u001b[49m\u001b[43mpalette\u001b[49m\u001b[43m,\u001b[49m\u001b[43m \u001b[49m\u001b[43msaturation\u001b[49m\u001b[43m,\u001b[49m\n\u001b[0;32m   2947\u001b[0m \u001b[43m    \u001b[49m\u001b[43mwidth\u001b[49m\u001b[43m,\u001b[49m\u001b[43m \u001b[49m\u001b[43merrcolor\u001b[49m\u001b[43m,\u001b[49m\u001b[43m \u001b[49m\u001b[43merrwidth\u001b[49m\u001b[43m,\u001b[49m\u001b[43m \u001b[49m\u001b[43mcapsize\u001b[49m\u001b[43m,\u001b[49m\u001b[43m \u001b[49m\u001b[43mdodge\u001b[49m\n\u001b[0;32m   2948\u001b[0m \u001b[43m\u001b[49m\u001b[43m)\u001b[49m\n\u001b[0;32m   2950\u001b[0m plotter\u001b[38;5;241m.\u001b[39mvalue_label \u001b[38;5;241m=\u001b[39m \u001b[38;5;124m\"\u001b[39m\u001b[38;5;124mcount\u001b[39m\u001b[38;5;124m\"\u001b[39m\n\u001b[0;32m   2952\u001b[0m \u001b[38;5;28;01mif\u001b[39;00m ax \u001b[38;5;129;01mis\u001b[39;00m \u001b[38;5;28;01mNone\u001b[39;00m:\n",
      "File \u001b[1;32m~\\anaconda3\\lib\\site-packages\\seaborn\\categorical.py:1530\u001b[0m, in \u001b[0;36m_BarPlotter.__init__\u001b[1;34m(self, x, y, hue, data, order, hue_order, estimator, errorbar, n_boot, units, seed, orient, color, palette, saturation, width, errcolor, errwidth, capsize, dodge)\u001b[0m\n\u001b[0;32m   1525\u001b[0m \u001b[38;5;28;01mdef\u001b[39;00m \u001b[38;5;21m__init__\u001b[39m(\u001b[38;5;28mself\u001b[39m, x, y, hue, data, order, hue_order,\n\u001b[0;32m   1526\u001b[0m              estimator, errorbar, n_boot, units, seed,\n\u001b[0;32m   1527\u001b[0m              orient, color, palette, saturation, width,\n\u001b[0;32m   1528\u001b[0m              errcolor, errwidth, capsize, dodge):\n\u001b[0;32m   1529\u001b[0m     \u001b[38;5;124;03m\"\"\"Initialize the plotter.\"\"\"\u001b[39;00m\n\u001b[1;32m-> 1530\u001b[0m     \u001b[38;5;28;43mself\u001b[39;49m\u001b[38;5;241;43m.\u001b[39;49m\u001b[43mestablish_variables\u001b[49m\u001b[43m(\u001b[49m\u001b[43mx\u001b[49m\u001b[43m,\u001b[49m\u001b[43m \u001b[49m\u001b[43my\u001b[49m\u001b[43m,\u001b[49m\u001b[43m \u001b[49m\u001b[43mhue\u001b[49m\u001b[43m,\u001b[49m\u001b[43m \u001b[49m\u001b[43mdata\u001b[49m\u001b[43m,\u001b[49m\u001b[43m \u001b[49m\u001b[43morient\u001b[49m\u001b[43m,\u001b[49m\n\u001b[0;32m   1531\u001b[0m \u001b[43m                             \u001b[49m\u001b[43morder\u001b[49m\u001b[43m,\u001b[49m\u001b[43m \u001b[49m\u001b[43mhue_order\u001b[49m\u001b[43m,\u001b[49m\u001b[43m \u001b[49m\u001b[43munits\u001b[49m\u001b[43m)\u001b[49m\n\u001b[0;32m   1532\u001b[0m     \u001b[38;5;28mself\u001b[39m\u001b[38;5;241m.\u001b[39mestablish_colors(color, palette, saturation)\n\u001b[0;32m   1533\u001b[0m     \u001b[38;5;28mself\u001b[39m\u001b[38;5;241m.\u001b[39mestimate_statistic(estimator, errorbar, n_boot, seed)\n",
      "File \u001b[1;32m~\\anaconda3\\lib\\site-packages\\seaborn\\categorical.py:516\u001b[0m, in \u001b[0;36m_CategoricalPlotter.establish_variables\u001b[1;34m(self, x, y, hue, data, orient, order, hue_order, units)\u001b[0m\n\u001b[0;32m    513\u001b[0m     plot_data \u001b[38;5;241m=\u001b[39m data\n\u001b[0;32m    515\u001b[0m \u001b[38;5;66;03m# Convert to a list of arrays, the common representation\u001b[39;00m\n\u001b[1;32m--> 516\u001b[0m plot_data \u001b[38;5;241m=\u001b[39m [np\u001b[38;5;241m.\u001b[39masarray(d, \u001b[38;5;28mfloat\u001b[39m) \u001b[38;5;28;01mfor\u001b[39;00m d \u001b[38;5;129;01min\u001b[39;00m plot_data]\n\u001b[0;32m    518\u001b[0m \u001b[38;5;66;03m# The group names will just be numeric indices\u001b[39;00m\n\u001b[0;32m    519\u001b[0m group_names \u001b[38;5;241m=\u001b[39m \u001b[38;5;28mlist\u001b[39m(\u001b[38;5;28mrange\u001b[39m(\u001b[38;5;28mlen\u001b[39m(plot_data)))\n",
      "File \u001b[1;32m~\\anaconda3\\lib\\site-packages\\seaborn\\categorical.py:516\u001b[0m, in \u001b[0;36m<listcomp>\u001b[1;34m(.0)\u001b[0m\n\u001b[0;32m    513\u001b[0m     plot_data \u001b[38;5;241m=\u001b[39m data\n\u001b[0;32m    515\u001b[0m \u001b[38;5;66;03m# Convert to a list of arrays, the common representation\u001b[39;00m\n\u001b[1;32m--> 516\u001b[0m plot_data \u001b[38;5;241m=\u001b[39m [\u001b[43mnp\u001b[49m\u001b[38;5;241;43m.\u001b[39;49m\u001b[43masarray\u001b[49m\u001b[43m(\u001b[49m\u001b[43md\u001b[49m\u001b[43m,\u001b[49m\u001b[43m \u001b[49m\u001b[38;5;28;43mfloat\u001b[39;49m\u001b[43m)\u001b[49m \u001b[38;5;28;01mfor\u001b[39;00m d \u001b[38;5;129;01min\u001b[39;00m plot_data]\n\u001b[0;32m    518\u001b[0m \u001b[38;5;66;03m# The group names will just be numeric indices\u001b[39;00m\n\u001b[0;32m    519\u001b[0m group_names \u001b[38;5;241m=\u001b[39m \u001b[38;5;28mlist\u001b[39m(\u001b[38;5;28mrange\u001b[39m(\u001b[38;5;28mlen\u001b[39m(plot_data)))\n",
      "File \u001b[1;32m~\\anaconda3\\lib\\site-packages\\pandas\\core\\series.py:893\u001b[0m, in \u001b[0;36mSeries.__array__\u001b[1;34m(self, dtype)\u001b[0m\n\u001b[0;32m    846\u001b[0m \u001b[38;5;28;01mdef\u001b[39;00m \u001b[38;5;21m__array__\u001b[39m(\u001b[38;5;28mself\u001b[39m, dtype: npt\u001b[38;5;241m.\u001b[39mDTypeLike \u001b[38;5;241m|\u001b[39m \u001b[38;5;28;01mNone\u001b[39;00m \u001b[38;5;241m=\u001b[39m \u001b[38;5;28;01mNone\u001b[39;00m) \u001b[38;5;241m-\u001b[39m\u001b[38;5;241m>\u001b[39m np\u001b[38;5;241m.\u001b[39mndarray:\n\u001b[0;32m    847\u001b[0m     \u001b[38;5;124;03m\"\"\"\u001b[39;00m\n\u001b[0;32m    848\u001b[0m \u001b[38;5;124;03m    Return the values as a NumPy array.\u001b[39;00m\n\u001b[0;32m    849\u001b[0m \n\u001b[1;32m   (...)\u001b[0m\n\u001b[0;32m    891\u001b[0m \u001b[38;5;124;03m          dtype='datetime64[ns]')\u001b[39;00m\n\u001b[0;32m    892\u001b[0m \u001b[38;5;124;03m    \"\"\"\u001b[39;00m\n\u001b[1;32m--> 893\u001b[0m     \u001b[38;5;28;01mreturn\u001b[39;00m \u001b[43mnp\u001b[49m\u001b[38;5;241;43m.\u001b[39;49m\u001b[43masarray\u001b[49m\u001b[43m(\u001b[49m\u001b[38;5;28;43mself\u001b[39;49m\u001b[38;5;241;43m.\u001b[39;49m\u001b[43m_values\u001b[49m\u001b[43m,\u001b[49m\u001b[43m \u001b[49m\u001b[43mdtype\u001b[49m\u001b[43m)\u001b[49m\n",
      "File \u001b[1;32m~\\anaconda3\\lib\\site-packages\\pandas\\core\\arrays\\_mixins.py:85\u001b[0m, in \u001b[0;36mravel_compat.<locals>.method\u001b[1;34m(self, *args, **kwargs)\u001b[0m\n\u001b[0;32m     82\u001b[0m \u001b[38;5;129m@wraps\u001b[39m(meth)\n\u001b[0;32m     83\u001b[0m \u001b[38;5;28;01mdef\u001b[39;00m \u001b[38;5;21mmethod\u001b[39m(\u001b[38;5;28mself\u001b[39m, \u001b[38;5;241m*\u001b[39margs, \u001b[38;5;241m*\u001b[39m\u001b[38;5;241m*\u001b[39mkwargs):\n\u001b[0;32m     84\u001b[0m     \u001b[38;5;28;01mif\u001b[39;00m \u001b[38;5;28mself\u001b[39m\u001b[38;5;241m.\u001b[39mndim \u001b[38;5;241m==\u001b[39m \u001b[38;5;241m1\u001b[39m:\n\u001b[1;32m---> 85\u001b[0m         \u001b[38;5;28;01mreturn\u001b[39;00m meth(\u001b[38;5;28mself\u001b[39m, \u001b[38;5;241m*\u001b[39margs, \u001b[38;5;241m*\u001b[39m\u001b[38;5;241m*\u001b[39mkwargs)\n\u001b[0;32m     87\u001b[0m     flags \u001b[38;5;241m=\u001b[39m \u001b[38;5;28mself\u001b[39m\u001b[38;5;241m.\u001b[39m_ndarray\u001b[38;5;241m.\u001b[39mflags\n\u001b[0;32m     88\u001b[0m     flat \u001b[38;5;241m=\u001b[39m \u001b[38;5;28mself\u001b[39m\u001b[38;5;241m.\u001b[39mravel(\u001b[38;5;124m\"\u001b[39m\u001b[38;5;124mK\u001b[39m\u001b[38;5;124m\"\u001b[39m)\n",
      "File \u001b[1;32m~\\anaconda3\\lib\\site-packages\\pandas\\core\\arrays\\categorical.py:1609\u001b[0m, in \u001b[0;36mCategorical.__array__\u001b[1;34m(self, dtype)\u001b[0m\n\u001b[0;32m   1607\u001b[0m ret \u001b[38;5;241m=\u001b[39m take_nd(\u001b[38;5;28mself\u001b[39m\u001b[38;5;241m.\u001b[39mcategories\u001b[38;5;241m.\u001b[39m_values, \u001b[38;5;28mself\u001b[39m\u001b[38;5;241m.\u001b[39m_codes)\n\u001b[0;32m   1608\u001b[0m \u001b[38;5;28;01mif\u001b[39;00m dtype \u001b[38;5;129;01mand\u001b[39;00m \u001b[38;5;129;01mnot\u001b[39;00m is_dtype_equal(dtype, \u001b[38;5;28mself\u001b[39m\u001b[38;5;241m.\u001b[39mcategories\u001b[38;5;241m.\u001b[39mdtype):\n\u001b[1;32m-> 1609\u001b[0m     \u001b[38;5;28;01mreturn\u001b[39;00m \u001b[43mnp\u001b[49m\u001b[38;5;241;43m.\u001b[39;49m\u001b[43masarray\u001b[49m\u001b[43m(\u001b[49m\u001b[43mret\u001b[49m\u001b[43m,\u001b[49m\u001b[43m \u001b[49m\u001b[43mdtype\u001b[49m\u001b[43m)\u001b[49m\n\u001b[0;32m   1610\u001b[0m \u001b[38;5;66;03m# When we're a Categorical[ExtensionArray], like Interval,\u001b[39;00m\n\u001b[0;32m   1611\u001b[0m \u001b[38;5;66;03m# we need to ensure __array__ gets all the way to an\u001b[39;00m\n\u001b[0;32m   1612\u001b[0m \u001b[38;5;66;03m# ndarray.\u001b[39;00m\n\u001b[0;32m   1613\u001b[0m \u001b[38;5;28;01mreturn\u001b[39;00m np\u001b[38;5;241m.\u001b[39masarray(ret)\n",
      "\u001b[1;31mValueError\u001b[0m: could not convert string to float: 'Female'"
     ]
    },
    {
     "data": {
      "image/png": "[encoded data removed]",
      "text/plain": [
       "<Figure size 1500x1000 with 9 Axes>"
      ]
     },
     "metadata": {},
     "output_type": "display_data"
    }
   ],
   "source": [
    "# columns of interest\n",
    "columns = ['Gender', 'family_history_with_overweight', 'FAVC', 'CAEC', 'SMOKE',\n",
    "           'SCC', 'CALC', 'MTRANS', 'NObeyesdad']\n",
    "\n",
    "fig, ax = plt.subplots(3, 3, figsize=(15, 10))\n",
    "for col, subplot in zip(columns, ax.flatten()):\n",
    "    sns.countplot(df[col], ax=subplot)\n",
    "    \n",
    "    if col==\"MTRANS\":\n",
    "        sns.countplot(df[col],ax=subplot)\n",
    "        subplot.set_xticklabels(rotation=45, horizontalalignment='right', labels=df.MTRANS)        \n",
    "        subplot.yaxis.label.set_text(\"Number of Records\")\n",
    "    elif col==\"NObeyesdad\":\n",
    "        sns.countplot(df[col],ax=subplot)\n",
    "        subplot.set_xticklabels(rotation=45, horizontalalignment='right', labels=df.NObeyesdad)  \n",
    "        subplot.yaxis.label.set_text(\"Number of Records\")\n",
    "    else:\n",
    "        sns.countplot(df[col],ax=subplot)  \n",
    "        subplot.yaxis.label.set_text(\"Number of Records\")\n",
    "        \n",
    "# show figure & plots\n",
    "fig.suptitle(\"Categorigal Variables\", fontsize=20)\n",
    "plt.tight_layout(pad=5, w_pad=0.0, h_pad=1)\n",
    "plt.show()"
   ]
  },
  {
   "cell_type": "code",
   "execution_count": 16,
   "metadata": {
    "execution": {
     "iopub.execute_input": "2020-09-20T00:07:09.739660Z",
     "iopub.status.busy": "2020-09-20T00:07:09.738966Z",
     "iopub.status.idle": "2020-09-20T00:07:10.553469Z",
     "shell.execute_reply": "2020-09-20T00:07:10.552866Z"
    },
    "papermill": {
     "duration": 0.86306,
     "end_time": "2020-09-20T00:07:10.553586",
     "exception": false,
     "start_time": "2020-09-20T00:07:09.690526",
     "status": "completed"
    },
    "tags": []
   },
   "outputs": [
    {
     "data": {
      "image/png": "[encoded data removed]",
      "text/plain": [
       "<Figure size 1500x400 with 5 Axes>"
      ]
     },
     "metadata": {},
     "output_type": "display_data"
    }
   ],
   "source": [
    "# columns of interest\n",
    "columns = [\"FCVC\", \"NCP\", \"CH2O\", \"FAF\", \"TUE\"]\n",
    "\n",
    "fig, ax = plt.subplots(1, 5, figsize=(15, 4))\n",
    "for col, subplot in zip(columns, ax.flatten()):\n",
    "    sns.countplot(df[col], ax=subplot)\n",
    "    subplot.yaxis.label.set_text(\"Number of Records\")\n",
    "\n",
    "# show figure & plots\n",
    "fig.suptitle(\"Ordinal Variables\", fontsize=20)\n",
    "plt.tight_layout(pad=5, w_pad=0.7, h_pad=0.5)\n",
    "plt.show()"
   ]
  },
  {
   "cell_type": "code",
   "execution_count": 17,
   "metadata": {
    "execution": {
     "iopub.execute_input": "2020-09-20T00:07:10.660437Z",
     "iopub.status.busy": "2020-09-20T00:07:10.659674Z",
     "iopub.status.idle": "2020-09-20T00:07:11.103910Z",
     "shell.execute_reply": "2020-09-20T00:07:11.103236Z"
    },
    "papermill": {
     "duration": 0.507806,
     "end_time": "2020-09-20T00:07:11.104028",
     "exception": false,
     "start_time": "2020-09-20T00:07:10.596222",
     "status": "completed"
    },
    "tags": []
   },
   "outputs": [
    {
     "name": "stderr",
     "output_type": "stream",
     "text": [
      "C:\\Users\\tusha\\AppData\\Local\\Temp\\ipykernel_7380\\2246645352.py:7: UserWarning: \n",
      "\n",
      "`distplot` is a deprecated function and will be removed in seaborn v0.14.0.\n",
      "\n",
      "Please adapt your code to use either `displot` (a figure-level function with\n",
      "similar flexibility) or `histplot` (an axes-level function for histograms).\n",
      "\n",
      "For a guide to updating your code to use the new functions, please see\n",
      "https://gist.github.com/mwaskom/de44147ed2974457ad6372750bbe5751\n",
      "\n",
      "  sns.distplot(df[\"Age\"], kde=True)\n"
     ]
    },
    {
     "data": {
      "image/png": "[encoded data removed]",
      "text/plain": [
       "<Figure size 1600x500 with 2 Axes>"
      ]
     },
     "metadata": {},
     "output_type": "display_data"
    }
   ],
   "source": [
    "# ratio variable distribution \n",
    "\n",
    "fig = plt.figure(figsize = (16,5))\n",
    "\n",
    "#distplot\n",
    "ax1 = fig.add_subplot(121)\n",
    "sns.distplot(df[\"Age\"], kde=True)\n",
    "\n",
    "#boxplot\n",
    "ax1 = ax1 = fig.add_subplot(122)\n",
    "sns.boxplot(df.Age)\n",
    "\n",
    "# show figure & plots\n",
    "fig.suptitle(\"Distribution of Numeric (Ratio) Variable\", fontsize=20)\n",
    "plt.tight_layout(pad=5, w_pad=0.5, h_pad=.1)\n",
    "plt.show()"
   ]
  },
  {
   "cell_type": "code",
   "execution_count": 18,
   "metadata": {
    "execution": {
     "iopub.execute_input": "2020-09-20T00:07:11.201088Z",
     "iopub.status.busy": "2020-09-20T00:07:11.196583Z",
     "iopub.status.idle": "2020-09-20T00:07:11.719501Z",
     "shell.execute_reply": "2020-09-20T00:07:11.718829Z"
    },
    "papermill": {
     "duration": 0.573619,
     "end_time": "2020-09-20T00:07:11.719617",
     "exception": false,
     "start_time": "2020-09-20T00:07:11.145998",
     "status": "completed"
    },
    "tags": []
   },
   "outputs": [
    {
     "name": "stderr",
     "output_type": "stream",
     "text": [
      "C:\\Users\\tusha\\AppData\\Local\\Temp\\ipykernel_7380\\2028145602.py:8: FutureWarning: The default value of numeric_only in DataFrame.corr is deprecated. In a future version, it will default to False. Select only valid columns or specify the value of numeric_only to silence this warning.\n",
      "  matrix = np.triu(df.corr())\n",
      "C:\\Users\\tusha\\AppData\\Local\\Temp\\ipykernel_7380\\2028145602.py:14: FutureWarning: The default value of numeric_only in DataFrame.corr is deprecated. In a future version, it will default to False. Select only valid columns or specify the value of numeric_only to silence this warning.\n",
      "  sns.heatmap(df.corr(),\n",
      "C:\\Users\\tusha\\AppData\\Local\\Temp\\ipykernel_7380\\2028145602.py:27: UserWarning: FixedFormatter should only be used together with FixedLocator\n",
      "  ax2.set_xticklabels(rotation=45, horizontalalignment='right', labels=df.NObeyesdad)\n"
     ]
    },
    {
     "data": {
      "image/png": "[encoded data removed]",
      "text/plain": [
       "<Figure size 1500x500 with 3 Axes>"
      ]
     },
     "metadata": {},
     "output_type": "display_data"
    }
   ],
   "source": [
    "# create figure\n",
    "fig = plt.figure(figsize=(15, 5))\n",
    "\n",
    "# add subplot for one row 2 graphs first postion\n",
    "ax1 = fig.add_subplot(121)\n",
    "\n",
    "# correlation data matrix\n",
    "matrix = np.triu(df.corr())\n",
    "\n",
    "# set title \n",
    "ax1.title.set_text(\"Coorelation Heatmap: Predictor Variables\")\n",
    "\n",
    "#define plot\n",
    "sns.heatmap(df.corr(), \n",
    "                 mask=matrix,\n",
    "                 annot = False,                 \n",
    "                 fmt='.1g', \n",
    "                 cmap=\"YlGnBu\", \n",
    "                 vmin=-1, vmax=1, center= 0,                 \n",
    "                 square=\"True\",\n",
    "                 ax=ax1)\n",
    "\n",
    "# add second subplot\n",
    "ax2 = fig.add_subplot(122)\n",
    "\n",
    "# rotate axis label\n",
    "ax2.set_xticklabels(rotation=45, horizontalalignment='right', labels=df.NObeyesdad)\n",
    "\n",
    "# Set title text\n",
    "ax2.title.set_text(\"Weight Category Counts: Target Variable\")\n",
    "\n",
    "# define second plot\n",
    "sns.countplot(x=\"NObeyesdad\",                  \n",
    "                 palette=\"Blues_d\", \n",
    "                 order=df.NObeyesdad.value_counts().index,\n",
    "                 ax = ax2,\n",
    "                 data=df)\n",
    "\n",
    "# labels for x and y\n",
    "ax2.xaxis.label.set_text(\"Level Category\")\n",
    "ax2.yaxis.label.set_text(\"Number of Records\")\n",
    "\n",
    "# turn off top and right frame lines\n",
    "ax2.spines['right'].set_visible(False)\n",
    "ax2.spines['top'].set_visible(False)\n",
    "\n",
    "# show figure & plots\n",
    "plt.tight_layout()\n",
    "plt.show()"
   ]
  },
  {
   "cell_type": "code",
   "execution_count": 20,
   "metadata": {
    "execution": {
     "iopub.execute_input": "2020-09-20T00:07:11.815549Z",
     "iopub.status.busy": "2020-09-20T00:07:11.814887Z",
     "iopub.status.idle": "2020-09-20T00:07:11.824099Z",
     "shell.execute_reply": "2020-09-20T00:07:11.823410Z"
    },
    "papermill": {
     "duration": 0.060545,
     "end_time": "2020-09-20T00:07:11.824238",
     "exception": false,
     "start_time": "2020-09-20T00:07:11.763693",
     "status": "completed"
    },
    "tags": []
   },
   "outputs": [
    {
     "name": "stdout",
     "output_type": "stream",
     "text": [
      "Number of variables with > 0.95 correlation:  0\n"
     ]
    },
    {
     "name": "stderr",
     "output_type": "stream",
     "text": [
      "C:\\Users\\tusha\\AppData\\Local\\Temp\\ipykernel_7380\\1394047807.py:2: FutureWarning: The default value of numeric_only in DataFrame.corr is deprecated. In a future version, it will default to False. Select only valid columns or specify the value of numeric_only to silence this warning.\n",
      "  corr_matrix = df.corr().abs()\n",
      "C:\\Users\\tusha\\AppData\\Local\\Temp\\ipykernel_7380\\1394047807.py:5: DeprecationWarning: `np.bool` is a deprecated alias for the builtin `bool`. To silence this warning, use `bool` by itself. Doing this will not modify any behavior and is safe. If you specifically wanted the numpy scalar type, use `np.bool_` here.\n",
      "Deprecated in NumPy 1.20; for more details and guidance: https://numpy.org/devdocs/release/1.20.0-notes.html#deprecations\n",
      "  upper = corr_matrix.where(np.triu(np.ones(corr_matrix.shape), k=1).astype(np.bool))\n"
     ]
    }
   ],
   "source": [
    "# Create correlation matrix\n",
    "corr_matrix = df.corr().abs()\n",
    "\n",
    "# Select upper triangle of correlation matrix\n",
    "upper = corr_matrix.where(np.triu(np.ones(corr_matrix.shape), k=1).astype(np.bool))\n",
    "\n",
    "# Find index of feature columns with correlation greater than 0.95\n",
    "to_drop = [column for column in upper.columns if any(upper[column] > 0.95)]\n",
    "\n",
    "#print highly correlated variables\n",
    "print(\"Number of variables with > 0.95 correlation: \", len(to_drop))"
   ]
  },
  {
   "cell_type": "markdown",
   "metadata": {
    "papermill": {
     "duration": 0.042229,
     "end_time": "2020-09-20T00:07:11.914145",
     "exception": false,
     "start_time": "2020-09-20T00:07:11.871916",
     "status": "completed"
    },
    "tags": []
   },
   "source": [
    "# Data Intuition & Model Considerations\n",
    "\n",
    "##### Data Intuion\n",
    "- Models for this data need to cater to > 2 two classes\n",
    "- Data is limited so model will need to perform well with limited amount of data\n",
    "- Model will need to handle dummy variables well and not be dependent on ratio data\n",
    "- The ordinal variables may or may not be helful to the model\n",
    "- The data is not Gaussian so the model needs to be non-parametic or at least not strictly parametic \n",
    "- The data is pretty wide but not very deep, so reducing the factors may be necessary\n",
    "\n",
    "##### Potential Models\n",
    "- Decision Trees \n",
    "- Random Forest \n",
    "- Search Vector Machines (SVM)\n",
    "\n",
    "##### Experiments \n",
    "Models that may be used to evaluate data assumptions and model performance:\n",
    "- Is the data too limited for a Nerual Network? \n",
    "- Does Logistic Regression perform well if target variable reduced to 2 classes?\n",
    "- Do the other models perform better if target variable is reduced to 2 classes?"
   ]
  },
  {
   "cell_type": "markdown",
   "metadata": {
    "papermill": {
     "duration": 0.042429,
     "end_time": "2020-09-20T00:07:11.998817",
     "exception": false,
     "start_time": "2020-09-20T00:07:11.956388",
     "status": "completed"
    },
    "tags": []
   },
   "source": [
    "# Part 2: Machine Learning\n",
    "\n",
    "The target variable is NObesity. The attempt is is apply ML to find the best model for predicting NObesity. \n",
    "NObesity is a categorical variable that is a measure of a person weight ranging from under weight to very obese (Overweight Level II). "
   ]
  },
  {
   "cell_type": "markdown",
   "metadata": {
    "papermill": {
     "duration": 0.042562,
     "end_time": "2020-09-20T00:07:12.089422",
     "exception": false,
     "start_time": "2020-09-20T00:07:12.046860",
     "status": "completed"
    },
    "tags": []
   },
   "source": [
    "# Data prep for ML models: General \n",
    "- Some models may require additional treatment \n",
    "- These steps will prep the data for the most viable models: Decision Trees, Random Forest, SVM, Nerual Network\n",
    "- Some models may benifit from scaling so this will be evaluated as well\n",
    "\n",
    "#### Data Treatment\n",
    "- Copy cleaned data to new dataframe\n",
    "- Create dummy variables out of categorical variables\n",
    "- Split the data into 70/30 train & test datasets     "
   ]
  },
  {
   "cell_type": "code",
   "execution_count": 22,
   "metadata": {
    "execution": {
     "iopub.execute_input": "2020-09-20T00:07:12.180594Z",
     "iopub.status.busy": "2020-09-20T00:07:12.179864Z",
     "iopub.status.idle": "2020-09-20T00:07:12.182837Z",
     "shell.execute_reply": "2020-09-20T00:07:12.183295Z"
    },
    "papermill": {
     "duration": 0.051098,
     "end_time": "2020-09-20T00:07:12.183438",
     "exception": false,
     "start_time": "2020-09-20T00:07:12.132340",
     "status": "completed"
    },
    "tags": []
   },
   "outputs": [],
   "source": [
    "df_prep = df.copy()"
   ]
  },
  {
   "cell_type": "code",
   "execution_count": 23,
   "metadata": {
    "execution": {
     "iopub.execute_input": "2020-09-20T00:07:12.277901Z",
     "iopub.status.busy": "2020-09-20T00:07:12.274965Z",
     "iopub.status.idle": "2020-09-20T00:07:12.308120Z",
     "shell.execute_reply": "2020-09-20T00:07:12.307461Z"
    },
    "papermill": {
     "duration": 0.082002,
     "end_time": "2020-09-20T00:07:12.308260",
     "exception": false,
     "start_time": "2020-09-20T00:07:12.226258",
     "status": "completed"
    },
    "tags": []
   },
   "outputs": [
    {
     "data": {
      "text/html": [
       "<div>\n",
       "<style scoped>\n",
       "    .dataframe tbody tr th:only-of-type {\n",
       "        vertical-align: middle;\n",
       "    }\n",
       "\n",
       "    .dataframe tbody tr th {\n",
       "        vertical-align: top;\n",
       "    }\n",
       "\n",
       "    .dataframe thead th {\n",
       "        text-align: right;\n",
       "    }\n",
       "</style>\n",
       "<table border=\"1\" class=\"dataframe\">\n",
       "  <thead>\n",
       "    <tr style=\"text-align: right;\">\n",
       "      <th></th>\n",
       "      <th>Age</th>\n",
       "      <th>FCVC</th>\n",
       "      <th>NCP</th>\n",
       "      <th>CH2O</th>\n",
       "      <th>FAF</th>\n",
       "      <th>TUE</th>\n",
       "      <th>NObeyesdad</th>\n",
       "      <th>Gender_Female</th>\n",
       "      <th>Gender_Male</th>\n",
       "      <th>family_history_with_overweight_no</th>\n",
       "      <th>...</th>\n",
       "      <th>SCC_yes</th>\n",
       "      <th>CALC_Always</th>\n",
       "      <th>CALC_Frequently</th>\n",
       "      <th>CALC_Sometimes</th>\n",
       "      <th>CALC_no</th>\n",
       "      <th>MTRANS_Automobile</th>\n",
       "      <th>MTRANS_Bike</th>\n",
       "      <th>MTRANS_Motorbike</th>\n",
       "      <th>MTRANS_Public_Transportation</th>\n",
       "      <th>MTRANS_Walking</th>\n",
       "    </tr>\n",
       "  </thead>\n",
       "  <tbody>\n",
       "    <tr>\n",
       "      <th>0</th>\n",
       "      <td>21.0</td>\n",
       "      <td>2</td>\n",
       "      <td>3</td>\n",
       "      <td>2</td>\n",
       "      <td>0</td>\n",
       "      <td>1</td>\n",
       "      <td>Normal_Weight</td>\n",
       "      <td>1</td>\n",
       "      <td>0</td>\n",
       "      <td>0</td>\n",
       "      <td>...</td>\n",
       "      <td>0</td>\n",
       "      <td>0</td>\n",
       "      <td>0</td>\n",
       "      <td>0</td>\n",
       "      <td>1</td>\n",
       "      <td>0</td>\n",
       "      <td>0</td>\n",
       "      <td>0</td>\n",
       "      <td>1</td>\n",
       "      <td>0</td>\n",
       "    </tr>\n",
       "    <tr>\n",
       "      <th>1</th>\n",
       "      <td>21.0</td>\n",
       "      <td>3</td>\n",
       "      <td>3</td>\n",
       "      <td>3</td>\n",
       "      <td>3</td>\n",
       "      <td>0</td>\n",
       "      <td>Normal_Weight</td>\n",
       "      <td>1</td>\n",
       "      <td>0</td>\n",
       "      <td>0</td>\n",
       "      <td>...</td>\n",
       "      <td>1</td>\n",
       "      <td>0</td>\n",
       "      <td>0</td>\n",
       "      <td>1</td>\n",
       "      <td>0</td>\n",
       "      <td>0</td>\n",
       "      <td>0</td>\n",
       "      <td>0</td>\n",
       "      <td>1</td>\n",
       "      <td>0</td>\n",
       "    </tr>\n",
       "    <tr>\n",
       "      <th>2</th>\n",
       "      <td>23.0</td>\n",
       "      <td>2</td>\n",
       "      <td>3</td>\n",
       "      <td>2</td>\n",
       "      <td>2</td>\n",
       "      <td>1</td>\n",
       "      <td>Normal_Weight</td>\n",
       "      <td>0</td>\n",
       "      <td>1</td>\n",
       "      <td>0</td>\n",
       "      <td>...</td>\n",
       "      <td>0</td>\n",
       "      <td>0</td>\n",
       "      <td>1</td>\n",
       "      <td>0</td>\n",
       "      <td>0</td>\n",
       "      <td>0</td>\n",
       "      <td>0</td>\n",
       "      <td>0</td>\n",
       "      <td>1</td>\n",
       "      <td>0</td>\n",
       "    </tr>\n",
       "    <tr>\n",
       "      <th>3</th>\n",
       "      <td>27.0</td>\n",
       "      <td>3</td>\n",
       "      <td>3</td>\n",
       "      <td>2</td>\n",
       "      <td>2</td>\n",
       "      <td>0</td>\n",
       "      <td>Overweight_Level_I</td>\n",
       "      <td>0</td>\n",
       "      <td>1</td>\n",
       "      <td>1</td>\n",
       "      <td>...</td>\n",
       "      <td>0</td>\n",
       "      <td>0</td>\n",
       "      <td>1</td>\n",
       "      <td>0</td>\n",
       "      <td>0</td>\n",
       "      <td>0</td>\n",
       "      <td>0</td>\n",
       "      <td>0</td>\n",
       "      <td>0</td>\n",
       "      <td>1</td>\n",
       "    </tr>\n",
       "    <tr>\n",
       "      <th>4</th>\n",
       "      <td>22.0</td>\n",
       "      <td>2</td>\n",
       "      <td>1</td>\n",
       "      <td>2</td>\n",
       "      <td>0</td>\n",
       "      <td>0</td>\n",
       "      <td>Overweight_Level_II</td>\n",
       "      <td>0</td>\n",
       "      <td>1</td>\n",
       "      <td>1</td>\n",
       "      <td>...</td>\n",
       "      <td>0</td>\n",
       "      <td>0</td>\n",
       "      <td>0</td>\n",
       "      <td>1</td>\n",
       "      <td>0</td>\n",
       "      <td>0</td>\n",
       "      <td>0</td>\n",
       "      <td>0</td>\n",
       "      <td>1</td>\n",
       "      <td>0</td>\n",
       "    </tr>\n",
       "  </tbody>\n",
       "</table>\n",
       "<p>5 rows × 30 columns</p>\n",
       "</div>"
      ],
      "text/plain": [
       "    Age  FCVC  NCP  CH2O  FAF  TUE           NObeyesdad  Gender_Female  \\\n",
       "0  21.0     2    3     2    0    1        Normal_Weight              1   \n",
       "1  21.0     3    3     3    3    0        Normal_Weight              1   \n",
       "2  23.0     2    3     2    2    1        Normal_Weight              0   \n",
       "3  27.0     3    3     2    2    0   Overweight_Level_I              0   \n",
       "4  22.0     2    1     2    0    0  Overweight_Level_II              0   \n",
       "\n",
       "   Gender_Male  family_history_with_overweight_no  ...  SCC_yes  CALC_Always  \\\n",
       "0            0                                  0  ...        0            0   \n",
       "1            0                                  0  ...        1            0   \n",
       "2            1                                  0  ...        0            0   \n",
       "3            1                                  1  ...        0            0   \n",
       "4            1                                  1  ...        0            0   \n",
       "\n",
       "   CALC_Frequently  CALC_Sometimes  CALC_no  MTRANS_Automobile  MTRANS_Bike  \\\n",
       "0                0               0        1                  0            0   \n",
       "1                0               1        0                  0            0   \n",
       "2                1               0        0                  0            0   \n",
       "3                1               0        0                  0            0   \n",
       "4                0               1        0                  0            0   \n",
       "\n",
       "   MTRANS_Motorbike  MTRANS_Public_Transportation  MTRANS_Walking  \n",
       "0                 0                             1               0  \n",
       "1                 0                             1               0  \n",
       "2                 0                             1               0  \n",
       "3                 0                             0               1  \n",
       "4                 0                             1               0  \n",
       "\n",
       "[5 rows x 30 columns]"
      ]
     },
     "execution_count": 23,
     "metadata": {},
     "output_type": "execute_result"
    }
   ],
   "source": [
    "# create dummy variables\n",
    "df_prep = pd.get_dummies(df_prep,columns=[\"Gender\",\"family_history_with_overweight\",\n",
    "                                          \"FAVC\",\"CAEC\",\"SMOKE\",\"SCC\",\"CALC\",\"MTRANS\"])\n",
    "df_prep.head()"
   ]
  },
  {
   "cell_type": "code",
   "execution_count": 24,
   "metadata": {
    "execution": {
     "iopub.execute_input": "2020-09-20T00:07:12.404078Z",
     "iopub.status.busy": "2020-09-20T00:07:12.403052Z",
     "iopub.status.idle": "2020-09-20T00:07:12.406590Z",
     "shell.execute_reply": "2020-09-20T00:07:12.405874Z"
    },
    "papermill": {
     "duration": 0.054909,
     "end_time": "2020-09-20T00:07:12.406714",
     "exception": false,
     "start_time": "2020-09-20T00:07:12.351805",
     "status": "completed"
    },
    "tags": []
   },
   "outputs": [],
   "source": [
    "# split dataset in features and target variable\n",
    "\n",
    "# Features\n",
    "X = df_prep.drop(columns=[\"NObeyesdad\"])\n",
    "\n",
    "# Target variable\n",
    "y = df_prep['NObeyesdad'] "
   ]
  },
  {
   "cell_type": "code",
   "execution_count": 25,
   "metadata": {
    "execution": {
     "iopub.execute_input": "2020-09-20T00:07:12.501774Z",
     "iopub.status.busy": "2020-09-20T00:07:12.500987Z",
     "iopub.status.idle": "2020-09-20T00:07:12.658913Z",
     "shell.execute_reply": "2020-09-20T00:07:12.658215Z"
    },
    "papermill": {
     "duration": 0.208322,
     "end_time": "2020-09-20T00:07:12.659038",
     "exception": false,
     "start_time": "2020-09-20T00:07:12.450716",
     "status": "completed"
    },
    "tags": []
   },
   "outputs": [],
   "source": [
    "# import sklearn packages for data treatments\n",
    "from sklearn.model_selection import train_test_split # Import train_test_split function\n",
    "\n",
    "# Split dataset into training set and test set\n",
    "X_train, X_test, y_train, y_test = train_test_split(X, y, test_size=0.3, random_state=1) # 70% training and 30% test"
   ]
  },
  {
   "cell_type": "markdown",
   "metadata": {
    "papermill": {
     "duration": 0.043961,
     "end_time": "2020-09-20T00:07:12.747330",
     "exception": false,
     "start_time": "2020-09-20T00:07:12.703369",
     "status": "completed"
    },
    "tags": []
   },
   "source": [
    "# Machine Learning Models\n",
    "\n",
    "For this exercise we will take a look at \n",
    "- Decision Trees\n",
    "- Random Forest\n",
    "- Support Vector Machines (SVM)\n",
    "- K Nearest Neighbors \n",
    "\n",
    "Cursory Look at the model results suggest that Random Forest will be our best initial model with an accuracy of 79%. However, many of the other models performance is not too far off. \n",
    "\n",
    "The other interesting result is that all of the models classify Obesity_Type_III amazingly well with >= 98% accuracy across all models. "
   ]
  },
  {
   "cell_type": "code",
   "execution_count": 26,
   "metadata": {
    "execution": {
     "iopub.execute_input": "2020-09-20T00:07:12.862812Z",
     "iopub.status.busy": "2020-09-20T00:07:12.861978Z",
     "iopub.status.idle": "2020-09-20T00:07:13.124504Z",
     "shell.execute_reply": "2020-09-20T00:07:13.123841Z"
    },
    "papermill": {
     "duration": 0.327101,
     "end_time": "2020-09-20T00:07:13.124645",
     "exception": false,
     "start_time": "2020-09-20T00:07:12.797544",
     "status": "completed"
    },
    "tags": []
   },
   "outputs": [],
   "source": [
    "from sklearn.neighbors import KNeighborsClassifier\n",
    "from sklearn.tree import DecisionTreeClassifier # Import Decision Tree Classifier\n",
    "from sklearn.svm import SVC\n",
    "from sklearn.ensemble import RandomForestClassifier\n",
    "from sklearn.metrics import classification_report\n",
    "from sklearn.naive_bayes import GaussianNB\n",
    "from sklearn import metrics #Import scikit-learn metrics module for accuracy calculation\n",
    "from sklearn.preprocessing import StandardScaler # Import for standard scaling of the data\n",
    "from sklearn.preprocessing import MinMaxScaler # Import for standard scaling of the data\n",
    "\n",
    "# standard scale data\n",
    "ss = StandardScaler()\n",
    "X_train_scaled = ss.fit_transform(X_train)\n",
    "X_test_scaled = ss.transform(X_test)\n",
    "\n",
    "# tested MinMaxScaler as KNN historically does better with MinMax\n",
    "mm = MinMaxScaler()\n",
    "X_train_mm_scaled = ss.fit_transform(X_train)\n",
    "X_test_mm_scaled = ss.transform(X_test)\n",
    "\n",
    "# program to run multilple models though sklearn \n",
    "# Default settings output accuracy and classification report\n",
    "# compares accuracy for scaled and unscaled data\n",
    "def run_models(X_train: pd.DataFrame , y_train: pd.DataFrame, X_test: pd.DataFrame, y_test: pd.DataFrame):\n",
    "    \n",
    "    models = [          \n",
    "          ('Random Forest', RandomForestClassifier(random_state=2020)),\n",
    "          ('Decision Tree', DecisionTreeClassifier()),                                                 \n",
    "          ('KNN', KNeighborsClassifier()),\n",
    "          ('SVM', SVC())\n",
    "        ]  \n",
    "    \n",
    "    for name, model in models:        \n",
    "        # unscaled data\n",
    "        clf = model.fit(X_train, y_train)\n",
    "        y_pred = clf.predict(X_test)\n",
    "        \n",
    "        # scaled data\n",
    "        clf_scaled = model.fit(X_train_scaled, y_train)\n",
    "        y_pred_scaled = clf_scaled.predict(X_test_scaled)\n",
    "        \n",
    "        # mm scaled data\n",
    "        clf_mm_scaled = model.fit(X_train_mm_scaled, y_train)\n",
    "        y_pred_mm_scaled = clf_scaled.predict(X_test_mm_scaled)\n",
    "        \n",
    "        # accuracy scores\n",
    "        accuracy = round(metrics.accuracy_score(y_test, y_pred),5)\n",
    "        scaled_accuracy = round(metrics.accuracy_score(y_test, y_pred_scaled),5)\n",
    "        scaled_mm_accuracy = round(metrics.accuracy_score(y_test, y_pred_mm_scaled),5)\n",
    "        \n",
    "        # output\n",
    "        print(name + ':')        \n",
    "        print(\"---------------------------------------------------------------\")      \n",
    "        print(\"Accuracy:\", accuracy)\n",
    "        print(\"Accuracy w/Scaled Data (ss):\", scaled_accuracy)\n",
    "        print(\"Accuracy w/Scaled Data (mm):\", scaled_mm_accuracy)\n",
    "        if (accuracy > scaled_accuracy) and (accuracy > scaled_mm_accuracy):\n",
    "            print(\"\\nClassification Report:\\n\", metrics.classification_report(y_test, y_pred))      \n",
    "            print(\"                            -----------------------------------               \\n\")      \n",
    "        elif (scaled_accuracy > scaled_mm_accuracy):\n",
    "            print(\"\\nClassification Report (ss):\\n\", metrics.classification_report(y_test, y_pred_scaled))      \n",
    "            print(\"                            -----------------------------------               \\n\")     \n",
    "        else:            \n",
    "            print(\"\\nClassification Report (mm):\\n\", metrics.classification_report(y_test, y_pred_mm_scaled))      \n",
    "            print(\"                            -----------------------------------               \\n\")      "
   ]
  },
  {
   "cell_type": "code",
   "execution_count": 27,
   "metadata": {
    "execution": {
     "iopub.execute_input": "2020-09-20T00:07:13.221700Z",
     "iopub.status.busy": "2020-09-20T00:07:13.220869Z",
     "iopub.status.idle": "2020-09-20T00:07:15.257747Z",
     "shell.execute_reply": "2020-09-20T00:07:15.258646Z"
    },
    "papermill": {
     "duration": 2.089974,
     "end_time": "2020-09-20T00:07:15.258842",
     "exception": false,
     "start_time": "2020-09-20T00:07:13.168868",
     "status": "completed"
    },
    "tags": []
   },
   "outputs": [
    {
     "name": "stdout",
     "output_type": "stream",
     "text": [
      "Random Forest:\n",
      "---------------------------------------------------------------\n",
      "Accuracy: 0.82177\n",
      "Accuracy w/Scaled Data (ss): 0.82177\n",
      "Accuracy w/Scaled Data (mm): 0.82177\n",
      "\n",
      "Classification Report (mm):\n",
      "                      precision    recall  f1-score   support\n",
      "\n",
      "Insufficient_Weight       0.85      0.87      0.86        92\n",
      "      Normal_Weight       0.60      0.69      0.64        77\n",
      "     Obesity_Type_I       0.85      0.80      0.82       114\n",
      "    Obesity_Type_II       0.90      0.94      0.92        85\n",
      "   Obesity_Type_III       0.99      0.99      0.99        92\n",
      " Overweight_Level_I       0.79      0.71      0.75        89\n",
      "Overweight_Level_II       0.76      0.74      0.75        85\n",
      "\n",
      "           accuracy                           0.82       634\n",
      "          macro avg       0.82      0.82      0.82       634\n",
      "       weighted avg       0.83      0.82      0.82       634\n",
      "\n",
      "                            -----------------------------------               \n",
      "\n",
      "Decision Tree:\n",
      "---------------------------------------------------------------\n",
      "Accuracy: 0.75552\n",
      "Accuracy w/Scaled Data (ss): 0.75552\n",
      "Accuracy w/Scaled Data (mm): 0.7571\n",
      "\n",
      "Classification Report (mm):\n",
      "                      precision    recall  f1-score   support\n",
      "\n",
      "Insufficient_Weight       0.84      0.83      0.83        92\n",
      "      Normal_Weight       0.54      0.49      0.52        77\n",
      "     Obesity_Type_I       0.78      0.71      0.74       114\n",
      "    Obesity_Type_II       0.85      0.85      0.85        85\n",
      "   Obesity_Type_III       0.99      0.99      0.99        92\n",
      " Overweight_Level_I       0.69      0.67      0.68        89\n",
      "Overweight_Level_II       0.59      0.73      0.65        85\n",
      "\n",
      "           accuracy                           0.76       634\n",
      "          macro avg       0.75      0.75      0.75       634\n",
      "       weighted avg       0.76      0.76      0.76       634\n",
      "\n",
      "                            -----------------------------------               \n",
      "\n",
      "KNN:\n",
      "---------------------------------------------------------------\n",
      "Accuracy: 0.76656\n",
      "Accuracy w/Scaled Data (ss): 0.73502\n",
      "Accuracy w/Scaled Data (mm): 0.73502\n",
      "\n",
      "Classification Report:\n",
      "                      precision    recall  f1-score   support\n",
      "\n",
      "Insufficient_Weight       0.79      0.83      0.81        92\n",
      "      Normal_Weight       0.70      0.34      0.46        77\n",
      "     Obesity_Type_I       0.74      0.81      0.77       114\n",
      "    Obesity_Type_II       0.79      0.98      0.87        85\n",
      "   Obesity_Type_III       0.86      1.00      0.92        92\n",
      " Overweight_Level_I       0.76      0.69      0.72        89\n",
      "Overweight_Level_II       0.67      0.66      0.66        85\n",
      "\n",
      "           accuracy                           0.77       634\n",
      "          macro avg       0.76      0.76      0.75       634\n",
      "       weighted avg       0.76      0.77      0.75       634\n",
      "\n",
      "                            -----------------------------------               \n",
      "\n",
      "SVM:\n",
      "---------------------------------------------------------------\n",
      "Accuracy: 0.47319\n",
      "Accuracy w/Scaled Data (ss): 0.71609\n",
      "Accuracy w/Scaled Data (mm): 0.71609\n",
      "\n",
      "Classification Report (mm):\n",
      "                      precision    recall  f1-score   support\n",
      "\n",
      "Insufficient_Weight       0.79      0.80      0.80        92\n",
      "      Normal_Weight       0.54      0.66      0.60        77\n",
      "     Obesity_Type_I       0.65      0.58      0.61       114\n",
      "    Obesity_Type_II       0.70      0.98      0.82        85\n",
      "   Obesity_Type_III       0.98      0.98      0.98        92\n",
      " Overweight_Level_I       0.64      0.49      0.56        89\n",
      "Overweight_Level_II       0.70      0.54      0.61        85\n",
      "\n",
      "           accuracy                           0.72       634\n",
      "          macro avg       0.71      0.72      0.71       634\n",
      "       weighted avg       0.72      0.72      0.71       634\n",
      "\n",
      "                            -----------------------------------               \n",
      "\n"
     ]
    }
   ],
   "source": [
    "#run Decision Trees, Random Forest, KNN and SVM\n",
    "run_models(X_train, y_train, X_test, y_test)"
   ]
  },
  {
   "cell_type": "markdown",
   "metadata": {
    "papermill": {
     "duration": 0.04555,
     "end_time": "2020-09-20T00:07:15.350014",
     "exception": false,
     "start_time": "2020-09-20T00:07:15.304464",
     "status": "completed"
    },
    "tags": []
   },
   "source": [
    "# Hyperparameter Tuning\n",
    "\n",
    "Searching for better performance out of the models with Gridsearch"
   ]
  },
  {
   "cell_type": "code",
   "execution_count": 28,
   "metadata": {
    "execution": {
     "iopub.execute_input": "2020-09-20T00:07:15.451052Z",
     "iopub.status.busy": "2020-09-20T00:07:15.450352Z",
     "iopub.status.idle": "2020-09-20T00:07:15.453281Z",
     "shell.execute_reply": "2020-09-20T00:07:15.453802Z"
    },
    "papermill": {
     "duration": 0.057836,
     "end_time": "2020-09-20T00:07:15.453951",
     "exception": false,
     "start_time": "2020-09-20T00:07:15.396115",
     "status": "completed"
    },
    "tags": []
   },
   "outputs": [],
   "source": [
    "from sklearn.model_selection import GridSearchCV\n",
    "\n",
    "#model name, classifier, parameters\n",
    "# function used to process models and parameters through gridsearch\n",
    "def hyper_tune(name, clf, parameters, target_names=None): \n",
    "    \n",
    "    target_names = target_names\n",
    "    clf = clf\n",
    "    search = GridSearchCV(clf, parameters,verbose=True, n_jobs=15, cv=5)\n",
    "    search.fit(X_train_scaled,y_train)\n",
    "    y_pred_scaled = search.predict(X_test_scaled)\n",
    "    print (\"Accuracy Score = %3.2f\" %(search.score(X_test_scaled,y_test)))\n",
    "    print (search.best_params_)\n",
    "    print(\"\\nClassification Report:\\n\", metrics.classification_report(y_test, y_pred_scaled, target_names=target_names))\n",
    "    "
   ]
  },
  {
   "cell_type": "code",
   "execution_count": 29,
   "metadata": {
    "execution": {
     "iopub.execute_input": "2020-09-20T00:07:15.555213Z",
     "iopub.status.busy": "2020-09-20T00:07:15.554116Z",
     "iopub.status.idle": "2020-09-20T00:07:15.556612Z",
     "shell.execute_reply": "2020-09-20T00:07:15.557128Z"
    },
    "papermill": {
     "duration": 0.057558,
     "end_time": "2020-09-20T00:07:15.557308",
     "exception": false,
     "start_time": "2020-09-20T00:07:15.499750",
     "status": "completed"
    },
    "tags": []
   },
   "outputs": [],
   "source": [
    "#the KNN model performs better on the unscaled data this function\n",
    "# function for unscaled data\n",
    "#model name, classifier, parameters\n",
    "# function used to process models and parameters through gridsearch\n",
    "def hyper_tune2(name, clf, parameters, target_names=None): \n",
    "    \n",
    "    target_names = target_names\n",
    "    clf = clf\n",
    "    search = GridSearchCV(clf, parameters,verbose=True, n_jobs=15, cv=5)\n",
    "    search.fit(X_train,y_train)\n",
    "    y_pred = search.predict(X_test)\n",
    "    print (\"Accuracy Score = %3.2f\" %(search.score(X_test,y_test)))\n",
    "    print (search.best_params_)\n",
    "    print(\"\\nClassification Report:\\n\", metrics.classification_report(y_test, y_pred, target_names=target_names))"
   ]
  },
  {
   "cell_type": "markdown",
   "metadata": {
    "papermill": {
     "duration": 0.045541,
     "end_time": "2020-09-20T00:07:15.653514",
     "exception": false,
     "start_time": "2020-09-20T00:07:15.607973",
     "status": "completed"
    },
    "tags": []
   },
   "source": [
    "## KNN"
   ]
  },
  {
   "cell_type": "code",
   "execution_count": 30,
   "metadata": {
    "execution": {
     "iopub.execute_input": "2020-09-20T00:07:15.757456Z",
     "iopub.status.busy": "2020-09-20T00:07:15.756686Z",
     "iopub.status.idle": "2020-09-20T00:07:56.052731Z",
     "shell.execute_reply": "2020-09-20T00:07:56.053540Z"
    },
    "papermill": {
     "duration": 40.352772,
     "end_time": "2020-09-20T00:07:56.053757",
     "exception": false,
     "start_time": "2020-09-20T00:07:15.700985",
     "status": "completed"
    },
    "tags": []
   },
   "outputs": [
    {
     "name": "stdout",
     "output_type": "stream",
     "text": [
      "Fitting 5 folds for each of 528 candidates, totalling 2640 fits\n",
      "Accuracy Score = 0.81\n",
      "{'algorithm': 'auto', 'metric': 'manhattan', 'n_neighbors': 4, 'p': 1, 'weights': 'distance'}\n",
      "\n",
      "Classification Report:\n",
      "                      precision    recall  f1-score   support\n",
      "\n",
      "Insufficient_Weight       0.83      0.84      0.83        92\n",
      "      Normal_Weight       0.78      0.51      0.61        77\n",
      "     Obesity_Type_I       0.83      0.83      0.83       114\n",
      "    Obesity_Type_II       0.85      0.94      0.89        85\n",
      "   Obesity_Type_III       0.91      1.00      0.95        92\n",
      " Overweight_Level_I       0.77      0.78      0.77        89\n",
      "Overweight_Level_II       0.70      0.75      0.73        85\n",
      "\n",
      "           accuracy                           0.81       634\n",
      "          macro avg       0.81      0.81      0.80       634\n",
      "       weighted avg       0.81      0.81      0.81       634\n",
      "\n"
     ]
    }
   ],
   "source": [
    "# Number of neighbors\n",
    "n_neighbors = [int(x) for x in range(4, 15)]\n",
    "# weights\n",
    "weights = ['uniform','distance']\n",
    "# distance metric\n",
    "metric = ['euclidean', 'manhattan', 'chebyshev']\n",
    "# computation algorithm\n",
    "algorithm = ['auto', 'ball_tree', 'kd_tree', 'brute']\n",
    "# power paramter\n",
    "p=[1,2]\n",
    "\n",
    "parameters = { 'n_neighbors': n_neighbors,\n",
    "              'weights':weights,\n",
    "              'metric':metric,\n",
    "              'p':p,\n",
    "              'algorithm': algorithm              \n",
    "               }\n",
    "\n",
    "hyper_tune2('KNN', KNeighborsClassifier(), parameters)"
   ]
  },
  {
   "cell_type": "markdown",
   "metadata": {
    "papermill": {
     "duration": 0.049095,
     "end_time": "2020-09-20T00:07:56.158314",
     "exception": false,
     "start_time": "2020-09-20T00:07:56.109219",
     "status": "completed"
    },
    "tags": []
   },
   "source": [
    "## Random Forest"
   ]
  },
  {
   "cell_type": "code",
   "execution_count": 27,
   "metadata": {
    "execution": {
     "iopub.execute_input": "2020-09-20T00:07:56.270601Z",
     "iopub.status.busy": "2020-09-20T00:07:56.269818Z",
     "iopub.status.idle": "2020-09-20T00:12:23.611902Z",
     "shell.execute_reply": "2020-09-20T00:12:23.610779Z"
    },
    "papermill": {
     "duration": 267.404225,
     "end_time": "2020-09-20T00:12:23.612108",
     "exception": false,
     "start_time": "2020-09-20T00:07:56.207883",
     "status": "completed"
    },
    "tags": []
   },
   "outputs": [
    {
     "name": "stdout",
     "output_type": "stream",
     "text": [
      "Fitting 5 folds for each of 380 candidates, totalling 1900 fits\n"
     ]
    },
    {
     "name": "stderr",
     "output_type": "stream",
     "text": [
      "[Parallel(n_jobs=15)]: Using backend LokyBackend with 15 concurrent workers.\n",
      "[Parallel(n_jobs=15)]: Done  20 tasks      | elapsed:    1.1s\n",
      "[Parallel(n_jobs=15)]: Done 200 tasks      | elapsed:   24.4s\n",
      "[Parallel(n_jobs=15)]: Done 450 tasks      | elapsed:   57.6s\n",
      "[Parallel(n_jobs=15)]: Done 800 tasks      | elapsed:  1.7min\n",
      "[Parallel(n_jobs=15)]: Done 1250 tasks      | elapsed:  2.8min\n",
      "[Parallel(n_jobs=15)]: Done 1800 tasks      | elapsed:  4.2min\n",
      "[Parallel(n_jobs=15)]: Done 1900 out of 1900 | elapsed:  4.4min finished\n"
     ]
    },
    {
     "name": "stdout",
     "output_type": "stream",
     "text": [
      "Accuracy Score = 0.81\n",
      "{'criterion': 'entropy', 'max_depth': 70, 'n_estimators': 80}\n",
      "\n",
      "Classification Report:\n",
      "                      precision    recall  f1-score   support\n",
      "\n",
      "Insufficient_Weight       0.82      0.85      0.83        92\n",
      "      Normal_Weight       0.56      0.64      0.60        77\n",
      "     Obesity_Type_I       0.86      0.76      0.81       114\n",
      "    Obesity_Type_II       0.92      0.93      0.92        85\n",
      "   Obesity_Type_III       0.99      0.99      0.99        92\n",
      " Overweight_Level_I       0.75      0.72      0.74        89\n",
      "Overweight_Level_II       0.72      0.74      0.73        85\n",
      "\n",
      "           accuracy                           0.81       634\n",
      "          macro avg       0.80      0.80      0.80       634\n",
      "       weighted avg       0.81      0.81      0.81       634\n",
      "\n"
     ]
    }
   ],
   "source": [
    "# Number of trees in random forest\n",
    "n_estimators = [int(x) for x in range(10, 200,10)]\n",
    "# Criterion\n",
    "criterion = ['gini','entropy']\n",
    "# Number of features to consider at every split\n",
    "max_features = ['auto', 'sqrt', 'log2']\n",
    "# Maximum number of levels in tree\n",
    "max_depth = [int(x) for x in range(10, 100, 10)]\n",
    "max_depth.append(None)\n",
    "# Minimum number of samples required to split a node\n",
    "min_samples_split = [int(x) for x in range(2, 5)]\n",
    "# Minimum number of samples required at each leaf node\n",
    "min_samples_leaf = [int(x) for x in range(2, 5)]\n",
    "# Method of selecting samples for training each tree\n",
    "bootstrap = [True, False]\n",
    "# random state\n",
    "random_state = [1010]\n",
    "\n",
    "parameters = { 'criterion':criterion,\n",
    "               'n_estimators': n_estimators,\n",
    "              'max_depth':max_depth,\n",
    "              #'random_state': random_state,\n",
    "              #'max_features':max_features,\n",
    "              #'min_samples_split':min_samples_split             \n",
    "               }\n",
    "\n",
    "\n",
    "hyper_tune('Random Forest',\n",
    "           RandomForestClassifier(), parameters)"
   ]
  },
  {
   "cell_type": "markdown",
   "metadata": {
    "papermill": {
     "duration": 0.054735,
     "end_time": "2020-09-20T00:12:23.721799",
     "exception": false,
     "start_time": "2020-09-20T00:12:23.667064",
     "status": "completed"
    },
    "tags": []
   },
   "source": [
    "# Feature Importance w/ Random Forest"
   ]
  },
  {
   "cell_type": "code",
   "execution_count": 28,
   "metadata": {
    "execution": {
     "iopub.execute_input": "2020-09-20T00:12:23.837826Z",
     "iopub.status.busy": "2020-09-20T00:12:23.836645Z",
     "iopub.status.idle": "2020-09-20T00:12:24.054670Z",
     "shell.execute_reply": "2020-09-20T00:12:24.055743Z"
    },
    "papermill": {
     "duration": 0.280176,
     "end_time": "2020-09-20T00:12:24.055959",
     "exception": false,
     "start_time": "2020-09-20T00:12:23.775783",
     "status": "completed"
    },
    "tags": []
   },
   "outputs": [],
   "source": [
    "# Create Decision Tree classifer object with optimized parameters\n",
    "clf = RandomForestClassifier(criterion='entropy',\n",
    "               n_estimators=52,\n",
    "              max_depth = 51,              \n",
    "              max_features='auto',\n",
    "              min_samples_split=2,\n",
    "              random_state=1010)\n",
    "\n",
    "# Train Decision Tree Classifer\n",
    "clf = clf.fit(X_train_scaled,y_train)\n",
    "\n",
    "#Predict the response for test dataset\n",
    "y_pred = clf.predict(X_test_scaled)\n"
   ]
  },
  {
   "cell_type": "code",
   "execution_count": 29,
   "metadata": {
    "execution": {
     "iopub.execute_input": "2020-09-20T00:12:24.168770Z",
     "iopub.status.busy": "2020-09-20T00:12:24.168071Z",
     "iopub.status.idle": "2020-09-20T00:12:24.171678Z",
     "shell.execute_reply": "2020-09-20T00:12:24.171015Z"
    },
    "papermill": {
     "duration": 0.062512,
     "end_time": "2020-09-20T00:12:24.171788",
     "exception": false,
     "start_time": "2020-09-20T00:12:24.109276",
     "status": "completed"
    },
    "tags": []
   },
   "outputs": [
    {
     "name": "stdout",
     "output_type": "stream",
     "text": [
      "Index(['Age', 'FCVC', 'NCP', 'CH2O', 'FAF', 'TUE', 'Gender_Female',\n",
      "       'Gender_Male', 'family_history_with_overweight_no',\n",
      "       'family_history_with_overweight_yes', 'FAVC_no', 'FAVC_yes',\n",
      "       'CAEC_Always', 'CAEC_Frequently', 'CAEC_Sometimes', 'CAEC_no',\n",
      "       'SMOKE_no', 'SMOKE_yes', 'SCC_no', 'SCC_yes', 'CALC_Always',\n",
      "       'CALC_Frequently', 'CALC_Sometimes', 'CALC_no', 'MTRANS_Automobile',\n",
      "       'MTRANS_Bike', 'MTRANS_Motorbike', 'MTRANS_Public_Transportation',\n",
      "       'MTRANS_Walking'],\n",
      "      dtype='object')\n"
     ]
    }
   ],
   "source": [
    "print(X.columns)"
   ]
  },
  {
   "cell_type": "code",
   "execution_count": 30,
   "metadata": {
    "execution": {
     "iopub.execute_input": "2020-09-20T00:12:24.294893Z",
     "iopub.status.busy": "2020-09-20T00:12:24.288965Z",
     "iopub.status.idle": "2020-09-20T00:12:24.720941Z",
     "shell.execute_reply": "2020-09-20T00:12:24.719844Z"
    },
    "papermill": {
     "duration": 0.495102,
     "end_time": "2020-09-20T00:12:24.721130",
     "exception": false,
     "start_time": "2020-09-20T00:12:24.226028",
     "status": "completed"
    },
    "tags": []
   },
   "outputs": [
    {
     "data": {
      "image/png": "[encoded data removed]",
      "text/plain": [
       "<Figure size 720x360 with 1 Axes>"
      ]
     },
     "metadata": {
      "needs_background": "light"
     },
     "output_type": "display_data"
    },
    {
     "name": "stdout",
     "output_type": "stream",
     "text": [
      "\n",
      "Top 10 Features:\n",
      "Variable: Age                  Importance: 0.22\n",
      "Variable: FCVC                 Importance: 0.07\n",
      "Variable: NCP                  Importance: 0.06\n",
      "Variable: FAF                  Importance: 0.06\n",
      "Variable: Gender_Female        Importance: 0.06\n",
      "Variable: Gender_Male          Importance: 0.06\n",
      "Variable: CH2O                 Importance: 0.05\n",
      "Variable: TUE                  Importance: 0.05\n",
      "Variable: family_history_with_overweight_no Importance: 0.04\n",
      "Variable: family_history_with_overweight_yes Importance: 0.04\n",
      "\n",
      "Bottom 10 Features:\n",
      "Variable: CAEC_Always          Importance: 0.0\n",
      "Variable: SMOKE_no             Importance: 0.0\n",
      "Variable: SMOKE_yes            Importance: 0.0\n",
      "Variable: CALC_Always          Importance: 0.0\n",
      "Variable: MTRANS_Bike          Importance: 0.0\n",
      "Variable: MTRANS_Motorbike     Importance: 0.0\n",
      "Variable: CAEC_no              Importance: 0.01\n",
      "Variable: SCC_no               Importance: 0.01\n",
      "Variable: SCC_yes              Importance: 0.01\n",
      "Variable: CALC_Frequently      Importance: 0.01\n"
     ]
    }
   ],
   "source": [
    "feature_imp = pd.Series(clf.feature_importances_, index=X.columns).sort_values(ascending=False)\n",
    "fig = plt.figure(figsize=(10, 5))\n",
    "\n",
    "# Creating a bar plot\n",
    "sns.barplot(x=feature_imp.index, y=feature_imp)\n",
    "\n",
    "# Add labels to your graph\n",
    "plt.xticks(rotation=45, horizontalalignment='right')\n",
    "\n",
    "plt.tight_layout()\n",
    "plt.show()\n",
    "\n",
    "# create features list\n",
    "features_list = X.columns\n",
    "features_list = features_list.tolist()\n",
    "\n",
    "# Get numerical feature importances\n",
    "importances = list(clf.feature_importances_)\n",
    "# List of tuples with variable and importance\n",
    "feature_importances = [(feature, round(importance, 2)) for feature, importance in zip(features_list, importances)]\n",
    "\n",
    "# Sort the feature importances by most important first\n",
    "feature_importances = sorted(feature_importances, key = lambda x: x[1], reverse = True)\n",
    "# Print out the feature and importances \n",
    "print(\"\\nTop 10 Features:\")\n",
    "display_top = [print('Variable: {:20} Importance: {}'.format(*pair)) for pair in feature_importances[:10]]\n",
    "\n",
    "# Sort the feature importances by least important first\n",
    "feature_importances = sorted(feature_importances, key = lambda x: x[1], reverse = False)\n",
    "# Print out the feature and importances \n",
    "print(\"\\nBottom 10 Features:\")\n",
    "display_bottom = [print('Variable: {:20} Importance: {}'.format(*pair)) for pair in feature_importances[:10]]"
   ]
  },
  {
   "cell_type": "markdown",
   "metadata": {
    "papermill": {
     "duration": 0.05493,
     "end_time": "2020-09-20T00:12:24.832398",
     "exception": false,
     "start_time": "2020-09-20T00:12:24.777468",
     "status": "completed"
    },
    "tags": []
   },
   "source": [
    "# Exploring Two Category Targert Variable\n",
    "\n",
    "### Data Prep\n",
    "\n",
    "![](http://)Underweight mapped to being not obese. Arguably however it is just as much of a health concern as being overweight. "
   ]
  },
  {
   "cell_type": "code",
   "execution_count": 31,
   "metadata": {
    "execution": {
     "iopub.execute_input": "2020-09-20T00:12:24.953674Z",
     "iopub.status.busy": "2020-09-20T00:12:24.952919Z",
     "iopub.status.idle": "2020-09-20T00:12:24.956736Z",
     "shell.execute_reply": "2020-09-20T00:12:24.956020Z"
    },
    "papermill": {
     "duration": 0.068368,
     "end_time": "2020-09-20T00:12:24.956856",
     "exception": false,
     "start_time": "2020-09-20T00:12:24.888488",
     "status": "completed"
    },
    "tags": []
   },
   "outputs": [],
   "source": [
    "# map values \n",
    "weight_map = { 'Normal_Weight':0, 'Overweight_Level_I':0,\n",
    "               'Overweight_Level_II':0, 'Obesity_Type_I':1,\n",
    "               'Obesity_Type_II':1, 'Obesity_Type_III':1, 'Insufficient_Weight':0}\n",
    "\n",
    "# map values\n",
    "df_prep['weight_cat'] = df_prep['NObeyesdad'].map(weight_map)"
   ]
  },
  {
   "cell_type": "code",
   "execution_count": 32,
   "metadata": {
    "execution": {
     "iopub.execute_input": "2020-09-20T00:12:25.078185Z",
     "iopub.status.busy": "2020-09-20T00:12:25.074560Z",
     "iopub.status.idle": "2020-09-20T00:12:25.218274Z",
     "shell.execute_reply": "2020-09-20T00:12:25.217481Z"
    },
    "papermill": {
     "duration": 0.205367,
     "end_time": "2020-09-20T00:12:25.218417",
     "exception": false,
     "start_time": "2020-09-20T00:12:25.013050",
     "status": "completed"
    },
    "tags": []
   },
   "outputs": [
    {
     "data": {
      "image/png": "[encoded data removed]",
      "text/plain": [
       "<Figure size 432x288 with 1 Axes>"
      ]
     },
     "metadata": {
      "needs_background": "light"
     },
     "output_type": "display_data"
    }
   ],
   "source": [
    "sns.countplot(x=\"weight_cat\",                  \n",
    "                 palette=\"Blues_d\", \n",
    "                 order=df_prep[\"weight_cat\"].value_counts().index,                 \n",
    "                 data=df_prep)\n",
    "\n",
    "\n",
    "# show figure & plots\n",
    "plt.tight_layout()\n",
    "plt.show()"
   ]
  },
  {
   "cell_type": "code",
   "execution_count": 33,
   "metadata": {
    "execution": {
     "iopub.execute_input": "2020-09-20T00:12:25.339491Z",
     "iopub.status.busy": "2020-09-20T00:12:25.338355Z",
     "iopub.status.idle": "2020-09-20T00:12:25.343478Z",
     "shell.execute_reply": "2020-09-20T00:12:25.343988Z"
    },
    "papermill": {
     "duration": 0.068444,
     "end_time": "2020-09-20T00:12:25.344154",
     "exception": false,
     "start_time": "2020-09-20T00:12:25.275710",
     "status": "completed"
    },
    "tags": []
   },
   "outputs": [],
   "source": [
    "# split dataset in features and target variable\n",
    "\n",
    "# Features\n",
    "X = df_prep.drop(columns=[\"NObeyesdad\",\"weight_cat\"])\n",
    "\n",
    "# Target variable\n",
    "y = df_prep['weight_cat'] "
   ]
  },
  {
   "cell_type": "code",
   "execution_count": 34,
   "metadata": {
    "execution": {
     "iopub.execute_input": "2020-09-20T00:12:25.466025Z",
     "iopub.status.busy": "2020-09-20T00:12:25.465254Z",
     "iopub.status.idle": "2020-09-20T00:12:25.478389Z",
     "shell.execute_reply": "2020-09-20T00:12:25.478951Z"
    },
    "papermill": {
     "duration": 0.078081,
     "end_time": "2020-09-20T00:12:25.479100",
     "exception": false,
     "start_time": "2020-09-20T00:12:25.401019",
     "status": "completed"
    },
    "tags": []
   },
   "outputs": [],
   "source": [
    "# Split dataset into training set and test set\n",
    "X_train, X_test, y_train, y_test = train_test_split(X, y, test_size=0.3, random_state=1) # 70% training and 30% test\n",
    "\n",
    "# Scaled version of X train and X test\n",
    "ss = StandardScaler()\n",
    "X_train_scaled = ss.fit_transform(X_train)\n",
    "X_test_scaled = ss.transform(X_test)"
   ]
  },
  {
   "cell_type": "markdown",
   "metadata": {
    "papermill": {
     "duration": 0.057281,
     "end_time": "2020-09-20T00:12:25.593813",
     "exception": false,
     "start_time": "2020-09-20T00:12:25.536532",
     "status": "completed"
    },
    "tags": []
   },
   "source": [
    "> ## Random Forest with Two Category Target Variable"
   ]
  },
  {
   "cell_type": "code",
   "execution_count": 35,
   "metadata": {
    "execution": {
     "iopub.execute_input": "2020-09-20T00:12:25.721502Z",
     "iopub.status.busy": "2020-09-20T00:12:25.720787Z",
     "iopub.status.idle": "2020-09-20T00:24:04.243040Z",
     "shell.execute_reply": "2020-09-20T00:24:04.242015Z"
    },
    "papermill": {
     "duration": 698.591741,
     "end_time": "2020-09-20T00:24:04.243296",
     "exception": false,
     "start_time": "2020-09-20T00:12:25.651555",
     "status": "completed"
    },
    "tags": []
   },
   "outputs": [
    {
     "name": "stdout",
     "output_type": "stream",
     "text": [
      "Fitting 5 folds for each of 1140 candidates, totalling 5700 fits\n"
     ]
    },
    {
     "name": "stderr",
     "output_type": "stream",
     "text": [
      "[Parallel(n_jobs=15)]: Using backend LokyBackend with 15 concurrent workers.\n",
      "[Parallel(n_jobs=15)]: Done  20 tasks      | elapsed:    1.0s\n",
      "[Parallel(n_jobs=15)]: Done 200 tasks      | elapsed:   22.1s\n",
      "[Parallel(n_jobs=15)]: Done 450 tasks      | elapsed:   50.8s\n",
      "[Parallel(n_jobs=15)]: Done 800 tasks      | elapsed:  1.5min\n",
      "[Parallel(n_jobs=15)]: Done 1250 tasks      | elapsed:  2.4min\n",
      "[Parallel(n_jobs=15)]: Done 1800 tasks      | elapsed:  3.5min\n",
      "[Parallel(n_jobs=15)]: Done 2450 tasks      | elapsed:  4.8min\n",
      "[Parallel(n_jobs=15)]: Done 3200 tasks      | elapsed:  6.3min\n",
      "[Parallel(n_jobs=15)]: Done 4050 tasks      | elapsed:  8.1min\n",
      "[Parallel(n_jobs=15)]: Done 5000 tasks      | elapsed: 10.1min\n",
      "[Parallel(n_jobs=15)]: Done 5700 out of 5700 | elapsed: 11.6min finished\n"
     ]
    },
    {
     "name": "stdout",
     "output_type": "stream",
     "text": [
      "Accuracy Score = 0.92\n",
      "{'criterion': 'gini', 'max_depth': 20, 'max_features': 'auto', 'n_estimators': 110, 'random_state': 1010}\n",
      "\n",
      "Classification Report:\n",
      "               precision    recall  f1-score   support\n",
      "\n",
      "   Not Obese       0.90      0.96      0.93       343\n",
      "       Obese       0.94      0.88      0.91       291\n",
      "\n",
      "    accuracy                           0.92       634\n",
      "   macro avg       0.92      0.92      0.92       634\n",
      "weighted avg       0.92      0.92      0.92       634\n",
      "\n"
     ]
    }
   ],
   "source": [
    "# Number of trees in random forest\n",
    "n_estimators = [int(x) for x in range(10, 200,10)]\n",
    "# Criterion\n",
    "criterion = ['gini','entropy']\n",
    "# Number of features to consider at every split\n",
    "max_features = ['auto', 'sqrt', 'log2']\n",
    "# Maximum number of levels in tree\n",
    "max_depth = [int(x) for x in range(10, 100, 10)]\n",
    "max_depth.append(None)\n",
    "# Minimum number of samples required to split a node\n",
    "min_samples_split = [int(x) for x in range(2, 20,2)]\n",
    "# Minimum number of samples required at each leaf node\n",
    "min_samples_leaf = [int(x) for x in range(2, 20, 2)]\n",
    "# Method of selecting samples for training each tree\n",
    "bootstrap = [True, False]\n",
    "# random state\n",
    "random_state = [1010]\n",
    "\n",
    "target_names = ['Not Obese', 'Obese']\n",
    "\n",
    "parameters = { 'criterion':criterion,\n",
    "               'n_estimators': n_estimators,\n",
    "              'max_depth':max_depth,\n",
    "              'random_state': random_state,\n",
    "              'max_features':max_features\n",
    "              #'min_samples_split':min_samples_split             \n",
    "               }\n",
    "\n",
    "hyper_tune('Random Forest', RandomForestClassifier(), parameters, target_names=target_names)"
   ]
  },
  {
   "cell_type": "markdown",
   "metadata": {
    "papermill": {
     "duration": 0.061067,
     "end_time": "2020-09-20T00:24:04.366100",
     "exception": false,
     "start_time": "2020-09-20T00:24:04.305033",
     "status": "completed"
    },
    "tags": []
   },
   "source": [
    "## Feature Importance with Random Forest: Two Category Variable Target"
   ]
  },
  {
   "cell_type": "code",
   "execution_count": 31,
   "metadata": {
    "execution": {
     "iopub.execute_input": "2020-09-20T00:24:04.496396Z",
     "iopub.status.busy": "2020-09-20T00:24:04.495593Z",
     "iopub.status.idle": "2020-09-20T00:24:04.819625Z",
     "shell.execute_reply": "2020-09-20T00:24:04.820141Z"
    },
    "papermill": {
     "duration": 0.39249,
     "end_time": "2020-09-20T00:24:04.820315",
     "exception": false,
     "start_time": "2020-09-20T00:24:04.427825",
     "status": "completed"
    },
    "tags": []
   },
   "outputs": [
    {
     "name": "stderr",
     "output_type": "stream",
     "text": [
      "C:\\Users\\tusha\\anaconda3\\lib\\site-packages\\sklearn\\ensemble\\_forest.py:424: FutureWarning: `max_features='auto'` has been deprecated in 1.1 and will be removed in 1.3. To keep the past behaviour, explicitly set `max_features='sqrt'` or remove this parameter as it is also the default value for RandomForestClassifiers and ExtraTreesClassifiers.\n",
      "  warn(\n"
     ]
    }
   ],
   "source": [
    "# Create Random Forest classifer object with optimized parameters\n",
    "clf = RandomForestClassifier(criterion='gini',\n",
    "               n_estimators=110,\n",
    "              max_depth = 20,              \n",
    "              max_features='auto',              \n",
    "              random_state=1010)\n",
    "\n",
    "# Train Random Forest classifer\n",
    "clf = clf.fit(X_train_scaled,y_train)\n",
    "\n",
    "#Predict the response for test dataset\n",
    "y_pred = clf.predict(X_test_scaled)"
   ]
  },
  {
   "cell_type": "code",
   "execution_count": 32,
   "metadata": {
    "execution": {
     "iopub.execute_input": "2020-09-20T00:24:04.959294Z",
     "iopub.status.busy": "2020-09-20T00:24:04.954621Z",
     "iopub.status.idle": "2020-09-20T00:24:05.418532Z",
     "shell.execute_reply": "2020-09-20T00:24:05.417454Z"
    },
    "papermill": {
     "duration": 0.535898,
     "end_time": "2020-09-20T00:24:05.418735",
     "exception": false,
     "start_time": "2020-09-20T00:24:04.882837",
     "status": "completed"
    },
    "tags": []
   },
   "outputs": [
    {
     "data": {
      "image/png": "[encoded data removed]",
      "text/plain": [
       "<Figure size 1200x500 with 1 Axes>"
      ]
     },
     "metadata": {},
     "output_type": "display_data"
    },
    {
     "name": "stdout",
     "output_type": "stream",
     "text": [
      "\n",
      "Top 10 Features:\n",
      "Variable: Age                  Importance: 0.24\n",
      "Variable: FCVC                 Importance: 0.07\n",
      "Variable: NCP                  Importance: 0.07\n",
      "Variable: FAF                  Importance: 0.07\n",
      "Variable: CH2O                 Importance: 0.05\n",
      "Variable: TUE                  Importance: 0.05\n",
      "Variable: Gender_Female        Importance: 0.05\n",
      "Variable: Gender_Male          Importance: 0.04\n",
      "Variable: CALC_Sometimes       Importance: 0.04\n",
      "Variable: CALC_no              Importance: 0.04\n",
      "\n",
      "Bottom 10 Features:\n",
      "Variable: SMOKE_no             Importance: 0.0\n",
      "Variable: SMOKE_yes            Importance: 0.0\n",
      "Variable: CALC_Always          Importance: 0.0\n",
      "Variable: MTRANS_Bike          Importance: 0.0\n",
      "Variable: MTRANS_Motorbike     Importance: 0.0\n",
      "Variable: CAEC_Always          Importance: 0.01\n",
      "Variable: CAEC_no              Importance: 0.01\n",
      "Variable: SCC_no               Importance: 0.01\n",
      "Variable: SCC_yes              Importance: 0.01\n",
      "Variable: CALC_Frequently      Importance: 0.01\n"
     ]
    }
   ],
   "source": [
    "feature_imp = pd.Series(clf.feature_importances_, index=X.columns).sort_values(ascending=False)\n",
    "fig = plt.figure(figsize=(12, 5))\n",
    "\n",
    "# Creating a bar plot\n",
    "sns.barplot(x=feature_imp.index, y=feature_imp)\n",
    "\n",
    "# Add labels to your graph\n",
    "plt.xticks(rotation=45, horizontalalignment='right')\n",
    "\n",
    "plt.tight_layout()\n",
    "plt.show()\n",
    "\n",
    "# create features list\n",
    "features_list = X.columns\n",
    "features_list = features_list.tolist()\n",
    "\n",
    "# Get numerical feature importances\n",
    "importances = list(clf.feature_importances_)\n",
    "# List of tuples with variable and importance\n",
    "feature_importances = [(feature, round(importance, 2)) for feature, importance in zip(features_list, importances)]\n",
    "\n",
    "# Sort the feature importances by most important first\n",
    "feature_importances = sorted(feature_importances, key = lambda x: x[1], reverse = True)\n",
    "# Print out the feature and importances \n",
    "print(\"\\nTop 10 Features:\")\n",
    "display_top = [print('Variable: {:20} Importance: {}'.format(*pair)) for pair in feature_importances[:10]]\n",
    "\n",
    "# Sort the feature importances by least important first\n",
    "feature_importances = sorted(feature_importances, key = lambda x: x[1], reverse = False)\n",
    "# Print out the feature and importances \n",
    "print(\"\\nBottom 10 Features:\")\n",
    "display_bottom = [print('Variable: {:20} Importance: {}'.format(*pair)) for pair in feature_importances[:10]]"
   ]
  },
  {
   "cell_type": "code",
   "execution_count": null,
   "metadata": {},
   "outputs": [],
   "source": []
  },
  {
   "cell_type": "code",
   "execution_count": null,
   "metadata": {},
   "outputs": [],
   "source": []
  }
 ],
 "metadata": {
  "kernelspec": {
   "display_name": "Python 3 (ipykernel)",
   "language": "python",
   "name": "python3"
  },
  "language_info": {
   "codemirror_mode": {
    "name": "ipython",
    "version": 3
   },
   "file_extension": ".py",
   "mimetype": "text/x-python",
   "name": "python",
   "nbconvert_exporter": "python",
   "pygments_lexer": "ipython3",
   "version": "3.10.9"
  },
  "papermill": {
   "duration": 1025.121373,
   "end_time": "2020-09-20T00:24:05.596223",
   "environment_variables": {},
   "exception": null,
   "input_path": "__notebook__.ipynb",
   "output_path": "__notebook__.ipynb",
   "parameters": {},
   "start_time": "2020-09-20T00:07:00.474850",
   "version": "2.1.0"
  }
 },
 "nbformat": 4,
 "nbformat_minor": 4
}
