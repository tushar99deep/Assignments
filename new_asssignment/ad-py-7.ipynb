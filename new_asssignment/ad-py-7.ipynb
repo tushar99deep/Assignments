{
 "cells": [
  {
   "cell_type": "markdown",
   "id": "551316fb",
   "metadata": {},
   "source": [
    "# Q1. What is the purpose of the try statement?\n",
    "A1. The purpose of the try statement is to define a block of code in which exceptions can occur and handle those exceptions.\n",
    "\n",
    "Q2. What are the two most popular try statement variations?\n",
    "A2. The two most popular try statement variations are:\n",
    "   1. try-except: It allows you to catch and handle specific exceptions that may occur within the try block.\n",
    "   2. try-finally: It allows you to specify a finally block that will be executed regardless of whether an exception occurred or not.\n",
    "\n",
    "Q3. What is the purpose of the raise statement?\n",
    "A3. The purpose of the raise statement is to explicitly raise an exception within your code, indicating a specific error condition or exceptional situation.\n",
    "\n",
    "Q4. What does the assert statement do, and what other statement is it like?\n",
    "A4. The assert statement is used to check if a given condition is true. If the condition is false, it raises an AssertionError exception. The assert statement is similar to the if statement but is specifically used for asserting conditions and validating assumptions during program execution.\n",
    "\n",
    "Q5. What is the purpose of the with/as argument, and what other statement is it like?\n",
    "A5. The purpose of the with/as argument is to create a context manager using the `with` statement. It provides a convenient and concise way of acquiring and releasing resources, ensuring proper cleanup even in the presence of exceptions. The with/as argument is similar in functionality to the try-finally statement but offers a more readable and structured way of managing resources.\n",
    "\n"
   ]
  }
 ],
 "metadata": {
  "kernelspec": {
   "display_name": "Python 3 (ipykernel)",
   "language": "python",
   "name": "python3"
  },
  "language_info": {
   "codemirror_mode": {
    "name": "ipython",
    "version": 3
   },
   "file_extension": ".py",
   "mimetype": "text/x-python",
   "name": "python",
   "nbconvert_exporter": "python",
   "pygments_lexer": "ipython3",
   "version": "3.10.9"
  }
 },
 "nbformat": 4,
 "nbformat_minor": 5
}
