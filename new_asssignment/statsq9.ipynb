{
 "cells": [
  {
   "cell_type": "code",
   "execution_count": 1,
   "id": "ac3cc3a2",
   "metadata": {},
   "outputs": [],
   "source": [
    "import numpy as np\n",
    "import pandas as pd\n",
    "from scipy.stats import f_oneway\n",
    "\n",
    "# Create a dataframe with the scores\n",
    "data = pd.DataFrame({\n",
    "    'Name': ['karan', 'deepa', 'karthik', 'chandan', 'jeevan'],\n",
    "    'Exam1': [85, 70, 90, 75, 95],\n",
    "    'Exam2': [90, 80, 85, 70, 92],\n",
    "    'Final Exam': [92, 85, 88, 75, 96]\n",
    "})\n",
    "\n",
    "\n"
   ]
  },
  {
   "cell_type": "code",
   "execution_count": 2,
   "id": "6acaaf29",
   "metadata": {},
   "outputs": [
    {
     "name": "stdout",
     "output_type": "stream",
     "text": [
      "F-statistic: 0.3236947791164659\n",
      "p-value: 0.7295954253321559\n"
     ]
    }
   ],
   "source": [
    "# Perform the one-way ANOVA\n",
    "f_statistic, p_value = f_oneway(data['Exam1'], data['Exam2'], data['Final Exam'])\n",
    "\n",
    "# Print the results\n",
    "print(\"F-statistic:\", f_statistic)\n",
    "print(\"p-value:\", p_value)"
   ]
  },
  {
   "cell_type": "code",
   "execution_count": 3,
   "id": "15b0268b",
   "metadata": {},
   "outputs": [
    {
     "name": "stdout",
     "output_type": "stream",
     "text": [
      "Student with the highest score: jeevan\n"
     ]
    }
   ],
   "source": [
    "# Find the student with the highest score\n",
    "max_score = data[['Exam1', 'Exam2', 'Final Exam']].max().max()\n",
    "student_with_highest_score = data.loc[data[['Exam1', 'Exam2', 'Final Exam']].max(axis=1) == max_score, 'Name'].values[0]\n",
    "\n",
    "# Print the student with the highest score\n",
    "print(\"Student with the highest score:\", student_with_highest_score)\n"
   ]
  },
  {
   "cell_type": "markdown",
   "id": "de2d56b3",
   "metadata": {},
   "source": [
    "# Since the p-value is greater than the significance level of 0.05, we fail to reject the null hypothesis. This means that there is not enough evidence to conclude that the mean scores of all the students are significantly different. Regarding the student with the highest score, we can find the maximum score across all exams and identify the corresponding student:The maximum score is 96, achieved in the Final Exam. Therefore, the student with the highest score is \"jeevan\"."
   ]
  }
 ],
 "metadata": {
  "kernelspec": {
   "display_name": "Python 3 (ipykernel)",
   "language": "python",
   "name": "python3"
  },
  "language_info": {
   "codemirror_mode": {
    "name": "ipython",
    "version": 3
   },
   "file_extension": ".py",
   "mimetype": "text/x-python",
   "name": "python",
   "nbconvert_exporter": "python",
   "pygments_lexer": "ipython3",
   "version": "3.10.9"
  }
 },
 "nbformat": 4,
 "nbformat_minor": 5
}
