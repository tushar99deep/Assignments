{
 "cells": [
  {
   "cell_type": "code",
   "execution_count": null,
   "id": "d57b1234",
   "metadata": {},
   "outputs": [],
   "source": [
    "Q1. What is the purpose of Python's OOP?\n",
    "\n",
    "The purpose of Pythons Object-Oriented Programming (OOP) is to provide a structured and modular approach to designing \n",
    "and building software. It allows programmers to create reusable code components called classes that encapsulate data and \n",
    "behavior. OOP promotes concepts like encapsulation, inheritance, and polymorphism, which help in organizing and managing \n",
    "complex codebases and promoting code reusability."
   ]
  },
  {
   "cell_type": "code",
   "execution_count": null,
   "id": "e05b99cf",
   "metadata": {},
   "outputs": [],
   "source": [
    "Q2. Where does an inheritance search look for an attribute?\n",
    "A2. Inheritance search looks for an attribute in the following order:\n",
    "\n",
    "The instance object itself.\n",
    "The class of the instance object.\n",
    "The superclasses of the class in a depth-first, left-to-right manner, known as the Method Resolution Order (MRO)."
   ]
  },
  {
   "cell_type": "code",
   "execution_count": null,
   "id": "662875ee",
   "metadata": {},
   "outputs": [],
   "source": [
    "Q3. How do you distinguish between a class object and an instance object?\n",
    "A3. A class object is an object that represents the class itself. It is created when the class definition is executed. \n",
    "It is used to access class-level attributes and methods.\n",
    "An instance object, on the other hand, is created from a class and represents a specific instance of that class. \n",
    "It contains the data specific to that instance and provides access to instance-specific methods and attributes."
   ]
  },
  {
   "cell_type": "code",
   "execution_count": null,
   "id": "317c891b",
   "metadata": {},
   "outputs": [],
   "source": [
    "Q4. What makes the first argument in a class's method function special?\n",
    "A4. The first argument in a classs method function, by convention, is always a reference to the instance object \n",
    "itself and is usually named self. It allows methods to access and manipulate the instances \n",
    "attributes and perform operations specific to that instance."
   ]
  },
  {
   "cell_type": "code",
   "execution_count": null,
   "id": "3971caf7",
   "metadata": {},
   "outputs": [],
   "source": [
    "Q5. What is the purpose of the __init__ method?\n",
    "\n",
    "The __init__ method is commonly used to initialize the attributes of an instance when it is created. \n",
    "example:\n",
    "    \n",
    "    class Person:\n",
    "    def __init__(self, name, age):\n",
    "        self.name = name\n",
    "        self.age = age\n",
    "\n",
    "person = Person(\"John\", 25)\n",
    "print(person.name)  # Output: John\n",
    "print(person.age)  # Output: 25\n",
    "\n",
    "\n",
    "In this example, the __init__ method takes two arguments, name and age, and assigns them to the instances\n",
    "attributes self.name and self.age."
   ]
  },
  {
   "cell_type": "code",
   "execution_count": null,
   "id": "788ebfe0",
   "metadata": {},
   "outputs": [],
   "source": [
    "Q6. What is the process for creating a class instance?\n",
    "\n",
    "Creating a class instance involves calling the class name followed by parentheses. Here's an example:\n",
    "\n",
    "class Rectangle:\n",
    "    def __init__(self, width, height):\n",
    "        self.width = width\n",
    "        self.height = height\n",
    "\n",
    "rectangle = Rectangle(5, 3)\n"
   ]
  },
  {
   "cell_type": "code",
   "execution_count": null,
   "id": "6059825e",
   "metadata": {},
   "outputs": [],
   "source": [
    "Q7. What is the process for creating a class?\n",
    "\n",
    "Creating a class involves defining the class using the class keyword, specifying class-level attributes and methods, \n",
    "and optionally defining an __init__ method. Here's an example:\n",
    "\n",
    "class Dog:\n",
    "    species = \"Canine\"  # Class-level attribute\n",
    "\n",
    "    def __init__(self, name):\n",
    "        self.name = name\n",
    "\n",
    "    def bark(self):\n",
    "        print(\"Woof!\")\n",
    "\n",
    "dog = Dog(\"Buddy\")\n",
    "dog.bark()  # Output: Woof!\n",
    "print(dog.name)  # Output: Buddy\n",
    "print(dog.species)  # Output: Canine\n"
   ]
  },
  {
   "cell_type": "code",
   "execution_count": null,
   "id": "11d1a4bd",
   "metadata": {},
   "outputs": [],
   "source": [
    "Q8. How would you define the superclasses of a class?\n",
    "A8. The superclasses of a class are defined by specifying them in the parentheses after the class name when defining the class.\n",
    "This is known as class inheritance.\n",
    "\n",
    "Example:\n",
    "    \n",
    "class SubClass(SuperClass1, SuperClass2):\n",
    "    pass\n",
    "\n",
    "    "
   ]
  }
 ],
 "metadata": {
  "kernelspec": {
   "display_name": "Python 3 (ipykernel)",
   "language": "python",
   "name": "python3"
  },
  "language_info": {
   "codemirror_mode": {
    "name": "ipython",
    "version": 3
   },
   "file_extension": ".py",
   "mimetype": "text/x-python",
   "name": "python",
   "nbconvert_exporter": "python",
   "pygments_lexer": "ipython3",
   "version": "3.10.9"
  }
 },
 "nbformat": 4,
 "nbformat_minor": 5
}
