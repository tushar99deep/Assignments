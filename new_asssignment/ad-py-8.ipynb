{
 "cells": [
  {
   "cell_type": "code",
   "execution_count": null,
   "id": "a98050b6",
   "metadata": {},
   "outputs": [],
   "source": [
    "Q1. What are the two latest user-defined exception constraints in Python 3.X?\n",
    "A1. As of my knowledge cutoff in September 2021, there were no specific constraints or limitations on user-defined exceptions in Python 3.X. You can define your own exceptions by creating a new class that inherits from the built-in `Exception` class or any of its subclasses.\n",
    "\n",
    "Q2. How are class-based exceptions that have been raised matched to handlers?\n",
    "A2. When a class-based exception is raised, Python searches for an appropriate exception handler to handle the exception. It looks for handlers in the following order:\n",
    "   1. The innermost `try` statement that encloses the code raising the exception.\n",
    "   2. If not found, the next innermost `try` statement.\n",
    "   3. This process continues until an appropriate exception handler is found, or if no handler is found, the program terminates with an unhandled exception.\n",
    "\n",
    "Q3. Describe two methods for attaching context information to exception artifacts.\n",
    "A3. Two common methods for attaching context information to exception artifacts are:\n",
    "   1. Adding custom attributes to the exception object: You can define additional attributes in your custom exception class to hold relevant context information. These attributes can be accessed when handling the exception to provide additional details about the error.\n",
    "   2. Using exception arguments: When raising an exception, you can pass arguments to the exception class constructor, providing contextual information. These arguments can be accessed within the exception handler to extract relevant details.\n",
    "\n",
    "Q4. Describe two methods for specifying the text of an exception object's error message.\n",
    "A4. Two methods for specifying the text of an exception object's error message are:\n",
    "   1. Defining a custom `__str__()` method: You can override the `__str__()` method in your custom exception class to return a string representation of the error message. This allows you to control the text that is displayed when the exception is printed or converted to a string.\n",
    "   2. Passing an error message as an argument: When raising an exception, you can pass a string as an argument to the exception class constructor, providing a specific error message. This message can be accessed within the exception handler to display or log the error.\n",
    "\n",
    "Q5. Why do you no longer use string-based exceptions?\n",
    "A5. String-based exceptions are no longer recommended because they lack the benefits and features provided by class-based exceptions. Using class-based exceptions allows for more structured and flexible error handling. With class-based exceptions, you can define custom exception classes with specific attributes and behavior, making it easier to handle and distinguish different types of exceptions. Class-based exceptions also provide better compatibility with the exception hierarchy and allow for more descriptive error messages and context information."
   ]
  }
 ],
 "metadata": {
  "kernelspec": {
   "display_name": "Python 3 (ipykernel)",
   "language": "python",
   "name": "python3"
  },
  "language_info": {
   "codemirror_mode": {
    "name": "ipython",
    "version": 3
   },
   "file_extension": ".py",
   "mimetype": "text/x-python",
   "name": "python",
   "nbconvert_exporter": "python",
   "pygments_lexer": "ipython3",
   "version": "3.10.9"
  }
 },
 "nbformat": 4,
 "nbformat_minor": 5
}
