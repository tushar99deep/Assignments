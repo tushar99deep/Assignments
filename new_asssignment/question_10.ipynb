{
 "cells": [
  {
   "cell_type": "code",
   "execution_count": null,
   "id": "2e76cccd",
   "metadata": {},
   "outputs": [],
   "source": [
    "import nltk\n",
    "from nltk.corpus import wordnet\n",
    "nltk.download('punkt')\n",
    "nltk.download('averaged_perceptron_tagger')\n",
    "\n",
    "\n",
    "def count_pos_tags(text):\n",
    "    # Tokenize the text into words\n",
    "    words = nltk.word_tokenize(text)\n",
    "\n",
    "    # Initialize count variables\n",
    "    verb_count = 0\n",
    "    noun_count = 0\n",
    "    pronoun_count = 0\n",
    "    adjective_count = 0\n",
    "\n",
    "    # Iterate over each word and determine its part-of-speech tag\n",
    "    for word in words:\n",
    "        pos_tag = nltk.pos_tag([word])[0][1]\n",
    "\n",
    "        # Check the part-of-speech tag and increment the corresponding count\n",
    "        if pos_tag.startswith('VB') or pos_tag.startswith('MD'):  # Update condition for verbs\n",
    "            verb_count += 1\n",
    "        elif pos_tag.startswith('NN'):\n",
    "            noun_count += 1\n",
    "        elif pos_tag.startswith('PRP'):\n",
    "            pronoun_count += 1\n",
    "        elif pos_tag.startswith('JJ'):\n",
    "            adjective_count += 1\n",
    "\n",
    "    # Create a dictionary with the counts\n",
    "    pos_counts = {\n",
    "        'verbs': verb_count,\n",
    "        'nouns': noun_count,\n",
    "        'pronouns': pronoun_count,\n",
    "        'adjectives': adjective_count\n",
    "    }\n",
    "\n",
    "    return pos_counts\n",
    "\n",
    "# Test case 1\n",
    "text1 = \"I love eating pizza with my friends.\"\n",
    "pos_counts1 = count_pos_tags(text1)\n",
    "print(pos_counts1)  \n",
    "# Test case 2\n",
    "text2 = \"The quick brown fox jumps over the lazy dog.\"\n",
    "pos_counts2 = count_pos_tags(text2)\n",
    "print(pos_counts2)  \n",
    "\n",
    "# Additional test case 1\n",
    "text3 = \"She is reading a fascinating book.\"\n",
    "pos_counts3 = count_pos_tags(text3)\n",
    "print(pos_counts3) \n",
    "\n",
    "# Additional test case 2\n",
    "text4 = \"The cat chased the mouse around the house.\"\n",
    "pos_counts4 = count_pos_tags(text4)\n",
    "print(pos_counts4)  \n"
   ]
  },
  {
   "cell_type": "code",
   "execution_count": null,
   "id": "0672428c",
   "metadata": {},
   "outputs": [],
   "source": []
  },
  {
   "cell_type": "code",
   "execution_count": null,
   "id": "8db586f1",
   "metadata": {},
   "outputs": [],
   "source": []
  }
 ],
 "metadata": {
  "kernelspec": {
   "display_name": "Python 3 (ipykernel)",
   "language": "python",
   "name": "python3"
  },
  "language_info": {
   "codemirror_mode": {
    "name": "ipython",
    "version": 3
   },
   "file_extension": ".py",
   "mimetype": "text/x-python",
   "name": "python",
   "nbconvert_exporter": "python",
   "pygments_lexer": "ipython3",
   "version": "3.9.13"
  }
 },
 "nbformat": 4,
 "nbformat_minor": 5
}
