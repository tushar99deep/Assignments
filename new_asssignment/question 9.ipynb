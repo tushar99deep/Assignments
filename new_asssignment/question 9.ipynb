{
 "cells": [
  {
   "cell_type": "code",
   "execution_count": null,
   "id": "017812ef",
   "metadata": {},
   "outputs": [],
   "source": [
    "import pandas as pd\n",
    "import matplotlib.pyplot as plt\n",
    "import numpy as np"
   ]
  },
  {
   "cell_type": "code",
   "execution_count": null,
   "id": "6337feb2",
   "metadata": {},
   "outputs": [],
   "source": [
    "# Read the data from the CSV file\n",
    "data_url = 'https://data.wa.gov/api/views/f6w7-q2d2/rows.csv?accessType=DOWNLOAD'\n",
    "df = pd.read_csv(data_url)"
   ]
  },
  {
   "cell_type": "code",
   "execution_count": null,
   "id": "d947afd3",
   "metadata": {},
   "outputs": [],
   "source": [
    "df.info()"
   ]
  },
  {
   "cell_type": "code",
   "execution_count": null,
   "id": "c472c81b",
   "metadata": {},
   "outputs": [],
   "source": [
    "df.head()"
   ]
  },
  {
   "cell_type": "code",
   "execution_count": null,
   "id": "65e237f5",
   "metadata": {},
   "outputs": [],
   "source": [
    "df['Clean Alternative Fuel Vehicle (CAFV) Eligibility'].value_counts()"
   ]
  },
  {
   "cell_type": "code",
   "execution_count": null,
   "id": "b1160707",
   "metadata": {},
   "outputs": [],
   "source": [
    "df['CAFV Eligibility'] = df['Clean Alternative Fuel Vehicle (CAFV) Eligibility'].map({'Clean Alternative Fuel Vehicle Eligible':1,\n",
    "                                                                                     'Eligibility unknown as battery range has not been researched':np.nan,\n",
    "                                                                                     'Not eligible due to low battery range':0})"
   ]
  },
  {
   "cell_type": "code",
   "execution_count": null,
   "id": "b1518d58",
   "metadata": {},
   "outputs": [],
   "source": [
    "df.head(2)"
   ]
  },
  {
   "cell_type": "markdown",
   "id": "d8cd96ed",
   "metadata": {},
   "source": [
    "# Get all the cars and their types that do not qualify for clean alternative fuel vehicle"
   ]
  },
  {
   "cell_type": "code",
   "execution_count": null,
   "id": "7c59ac55",
   "metadata": {},
   "outputs": [],
   "source": [
    "df[df['CAFV Eligibility']==0][['Make','Electric Vehicle Type','CAFV Eligibility']]"
   ]
  },
  {
   "cell_type": "markdown",
   "id": "0bcd9baa",
   "metadata": {},
   "source": [
    "# Get all TESLA cars with the model year, and model type made in Bothell City."
   ]
  },
  {
   "cell_type": "code",
   "execution_count": null,
   "id": "518adc30",
   "metadata": {},
   "outputs": [],
   "source": [
    "df[(df['Make']=='TESLA') & (df['City']=='Bothell')][['Make','Model Year','Electric Vehicle Type']]"
   ]
  },
  {
   "cell_type": "markdown",
   "id": "cf52dba3",
   "metadata": {},
   "source": [
    "# Get all the cars that have an electric range of more than 100, and were made after 2015"
   ]
  },
  {
   "cell_type": "code",
   "execution_count": null,
   "id": "833a4391",
   "metadata": {},
   "outputs": [],
   "source": [
    "df[(df['Electric Range']>100) & (df['Model Year'] > 2015)]"
   ]
  },
  {
   "cell_type": "markdown",
   "id": "95d56090",
   "metadata": {},
   "source": [
    "# Draw plots to show the distribution between city and electric vehicle type"
   ]
  },
  {
   "cell_type": "code",
   "execution_count": null,
   "id": "e4e2eb30",
   "metadata": {},
   "outputs": [],
   "source": []
  },
  {
   "cell_type": "code",
   "execution_count": null,
   "id": "5b94a2e0",
   "metadata": {},
   "outputs": [],
   "source": [
    "import pandas as pd\n",
    "import matplotlib.pyplot as plt\n",
    "\n",
    "# Read the data from the URL\n",
    "url = \"https://data.wa.gov/api/views/f6w7-q2d2/rows.csv?accessType=DOWNLOAD\"\n",
    "df = pd.read_csv(url)\n",
    "\n",
    "# Draw scatter plot to show the distribution between city and electric vehicle type\n",
    "\n",
    "\n",
    "grouped_data = df.groupby(['City', 'Electric Vehicle Type'])\n",
    "\n",
    "# Plot scatter plots for each city and electric vehicle type\n",
    "for group, group_data in grouped_data:\n",
    "    city, ev_type = group\n",
    "    plt.figure(figsize=(8, 6))\n",
    "    plt.scatter(group_data['Model Year'], group_data['Electric Range'], alpha=0.5)\n",
    "    plt.xlabel('Model Year')\n",
    "    plt.ylabel('Electric Range')\n",
    "    plt.title(f'Scatter Plot: {ev_type} in {city}')\n",
    "    plt.grid(True)\n",
    "    plt.show()"
   ]
  },
  {
   "cell_type": "code",
   "execution_count": null,
   "id": "b6aa4699",
   "metadata": {},
   "outputs": [],
   "source": []
  },
  {
   "cell_type": "code",
   "execution_count": null,
   "id": "7896754a",
   "metadata": {},
   "outputs": [],
   "source": []
  }
 ],
 "metadata": {
  "kernelspec": {
   "display_name": "Python 3 (ipykernel)",
   "language": "python",
   "name": "python3"
  },
  "language_info": {
   "codemirror_mode": {
    "name": "ipython",
    "version": 3
   },
   "file_extension": ".py",
   "mimetype": "text/x-python",
   "name": "python",
   "nbconvert_exporter": "python",
   "pygments_lexer": "ipython3",
   "version": "3.10.9"
  }
 },
 "nbformat": 4,
 "nbformat_minor": 5
}
