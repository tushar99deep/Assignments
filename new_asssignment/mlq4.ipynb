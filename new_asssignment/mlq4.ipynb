{
 "cells": [
  {
   "cell_type": "code",
   "execution_count": 17,
   "id": "f2598d5b",
   "metadata": {},
   "outputs": [],
   "source": [
    "import pandas as pd\n",
    "from sklearn.ensemble import RandomForestClassifier\n",
    "from sklearn.model_selection import train_test_split\n",
    "from sklearn.metrics import accuracy_score\n",
    "\n",
    "# Load the dataset\n",
    "data = pd.read_csv('mlq4.csv')\n",
    "\n"
   ]
  },
  {
   "cell_type": "code",
   "execution_count": null,
   "id": "3786dc11",
   "metadata": {},
   "outputs": [],
   "source": [
    "# Split the data into features and target variable\n",
    "X = data.drop(['Revenue', 'Weekend'], axis=1)\n",
    "y_revenue = data['Revenue']\n",
    "y_weekend = data['Weekend']\n",
    "\n"
   ]
  },
  {
   "cell_type": "code",
   "execution_count": null,
   "id": "053eca8f",
   "metadata": {},
   "outputs": [],
   "source": [
    "X['Month']"
   ]
  },
  {
   "cell_type": "code",
   "execution_count": 18,
   "id": "dfd98783",
   "metadata": {},
   "outputs": [
    {
     "name": "stdout",
     "output_type": "stream",
     "text": [
      "Accuracy for revenue prediction: 0.8941605839416058\n",
      "Accuracy for weekend prediction: 0.764801297648013\n"
     ]
    }
   ],
   "source": [
    "# Perform one-hot encoding for categorical variables\n",
    "X_encoded = pd.get_dummies(X)\n",
    "\n",
    "# Split the data into training and testing sets\n",
    "X_train, X_test, y_revenue_train, y_revenue_test, y_weekend_train, y_weekend_test = train_test_split(X_encoded, y_revenue, y_weekend, test_size=0.2, random_state=42)\n",
    "\n",
    "\n",
    "\n",
    "# Train a Random Forest classifier for revenue prediction\n",
    "revenue_classifier = RandomForestClassifier()\n",
    "revenue_classifier.fit(X_train, y_revenue_train)\n",
    "\n",
    "# Make predictions on the test set for revenue\n",
    "revenue_predictions = revenue_classifier.predict(X_test)\n",
    "\n",
    "# Train a Random Forest classifier for weekend prediction\n",
    "weekend_classifier = RandomForestClassifier()\n",
    "weekend_classifier.fit(X_train, y_weekend_train)\n",
    "\n",
    "# Make predictions on the test set for weekend\n",
    "weekend_predictions = weekend_classifier.predict(X_test)\n",
    "\n",
    "# Evaluate the accuracy of the classifiers\n",
    "revenue_accuracy = accuracy_score(y_revenue_test, revenue_predictions)\n",
    "weekend_accuracy = accuracy_score(y_weekend_test, weekend_predictions)\n",
    "\n",
    "print(\"Accuracy for revenue prediction:\", revenue_accuracy)\n",
    "print(\"Accuracy for weekend prediction:\", weekend_accuracy)\n"
   ]
  },
  {
   "cell_type": "code",
   "execution_count": null,
   "id": "589fb2a3",
   "metadata": {},
   "outputs": [],
   "source": []
  },
  {
   "cell_type": "code",
   "execution_count": null,
   "id": "ec4c6e6f",
   "metadata": {},
   "outputs": [],
   "source": []
  }
 ],
 "metadata": {
  "kernelspec": {
   "display_name": "Python 3 (ipykernel)",
   "language": "python",
   "name": "python3"
  },
  "language_info": {
   "codemirror_mode": {
    "name": "ipython",
    "version": 3
   },
   "file_extension": ".py",
   "mimetype": "text/x-python",
   "name": "python",
   "nbconvert_exporter": "python",
   "pygments_lexer": "ipython3",
   "version": "3.10.9"
  }
 },
 "nbformat": 4,
 "nbformat_minor": 5
}
