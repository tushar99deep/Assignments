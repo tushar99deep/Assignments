{
 "cells": [
  {
   "cell_type": "code",
   "execution_count": null,
   "id": "b4883565",
   "metadata": {},
   "outputs": [],
   "source": [
    "Q1. What is the difference between `__getattr__` and `__getattribute__`?\n",
    "A1. The key difference between `__getattr__` and `__getattribute__` is how they handle attribute access:\n",
    "   - `__getattr__` is called when an attribute is not found through the usual lookup mechanisms. It allows you to define a fallback behavior for attribute access when the attribute doesn't exist. It is invoked only when the attribute is not found.\n",
    "   - `__getattribute__` is called for every attribute access, regardless of whether the attribute exists or not. It gives you the opportunity to intercept and modify attribute access at a lower level. Be cautious when using `__getattribute__` to avoid infinite recursion by calling the same attribute again within its implementation.\n",
    "\n",
    "Q2. What is the difference between properties and descriptors?\n",
    "A2. Properties and descriptors are both mechanisms to control attribute access and provide additional behavior, but they differ in their implementation and usage:\n",
    "   - Properties: Properties are a high-level Pythonic way to define computed attributes. They allow you to define methods that are accessed like attributes, providing getters, setters, and deleters. Properties are defined within a class and use the `@property`, `@<attribute>.setter`, and `@<attribute>.deleter` decorators. They provide a simple and intuitive interface for attribute access and modification.\n",
    "   - Descriptors: Descriptors are a lower-level mechanism for attribute access control. They involve implementing the `__get__`, `__set__`, and `__delete__` methods within a descriptor class. Descriptors can be shared across multiple attributes and classes, providing more fine-grained control over attribute access. They allow you to define customized behaviors for attribute retrieval, assignment, and deletion.\n",
    "\n",
    "Q3. What are the key differences in functionality between `__getattr__` and `__getattribute__`, as well as properties and descriptors?\n",
    "A3. Here are the key differences in functionality:\n",
    "   - `__getattr__` vs. `__getattribute__`: \n",
    "     - `__getattr__` is invoked only when an attribute is not found through regular lookup mechanisms, providing a fallback behavior for missing attributes.\n",
    "     - `__getattribute__` is called for every attribute access, allowing you to intercept and modify attribute access at a lower level. It is invoked even if the attribute exists.\n",
    "   - Properties vs. Descriptors:\n",
    "     - Properties provide a higher-level interface for attribute access, allowing you to define computed attributes using decorators. They are typically used within a single class to control access to specific attributes.\n",
    "     - Descriptors provide a lower-level mechanism for attribute access control and can be shared across multiple attributes and classes. They offer more fine-grained control over attribute access and are suitable for complex attribute behaviors and interactions."
   ]
  }
 ],
 "metadata": {
  "kernelspec": {
   "display_name": "Python 3 (ipykernel)",
   "language": "python",
   "name": "python3"
  },
  "language_info": {
   "codemirror_mode": {
    "name": "ipython",
    "version": 3
   },
   "file_extension": ".py",
   "mimetype": "text/x-python",
   "name": "python",
   "nbconvert_exporter": "python",
   "pygments_lexer": "ipython3",
   "version": "3.10.9"
  }
 },
 "nbformat": 4,
 "nbformat_minor": 5
}
