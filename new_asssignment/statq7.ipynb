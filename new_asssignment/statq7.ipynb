{
 "cells": [
  {
   "cell_type": "raw",
   "id": "fc9cc84e",
   "metadata": {},
   "source": [
    "a. Calculate the t-statistic and p-value:\n",
    "\n",
    "Group A: mean = 2.5, standard deviation = 0.8, sample size = 30\n",
    "Group B: mean = 2.2, standard deviation = 0.6, sample size = 30\n",
    "Null hypothesis (H0): The mean improvement scores in Group A and Group B are equal.\n",
    "Alternative hypothesis (HA): The mean improvement scores in Group A and Group B are not equal.\n",
    "Conduct a two-sample t-test assuming unequal variances."
   ]
  },
  {
   "cell_type": "code",
   "execution_count": 1,
   "id": "16ae00be",
   "metadata": {},
   "outputs": [
    {
     "name": "stdout",
     "output_type": "stream",
     "text": [
      "t-statistic: 1.6431676725154973\n",
      "p-value: 0.10618251819290406\n"
     ]
    }
   ],
   "source": [
    "import numpy as np\n",
    "from scipy import stats\n",
    "\n",
    "# Group A data\n",
    "mean_a = 2.5\n",
    "std_a = 0.8\n",
    "n_a = 30\n",
    "\n",
    "# Group B data\n",
    "mean_b = 2.2\n",
    "std_b = 0.6\n",
    "n_b = 30\n",
    "\n",
    "# Calculate t-statistic and p-value\n",
    "t_stat, p_value = stats.ttest_ind_from_stats(mean_a, std_a, n_a, mean_b, std_b, n_b, equal_var=False)\n",
    "\n",
    "print(\"t-statistic:\", t_stat)\n",
    "print(\"p-value:\", p_value)\n"
   ]
  },
  {
   "cell_type": "raw",
   "id": "e04cf04a",
   "metadata": {},
   "source": [
    "b. Determine if the null hypothesis should be rejected:\n",
    "\n",
    "With a significance level of 0.05, if the p-value is less than 0.05, we reject the null hypothesis. Otherwise, we fail to reject the null hypothesis.\n",
    "Compare the p-value obtained from the t-test to the significance level."
   ]
  },
  {
   "cell_type": "code",
   "execution_count": 2,
   "id": "e14768c1",
   "metadata": {},
   "outputs": [
    {
     "name": "stdout",
     "output_type": "stream",
     "text": [
      "Null hypothesis is not rejected. There is no significant difference in mean improvement scores between the two groups.\n"
     ]
    }
   ],
   "source": [
    "alpha = 0.05\n",
    "\n",
    "if p_value < alpha:\n",
    "    print(\"Null hypothesis is rejected. There is a significant difference in mean improvement scores between the two groups.\")\n",
    "else:\n",
    "    print(\"Null hypothesis is not rejected. There is no significant difference in mean improvement scores between the two groups.\")\n"
   ]
  },
  {
   "cell_type": "raw",
   "id": "3ab442fb",
   "metadata": {},
   "source": [
    "Conclusion:\n",
    "Based on the t-test results and the significance level of 0.05, if the p-value is less than 0.05, we reject the null hypothesis and conclude that there is a significant difference in mean improvement scores between Group A (new drug) and Group B (standard drug). If the p-value is greater than or equal to 0.05, we fail to reject the null hypothesis and conclude that there is no significant difference in mean improvement scores between the two groups."
   ]
  }
 ],
 "metadata": {
  "kernelspec": {
   "display_name": "Python 3 (ipykernel)",
   "language": "python",
   "name": "python3"
  },
  "language_info": {
   "codemirror_mode": {
    "name": "ipython",
    "version": 3
   },
   "file_extension": ".py",
   "mimetype": "text/x-python",
   "name": "python",
   "nbconvert_exporter": "python",
   "pygments_lexer": "ipython3",
   "version": "3.10.9"
  }
 },
 "nbformat": 4,
 "nbformat_minor": 5
}
