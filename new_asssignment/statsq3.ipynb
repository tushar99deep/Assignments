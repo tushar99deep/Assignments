{
 "cells": [
  {
   "cell_type": "code",
   "execution_count": 11,
   "id": "7bd82a6f",
   "metadata": {},
   "outputs": [],
   "source": [
    "import pandas as pd\n",
    "import numpy as np\n",
    "import scipy.stats as stats\n",
    "import matplotlib.pyplot as plt"
   ]
  },
  {
   "cell_type": "code",
   "execution_count": 12,
   "id": "a9765263",
   "metadata": {},
   "outputs": [],
   "source": [
    "df=pd.read_csv('statsq3.csv')"
   ]
  },
  {
   "cell_type": "code",
   "execution_count": 13,
   "id": "82ac4b56",
   "metadata": {},
   "outputs": [
    {
     "data": {
      "text/html": [
       "<div>\n",
       "<style scoped>\n",
       "    .dataframe tbody tr th:only-of-type {\n",
       "        vertical-align: middle;\n",
       "    }\n",
       "\n",
       "    .dataframe tbody tr th {\n",
       "        vertical-align: top;\n",
       "    }\n",
       "\n",
       "    .dataframe thead th {\n",
       "        text-align: right;\n",
       "    }\n",
       "</style>\n",
       "<table border=\"1\" class=\"dataframe\">\n",
       "  <thead>\n",
       "    <tr style=\"text-align: right;\">\n",
       "      <th></th>\n",
       "      <th>Patient ID</th>\n",
       "      <th>Blood Pressure Before (mmHg)</th>\n",
       "      <th>Blood Pressure After (mmHg)</th>\n",
       "    </tr>\n",
       "  </thead>\n",
       "  <tbody>\n",
       "    <tr>\n",
       "      <th>0</th>\n",
       "      <td>1</td>\n",
       "      <td>130</td>\n",
       "      <td>120</td>\n",
       "    </tr>\n",
       "    <tr>\n",
       "      <th>1</th>\n",
       "      <td>2</td>\n",
       "      <td>142</td>\n",
       "      <td>135</td>\n",
       "    </tr>\n",
       "    <tr>\n",
       "      <th>2</th>\n",
       "      <td>3</td>\n",
       "      <td>120</td>\n",
       "      <td>118</td>\n",
       "    </tr>\n",
       "    <tr>\n",
       "      <th>3</th>\n",
       "      <td>4</td>\n",
       "      <td>135</td>\n",
       "      <td>127</td>\n",
       "    </tr>\n",
       "    <tr>\n",
       "      <th>4</th>\n",
       "      <td>5</td>\n",
       "      <td>148</td>\n",
       "      <td>140</td>\n",
       "    </tr>\n",
       "  </tbody>\n",
       "</table>\n",
       "</div>"
      ],
      "text/plain": [
       "   Patient ID   Blood Pressure Before (mmHg)   Blood Pressure After (mmHg)\n",
       "0           1                            130                           120\n",
       "1           2                            142                           135\n",
       "2           3                            120                           118\n",
       "3           4                            135                           127\n",
       "4           5                            148                           140"
      ]
     },
     "execution_count": 13,
     "metadata": {},
     "output_type": "execute_result"
    }
   ],
   "source": [
    "df.head()"
   ]
  },
  {
   "cell_type": "code",
   "execution_count": 29,
   "id": "045bac8e",
   "metadata": {},
   "outputs": [],
   "source": [
    "df.rename(columns={' Blood Pressure Before (mmHg)':'Blood Pressure Before (mmHg)',' Blood Pressure After (mmHg)':'Blood Pressure After (mmHg)'},inplace=True)"
   ]
  },
  {
   "cell_type": "code",
   "execution_count": 30,
   "id": "66dc15af",
   "metadata": {},
   "outputs": [
    {
     "name": "stdout",
     "output_type": "stream",
     "text": [
      "<class 'pandas.core.frame.DataFrame'>\n",
      "RangeIndex: 100 entries, 0 to 99\n",
      "Data columns (total 3 columns):\n",
      " #   Column                        Non-Null Count  Dtype\n",
      "---  ------                        --------------  -----\n",
      " 0   Patient ID                    100 non-null    int64\n",
      " 1   Blood Pressure Before (mmHg)  100 non-null    int64\n",
      " 2   Blood Pressure After (mmHg)   100 non-null    int64\n",
      "dtypes: int64(3)\n",
      "memory usage: 2.5 KB\n"
     ]
    }
   ],
   "source": [
    "df.info()"
   ]
  },
  {
   "cell_type": "code",
   "execution_count": 31,
   "id": "1c1f1134",
   "metadata": {},
   "outputs": [
    {
     "data": {
      "text/html": [
       "<div>\n",
       "<style scoped>\n",
       "    .dataframe tbody tr th:only-of-type {\n",
       "        vertical-align: middle;\n",
       "    }\n",
       "\n",
       "    .dataframe tbody tr th {\n",
       "        vertical-align: top;\n",
       "    }\n",
       "\n",
       "    .dataframe thead th {\n",
       "        text-align: right;\n",
       "    }\n",
       "</style>\n",
       "<table border=\"1\" class=\"dataframe\">\n",
       "  <thead>\n",
       "    <tr style=\"text-align: right;\">\n",
       "      <th></th>\n",
       "      <th>Patient ID</th>\n",
       "      <th>Blood Pressure Before (mmHg)</th>\n",
       "      <th>Blood Pressure After (mmHg)</th>\n",
       "    </tr>\n",
       "  </thead>\n",
       "  <tbody>\n",
       "    <tr>\n",
       "      <th>count</th>\n",
       "      <td>100.000000</td>\n",
       "      <td>100.000000</td>\n",
       "      <td>100.000000</td>\n",
       "    </tr>\n",
       "    <tr>\n",
       "      <th>mean</th>\n",
       "      <td>50.500000</td>\n",
       "      <td>133.910000</td>\n",
       "      <td>128.360000</td>\n",
       "    </tr>\n",
       "    <tr>\n",
       "      <th>std</th>\n",
       "      <td>29.011492</td>\n",
       "      <td>6.598278</td>\n",
       "      <td>6.888022</td>\n",
       "    </tr>\n",
       "    <tr>\n",
       "      <th>min</th>\n",
       "      <td>1.000000</td>\n",
       "      <td>120.000000</td>\n",
       "      <td>118.000000</td>\n",
       "    </tr>\n",
       "    <tr>\n",
       "      <th>25%</th>\n",
       "      <td>25.750000</td>\n",
       "      <td>128.000000</td>\n",
       "      <td>123.000000</td>\n",
       "    </tr>\n",
       "    <tr>\n",
       "      <th>50%</th>\n",
       "      <td>50.500000</td>\n",
       "      <td>135.000000</td>\n",
       "      <td>128.000000</td>\n",
       "    </tr>\n",
       "    <tr>\n",
       "      <th>75%</th>\n",
       "      <td>75.250000</td>\n",
       "      <td>139.250000</td>\n",
       "      <td>135.000000</td>\n",
       "    </tr>\n",
       "    <tr>\n",
       "      <th>max</th>\n",
       "      <td>100.000000</td>\n",
       "      <td>148.000000</td>\n",
       "      <td>141.000000</td>\n",
       "    </tr>\n",
       "  </tbody>\n",
       "</table>\n",
       "</div>"
      ],
      "text/plain": [
       "       Patient ID  Blood Pressure Before (mmHg)  Blood Pressure After (mmHg)\n",
       "count  100.000000                    100.000000                   100.000000\n",
       "mean    50.500000                    133.910000                   128.360000\n",
       "std     29.011492                      6.598278                     6.888022\n",
       "min      1.000000                    120.000000                   118.000000\n",
       "25%     25.750000                    128.000000                   123.000000\n",
       "50%     50.500000                    135.000000                   128.000000\n",
       "75%     75.250000                    139.250000                   135.000000\n",
       "max    100.000000                    148.000000                   141.000000"
      ]
     },
     "execution_count": 31,
     "metadata": {},
     "output_type": "execute_result"
    }
   ],
   "source": [
    "df.describe()"
   ]
  },
  {
   "cell_type": "code",
   "execution_count": null,
   "id": "a438f32a",
   "metadata": {},
   "outputs": [],
   "source": []
  },
  {
   "cell_type": "code",
   "execution_count": 32,
   "id": "b5c2fe5f",
   "metadata": {},
   "outputs": [],
   "source": [
    "# Calculate dispersion (range)\n",
    "dispersion_before = df['Blood Pressure Before (mmHg)'].max() - df['Blood Pressure Before (mmHg)'].min()\n",
    "dispersion_after = df['Blood Pressure After (mmHg)'].max() - df['Blood Pressure After (mmHg)'].min()"
   ]
  },
  {
   "cell_type": "code",
   "execution_count": 33,
   "id": "279a6f9e",
   "metadata": {},
   "outputs": [
    {
     "data": {
      "text/plain": [
       "28"
      ]
     },
     "execution_count": 33,
     "metadata": {},
     "output_type": "execute_result"
    }
   ],
   "source": [
    "dispersion_before"
   ]
  },
  {
   "cell_type": "code",
   "execution_count": 34,
   "id": "a3a8c1b5",
   "metadata": {},
   "outputs": [
    {
     "data": {
      "text/plain": [
       "23"
      ]
     },
     "execution_count": 34,
     "metadata": {},
     "output_type": "execute_result"
    }
   ],
   "source": [
    "dispersion_after"
   ]
  },
  {
   "cell_type": "code",
   "execution_count": 35,
   "id": "2e286008",
   "metadata": {},
   "outputs": [],
   "source": [
    "# Calculate mean and confidence interval\n",
    "mean_before = df['Blood Pressure Before (mmHg)'].mean()\n",
    "mean_after = df['Blood Pressure After (mmHg)'].mean()\n",
    "\n",
    "confidence_interval_before = stats.norm.interval(0.95, loc=mean_before, scale=df['Blood Pressure Before (mmHg)'].std() / np.sqrt(len(df)))\n",
    "confidence_interval_after = stats.norm.interval(0.95, loc=mean_after, scale=df['Blood Pressure After (mmHg)'].std() / np.sqrt(len(df)))\n"
   ]
  },
  {
   "cell_type": "code",
   "execution_count": 38,
   "id": "1984442c",
   "metadata": {},
   "outputs": [
    {
     "data": {
      "text/plain": [
       "133.91"
      ]
     },
     "execution_count": 38,
     "metadata": {},
     "output_type": "execute_result"
    }
   ],
   "source": [
    "mean_before"
   ]
  },
  {
   "cell_type": "code",
   "execution_count": 39,
   "id": "69efb958",
   "metadata": {},
   "outputs": [
    {
     "data": {
      "text/plain": [
       "128.36"
      ]
     },
     "execution_count": 39,
     "metadata": {},
     "output_type": "execute_result"
    }
   ],
   "source": [
    "mean_after"
   ]
  },
  {
   "cell_type": "code",
   "execution_count": 36,
   "id": "a36e6e49",
   "metadata": {},
   "outputs": [
    {
     "data": {
      "text/plain": [
       "(132.61676127359584, 135.20323872640415)"
      ]
     },
     "execution_count": 36,
     "metadata": {},
     "output_type": "execute_result"
    }
   ],
   "source": [
    "confidence_interval_before"
   ]
  },
  {
   "cell_type": "code",
   "execution_count": 37,
   "id": "f28ccc87",
   "metadata": {},
   "outputs": [
    {
     "data": {
      "text/plain": [
       "(127.00997247543387, 129.71002752456616)"
      ]
     },
     "execution_count": 37,
     "metadata": {},
     "output_type": "execute_result"
    }
   ],
   "source": [
    "confidence_interval_after"
   ]
  },
  {
   "cell_type": "code",
   "execution_count": 40,
   "id": "17348cc4",
   "metadata": {},
   "outputs": [
    {
     "data": {
      "image/png": "[encoded data removed]",
      "text/plain": [
       "<Figure size 640x480 with 1 Axes>"
      ]
     },
     "metadata": {},
     "output_type": "display_data"
    }
   ],
   "source": [
    "# Plot mean and confidence interval\n",
    "plt.errorbar([0, 1], [mean_before, mean_after], yerr=[confidence_interval_before[1] - mean_before, confidence_interval_after[1] - mean_after], fmt='o')\n",
    "plt.xticks([0, 1], ['Before', 'After'])\n",
    "plt.ylabel('Mean Blood Pressure (mmHg)')\n",
    "plt.title('Mean and 95% Confidence Interval')\n",
    "plt.show()"
   ]
  },
  {
   "cell_type": "code",
   "execution_count": 51,
   "id": "e91e8f03",
   "metadata": {},
   "outputs": [
    {
     "name": "stderr",
     "output_type": "stream",
     "text": [
      "C:\\Users\\tusha\\AppData\\Local\\Temp\\ipykernel_2704\\1777798972.py:2: FutureWarning: The 'mad' method is deprecated and will be removed in a future version. To compute the same result, you may do `(df - df.mean()).abs().mean()`.\n",
      "  mad_before = df['Blood Pressure Before (mmHg)'].mad()\n",
      "C:\\Users\\tusha\\AppData\\Local\\Temp\\ipykernel_2704\\1777798972.py:3: FutureWarning: The 'mad' method is deprecated and will be removed in a future version. To compute the same result, you may do `(df - df.mean()).abs().mean()`.\n",
      "  mad_after = df['Blood Pressure After (mmHg)'].mad()\n"
     ]
    }
   ],
   "source": [
    "# Calculate mean absolute deviation and standard deviation\n",
    "mad_before = df['Blood Pressure Before (mmHg)'].mad()\n",
    "mad_after = df['Blood Pressure After (mmHg)'].mad()\n",
    "\n",
    "std_before = df['Blood Pressure Before (mmHg)'].std()\n",
    "std_after = df['Blood Pressure After (mmHg)'].std()"
   ]
  },
  {
   "cell_type": "code",
   "execution_count": 52,
   "id": "cdf47822",
   "metadata": {},
   "outputs": [
    {
     "data": {
      "text/plain": [
       "(5.7118, 5.9, 6.598278012275075, 6.8880221025232276)"
      ]
     },
     "execution_count": 52,
     "metadata": {},
     "output_type": "execute_result"
    }
   ],
   "source": [
    "mad_before,mad_after,std_before,std_after"
   ]
  },
  {
   "cell_type": "code",
   "execution_count": 53,
   "id": "0ed2c4c9",
   "metadata": {},
   "outputs": [
    {
     "name": "stdout",
     "output_type": "stream",
     "text": [
      "Dispersion Before: 28\n",
      "Dispersion After: 23\n",
      "Mean Before: 133.91\n",
      "Mean After: 128.36\n",
      "Confidence Interval Before: (132.61676127359584, 135.20323872640415)\n",
      "Confidence Interval After: (127.00997247543387, 129.71002752456616)\n",
      "Mean Absolute Deviation Before: 5.7118\n",
      "Mean Absolute Deviation After: 5.9\n",
      "Standard Deviation Before: 6.598278012275075\n",
      "Standard Deviation After: 6.8880221025232276\n",
      "Correlation Coefficient: 0.9779485966556016\n",
      "Significance at 1% level: True\n"
     ]
    }
   ],
   "source": [
    "# Calculate correlation coefficient and check significance\n",
    "correlation_coef = df['Blood Pressure Before (mmHg)'].corr(df['Blood Pressure After (mmHg)'])\n",
    "p_value = stats.pearsonr(df['Blood Pressure Before (mmHg)'], df['Blood Pressure After (mmHg)'])[1]\n",
    "is_significant = p_value < 0.01\n",
    "\n",
    "print(\"Dispersion Before:\", dispersion_before)\n",
    "print(\"Dispersion After:\", dispersion_after)\n",
    "print(\"Mean Before:\", mean_before)\n",
    "print(\"Mean After:\", mean_after)\n",
    "print(\"Confidence Interval Before:\", confidence_interval_before)\n",
    "print(\"Confidence Interval After:\", confidence_interval_after)\n",
    "print(\"Mean Absolute Deviation Before:\", mad_before)\n",
    "print(\"Mean Absolute Deviation After:\", mad_after)\n",
    "print(\"Standard Deviation Before:\", std_before)\n",
    "print(\"Standard Deviation After:\", std_after)\n",
    "print(\"Correlation Coefficient:\", correlation_coef)\n",
    "print(\"Significance at 1% level:\", is_significant)"
   ]
  },
  {
   "cell_type": "code",
   "execution_count": null,
   "id": "8727b8e3",
   "metadata": {},
   "outputs": [],
   "source": [
    "'''\n",
    "Dispersion Before: This is the range of the blood pressure values before the intervention. It represents the difference between the maximum and minimum values of the blood pressure before the intervention.\n",
    "Dispersion After: This is the range of the blood pressure values after the intervention. It represents the difference between the maximum and minimum values of the blood pressure after the intervention.\n",
    "Mean Before: This is the average blood pressure value before the intervention. It represents the central tendency of the blood pressure values before the intervention.\n",
    "Mean After: This is the average blood pressure value after the intervention. It represents the central tendency of the blood pressure values after the intervention.\n",
    "Confidence Interval Before: This is the confidence interval estimate for the mean blood pressure before the intervention. It provides a range within which the true population mean is likely to fall with a certain level of confidence (in this case, 95% confidence).\n",
    "Confidence Interval After: This is the confidence interval estimate for the mean blood pressure after the intervention. It provides a range within which the true population mean is likely to fall with a certain level of confidence (in this case, 95% confidence).\n",
    "Mean Absolute Deviation Before: This is the average absolute difference between each blood pressure value before the intervention and the mean before the intervention. It measures the average dispersion of the blood pressure values around the mean before the intervention.\n",
    "Mean Absolute Deviation After: This is the average absolute difference between each blood pressure value after the intervention and the mean after the intervention. It measures the average dispersion of the blood pressure values around the mean after the intervention.\n",
    "Standard Deviation Before: This is a measure of the dispersion or spread of the blood pressure values before the intervention. It quantifies how much the blood pressure values deviate from the mean before the intervention.\n",
    "Standard Deviation After: This is a measure of the dispersion or spread of the blood pressure values after the intervention. It quantifies how much the blood pressure values deviate from the mean after the intervention.\n",
    "Correlation Coefficient: This is a measure of the strength and direction of the linear relationship between the blood pressure values before and after the intervention. It ranges from -1 to 1, where values closer to 1 indicate a strong positive correlation, values closer to -1 indicate a strong negative correlation, and values close to 0 indicate a weak or no correlation.\n",
    "Significance at 1% level: This indicates whether the correlation coefficient is statistically significant at the 1% level. In other words, it determines if the observed correlation is likely to have occurred by chance or if it is a meaningful relationship. If the p-value is less than 0.01, we can reject the null hypothesis and conclude that there is a significant correlation between the blood pressure values before and after the intervention.'''"
   ]
  },
  {
   "cell_type": "code",
   "execution_count": null,
   "id": "b539d67b",
   "metadata": {},
   "outputs": [],
   "source": []
  }
 ],
 "metadata": {
  "kernelspec": {
   "display_name": "Python 3 (ipykernel)",
   "language": "python",
   "name": "python3"
  },
  "language_info": {
   "codemirror_mode": {
    "name": "ipython",
    "version": 3
   },
   "file_extension": ".py",
   "mimetype": "text/x-python",
   "name": "python",
   "nbconvert_exporter": "python",
   "pygments_lexer": "ipython3",
   "version": "3.10.9"
  }
 },
 "nbformat": 4,
 "nbformat_minor": 5
}
