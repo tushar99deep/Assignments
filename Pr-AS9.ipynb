{
 "cells": [
  {
   "cell_type": "code",
   "execution_count": null,
   "id": "5d11da31",
   "metadata": {},
   "outputs": [],
   "source": [
    "1. Write a Python program to check if the given number is a Disarium Number?\n",
    "2. Write a Python program to print all disarium numbers between 1 to 100?\n",
    "3. Write a Python program to check if the given number is Happy Number?\n",
    "4. Write a Python program to print all happy numbers between 1 and 100?\n",
    "5. Write a Python program to determine whether the given number is a Harshad Number?\n",
    "6. Write a Python program to print all pronic numbers between 1 and 100?"
   ]
  },
  {
   "cell_type": "code",
   "execution_count": null,
   "id": "5d2fbe35",
   "metadata": {},
   "outputs": [],
   "source": [
    "def is_disarium_number(num):\n",
    "    digits = list(str(num))\n",
    "    disarium_sum = sum(int(digits[i])**(i+1) for i in range(len(digits)))\n",
    "    return disarium_sum == num\n",
    "\n",
    "num = int(input(\"Enter a number: \"))\n",
    "\n",
    "if is_disarium_number(num):\n",
    "    print(num, \"is a Disarium number.\")\n",
    "else:\n",
    "    print(num, \"is not a Disarium number.\")\n"
   ]
  },
  {
   "cell_type": "code",
   "execution_count": null,
   "id": "66019006",
   "metadata": {},
   "outputs": [],
   "source": [
    "def is_disarium_number(num):\n",
    "    digits = list(str(num))\n",
    "    disarium_sum = sum(int(digits[i])**(i+1) for i in range(len(digits)))\n",
    "    return disarium_sum == num\n",
    "\n",
    "print(\"Disarium numbers between 1 and 100:\")\n",
    "for num in range(1, 101):\n",
    "    if is_disarium_number(num):\n",
    "        print(num)\n"
   ]
  },
  {
   "cell_type": "code",
   "execution_count": null,
   "id": "ae9dfa45",
   "metadata": {},
   "outputs": [],
   "source": [
    "def is_happy_number(num):\n",
    "    visited = set()\n",
    "    while num != 1 and num not in visited:\n",
    "        visited.add(num)\n",
    "        num = sum(int(digit)**2 for digit in str(num))\n",
    "    return num == 1\n",
    "\n",
    "num = int(input(\"Enter a number: \"))\n",
    "\n",
    "if is_happy_number(num):\n",
    "    print(num, \"is a Happy number.\")\n",
    "else:\n",
    "    print(num, \"is not a Happy number.\")\n"
   ]
  },
  {
   "cell_type": "code",
   "execution_count": null,
   "id": "a635aa37",
   "metadata": {},
   "outputs": [],
   "source": [
    "def is_happy_number(num):\n",
    "    visited = set()\n",
    "    while num != 1 and num not in visited:\n",
    "        visited.add(num)\n",
    "        num = sum(int(digit)**2 for digit in str(num))\n",
    "    return num == 1\n",
    "\n",
    "print(\"Happy numbers between 1 and 100:\")\n",
    "for num in range(1, 101):\n",
    "    if is_happy_number(num):\n",
    "        print(num)\n"
   ]
  },
  {
   "cell_type": "code",
   "execution_count": null,
   "id": "e2507575",
   "metadata": {},
   "outputs": [],
   "source": [
    "def is_harshad_number(num):\n",
    "    digit_sum = sum(int(digit) for digit in str(num))\n",
    "    return num % digit_sum == 0\n",
    "\n",
    "num = int(input(\"Enter a number: \"))\n",
    "\n",
    "if is_harshad_number(num):\n",
    "    print(num, \"is a Harshad number.\")\n",
    "else:\n",
    "    print(num, \"is not a Harshad number.\")\n"
   ]
  },
  {
   "cell_type": "code",
   "execution_count": null,
   "id": "cef99d65",
   "metadata": {},
   "outputs": [],
   "source": [
    "def is_pronic_number(num):\n",
    "    for i in range(1, int(num**0.5) + 1):\n",
    "        if i * (i + 1) == num:\n",
    "            return True\n",
    "    return False\n",
    "\n",
    "print(\"Pronic numbers between 1 and 100:\")\n",
    "for num in range(1, 101):\n",
    "    if is_pronic_number(num):\n",
    "        print(num)\n"
   ]
  }
 ],
 "metadata": {
  "kernelspec": {
   "display_name": "Python 3 (ipykernel)",
   "language": "python",
   "name": "python3"
  },
  "language_info": {
   "codemirror_mode": {
    "name": "ipython",
    "version": 3
   },
   "file_extension": ".py",
   "mimetype": "text/x-python",
   "name": "python",
   "nbconvert_exporter": "python",
   "pygments_lexer": "ipython3",
   "version": "3.9.13"
  }
 },
 "nbformat": 4,
 "nbformat_minor": 5
}
