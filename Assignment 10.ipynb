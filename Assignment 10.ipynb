{
 "cells": [
  {
   "cell_type": "code",
   "execution_count": null,
   "id": "af12fc29",
   "metadata": {},
   "outputs": [],
   "source": [
    "\n",
    "\n",
    "1. **How do you distinguish between `shutil.copy()` and `shutil.copytree()`?**\n",
    "- `shutil.copy(src, dst)` is used to copy a single file from the source path (`src`) to the destination path (`dst`).\n",
    "- `shutil.copytree(src, dst)` is used to recursively copy an entire directory tree from the source directory (`src`) \n",
    "to the destination directory (`dst`), including all subdirectories and files.\n",
    "\n",
    "2. **What function is used to rename files?**\n",
    "The `os.rename(src, dst)` function is used to rename files. It takes the source file path (`src`) and the destination file \n",
    "path (`dst`) as arguments and renames the file accordingly.\n",
    "\n",
    "3. **What is the difference between the delete functions in the `send2trash` and `shutil` modules?**\n",
    "- The `send2trash` module provides a `send2trash()` function that sends files or folders to the recycle bin or trash instead \n",
    "of permanently deleting them. It allows for potential recovery of the deleted items.\n",
    "\n",
    "- The `shutil` module does not have a direct delete function. However, you can use functions like `os.remove()` or \n",
    "`os.unlink()` from the `os` module to permanently delete files, and `shutil.rmtree()` to delete entire directories \n",
    "(including all files and subdirectories) recursively.\n",
    "\n",
    "4. **`ZipFile` objects have a `close()` method just like `File` objects’ `close()` method. What `ZipFile` method is equivalent to `File` objects’ `open()` method?**\n",
    "The `ZipFile` method equivalent to `File` objects' `open()` method is `ZipFile.open(filename, mode)`. \n",
    "It allows you to open a specific file inside a ZIP archive and returns a file-like object that you can read from or write to.\n",
    "\n",
    "5. **Create a program that searches a folder tree for files with a certain file extension (such as .pdf or .jpg). Copy these files from whatever location they are in to a new folder.**\n",
    "Here's an example program that accomplishes this task using the `os` module and `shutil` module:\n",
    "\n",
    "```python\n",
    "import os\n",
    "import shutil\n",
    "\n",
    "def copy_files_by_extension(source_folder, destination_folder, extension):\n",
    "    for root, dirs, files in os.walk(source_folder):\n",
    "        for file in files:\n",
    "            if file.endswith(extension):\n",
    "                source_path = os.path.join(root, file)\n",
    "                destination_path = os.path.join(destination_folder, file)\n",
    "                shutil.copy(source_path, destination_path)\n",
    "\n",
    "# Example usage:\n",
    "source_folder = '/path/to/source_folder'\n",
    "destination_folder = '/path/to/destination_folder'\n",
    "extension = '.pdf'\n",
    "\n",
    "copy_files_by_extension(source_folder, destination_folder, extension)\n",
    "\n",
    "\n",
    "This program recursively searches the `source_folder` and its subdirectories for files with the specified extension \n",
    "(`.pdf` in this example) and copies them to the `destination_folder`.\n",
    "\n"
   ]
  }
 ],
 "metadata": {
  "kernelspec": {
   "display_name": "Python 3 (ipykernel)",
   "language": "python",
   "name": "python3"
  },
  "language_info": {
   "codemirror_mode": {
    "name": "ipython",
    "version": 3
   },
   "file_extension": ".py",
   "mimetype": "text/x-python",
   "name": "python",
   "nbconvert_exporter": "python",
   "pygments_lexer": "ipython3",
   "version": "3.9.13"
  }
 },
 "nbformat": 4,
 "nbformat_minor": 5
}
