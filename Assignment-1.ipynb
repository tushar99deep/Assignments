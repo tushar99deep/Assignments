{
 "cells": [
  {
   "cell_type": "code",
   "execution_count": null,
   "id": "840aca54",
   "metadata": {},
   "outputs": [],
   "source": [
    "# 1. In the below elements which of them are values or an expression? eg:- values can be\n",
    "integer or string and expressions will be mathematical operators.\n",
    "*\n",
    "\"hello\"\n",
    "-87.8\n",
    "-\n",
    "/\n",
    "+\n",
    "\n",
    "Answer: \n",
    "    Values- \"hello\", -87.8\n",
    "    Expression- *,-,/,+\n",
    "    "
   ]
  },
  {
   "cell_type": "raw",
   "id": "e3f23baa",
   "metadata": {},
   "source": [
    "2. What is the difference between string and variable?\n",
    "String is a data type which is ideally used for storing set of characters enclosed in double of single quotes \n",
    "String is the type of information we store in a variable.\n",
    "\n",
    "\n",
    "Variable is a name or an identifier which is used as a reference or pointer to an object in memory location. Variable is also used to hold value which can be changed.\n",
    "Varible is used for storing information."
   ]
  },
  {
   "cell_type": "raw",
   "id": "75b54574",
   "metadata": {},
   "source": [
    "3. Describe three different data types.\n",
    "1. Integer datatype- \n",
    "*The INTEGER datatype stores whole numbers that range from -2,147,483,647 to 2,147,483,647 for 9 or digits of precision.\n",
    "*INTEGER datatypes require 4 bytes of storage per value.\n",
    "*int is the keyword used for indicating any data of integer type.\n",
    "Int datatype has 4 type:-\n",
    "->tinyint(Integer1) - range(-128 to +127) and its size is of 1 byte.\n",
    "->smallint(Integer2)- range(-32768 to +32767) and its size of 2 bytes.\n",
    "->integer(Integer3)-  range(-2,147,483,648 to +2,147,483,647) and size its of 4 bytes.\n",
    "-> bigint(Integer4)-  range(-9,223,372,036,854,775,808  to +9,223,372,036,854,775,807 and its size is of 8 bytes.\n",
    "\n",
    "2. String datatype-\n",
    "* A String datatype are idenified as set of characters enclosed in quotes either single or double.\n",
    "* The size of string in memory is identified by its lenght. For example string \"Tushar\" occupies 6 bytes in memory and to identify length of any string there is a built in fucntion called len() which gives size of any string.\n",
    "*Subsets of string can be access using square brackets [] and [:] since string is indexed in memory and index starts from 0.\n",
    "For example \n",
    "l= \"Tushar\"\n",
    "l[0]= T, l[1]=u, l[2]='s',l[3]='h',l[4]='a',l[5]='r'\n",
    "\n",
    "\n",
    "3. Float datatype- \n",
    "*Float is used to represent real numbers and is written with a decimal point dividing the integer and fractional parts\n",
    "For example- 10.54, 1243.545, -2343.675\n",
    "*Size of float datatype is of 4 bytes.\n",
    "To represent any string in float formal we user build in function float(). For ex '123.454' is in string format, to convert it to float we user float('123.454') this is known as type casting\n"
   ]
  },
  {
   "attachments": {},
   "cell_type": "raw",
   "id": "f0dc25c9",
   "metadata": {},
   "source": [
    "4. What is an expression made up of? What do all expressions do?\n",
    "An expression is a combination of operators and operands that is interpreted to produce some other value.\n",
    "Any expression consists of operands and operators.\n",
    "Operands can be any integer, float, string value. \n",
    "Operator can be any mathematical operator (+,-,*,/,%,etc) or a logical operator( like or |, and & and not ! etc) etc.\n",
    "\n",
    "For example:\n",
    "1 + 2 =3 is an expression where 1,2 are operands and + is operator\n",
    "\n",
    "All expressions are looked as a process which generates a result/value. i.e  \n"
   ]
  },
  {
   "cell_type": "raw",
   "id": "f9c534f2",
   "metadata": {},
   "source": [
    "5. This assignment statements, like spam = 10. What is the difference between an\n",
    "expression and a statement?\n",
    "Expression is a combination of values and functions that are combined and interpreted by the compiler to create a new value where as statement which is just a code and when executed doesn't return anything."
   ]
  },
  {
   "cell_type": "raw",
   "id": "d122e254",
   "metadata": {},
   "source": [
    "6. After running the following code, what does the variable bacon contain?\n",
    "bacon = 22\n",
    "bacon + 1\n",
    "The variable bacon will still contain 22 because even after adding one \"bacon+1 i.e. equal to 23, the vaalue 23 is not assigned back to variable bacon"
   ]
  },
  {
   "cell_type": "raw",
   "id": "a972c6a2",
   "metadata": {},
   "source": [
    "7. What should the values of the following two terms be?\n",
    "'spam' + 'spamspam'\n",
    "'spam' * 3\n",
    "\n",
    "'spam' + 'spamspam' returns spamspamspam\n",
    "'spam' * 3          returns spamspamspam"
   ]
  },
  {
   "cell_type": "raw",
   "id": "b5bb108f",
   "metadata": {},
   "source": [
    "8. Why is eggs a valid variable name while 100 is invalid?\n",
    "Because as per the rules for naming a varible the name can't start with number(0,9).\n",
    "Rules for Python variables names:\n",
    "\n",
    "*A variable name must start with a letter or the underscore character\n",
    "*A variable name cannot start with a number\n",
    "*A variable name can only contain alpha-numeric characters and underscores (A-z, 0-9, and _ )\n",
    "*Variable names are case-sensitive (age, Age and AGE are three different variables).\n"
   ]
  },
  {
   "cell_type": "raw",
   "id": "beb353aa",
   "metadata": {},
   "source": [
    "9. What three functions can be used to get the integer, floating-point number, or string\n",
    "version of a value?\n",
    "* To get integer version of a value we use int() function.\n",
    "* To get integer version of a value we use float() function.\n",
    "* To get integer version of a value we use str() function."
   ]
  },
  {
   "cell_type": "raw",
   "id": "0ae92013",
   "metadata": {},
   "source": [
    "10. Why does this expression cause an error? How can you fix it?\n",
    "'I have eaten' + 99 +'burritos'\n",
    "\n",
    "The above expression causes an error because we are trying to concatenate strings with an integer value i.e. 99\n",
    "\n",
    "to correct the above expression we can enclose 99 in '' to convert it from int to string datatype\n",
    "'I have eaten' + '99' +'burritos'"
   ]
  }
 ],
 "metadata": {
  "kernelspec": {
   "display_name": "Python 3 (ipykernel)",
   "language": "python",
   "name": "python3"
  },
  "language_info": {
   "codemirror_mode": {
    "name": "ipython",
    "version": 3
   },
   "file_extension": ".py",
   "mimetype": "text/x-python",
   "name": "python",
   "nbconvert_exporter": "python",
   "pygments_lexer": "ipython3",
   "version": "3.9.13"
  }
 },
 "nbformat": 4,
 "nbformat_minor": 5
}
