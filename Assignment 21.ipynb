{
 "cells": [
  {
   "cell_type": "code",
   "execution_count": 1,
   "id": "b1470d5e",
   "metadata": {},
   "outputs": [],
   "source": [
    "'''Add the current date to the text file today.txt as a string.'''\n",
    "import datetime\n",
    "\n",
    "current_date = datetime.date.today()\n",
    "date_string = str(current_date)\n",
    "\n",
    "with open('today.txt', 'w') as file:\n",
    "    file.write(date_string)\n"
   ]
  },
  {
   "cell_type": "code",
   "execution_count": 2,
   "id": "6046237a",
   "metadata": {},
   "outputs": [],
   "source": [
    "#Read the text file today.txt into the string today_string.\n",
    "\n",
    "with open('today.txt', 'r') as file:\n",
    "    today_string = file.read()"
   ]
  },
  {
   "cell_type": "code",
   "execution_count": 4,
   "id": "fa151818",
   "metadata": {},
   "outputs": [],
   "source": [
    "#Parse the date from today_string.\n",
    "parsed_date = datetime.datetime.strptime(today_string, '%Y-%m-%d').date()\n"
   ]
  },
  {
   "cell_type": "code",
   "execution_count": 5,
   "id": "8881abfd",
   "metadata": {},
   "outputs": [
    {
     "name": "stdout",
     "output_type": "stream",
     "text": [
      "['.ipynb_checkpoints', 'Advance Python Assignment25.ipynb', 'Assignment 17.ipynb', 'Assignment 18.ipynb', 'Assignment 19.ipynb', 'Assignment 20.ipynb', 'Assignment 21.ipynb', 'Assignment 22.ipynb', 'Assignment-1.ipynb', 'Assignment-2.ipynb', 'Assignment-3.ipynb', 'Assignment-4.ipynb', 'Assignment-5.ipynb', 'Assignment-6.ipynb', 'Assignment_25.ipynb', 'basic python codes.txt', 'new assignments', 'today.txt', 'Untitled.ipynb', 'zoo.py', '__pycache__']\n"
     ]
    }
   ],
   "source": [
    "#List the files in your current directory.\n",
    "import os\n",
    "\n",
    "file_list = os.listdir('.')\n",
    "print(file_list)\n"
   ]
  },
  {
   "cell_type": "code",
   "execution_count": 6,
   "id": "07ba0398",
   "metadata": {},
   "outputs": [
    {
     "name": "stdout",
     "output_type": "stream",
     "text": [
      "['.ipynb_checkpoints', 'basic python assignments', 'Coursera', 'Data Science', 'EDA - FE', 'FSDS_September', 'Ineuron inclass exercise', 'ineuron.db', 'ineuwron-gui programming.ipynb', 'ML', 'ML Projects', 'projects', 'python db', 'python sqllite.ipynb', 'Statistics']\n"
     ]
    }
   ],
   "source": [
    "#Create a list of all of the files in your parent directory (minimum five files should be available).\n",
    "parent_directory = os.path.abspath('..')\n",
    "parent_file_list = os.listdir(parent_directory)\n",
    "print(parent_file_list)\n"
   ]
  },
  {
   "cell_type": "code",
   "execution_count": 7,
   "id": "2a8e7c4d",
   "metadata": {},
   "outputs": [],
   "source": [
    "'''\n",
    "Use multiprocessing to create three separate processes. Make each one wait a random number of \n",
    "seconds between one and five, print the current time, and then exit.'''\n",
    "\n",
    "import multiprocessing\n",
    "import random\n",
    "import time\n",
    "\n",
    "def process_function():\n",
    "    wait_time = random.randint(1, 5)\n",
    "    time.sleep(wait_time)\n",
    "    current_time = time.strftime('%H:%M:%S', time.localtime())\n",
    "    print(f\"Process finished at {current_time}\")\n",
    "\n",
    "processes = []\n",
    "\n",
    "for _ in range(3):\n",
    "    p = multiprocessing.Process(target=process_function)\n",
    "    p.start()\n",
    "    processes.append(p)\n",
    "\n",
    "for p in processes:\n",
    "    p.join()\n"
   ]
  },
  {
   "cell_type": "code",
   "execution_count": 9,
   "id": "a91e7745",
   "metadata": {},
   "outputs": [],
   "source": [
    "#Create a date object of your day of birth.\n",
    "\n",
    "birth_date = datetime.date(2000, 1, 1)  # Replace with your actual birth date\n"
   ]
  },
  {
   "cell_type": "code",
   "execution_count": 10,
   "id": "81c1ba5a",
   "metadata": {},
   "outputs": [
    {
     "name": "stdout",
     "output_type": "stream",
     "text": [
      "Saturday\n"
     ]
    }
   ],
   "source": [
    "#What day of the week was your day of birth?\n",
    "birth_weekday = birth_date.strftime('%A')\n",
    "print(birth_weekday)\n"
   ]
  },
  {
   "cell_type": "code",
   "execution_count": 12,
   "id": "a6c6599c",
   "metadata": {},
   "outputs": [
    {
     "name": "stdout",
     "output_type": "stream",
     "text": [
      "2027-05-19\n"
     ]
    }
   ],
   "source": [
    "#When will you be (or when were you) 10,000 days old?\n",
    "target_date = birth_date + datetime.timedelta(days=10000)\n",
    "print(target_date)\n"
   ]
  },
  {
   "cell_type": "code",
   "execution_count": null,
   "id": "82222514",
   "metadata": {},
   "outputs": [],
   "source": []
  }
 ],
 "metadata": {
  "kernelspec": {
   "display_name": "Python 3 (ipykernel)",
   "language": "python",
   "name": "python3"
  },
  "language_info": {
   "codemirror_mode": {
    "name": "ipython",
    "version": 3
   },
   "file_extension": ".py",
   "mimetype": "text/x-python",
   "name": "python",
   "nbconvert_exporter": "python",
   "pygments_lexer": "ipython3",
   "version": "3.9.13"
  }
 },
 "nbformat": 4,
 "nbformat_minor": 5
}
