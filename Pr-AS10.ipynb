{
 "cells": [
  {
   "cell_type": "code",
   "execution_count": null,
   "id": "db7fff14",
   "metadata": {},
   "outputs": [],
   "source": [
    "1. Write a Python program to find sum of elements in list?\n",
    "2. Write a Python program to Multiply all numbers in the list?\n",
    "3. Write a Python program to find smallest number in a list?\n",
    "4. Write a Python program to find largest number in a list?\n",
    "5. Write a Python program to find second largest number in a list?\n",
    "6. Write a Python program to find N largest elements from a list?\n",
    "7. Write a Python program to print even numbers in a list?\n",
    "8. Write a Python program to print odd numbers in a List?\n",
    "9. Write a Python program to Remove empty List from List?\n",
    "10. Write a Python program to Cloning or Copying a list?\n",
    "11. Write a Python program to Count occurrences of an element in a list?"
   ]
  },
  {
   "cell_type": "code",
   "execution_count": null,
   "id": "8c10ad6d",
   "metadata": {},
   "outputs": [],
   "source": [
    "def sum_of_elements(lst):\n",
    "    total = sum(lst)\n",
    "    return total\n",
    "\n",
    "# Input list\n",
    "lst = [int(x) for x in input(\"Enter the elements of the list (space-separated): \").split()]\n",
    "\n",
    "# Calculate the sum\n",
    "sum_of_list = sum_of_elements(lst)\n",
    "\n",
    "print(\"Sum of the elements in the list:\", sum_of_list)\n"
   ]
  },
  {
   "cell_type": "code",
   "execution_count": null,
   "id": "f7be8c8c",
   "metadata": {},
   "outputs": [],
   "source": [
    "def multiply_numbers(lst):\n",
    "    result = 1\n",
    "    for num in lst:\n",
    "        result *= num\n",
    "    return result\n",
    "\n",
    "# Input list\n",
    "lst = [int(x) for x in input(\"Enter the elements of the list (space-separated): \").split()]\n",
    "\n",
    "# Calculate the product\n",
    "product = multiply_numbers(lst)\n",
    "\n",
    "print(\"Product of all numbers in the list:\", product)\n"
   ]
  },
  {
   "cell_type": "code",
   "execution_count": null,
   "id": "cdbbb773",
   "metadata": {},
   "outputs": [],
   "source": [
    "def find_smallest(lst):\n",
    "    smallest = min(lst)\n",
    "    return smallest\n",
    "\n",
    "# Input list\n",
    "lst = [int(x) for x in input(\"Enter the elements of the list (space-separated): \").split()]\n",
    "\n",
    "# Find the smallest number\n",
    "smallest_number = find_smallest(lst)\n",
    "\n",
    "print(\"Smallest number in the list:\", smallest_number)\n"
   ]
  },
  {
   "cell_type": "code",
   "execution_count": null,
   "id": "26d77a9e",
   "metadata": {},
   "outputs": [],
   "source": [
    "def find_largest(lst):\n",
    "    largest = max(lst)\n",
    "    return largest\n",
    "\n",
    "# Input list\n",
    "lst = [int(x) for x in input(\"Enter the elements of the list (space-separated): \").split()]\n",
    "\n",
    "# Find the largest number\n",
    "largest_number = find_largest(lst)\n",
    "\n",
    "print(\"Largest number in the list:\", largest_number)\n"
   ]
  },
  {
   "cell_type": "code",
   "execution_count": null,
   "id": "c958e1a3",
   "metadata": {},
   "outputs": [],
   "source": [
    "def find_second_largest(lst):\n",
    "    unique_numbers = set(lst)\n",
    "    if len(unique_numbers) < 2:\n",
    "        return \"Not enough unique numbers in the list.\"\n",
    "    unique_numbers.remove(max(unique_numbers))\n",
    "    second_largest = max(unique_numbers)\n",
    "    return second_largest\n",
    "\n",
    "# Input list\n",
    "lst = [int(x) for x in input(\"Enter the elements of the list (space-separated): \").split()]\n",
    "\n",
    "# Find the second largest number\n",
    "second_largest_number = find_second_largest(lst)\n",
    "\n",
    "print(\"Second largest number in the list:\", second_largest_number)\n"
   ]
  },
  {
   "cell_type": "code",
   "execution_count": null,
   "id": "89497110",
   "metadata": {},
   "outputs": [],
   "source": [
    "def find_n_largest(lst, n):\n",
    "    sorted_list = sorted(lst, reverse=True)\n",
    "    n_largest = sorted_list[:n]\n",
    "    return n_largest\n",
    "\n",
    "# Input list\n",
    "lst = [int(x) for x in input(\"Enter the elements of the list (space-separated): \").split()]\n",
    "\n",
    "# Input N\n",
    "N = int(input(\"Enter the value of N: \"))\n",
    "\n",
    "# Find the N largest elements\n",
    "n_largest_numbers = find_n_largest(lst, N)\n",
    "\n",
    "print(f\"{N} largest elements in the list:\", n_largest_numbers)\n"
   ]
  },
  {
   "cell_type": "code",
   "execution_count": null,
   "id": "03c71263",
   "metadata": {},
   "outputs": [],
   "source": [
    "def print_even_numbers(lst):\n",
    "    even_numbers = [num for num in lst if num % 2 == 0]\n",
    "    return even_numbers\n",
    "\n",
    "# Input list\n",
    "lst = [int(x) for x in input(\"Enter the elements of the list (space-separated): \").split()]\n",
    "\n",
    "# Print even numbers\n",
    "even_numbers = print_even_numbers(lst)\n",
    "\n",
    "print(\"Even numbers in the list:\", even_numbers)\n"
   ]
  },
  {
   "cell_type": "code",
   "execution_count": null,
   "id": "5105f249",
   "metadata": {},
   "outputs": [],
   "source": [
    "def print_odd_numbers(lst):\n",
    "    odd_numbers = [num for num in lst if num % 2 != 0]\n",
    "    return odd_numbers\n",
    "\n",
    "# Input list\n",
    "lst = [int(x) for x in input(\"Enter the elements of the list (space-separated): \").split()]\n",
    "\n",
    "# Print odd numbers\n",
    "odd_numbers = print_odd_numbers(lst)\n",
    "\n",
    "print(\"Odd numbers in the list:\", odd_numbers)\n"
   ]
  },
  {
   "cell_type": "code",
   "execution_count": null,
   "id": "4cc3acf5",
   "metadata": {},
   "outputs": [],
   "source": [
    "def remove_empty_lists(lst):\n",
    "    updated_list = [sublist for sublist in lst if sublist]\n",
    "    return updated_list\n",
    "\n",
    "# Input list\n",
    "lst = [[], [1, 2], [], [3, 4, 5], [], [], [6]]\n",
    "\n",
    "# Remove empty lists\n",
    "updated_list = remove_empty_lists(lst)\n",
    "\n",
    "print(\"List after removing empty lists:\", updated_list)\n"
   ]
  },
  {
   "cell_type": "code",
   "execution_count": null,
   "id": "05dcc6b3",
   "metadata": {},
   "outputs": [],
   "source": [
    "def clone_list(lst):\n",
    "    cloned_list = lst.copy()\n",
    "    return cloned_list\n",
    "\n",
    "# Input list\n",
    "lst = [int(x) for x in input(\"Enter the elements of the list (space-separated): \").split()]\n",
    "\n",
    "# Clone the list\n",
    "cloned_list = clone_list(lst)\n",
    "\n",
    "print(\"Cloned list:\", cloned_list)\n"
   ]
  },
  {
   "cell_type": "code",
   "execution_count": null,
   "id": "55a1e6e7",
   "metadata": {},
   "outputs": [],
   "source": [
    "def count_occurrences(lst, element):\n",
    "    count = lst.count(element)\n",
    "    return count\n",
    "\n",
    "# Input list\n",
    "lst = [int(x) for x in input(\"Enter the elements of the list (space-separated): \").split()]\n",
    "\n",
    "# Input element to count\n",
    "element = int(input(\"Enter the element to count: \"))\n",
    "\n",
    "# Count occurrences\n",
    "occurrences = count_occurrences(lst, element)\n",
    "\n",
    "print(\"Number of occurrences of\", element, \"in the list:\", occurrences)\n"
   ]
  }
 ],
 "metadata": {
  "kernelspec": {
   "display_name": "Python 3 (ipykernel)",
   "language": "python",
   "name": "python3"
  },
  "language_info": {
   "codemirror_mode": {
    "name": "ipython",
    "version": 3
   },
   "file_extension": ".py",
   "mimetype": "text/x-python",
   "name": "python",
   "nbconvert_exporter": "python",
   "pygments_lexer": "ipython3",
   "version": "3.9.13"
  }
 },
 "nbformat": 4,
 "nbformat_minor": 5
}
