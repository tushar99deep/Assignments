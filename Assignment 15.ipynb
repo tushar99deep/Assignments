{
 "cells": [
  {
   "cell_type": "code",
   "execution_count": null,
   "id": "85c20990",
   "metadata": {},
   "outputs": [],
   "source": [
    "\n",
    "\n",
    "1. How many seconds are in an hour? Use the interactive interpreter as a calculator and multiply the number of seconds in a minute (60) by the number of minutes in an hour (also 60).\n",
    "   - The number of seconds in an hour is: 60 seconds/minute * 60 minutes/hour = 3600 seconds.\n",
    "\n",
    "2. Assign the result from the previous task (seconds in an hour) to a variable called seconds_per_hour.\n",
    "   - seconds_per_hour = 3600\n",
    "\n",
    "3. How many seconds do you think there are in a day? Make use of the variables seconds_per_hour and minutes_per_hour.\n",
    "   - There are 24 hours in a day, so the number of seconds in a day would be: 24 hours/day * seconds_per_hour = 24 * 3600 = 86400 seconds.\n",
    "\n",
    "4. Calculate seconds_per_day again, but this time save the result in a variable called seconds_per_day.\n",
    "   - seconds_per_day = 24 * seconds_per_hour = 24 * 3600 = 86400 seconds.\n",
    "\n",
    "5. Divide seconds_per_day by seconds_per_hour. Use floating-point (/) division.\n",
    "   - The result of seconds_per_day divided by seconds_per_hour is: seconds_per_day / seconds_per_hour = 86400 / 3600 = 24.0\n",
    "\n",
    "6. Divide seconds_per_day by seconds_per_hour, using integer (//) division. Did this number agree with the floating-point value from the previous question, aside from the final .0?\n",
    "   - The result of seconds_per_day divided by seconds_per_hour using integer division is: seconds_per_day // seconds_per_hour = 86400 // 3600 = 24\n",
    "   - Yes, this number agrees with the floating-point value from the previous question, except for the absence of the decimal point.\n",
    "\n",
    "7. Write a generator, genPrimes, that returns the sequence of prime numbers on successive calls to its next() method: 2, 3, 5, 7, 11, ...\n",
    "   implementation of the genPrimes generator:\n",
    "   ```python\n",
    "   def genPrimes():\n",
    "       primes = []\n",
    "       num = 2\n",
    "       while True:\n",
    "           if all(num % prime != 0 for prime in primes):\n",
    "               yield num\n",
    "               primes.append(num)\n",
    "           num += 1\n",
    "\n",
    "   # Example usage\n",
    "   primes_generator = genPrimes()\n",
    "   print(next(primes_generator))  # 2\n",
    "   print(next(primes_generator))  # 3\n",
    "   print(next(primes_generator))  # 5\n",
    "   print(next(primes_generator))  # 7\n",
    "   print(next(primes_generator))  # 11\n",
    "   ```\n",
    "\n"
   ]
  }
 ],
 "metadata": {
  "kernelspec": {
   "display_name": "Python 3 (ipykernel)",
   "language": "python",
   "name": "python3"
  },
  "language_info": {
   "codemirror_mode": {
    "name": "ipython",
    "version": 3
   },
   "file_extension": ".py",
   "mimetype": "text/x-python",
   "name": "python",
   "nbconvert_exporter": "python",
   "pygments_lexer": "ipython3",
   "version": "3.9.13"
  }
 },
 "nbformat": 4,
 "nbformat_minor": 5
}
