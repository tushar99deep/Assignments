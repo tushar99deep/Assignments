{
 "cells": [
  {
   "cell_type": "code",
   "execution_count": null,
   "id": "18dc8b83",
   "metadata": {},
   "outputs": [],
   "source": [
    "1.What are the two values of the Boolean data type? How do you write them?\n",
    "The two calues of boolean data type is True and False.\n"
   ]
  },
  {
   "cell_type": "code",
   "execution_count": null,
   "id": "7cd32d28",
   "metadata": {},
   "outputs": [],
   "source": [
    "2. What are the three different types of Boolean operators?\n",
    "3 different types of boolean operators are AND, OR and NOT"
   ]
  },
  {
   "cell_type": "code",
   "execution_count": null,
   "id": "e6d76b82",
   "metadata": {},
   "outputs": [],
   "source": [
    "3. Make a list of each Boolean operator truth tables (i.e. every possible combination of Boolean\n",
    "values for the operator and what it evaluate ).\n",
    "A         B        A and B      A or B      NotA\n",
    "True     True       True         True       False \n",
    "True     False      False        True       False\n",
    "False    False      False        False      True \n",
    "False    True       False        True       True "
   ]
  },
  {
   "cell_type": "code",
   "execution_count": null,
   "id": "8927fc33",
   "metadata": {},
   "outputs": [],
   "source": [
    "4. What are the values of the following expressions?\n",
    "(5 > 4) and (3 == 5)                  False\n",
    "not (5 > 4)                           False\n",
    "(5 > 4) or (3 == 5)                   True\n",
    "not ((5 > 4) or (3 == 5))             False \n",
    "(True and True) and (True == False)   False\n",
    "(not False) or (not True)             True"
   ]
  },
  {
   "cell_type": "code",
   "execution_count": null,
   "id": "3865b033",
   "metadata": {},
   "outputs": [],
   "source": [
    "5. What are the six comparison operators?\n",
    ">\n",
    "<\n",
    ">=\n",
    "<=\n",
    "!=\n",
    "=="
   ]
  },
  {
   "cell_type": "code",
   "execution_count": null,
   "id": "a862b783",
   "metadata": {},
   "outputs": [],
   "source": [
    "6. How do you tell the difference between the equal to and assignment operators?Describe a\n",
    "condition and when you would use one.\n",
    "*We use only one = character in assignment opertor and it is used for assigning values to variables \n",
    "*and two == character in equal operator which used to compare values.\n",
    "For example a = 5, this is assignment operation\n",
    "and, if(a==5):     this is equal opearor\n",
    "        print('yes')"
   ]
  },
  {
   "cell_type": "code",
   "execution_count": null,
   "id": "c0e591b7",
   "metadata": {},
   "outputs": [],
   "source": [
    "7. Identify the three blocks in this code:\n",
    "spam = 0\n",
    "if spam == 10:\n",
    "print('eggs')\n",
    "if spam > 5:\n",
    "print('bacon')\n",
    "else:\n",
    "print('ham')\n",
    "print('spam')\n",
    "print('spam')\n",
    "\n",
    "The 3 blocks in this code are 2 if blocks and 1 else block as shown below\n",
    "spam = 0\n",
    "if spam == 10:#1st block\n",
    "    print('eggs')\n",
    "if spam > 5:#second block\n",
    "    print('bacon')\n",
    "else:      #third block\n",
    "    print('ham')\n",
    "    print('spam')\n",
    "    print('spam')\n",
    "\n",
    "\n"
   ]
  },
  {
   "cell_type": "code",
   "execution_count": null,
   "id": "95bd3dad",
   "metadata": {},
   "outputs": [],
   "source": [
    "8. Write code that prints Hello if 1 is stored in spam, prints Howdy if 2 is stored in spam, and prints\n",
    "Greetings! if anything else is stored in spam.\n",
    "\n",
    "spam = int(input())\n",
    "if spam == 1:\n",
    "    print('Hello')\n",
    "elif spam == 2:\n",
    "    print('Howdy')\n",
    "else:\n",
    "    print('Greetings!')"
   ]
  },
  {
   "cell_type": "code",
   "execution_count": null,
   "id": "e1b47be4",
   "metadata": {},
   "outputs": [],
   "source": [
    "9.If your programme is stuck in an endless loop, what keys you’ll press?\n",
    "CTRL + C"
   ]
  },
  {
   "cell_type": "code",
   "execution_count": 20,
   "id": "e45ea7b5",
   "metadata": {},
   "outputs": [
    {
     "name": "stdout",
     "output_type": "stream",
     "text": [
      "\n"
     ]
    }
   ],
   "source": [
    "10. How can you tell the difference between break and continue?\n",
    "continue causes the next iteration of the loop to run immediately, \n",
    "whereas break terminates the loop and causes execution to resume after the loop"
   ]
  },
  {
   "cell_type": "code",
   "execution_count": null,
   "id": "98d20b10",
   "metadata": {},
   "outputs": [],
   "source": [
    "11. In a for loop, what is the difference between range(10), range(0, 10), and range(0, 10, 1)?\n",
    "*In a for loop if range(10) is used then the loop will run for values 0 to 9\n",
    "*if range(0,10) is used then loop will run for 0 to 9 where 0 is the lower bund and 10 is the upper bound and is excluded, \n",
    "*if range(0,10,1) is used then loop will run for 0 to 9, for a step of 1, \n",
    "we also specify steps as 2 range(0,10,2) the loop will run for 0 to 9 with steps of 2 i.e. the odd steps will be excluded\n",
    " "
   ]
  },
  {
   "cell_type": "code",
   "execution_count": null,
   "id": "f6ad9a49",
   "metadata": {},
   "outputs": [],
   "source": [
    "12. Write a short program that prints the numbers 1 to 10 using a for loop. Then write an equivalent\n",
    "program that prints the numbers 1 to 10 using a while loop.\n",
    "\n",
    "\n",
    "for i in range(11):\n",
    "    print(i)\n",
    "    \n",
    "    \n",
    "--------------------------------------   \n",
    "    \n",
    "i=0\n",
    "while i in range(11):\n",
    "    print(i)\n",
    "    i = i+1"
   ]
  },
  {
   "cell_type": "code",
   "execution_count": null,
   "id": "8cf9ca28",
   "metadata": {},
   "outputs": [],
   "source": [
    "13. If you had a function named bacon() inside a module named spam, how would you call it after\n",
    "importing spam?\n",
    "\n",
    "*The function will be called by spam.bacon()"
   ]
  }
 ],
 "metadata": {
  "kernelspec": {
   "display_name": "Python 3 (ipykernel)",
   "language": "python",
   "name": "python3"
  },
  "language_info": {
   "codemirror_mode": {
    "name": "ipython",
    "version": 3
   },
   "file_extension": ".py",
   "mimetype": "text/x-python",
   "name": "python",
   "nbconvert_exporter": "python",
   "pygments_lexer": "ipython3",
   "version": "3.9.13"
  }
 },
 "nbformat": 4,
 "nbformat_minor": 5
}
