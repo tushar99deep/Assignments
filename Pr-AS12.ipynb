{
 "cells": [
  {
   "cell_type": "code",
   "execution_count": null,
   "id": "8e6a726a",
   "metadata": {},
   "outputs": [],
   "source": [
    "1. Write a Python program to Extract Unique values dictionary values?\n",
    "2. Write a Python program to find the sum of all items in a dictionary?\n",
    "3. Write a Python program to Merging two Dictionaries?\n",
    "4. Write a Python program to convert key-values list to flat dictionary?\n",
    "5. Write a Python program to insertion at the beginning in OrderedDict?\n",
    "6. Write a Python program to check order of character in string using OrderedDict()?\n",
    "7. Write a Python program to sort Python Dictionaries by Key or Value?"
   ]
  },
  {
   "cell_type": "code",
   "execution_count": null,
   "id": "c6bb4ec1",
   "metadata": {},
   "outputs": [],
   "source": [
    "def extract_unique_values(dictionary):\n",
    "    unique_values = set(dictionary.values())\n",
    "    return unique_values\n",
    "\n",
    "# Input dictionary\n",
    "dictionary = {'a': 1, 'b': 2, 'c': 1, 'd': 3, 'e': 2}\n",
    "\n",
    "# Extract unique values\n",
    "unique_values = extract_unique_values(dictionary)\n",
    "\n",
    "print(\"Unique values from dictionary:\", unique_values)\n"
   ]
  },
  {
   "cell_type": "code",
   "execution_count": null,
   "id": "43107a43",
   "metadata": {},
   "outputs": [],
   "source": [
    "def find_sum(dictionary):\n",
    "    total = sum(dictionary.values())\n",
    "    return total\n",
    "\n",
    "# Input dictionary\n",
    "dictionary = {'a': 1, 'b': 2, 'c': 3, 'd': 4, 'e': 5}\n",
    "\n",
    "# Find the sum\n",
    "sum_of_values = find_sum(dictionary)\n",
    "\n",
    "print(\"Sum of all items in the dictionary:\", sum_of_values)\n"
   ]
  },
  {
   "cell_type": "code",
   "execution_count": null,
   "id": "59c001b8",
   "metadata": {},
   "outputs": [],
   "source": [
    "def merge_dictionaries(dict1, dict2):\n",
    "    merged_dict = {**dict1, **dict2}\n",
    "    return merged_dict\n",
    "\n",
    "# Input dictionaries\n",
    "dict1 = {'a': 1, 'b': 2}\n",
    "dict2 = {'c': 3, 'd': 4}\n",
    "\n",
    "# Merge dictionaries\n",
    "merged_dictionary = merge_dictionaries(dict1, dict2)\n",
    "\n",
    "print(\"Merged dictionary:\", merged_dictionary)\n"
   ]
  },
  {
   "cell_type": "code",
   "execution_count": null,
   "id": "fb2055f2",
   "metadata": {},
   "outputs": [],
   "source": [
    "def convert_to_flat_dictionary(keys, values):\n",
    "    flat_dict = dict(zip(keys, values))\n",
    "    return flat_dict\n",
    "\n",
    "# Input key-value lists\n",
    "keys = ['a', 'b', 'c']\n",
    "values = [1, 2, 3]\n",
    "\n",
    "# Convert to flat dictionary\n",
    "flat_dictionary = convert_to_flat_dictionary(keys, values)\n",
    "\n",
    "print(\"Flat dictionary:\", flat_dictionary)\n"
   ]
  },
  {
   "cell_type": "code",
   "execution_count": null,
   "id": "34dbe2d4",
   "metadata": {},
   "outputs": [],
   "source": [
    "from collections import OrderedDict\n",
    "\n",
    "def insert_at_beginning(dictionary, key, value):\n",
    "    dictionary.pop(key, None)\n",
    "    dictionary.move_to_end(key, last=False)\n",
    "    dictionary[key] = value\n",
    "\n",
    "# Input OrderedDict\n",
    "ordered_dict = OrderedDict([('a', 1), ('b', 2), ('c', 3)])\n",
    "\n",
    "# Insert at the beginning\n",
    "key = 'd'\n",
    "value = 4\n",
    "insert_at_beginning(ordered_dict, key, value)\n",
    "\n",
    "print(\"OrderedDict after insertion at the beginning:\", ordered_dict)\n"
   ]
  },
  {
   "cell_type": "code",
   "execution_count": null,
   "id": "862ae414",
   "metadata": {},
   "outputs": [],
   "source": [
    "from collections import OrderedDict\n",
    "\n",
    "def check_order(string, pattern):\n",
    "    char_positions = OrderedDict()\n",
    "    for char in string:\n",
    "        char_positions[char] = char_positions.get(char, len(char_positions))\n",
    "    pattern_positions = [char_positions.get(char) for char in pattern]\n",
    "    return pattern_positions == sorted(pattern_positions)\n",
    "\n",
    "# Input string and pattern\n",
    "string = input(\"Enter a string: \")\n",
    "pattern = input(\"Enter a pattern to check: \")\n",
    "\n",
    "# Check the order\n",
    "is_order_matched = check_order(string, pattern)\n",
    "\n",
    "if is_order_matched:\n",
    "    print(\"The pattern\", pattern, \"appears in order in the string\", string)\n",
    "else:\n",
    "    print(\"The pattern\", pattern, \"does not appear in order in the string\", string)\n"
   ]
  },
  {
   "cell_type": "code",
   "execution_count": null,
   "id": "aa7c3ec2",
   "metadata": {},
   "outputs": [],
   "source": [
    "def sort_dictionary(dictionary, by_key=True):\n",
    "    if by_key:\n",
    "        sorted_dict = dict(sorted(dictionary.items()))\n",
    "    else:\n",
    "        sorted_dict = dict(sorted(dictionary.items(), key=lambda item: item[1]))\n",
    "    return sorted_dict\n",
    "\n",
    "# Input dictionary\n",
    "dictionary = {'a': 2, 'd': 1, 'c': 3, 'b': 5}\n",
    "\n",
    "# Sort by key\n",
    "sorted_by_key = sort_dictionary(dictionary, by_key=True)\n",
    "print(\"Dictionary sorted by key:\", sorted_by_key)\n",
    "\n",
    "# Sort by value\n",
    "sorted_by_value = sort_dictionary(dictionary, by_key=False)\n",
    "print(\"Dictionary sorted by value:\", sorted_by_value)\n"
   ]
  }
 ],
 "metadata": {
  "kernelspec": {
   "display_name": "Python 3 (ipykernel)",
   "language": "python",
   "name": "python3"
  },
  "language_info": {
   "codemirror_mode": {
    "name": "ipython",
    "version": 3
   },
   "file_extension": ".py",
   "mimetype": "text/x-python",
   "name": "python",
   "nbconvert_exporter": "python",
   "pygments_lexer": "ipython3",
   "version": "3.9.13"
  }
 },
 "nbformat": 4,
 "nbformat_minor": 5
}
