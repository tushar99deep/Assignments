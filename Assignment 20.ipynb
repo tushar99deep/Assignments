{
 "cells": [
  {
   "cell_type": "code",
   "execution_count": null,
   "id": "adcb2bde",
   "metadata": {},
   "outputs": [],
   "source": [
    "'''\n",
    "Set the variable test1 to the string 'This is a test of the emergency text system,' and save test1 to a file named test.txt.'''\n",
    "\n",
    "# Question 1\n",
    "test1 = 'This is a test of the emergency text system,'\n",
    "\n",
    "with open('test.txt', 'w') as file:\n",
    "    file.write(test1)\n"
   ]
  },
  {
   "cell_type": "code",
   "execution_count": null,
   "id": "24a81b64",
   "metadata": {},
   "outputs": [],
   "source": [
    "'''\n",
    "Read the contents of the file test.txt into the variable test2. Is there a difference between test1 and test2?'''\n",
    "# Question 2\n",
    "with open('test.txt', 'r') as file:\n",
    "    test2 = file.read()\n",
    "\n",
    "print(test1 == test2)  # Check if test1 and test2 are equal\n"
   ]
  },
  {
   "cell_type": "code",
   "execution_count": null,
   "id": "4ca31e96",
   "metadata": {},
   "outputs": [],
   "source": [
    "'''Create a CSV file called books.csv by using these lines:'''\n",
    "import csv\n",
    "\n",
    "lines = [\n",
    "    [\"title\", \"author\", \"year\"],\n",
    "    [\"The Weirdstone of Brisingamen\", \"Alan Garner\", \"1960\"],\n",
    "    [\"Perdido Street Station\", \"China Miéville\", \"2000\"],\n",
    "    [\"Thud!\", \"Terry Pratchett\", \"2005\"],\n",
    "    [\"The Spellman Files\", \"Lisa Lutz\", \"2007\"],\n",
    "    [\"Small Gods\", \"Terry Pratchett\", \"1992\"]\n",
    "]\n",
    "\n",
    "with open(\"books.csv\", \"w\", newline=\"\") as file:\n",
    "    writer = csv.writer(file)\n",
    "    writer.writerows(lines)\n"
   ]
  },
  {
   "cell_type": "code",
   "execution_count": null,
   "id": "0acddf0d",
   "metadata": {},
   "outputs": [],
   "source": [
    "'''\n",
    "Use the sqlite3 module to create a SQLite database called books.db, and a table called books with these \n",
    "fields: title (text), author (text), and year (integer).'''\n",
    "# Question 4\n",
    "import sqlite3\n",
    "\n",
    "conn = sqlite3.connect('books.db')\n",
    "cursor = conn.cursor()\n",
    "\n",
    "cursor.execute('''CREATE TABLE books\n",
    "                  (title text, author text, year integer)''')\n",
    "\n",
    "conn.commit()\n",
    "conn.close()\n"
   ]
  },
  {
   "cell_type": "code",
   "execution_count": null,
   "id": "7b4a4922",
   "metadata": {},
   "outputs": [],
   "source": [
    "'''Read books.csv and insert its data into the book table.'''\n",
    "# Question 5\n",
    "import csv\n",
    "\n",
    "conn = sqlite3.connect('books.db')\n",
    "cursor = conn.cursor()\n",
    "\n",
    "with open('books.csv', 'r') as file:\n",
    "    reader = csv.reader(file)\n",
    "    next(reader)  # Skip header row\n",
    "    for row in reader:\n",
    "        cursor.execute('INSERT INTO books VALUES (?,?,?)', row)\n",
    "\n",
    "conn.commit()\n",
    "conn.close()\n"
   ]
  },
  {
   "cell_type": "code",
   "execution_count": null,
   "id": "44c37609",
   "metadata": {},
   "outputs": [],
   "source": [
    "'''Select and print the title column from the book table in alphabetical order.'''\n",
    "# Question 6\n",
    "conn = sqlite3.connect('books.db')\n",
    "cursor = conn.cursor()\n",
    "\n",
    "cursor.execute('SELECT title FROM books ORDER BY title')\n",
    "titles = cursor.fetchall()\n",
    "\n",
    "for title in titles:\n",
    "    print(title[0])\n",
    "\n",
    "conn.close()\n"
   ]
  },
  {
   "cell_type": "code",
   "execution_count": null,
   "id": "94fde84d",
   "metadata": {},
   "outputs": [],
   "source": [
    "'''From the book table, select and print all columns in the order of publication.'''\n",
    "# Question 7\n",
    "conn = sqlite3.connect('books.db')\n",
    "cursor = conn.cursor()\n",
    "\n",
    "cursor.execute('SELECT * FROM books ORDER BY year')\n",
    "books = cursor.fetchall()\n",
    "\n",
    "for book in books:\n",
    "    print(book)\n",
    "\n",
    "conn.close()\n"
   ]
  },
  {
   "cell_type": "code",
   "execution_count": null,
   "id": "e266705e",
   "metadata": {},
   "outputs": [],
   "source": [
    "'''Use the sqlalchemy module to connect to the sqlite3 database books.db that you just made in exercise 6.'''\n",
    "\n",
    "# Question 8\n",
    "from sqlalchemy import create_engine\n",
    "\n",
    "engine = create_engine('sqlite:///books.db')\n"
   ]
  },
  {
   "cell_type": "code",
   "execution_count": null,
   "id": "255fc602",
   "metadata": {},
   "outputs": [],
   "source": [
    "'''\n",
    "Install the Redis server and the Python redis library (pip install redis) on your computer. \n",
    "Create a Redis hash called test with the fields count (1) and name ('Fester Bestertester'). \n",
    "Print all the fields for test.'''\n",
    "\n",
    "# Question 9\n",
    "import redis\n",
    "\n",
    "r = redis.Redis()\n",
    "r.hset('test', 'count', 1)\n",
    "r.hset('test', 'name', 'Fester Bestertester')\n",
    "\n",
    "fields = r.hgetall('test')\n",
    "for field, value in fields.items():\n",
    "    print(f\"{field.decode()}: {value.decode()}\")\n"
   ]
  },
  {
   "cell_type": "code",
   "execution_count": null,
   "id": "77609de8",
   "metadata": {},
   "outputs": [],
   "source": [
    "'''Increment the count field of test and print it.'''\n",
    "\n",
    "# Question 10\n",
    "count = r.hincrby('test', 'count', 1)\n",
    "print(count)\n"
   ]
  }
 ],
 "metadata": {
  "kernelspec": {
   "display_name": "Python 3 (ipykernel)",
   "language": "python",
   "name": "python3"
  },
  "language_info": {
   "codemirror_mode": {
    "name": "ipython",
    "version": 3
   },
   "file_extension": ".py",
   "mimetype": "text/x-python",
   "name": "python",
   "nbconvert_exporter": "python",
   "pygments_lexer": "ipython3",
   "version": "3.9.13"
  }
 },
 "nbformat": 4,
 "nbformat_minor": 5
}
