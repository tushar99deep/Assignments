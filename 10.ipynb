{
 "cells": [
  {
   "cell_type": "code",
   "execution_count": 1,
   "id": "7054e464",
   "metadata": {},
   "outputs": [
    {
     "name": "stdout",
     "output_type": "stream",
     "text": [
      "True\n",
      "False\n",
      "False\n"
     ]
    }
   ],
   "source": [
    "'''\n",
    "<aside>\n",
    "💡 **Question 1**\n",
    "\n",
    "Given an integer `n`, return *`true` if it is a power of three. Otherwise, return `false`*.\n",
    "\n",
    "An integer `n` is a power of three, if there exists an integer `x` such that `n == 3x`.\n",
    "\n",
    "**Example 1:**\n",
    "Input: n = 27\n",
    "Output: true\n",
    "Explanation: 27 = 33\n",
    "</aside>'''\n",
    "\n",
    "\n",
    "def is_power_of_three(n):\n",
    "    if n <= 0:\n",
    "        return False\n",
    "\n",
    "    while n % 3 == 0:\n",
    "        n /= 3\n",
    "\n",
    "    return n == 1\n",
    "\n",
    "\n",
    "print(is_power_of_three(27))  \n",
    "print(is_power_of_three(0))  \n",
    "print(is_power_of_three(-1))  \n"
   ]
  },
  {
   "cell_type": "code",
   "execution_count": 2,
   "id": "d0567c34",
   "metadata": {},
   "outputs": [
    {
     "name": "stdout",
     "output_type": "stream",
     "text": [
      "2\n",
      "1\n"
     ]
    }
   ],
   "source": [
    "'''\n",
    "<aside>\n",
    "💡 **Question 2**\n",
    "\n",
    "You have a list `arr` of all integers in the range `[1, n]` sorted in a strictly increasing order. Apply the following algorithm on `arr`:\n",
    "\n",
    "- Starting from left to right, remove the first number and every other number afterward until you reach the end of the list.\n",
    "- Repeat the previous step again, but this time from right to left, remove the rightmost number and every other number from the remaining numbers.\n",
    "- Keep repeating the steps again, alternating left to right and right to left, until a single number remains.\n",
    "\n",
    "Given the integer `n`, return *the last number that remains in* `arr`.\n",
    "\n",
    "**Example 1:**\n",
    "Input: n = 9\n",
    "Output: 6\n",
    "Explanation:\n",
    "arr = [1, 2,3, 4,5, 6,7, 8,9]\n",
    "arr = [2,4, 6,8]\n",
    "arr = [2, 6]\n",
    "arr = [6]\n",
    "\n",
    "</aside>'''\n",
    "\n",
    "def find_last_number(n):\n",
    "    arr = list(range(1, n + 1))\n",
    "\n",
    "    left_to_right = True\n",
    "\n",
    "    while len(arr) > 1:\n",
    "        if left_to_right:\n",
    "            arr = arr[1::2]  # Remove every other number from left to right\n",
    "        else:\n",
    "            arr = arr[-2::-2]  # Remove every other number from right to left\n",
    "\n",
    "        left_to_right = not left_to_right\n",
    "\n",
    "    return arr[0]\n",
    "\n",
    "\n",
    "print(find_last_number(9)) \n",
    "print(find_last_number(1))  \n"
   ]
  },
  {
   "cell_type": "code",
   "execution_count": 3,
   "id": "86d61116",
   "metadata": {},
   "outputs": [
    {
     "name": "stdout",
     "output_type": "stream",
     "text": [
      "['', 'a', 'ab', 'abc', 'ac', 'b', 'bc', 'c']\n",
      "['', 'a', 'ab', 'abc', 'abcd', 'abd', 'ac', 'acd', 'ad', 'b', 'bc', 'bcd', 'bd', 'c', 'cd', 'd']\n"
     ]
    }
   ],
   "source": [
    "'''\n",
    "<aside>\n",
    "💡 **Question 3**\n",
    "\n",
    "****Given a set represented as a string, write a recursive code to print all subsets of it. The subsets can be printed in any order.\n",
    "\n",
    "**Example 1:**\n",
    "\n",
    "Input :  set = “abc”\n",
    "\n",
    "Output : { “”, “a”, “b”, “c”, “ab”, “ac”, “bc”, “abc”}\n",
    "\n",
    "**Example 2:**\n",
    "\n",
    "Input : set = “abcd”\n",
    "\n",
    "Output : { “”, “a” ,”ab” ,”abc” ,”abcd”, “abd” ,”ac” ,”acd”, “ad” ,”b”, “bc” ,”bcd” ,”bd” ,”c” ,”cd” ,”d” }\n",
    "\n",
    "</aside>'''\n",
    "\n",
    "def generate_subsets(set_str):\n",
    "    subsets = []\n",
    "\n",
    "    def backtrack(subset, index):\n",
    "        subsets.append(subset)\n",
    "\n",
    "        for i in range(index, len(set_str)):\n",
    "            backtrack(subset + set_str[i], i + 1)\n",
    "\n",
    "    backtrack(\"\", 0)\n",
    "\n",
    "    return subsets\n",
    "\n",
    "\n",
    "print(generate_subsets(\"abc\"))\n",
    "print(generate_subsets(\"abcd\"))\n"
   ]
  },
  {
   "cell_type": "code",
   "execution_count": 6,
   "id": "1182e2bb",
   "metadata": {},
   "outputs": [
    {
     "name": "stdout",
     "output_type": "stream",
     "text": [
      "4\n",
      "13\n"
     ]
    }
   ],
   "source": [
    "'''\n",
    "<aside>\n",
    "💡 **Question 4**\n",
    "\n",
    "Given a string calculate length of the string using recursion.\n",
    "\n",
    "**Examples:**\n",
    "Input : str = \"abcd\"\n",
    "Output :4\n",
    "\n",
    "Input : str = \"GEEKSFORGEEKS\"\n",
    "Output :13\n",
    "</aside>'''\n",
    "\n",
    "def calculate_string_length(string):\n",
    "    if string == \"\":\n",
    "        return 0\n",
    "\n",
    "    return 1 + calculate_string_length(string[1:])\n",
    "\n",
    "# Test the function\n",
    "print(calculate_string_length(\"abcd\"))           \n",
    "print(calculate_string_length(\"GEEKSFORGEEKS\"))  \n"
   ]
  },
  {
   "cell_type": "code",
   "execution_count": 8,
   "id": "12605939",
   "metadata": {},
   "outputs": [
    {
     "name": "stdout",
     "output_type": "stream",
     "text": [
      "7\n",
      "4\n"
     ]
    }
   ],
   "source": [
    "'''\n",
    "<aside>\n",
    "💡 **Question 5**\n",
    "\n",
    "We are given a string S, we need to find count of all contiguous substrings starting and ending with same character.\n",
    "\n",
    "**Examples :**\n",
    "Input  : S = \"abcab\"\n",
    "Output : 7\n",
    "There are 15 substrings of \"abcab\"\n",
    "a, ab, abc, abca, abcab, b, bc, bca\n",
    "bcab, c, ca, cab, a, ab, b\n",
    "Out of the above substrings, there\n",
    "are 7 substrings : a, abca, b, bcab,\n",
    "c, a and b.\n",
    "\n",
    "Input  : S = \"aba\"\n",
    "Output : 4\n",
    "The substrings are a, b, a and aba\n",
    "</aside>'''\n",
    "\n",
    "\n",
    "def count_contiguous_substrings(string):\n",
    "    count = 0\n",
    "\n",
    "    for i in range(len(string)):\n",
    "        for j in range(i, len(string)):\n",
    "            if string[i] == string[j]:\n",
    "                count += 1\n",
    "\n",
    "    return count\n",
    "\n",
    "# Test the function\n",
    "print(count_contiguous_substrings(\"abcab\"))  # Output: 7\n",
    "print(count_contiguous_substrings(\"aba\"))    # Output: 4\n"
   ]
  },
  {
   "cell_type": "code",
   "execution_count": 9,
   "id": "55789d8a",
   "metadata": {},
   "outputs": [
    {
     "name": "stdout",
     "output_type": "stream",
     "text": [
      "Move disk 1 from rod A to rod B\n",
      "Move disk 2 from rod A to rod C\n",
      "Move disk 1 from rod B to rod C\n",
      "Total moves: 3\n"
     ]
    }
   ],
   "source": [
    "'''\n",
    "<aside>\n",
    "💡 **Question 6**\n",
    "\n",
    "The [tower of Hanoi](https://en.wikipedia.org/wiki/Tower_of_Hanoi) is a famous puzzle where we have three rods and **N** disks. \n",
    "The objective of the puzzle is to move the entire stack to another rod. You are given the number of discs **N**. \n",
    "Initially, these discs are in the rod 1. You need to print all the steps of discs movement so that all the discs reach the \n",
    "3rd rod. Also, you need to find the total moves.**Note:** The discs are arranged such that the **top disc is numbered 1** and \n",
    "the **bottom-most disc is numbered N**. Also, all the discs have **different sizes** and a bigger disc **cannot** be put on \n",
    "the top of a smaller disc. Refer the provided link to get a better clarity about the puzzle.\n",
    "\n",
    "**Example 1:**\n",
    "Input:\n",
    "N = 2\n",
    "Output:\n",
    "move disk 1 from rod 1 to rod 2\n",
    "move disk 2 from rod 1 to rod 3\n",
    "move disk 1 from rod 2 to rod 3\n",
    "3\n",
    "Explanation:For N=2 , steps will be\n",
    "as follows in the example and total\n",
    "3 steps will be taken.\n",
    "\n",
    "\n",
    "Example:\n",
    "Input:\n",
    "N = 2\n",
    "Output:\n",
    "move disk 1 from rod 1 to rod 2\n",
    "move disk 2 from rod 1 to rod 3\n",
    "move disk 1 from rod 2 to rod 3\n",
    "3\n",
    "Explanation:For N=2 , steps will be\n",
    "as follows in the example and total\n",
    "3 steps will be taken.\n",
    "</aside>'''\n",
    "\n",
    "def tower_of_hanoi(N, source, destination, auxiliary):\n",
    "    if N == 1:\n",
    "        print(\"Move disk 1 from rod\", source, \"to rod\", destination)\n",
    "        return 1\n",
    "\n",
    "    moves = tower_of_hanoi(N - 1, source, auxiliary, destination)\n",
    "    print(\"Move disk\", N, \"from rod\", source, \"to rod\", destination)\n",
    "    moves += 1\n",
    "    moves += tower_of_hanoi(N - 1, auxiliary, destination, source)\n",
    "\n",
    "    return moves\n",
    "\n",
    "# Test the function\n",
    "total_moves = tower_of_hanoi(2, 'A', 'C', 'B')\n",
    "print(\"Total moves:\", total_moves)\n",
    "\n"
   ]
  },
  {
   "cell_type": "code",
   "execution_count": 10,
   "id": "d75f6622",
   "metadata": {},
   "outputs": [
    {
     "name": "stdout",
     "output_type": "stream",
     "text": [
      "['cd', 'dc']\n",
      "['abb', 'abb', 'bab', 'bba', 'bba', 'bab']\n"
     ]
    }
   ],
   "source": [
    "'''\n",
    "<aside>\n",
    "💡 **Question 7**\n",
    "\n",
    "Given a string **str**, the task is to print all the permutations of **str**. A **permutation** is an arrangement of all or part of a set of objects, with regard to the order of the arrangement. For instance, the words ‘bat’ and ‘tab’ represents two distinct permutation (or arrangements) of a similar three letter word.\n",
    "\n",
    "**Examples:**\n",
    "\n",
    "> Input: str = “cd”\n",
    "> \n",
    "> \n",
    "> **Output:** cd dc\n",
    "> \n",
    "> **Input:** str = “abb”\n",
    "> \n",
    "> **Output:** abb abb bab bba bab bba\n",
    "> \n",
    "</aside>'''\n",
    "\n",
    "\n",
    "def permute_string(string):\n",
    "    permutations = []\n",
    "\n",
    "    def backtrack(string_list, start):\n",
    "        if start == len(string_list) - 1:\n",
    "            permutations.append(\"\".join(string_list))\n",
    "            return\n",
    "\n",
    "        for i in range(start, len(string_list)):\n",
    "            string_list[start], string_list[i] = string_list[i], string_list[start]\n",
    "            backtrack(string_list, start + 1)\n",
    "            string_list[start], string_list[i] = string_list[i], string_list[start]\n",
    "\n",
    "    backtrack(list(string), 0)\n",
    "\n",
    "    return permutations\n",
    "\n",
    "# Test the function\n",
    "print(permute_string(\"cd\"))\n",
    "print(permute_string(\"abb\"))\n"
   ]
  },
  {
   "cell_type": "code",
   "execution_count": 11,
   "id": "c258e567",
   "metadata": {},
   "outputs": [
    {
     "name": "stdout",
     "output_type": "stream",
     "text": [
      "3\n",
      "12\n"
     ]
    }
   ],
   "source": [
    "'''\n",
    "<aside>\n",
    "💡 **Question 8**\n",
    "\n",
    "Given a string, count total number of consonants in it. A consonant is an English alphabet character that is not vowel (a, e, i, o and u). Examples of constants are b, c, d, f, and g.\n",
    "\n",
    "**Examples :**\n",
    "Input : abc de\n",
    "Output : 3\n",
    "There are three consonants b, c and d.\n",
    "\n",
    "Input : geeksforgeeks portal\n",
    "Output : 12\n",
    "</aside>'''\n",
    "\n",
    "def count_consonants(string):\n",
    "    consonants = 0\n",
    "\n",
    "    for char in string:\n",
    "        if char.isalpha() and char.lower() not in ['a', 'e', 'i', 'o', 'u']:\n",
    "            consonants += 1\n",
    "\n",
    "    return consonants\n",
    "\n",
    "# Test the function\n",
    "print(count_consonants(\"abc de\"))                   # Output: 3\n",
    "print(count_consonants(\"geeksforgeeks portal\"))     # Output: 12\n"
   ]
  },
  {
   "cell_type": "code",
   "execution_count": null,
   "id": "cd51fc96",
   "metadata": {},
   "outputs": [],
   "source": []
  }
 ],
 "metadata": {
  "kernelspec": {
   "display_name": "Python 3 (ipykernel)",
   "language": "python",
   "name": "python3"
  },
  "language_info": {
   "codemirror_mode": {
    "name": "ipython",
    "version": 3
   },
   "file_extension": ".py",
   "mimetype": "text/x-python",
   "name": "python",
   "nbconvert_exporter": "python",
   "pygments_lexer": "ipython3",
   "version": "3.10.9"
  }
 },
 "nbformat": 4,
 "nbformat_minor": 5
}
