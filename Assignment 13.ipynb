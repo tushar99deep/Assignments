{
 "cells": [
  {
   "cell_type": "raw",
   "id": "5b6d7928",
   "metadata": {},
   "source": [
    "\n",
    "\n",
    "1. **What advantages do Excel spreadsheets have over CSV spreadsheets?**\n",
    "Excel spreadsheets have several advantages over CSV spreadsheets:\n",
    "   - Excel spreadsheets can store data in a structured manner with multiple sheets and formulas.\n",
    "   - They support various formatting options such as cell styles, colors, and conditional formatting.\n",
    "   - Excel spreadsheets can contain charts, graphs, and other visual elements.\n",
    "   - They can have built-in functions and calculations.\n",
    "   - Excel files (.xlsx) can be password-protected for security.\n",
    "\n",
    "2. **What do you pass to `csv.reader()` and `csv.writer()` to create reader and writer objects?**\n",
    "To create reader and writer objects using the `csv.reader()` and `csv.writer()` functions, you pass a File object as an argument. Typically, you pass the opened CSV file using the `open()` function with the appropriate mode ('r' for reading, 'w' for writing) as the File object.\n",
    "\n",
    "3. **What modes do File objects for reader and writer objects need to be opened in?**\n",
    "For the File objects used with `csv.reader()`, they need to be opened in 'r' mode (read mode). For the File objects used with `csv.writer()`, they need to be opened in 'w' mode (write mode).\n",
    "\n",
    "4. **What method takes a list argument and writes it to a CSV file?**\n",
    "The `writerow()` method of the writer object is used to write a list of values as a single row in a CSV file. Each element of the list represents a value in the row, and `writerow()` writes them as comma-separated values.\n",
    "\n",
    "5. **What do the keyword arguments `delimiter` and `line terminator` do?**\n",
    "The `delimiter` keyword argument is used to specify the character used to separate fields (values) in a CSV file. By default, it is set to a comma (','). The `line terminator` keyword argument is used to specify the character or string that signifies the end of a line in the CSV file. By default, it uses the newline character ('\\n').\n",
    "\n",
    "6. **What function takes a string of JSON data and returns a Python data structure?**\n",
    "The `json.loads()` function is used to parse a string of JSON data and convert it into a Python data structure. It stands for \"load string\" and returns the corresponding Python data structure such as a dictionary or a list.\n",
    "\n",
    "7. **What function takes a Python data structure and returns a string of JSON data?**\n",
    "The `json.dumps()` function is used to serialize a Python data structure into a JSON-formatted string. It stands for \"dump string\" and converts the data structure into its JSON representation.\n",
    "\n"
   ]
  }
 ],
 "metadata": {
  "kernelspec": {
   "display_name": "Python 3 (ipykernel)",
   "language": "python",
   "name": "python3"
  },
  "language_info": {
   "codemirror_mode": {
    "name": "ipython",
    "version": 3
   },
   "file_extension": ".py",
   "mimetype": "text/x-python",
   "name": "python",
   "nbconvert_exporter": "python",
   "pygments_lexer": "ipython3",
   "version": "3.9.13"
  }
 },
 "nbformat": 4,
 "nbformat_minor": 5
}
