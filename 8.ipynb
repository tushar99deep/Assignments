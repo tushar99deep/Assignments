{
 "cells": [
  {
   "cell_type": "code",
   "execution_count": 11,
   "id": "7c30b36c",
   "metadata": {},
   "outputs": [
    {
     "name": "stdout",
     "output_type": "stream",
     "text": [
      "231\n"
     ]
    }
   ],
   "source": [
    "# **Question 1**\n",
    "\n",
    "\n",
    "def minimum_delete_sum(s1, s2):\n",
    "    m, n = len(s1), len(s2)\n",
    "    dp = [[0] * (n + 1) for _ in range(m + 1)]\n",
    "\n",
    "    for i in range(m - 1, -1, -1):\n",
    "        dp[i][n] = dp[i + 1][n] + ord(s1[i])\n",
    "\n",
    "    for j in range(n - 1, -1, -1):\n",
    "        dp[m][j] = dp[m][j + 1] + ord(s2[j])\n",
    "\n",
    "    for i in range(m - 1, -1, -1):\n",
    "        for j in range(n - 1, -1, -1):\n",
    "            if s1[i] == s2[j]:\n",
    "                dp[i][j] = dp[i + 1][j + 1]\n",
    "            else:\n",
    "                dp[i][j] = min(dp[i + 1][j] + ord(s1[i]), dp[i][j + 1] + ord(s2[j]))\n",
    "\n",
    "    return dp[0][0]\n",
    "\n",
    "s1 = \"sea\"\n",
    "s2 = \"eat\"\n",
    "result = minimum_delete_sum(s1, s2)\n",
    "print(result) \n"
   ]
  },
  {
   "cell_type": "code",
   "execution_count": 10,
   "id": "bab55ee8",
   "metadata": {},
   "outputs": [
    {
     "name": "stdout",
     "output_type": "stream",
     "text": [
      "True\n"
     ]
    }
   ],
   "source": [
    " #**Question 2**\n",
    "\n",
    "def is_valid(s):\n",
    "    stack = []\n",
    "\n",
    "    for char in s:\n",
    "        if char == '(' or char == '*':\n",
    "            stack.append(char)\n",
    "        elif char == ')':\n",
    "            if stack and stack[-1] == '(':\n",
    "                stack.pop()\n",
    "            elif stack and stack[-1] == '*':\n",
    "                stack.pop()\n",
    "            else:\n",
    "                return False\n",
    "\n",
    "    count = 0\n",
    "\n",
    "    while stack:\n",
    "        if stack.pop() == '(':\n",
    "            count += 1\n",
    "        else:\n",
    "            count -= 1\n",
    "\n",
    "        if count < 0:\n",
    "            return False\n",
    "\n",
    "    return True\n",
    "\n",
    "s = \"()\"\n",
    "result = is_valid(s)\n",
    "print(result)  "
   ]
  },
  {
   "cell_type": "code",
   "execution_count": 8,
   "id": "3860c26e",
   "metadata": {},
   "outputs": [
    {
     "name": "stdout",
     "output_type": "stream",
     "text": [
      "2\n"
     ]
    }
   ],
   "source": [
    "#**Question 3**\n",
    "\n",
    "\n",
    "def min_steps_to_same(word1, word2):\n",
    "    m, n = len(word1), len(word2)\n",
    "    dp = [[0] * (n + 1) for _ in range(m + 1)]\n",
    "\n",
    "    for i in range(1, m + 1):\n",
    "        dp[i][0] = i\n",
    "\n",
    "    for j in range(1, n + 1):\n",
    "        dp[0][j] = j\n",
    "\n",
    "    for i in range(1, m + 1):\n",
    "        for j in range(1, n + 1):\n",
    "            if word1[i - 1]== word2[j - 1]:\n",
    "                dp[i][j] = dp[i - 1][j - 1]\n",
    "            else:\n",
    "                dp[i][j] = 1 + min(dp[i - 1][j], dp[i][j - 1])\n",
    "\n",
    "    return dp[m][n]\n",
    "\n",
    "word1 = \"sea\"\n",
    "word2 = \"eat\"\n",
    "result = min_steps_to_same(word1, word2)\n",
    "print(result) \n",
    "\n",
    "\n"
   ]
  },
  {
   "cell_type": "code",
   "execution_count": 9,
   "id": "eaf12bc2",
   "metadata": {},
   "outputs": [],
   "source": [
    "#**Question 4**\n",
    "\n",
    "\n",
    "class TreeNode:\n",
    "    def __init__(self, val=0, left=None, right=None):\n",
    "        self.val = val\n",
    "        self.left = left\n",
    "        self.right = right\n",
    "\n",
    "def build_tree(s, start):\n",
    "    if s[start] == '(':\n",
    "        end = start + 1\n",
    "        count = 1\n",
    "\n",
    "        while count > 0:\n",
    "            if s[end] == '(':\n",
    "                count += 1\n",
    "            elif s[end] == ')':\n",
    "                count -= 1\n",
    "\n",
    "            end += 1\n",
    "\n",
    "        root_val = int(s[start + 1:end - 1])\n",
    "        root = TreeNode(root_val)\n",
    "        root.left = build_tree(s, end)\n",
    "        root.right = build_tree(s, end)\n",
    "\n",
    "        return root\n",
    "\n",
    "    return None\n",
    "\n",
    "s = \"4(2(3)(1))(6(5))\"\n",
    "root = build_tree(s, 0)\n",
    "\n",
    "def inorder_traversal(root):\n",
    "    if root:\n",
    "        inorder_traversal(root.left)\n",
    "        print(root.val, end=' ')\n",
    "        inorder_traversal(root.right)\n",
    "\n",
    "inorder_traversal(root) \n",
    "\n"
   ]
  },
  {
   "cell_type": "code",
   "execution_count": 4,
   "id": "9e8d211f",
   "metadata": {},
   "outputs": [
    {
     "name": "stdout",
     "output_type": "stream",
     "text": [
      "6\n",
      "['a', '2', 'b', '2', 'c', '3']\n"
     ]
    }
   ],
   "source": [
    "#**Question 5**\n",
    "\n",
    "def compress(chars):\n",
    "    i = 0\n",
    "    j = 0\n",
    "\n",
    "    while i < len(chars):\n",
    "        count = 1\n",
    "\n",
    "        while i + 1 < len(chars) and chars[i] == chars[i + 1]:\n",
    "            count += 1\n",
    "            i += 1\n",
    "\n",
    "        chars[j] = chars[i]\n",
    "        j += 1\n",
    "\n",
    "        if count > 1:\n",
    "            count_str = str(count)\n",
    "\n",
    "            for char in count_str:\n",
    "                chars[j] = char\n",
    "                j += 1\n",
    "\n",
    "        i += 1\n",
    "\n",
    "    return j\n",
    "\n",
    "chars = [\"a\", \"a\", \"b\", \"b\", \"c\", \"c\", \"c\"]\n",
    "result = compress(chars)\n",
    "print(result) \n",
    "print(chars[:result])  \n"
   ]
  },
  {
   "cell_type": "code",
   "execution_count": 3,
   "id": "a2790c27",
   "metadata": {},
   "outputs": [
    {
     "name": "stdout",
     "output_type": "stream",
     "text": [
      "[0, 6]\n"
     ]
    }
   ],
   "source": [
    " #**Question 6**\n",
    "\n",
    "\n",
    "from collections import Counter\n",
    "\n",
    "def find_anagrams(s, p):\n",
    "    p_freq = Counter(p)\n",
    "    s_freq = Counter(s[:len(p)])\n",
    "    result = []\n",
    "\n",
    "    if s_freq == p_freq:\n",
    "        result.append(0)\n",
    "\n",
    "    for i in range(len(p), len(s)):\n",
    "        left_char = s[i - len(p)]\n",
    "        right_char = s[i]\n",
    "\n",
    "        if s_freq[left_char] > 1:\n",
    "            s_freq[left_char] -= 1\n",
    "        else:\n",
    "            del s_freq[left_char]\n",
    "\n",
    "        s_freq[right_char] += 1\n",
    "\n",
    "        if s_freq == p_freq:\n",
    "            result.append(i - len(p) + 1)\n",
    "\n",
    "    return result\n",
    "\n",
    "s = \"cbaebabacd\"\n",
    "p = \"abc\"\n",
    "result = find_anagrams(s, p)\n",
    "print(result) \n"
   ]
  },
  {
   "cell_type": "code",
   "execution_count": 2,
   "id": "aee424a8",
   "metadata": {},
   "outputs": [
    {
     "name": "stdout",
     "output_type": "stream",
     "text": [
      "aaabcbc\n"
     ]
    }
   ],
   "source": [
    "#**Question 7**\n",
    "\n",
    "\n",
    "def decode_string(s):\n",
    "    stack = []\n",
    "    current_count = 0\n",
    "    current_string = \"\"\n",
    "\n",
    "    for char in s:\n",
    "        if char.isdigit():\n",
    "            current_count = current_count * 10 + int(char)\n",
    "        elif char == \"[\":\n",
    "            stack.append((current_count, current_string))\n",
    "            current_count = 0\n",
    "            current_string = \"\"\n",
    "        elif char == \"]\":\n",
    "            count, prev_string = stack.pop()\n",
    "            current_string = prev_string + current_string * count\n",
    "        else:\n",
    "            current_string += char\n",
    "\n",
    "    return current_string\n",
    "\n",
    "s = \"3[a]2[bc]\"\n",
    "result = decode_string(s)\n",
    "print(result)\n"
   ]
  },
  {
   "cell_type": "code",
   "execution_count": 1,
   "id": "83bff892",
   "metadata": {},
   "outputs": [
    {
     "name": "stdout",
     "output_type": "stream",
     "text": [
      "True\n"
     ]
    }
   ],
   "source": [
    "#**Question 8**\n",
    "\n",
    "\n",
    "def can_swapped_strings(s, goal):\n",
    "    if len(s) != len(goal):\n",
    "        return False\n",
    "\n",
    "    diff_count = 0\n",
    "    diff_positions = []\n",
    "\n",
    "    for i in range(len(s)):\n",
    "        if s[i] != goal[i]:\n",
    "            diff_count += 1\n",
    "            diff_positions.append(i)\n",
    "\n",
    "            if diff_count > 2:\n",
    "                return False\n",
    "\n",
    "    return diff_count == 2 and s[diff_positions[0]] == goal[diff_positions[1]] and s[diff_positions[1]] == goal[diff_positions[0]]\n",
    "\n",
    "s = \"ab\"\n",
    "goal = \"ba\"\n",
    "result = can_swapped_strings(s, goal)\n",
    "print(result) \n"
   ]
  },
  {
   "cell_type": "code",
   "execution_count": null,
   "id": "2866578f",
   "metadata": {},
   "outputs": [],
   "source": []
  }
 ],
 "metadata": {
  "kernelspec": {
   "display_name": "Python 3 (ipykernel)",
   "language": "python",
   "name": "python3"
  },
  "language_info": {
   "codemirror_mode": {
    "name": "ipython",
    "version": 3
   },
   "file_extension": ".py",
   "mimetype": "text/x-python",
   "name": "python",
   "nbconvert_exporter": "python",
   "pygments_lexer": "ipython3",
   "version": "3.10.9"
  }
 },
 "nbformat": 4,
 "nbformat_minor": 5
}
