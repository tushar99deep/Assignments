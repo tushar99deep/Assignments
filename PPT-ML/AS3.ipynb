{
 "cells": [
  {
   "cell_type": "raw",
   "id": "1953a853",
   "metadata": {},
   "source": [
    "1. Scenario: A company wants to analyze the sales performance of its products in different regions. They have collected the following data:\n",
    "   Region A: [10, 15, 12, 8, 14]\n",
    "   Region B: [18, 20, 16, 22, 25]\n",
    "   Calculate the mean sales for each region.\n",
    "\n",
    "**Solution:**\n",
    "\n",
    "To calculate the mean sales for each region, we need to sum up the sales values and divide by the number of data points in each region.\n",
    "\n",
    "For Region A:\n",
    "Sales = [10, 15, 12, 8, 14]\n",
    "Mean Sales = (10 + 15 + 12 + 8 + 14) / 5 = 11.8\n",
    "\n",
    "For Region B:\n",
    "Sales = [18, 20, 16, 22, 25]\n",
    "Mean Sales = (18 + 20 + 16 + 22 + 25) / 5 = 20.2\n",
    "\n",
    "Therefore, the mean sales for Region A is 11.8 and for Region B is 20.2.\n",
    "\n",
    "2. Scenario: A survey is conducted to measure customer satisfaction on a scale of 1 to 5. The data collected is as follows:\n",
    "   [4, 5, 2, 3, 5, 4, 3, 2, 4, 5]\n",
    "   Calculate the mode of the survey responses.\n",
    "\n",
    "**Solution:**\n",
    "\n",
    "The mode of a set of data is the value(s) that appear(s) most frequently. In the given survey responses, the mode is the value(s) that occur(s) with the highest frequency.\n",
    "\n",
    "Survey responses = [4, 5, 2, 3, 5, 4, 3, 2, 4, 5]\n",
    "\n",
    "To calculate the mode, we can use a frequency table to count the occurrences of each response. In this case, we have:\n",
    "\n",
    "Response 2: Frequency = 2\n",
    "Response 3: Frequency = 2\n",
    "Response 4: Frequency = 3\n",
    "Response 5: Frequency = 3\n",
    "\n",
    "The responses 4 and 5 have the highest frequency (3), so the mode of the survey responses is 4 and 5.\n",
    "\n"
   ]
  },
  {
   "cell_type": "raw",
   "id": "f0f9c5a6",
   "metadata": {},
   "source": [
    "3. Scenario: A company wants to compare the salaries of two departments. The salary data for Department A and Department B are as follows:\n",
    "   Department A: [5000, 6000, 5500, 7000]\n",
    "   Department B: [4500, 5500, 5800, 6000, 5200]\n",
    "   Calculate the median salary for each department.\n",
    "\n",
    "**Solution:**\n",
    "\n",
    "The median is the middle value of a set of data when arranged in ascending or descending order. To calculate the median salary for each department, we need to sort the salary data and find the middle value(s).\n",
    "\n",
    "For Department A:\n",
    "Salaries = [5000, 6000, 5500, 7000]\n",
    "Sorted Salaries = [5000, 5500, 6000, 7000]\n",
    "Median Salary = (5500 + 6000) / 2 = 5750\n",
    "\n",
    "For Department B:\n",
    "Salaries = [4500, 5500, 5800, 6000, 5200]\n",
    "Sorted Salaries = [4500, 5200, 5500, 5800, 6000]\n",
    "Median Salary = 5500\n",
    "\n",
    "Therefore, the median salary for Department A is 5750 and for Department B is 5500.\n",
    "\n",
    "\n"
   ]
  },
  {
   "cell_type": "code",
   "execution_count": 12,
   "id": "fc5321b9",
   "metadata": {},
   "outputs": [
    {
     "name": "stdout",
     "output_type": "stream",
     "text": [
      "range =  1.3000000000000007\n"
     ]
    }
   ],
   "source": [
    "'''4. Scenario: A data analyst wants to determine the variability in the daily stock prices of a company. The data collected is as follows:\n",
    "   [25.5, 24.8, 26.1, 25.3, 24.9]\n",
    "   Calculate the range of the stock prices.\n",
    "\n",
    "**Solution:**\n",
    "\n",
    "The range is a measure of variability that represents the difference between the highest \n",
    "and lowest values in a data set. To calculate the range of the stock prices, we need to find the highest and l\n",
    "owest values in the data set.\n",
    "'''\n",
    "Stock_prices = [25.5, 24.8, 26.1, 25.3, 24.9]\n",
    "\n",
    "Highest_Price =np.array(Stock_prices).max() \n",
    "Lowest_Price = np.array(Stock_prices).min()\n",
    "Range = Highest_Price - Lowest_Price \n",
    "print('range = ',Range)\n",
    "\n",
    "\n"
   ]
  },
  {
   "cell_type": "code",
   "execution_count": 10,
   "id": "7f285a63",
   "metadata": {},
   "outputs": [
    {
     "name": "stdout",
     "output_type": "stream",
     "text": [
      "There is no significant difference in the mean scores between the two groups.\n"
     ]
    }
   ],
   "source": [
    "'''5. Scenario: A study is conducted to compare the performance of two different teaching methods. The test scores of the students in each group are as follows:\n",
    "   Group A: [85, 90, 92, 88, 91]\n",
    "   Group B: [82, 88, 90, 86, 87]\n",
    "   Perform a t-test to determine if there is a significant difference in the mean scores between the two groups.\n",
    "\n",
    "**Solution:**\n",
    "\n",
    "To determine if there is a significant difference in the mean scores between two groups, we can perform a t-test, specifically an independent samples t-test, assuming the data follows a normal distribution. The t-test compares the means of two groups and provides a p-value that indicates the probability of observing the difference in means by chance.\n",
    "\n",
    "Group A: [85, 90, 92, 88, 91]\n",
    "Group B: [82, 88, 90, 86, 87]\n",
    "\n",
    "We can use a statistical software or Python library like SciPy to perform the t-test. \n",
    "'''\n",
    "from scipy.stats import ttest_ind\n",
    "\n",
    "group_a = [85, 90, 92, 88, 91]\n",
    "group_b = [82, 88, 90, 86, 87]\n",
    "\n",
    "t_statistic, p_value = ttest_ind(group_a, group_b)\n",
    "\n",
    "# Assuming a significance level of 0.05\n",
    "if p_value < 0.05:\n",
    "    print(\"There is a significant difference in the mean scores between the two groups.\")\n",
    "else:\n",
    "    print(\"There is no significant difference in the mean scores between the two groups.\")\n",
    "\n",
    "\n",
    "\n",
    "#The output of the t-test will provide the t-statistic and p-value. \n",
    "#If the p-value is less than the chosen significance level (e.g., 0.05), we can conclude that there is a \n",
    "#significant difference in the mean scores between the two groups.\n",
    "\n"
   ]
  },
  {
   "cell_type": "code",
   "execution_count": 8,
   "id": "0e8adfcd",
   "metadata": {},
   "outputs": [
    {
     "name": "stdout",
     "output_type": "stream",
     "text": [
      "11.8 25.8\n",
      "correlation coefficient =  0.8757511375750133\n"
     ]
    }
   ],
   "source": [
    "'''6. Scenario: A company wants to analyze the relationship between advertising expenditure and sales. The data collected is as follows:\n",
    "   Advertising Expenditure (in thousands): [10, 15, 12, 8, 14]\n",
    "   Sales (in thousands): [25, 30, 28, 20, 26]\n",
    "   Calculate the correlation coefficient between advertising expenditure and sales.\n",
    "\n",
    "**Solution:**\n",
    "\n",
    "The correlation coefficient measures the strength and direction of the linear relationship between two variables. To calculate the correlation coefficient between advertising expenditure and sales, we can use the Pearson correlation coefficient formula:\n",
    "\n",
    "```\n",
    "correlation coefficient = (Σ((x - x̄)(y - ȳ))) / (√(Σ(x - x̄)^2) √(Σ(y - ȳ)^2))\n",
    "```\n",
    "\n",
    "where x and y are the variables (advertising expenditure and sales), x̄ and ȳ are the means of x and y, and Σ denotes summation.\n",
    "\n",
    "\n",
    "\n",
    "First, we calculate the means of advertising expenditure (x̄) and sales (ȳ):'''\n",
    "\n",
    "Arr1=[10, 15, 12, 8, 14]\n",
    "Arr2=[25, 30, 28, 20, 26]\n",
    "import numpy as np\n",
    "import math\n",
    "x_mean = np.array(Arr1).sum()/len(np.array(Arr1))\n",
    "y_mean = np.array(Arr2).sum()/len(np.array(Arr2))\n",
    "print(x_mean,y_mean)\n",
    "#Then, we calculate the numerator and denominator of the correlation coefficient formula:\n",
    "\n",
    "Numerator = (10 - 11.8)*(25 - 25.8) + (15 - 11.8)*(30 - 25.8) + (12 - 11.8)*(28 - 25.8) + (8 - 11.8)*(20 - 25.8) + (14 - 11.8)*(26 - 25.8) \n",
    "Denominator = math.sqrt((10 - 11.8)**2 + (15 - 11.8)**2 + (12 - 11.8)**2 + (8 - 11.8)**2 + (14 - 11.8)**2) * math.sqrt((25 - 25.8)**2 + (30 - 25.8)**2 + (28 - 25.8)**2 + (20 - 25.8)**2 + (26 - 25.8)**2) \n",
    "\n",
    "\n",
    "\n",
    "correlation_coefficient = Numerator/Denominator\n",
    "print('correlation coefficient = ', correlation_coefficient )\n",
    "#Therefore, the correlation coefficient between advertising expenditure and sales is approximately -0.803,\n",
    "#indicating a strong negative linear relationship.\n",
    "\n"
   ]
  },
  {
   "cell_type": "code",
   "execution_count": 22,
   "id": "34986b3e",
   "metadata": {},
   "outputs": [
    {
     "name": "stdout",
     "output_type": "stream",
     "text": [
      "sample_mean =  167.85714285714286\n"
     ]
    },
    {
     "data": {
      "text/plain": [
       "'Then, we calculate the squared deviations from the mean for each height value:\\n\\n(160 - 166.43)^2 = 43.53\\n(170 - 166.43)^2 = 12.92\\n(165 - 166.43)^2 = 2.05\\n(155 - 166.43)^2 = 130.63\\n(175 - 166.43)^2 = 73.08\\n(180 - 166.43)^2 = 185.01\\n(170 - 166.43)^2 = 12.92\\n\\nNext, we sum up the squared deviations:\\n\\nΣ(x - x̄)^2 = 43.53 + 12.92 + 2.05 + 130.63 + 73.08 + 185.01 + 12.92 = 470.14\\n\\nFinally, we calculate the standard deviation:\\n\\nstandard deviation = √(470.14 / 7) = √67.16 ≈ 8.19\\n\\nTherefore, the standard deviation of the heights is approximately 8.19.'"
      ]
     },
     "execution_count": 22,
     "metadata": {},
     "output_type": "execute_result"
    }
   ],
   "source": [
    "'''7. Scenario: A survey is conducted to measure the heights of a group of people. The data collected is as follows:\n",
    "   [160, 170, 165, 155, 175, 180, 170]\n",
    "   Calculate the standard deviation of the heights.\n",
    "\n",
    "**Solution:**\n",
    "\n",
    "The standard deviation measures the dispersion or spread of a set of data. \n",
    "To calculate the standard deviation of the heights, we can use the following formula:\n",
    "\n",
    "```\n",
    "standard deviation = √(Σ(x - x̄)^2 / N)\n",
    "```\n",
    "\n",
    "where x is each height value, x̄ is the mean of the heights, Σ denotes summation, and N is the number of data points.\n",
    "'''\n",
    "Heights = [160, 170, 165, 155, 175, 180, 170]\n",
    "import numpy as np\n",
    "\n",
    "#calculateh  the mean height (x̄):\n",
    "sample_mean =  np.array(Heights).sum()/ len(np.array(Heights))\n",
    "print('sample_mean = ',sample_mean)\n",
    "\n",
    "'''Then, we calculate the squared deviations from the mean for each height value:\n",
    "\n",
    "(160 - 166.43)^2 = 43.53\n",
    "(170 - 166.43)^2 = 12.92\n",
    "(165 - 166.43)^2 = 2.05\n",
    "(155 - 166.43)^2 = 130.63\n",
    "(175 - 166.43)^2 = 73.08\n",
    "(180 - 166.43)^2 = 185.01\n",
    "(170 - 166.43)^2 = 12.92\n",
    "\n",
    "Next, we sum up the squared deviations:\n",
    "\n",
    "Σ(x - x̄)^2 = 43.53 + 12.92 + 2.05 + 130.63 + 73.08 + 185.01 + 12.92 = 470.14\n",
    "\n",
    "Finally, we calculate the standard deviation:\n",
    "\n",
    "standard deviation = √(470.14 / 7) = √67.16 ≈ 8.19\n",
    "\n",
    "Therefore, the standard deviation of the heights is approximately 8.19.'''\n",
    "\n"
   ]
  },
  {
   "cell_type": "code",
   "execution_count": 20,
   "id": "b2f69ea6",
   "metadata": {},
   "outputs": [
    {
     "name": "stdout",
     "output_type": "stream",
     "text": [
      "Slope: -0.468085106382979\n",
      "Intercept: 8.595744680851064\n"
     ]
    },
    {
     "data": {
      "text/plain": [
       "'The output will provide the slope and intercept of the regression line. \\nThe slope represents the change in job satisfaction for every unit change in employee tenure, \\nand the intercept represents the predicted job satisfaction when employee tenure is zero.'"
      ]
     },
     "execution_count": 20,
     "metadata": {},
     "output_type": "execute_result"
    }
   ],
   "source": [
    "'''8. Scenario: A company wants to analyze the relationship between employee tenure and job satisfaction. The data collected is as follows:\n",
    "   Employee Tenure (in years): [2, 3, 5, 4, 6, 2, 4]\n",
    "   Job Satisfaction (on a scale of 1 to 10): [7, 8, 6, 9, 5, 7, 6]\n",
    "   Perform a linear regression analysis to predict job satisfaction based on employee tenure.\n",
    "\n",
    "**Solution:**\n",
    "\n",
    "Linear regression analysis is used to model the relationship between two variables and predict the value of one variable based on the value of another variable. In this case, we want to predict job satisfaction based on employee tenure.\n",
    "\n",
    "Employee Tenure (in years): [2, 3, 5, 4, 6, 2, 4]\n",
    "Job Satisfaction (on a scale of 1 to 10): [7, 8, 6, 9, 5, 7, 6]\n",
    "\n",
    "We can use statistical software or Python libraries like NumPy and SciPy to perform the linear regression analysis. \n",
    "'''\n",
    "import numpy as np\n",
    "\n",
    "employee_tenure = np.array([2, 3, 5, 4, 6, 2, 4])\n",
    "job_satisfaction = np.array([7, 8, 6, 9, 5, 7, 6])\n",
    "\n",
    "slope, intercept = np.polyfit(employee_tenure, job_satisfaction, 1)\n",
    "\n",
    "print(\"Slope:\", slope)\n",
    "print(\"Intercept:\", intercept)\n",
    "\n",
    "\n",
    "'''The output will provide the slope and intercept of the regression line. \n",
    "The slope represents the change in job satisfaction for every unit change in employee tenure, \n",
    "and the intercept represents the predicted job satisfaction when employee tenure is zero.'''\n",
    "\n",
    "#The slope and intercept can be used to create the regression equation. In this case, the equation is:\n",
    "\n",
    "#job_satisfaction = slope * employee_tenure + intercept\n",
    "\n",
    "#Therefore, the linear regression equation for predicting job satisfaction based on employee tenure is \n",
    "#job_satisfaction = 0.114 * employee_tenure + 6.171.\n",
    "\n"
   ]
  },
  {
   "cell_type": "code",
   "execution_count": 18,
   "id": "08ad2127",
   "metadata": {},
   "outputs": [
    {
     "name": "stdout",
     "output_type": "stream",
     "text": [
      "There is a significant difference in the mean recovery times between the two medications.\n"
     ]
    },
    {
     "data": {
      "text/plain": [
       "'The output of the ANOVA will provide the F-statistic and p-value. \\nIf the p-value is less than the chosen significance level (e.g., 0.05), \\nwe can conclude that there is a significant difference in the mean recovery times between the two medications.'"
      ]
     },
     "execution_count": 18,
     "metadata": {},
     "output_type": "execute_result"
    }
   ],
   "source": [
    "'''9. Scenario: A study is conducted to compare the effectiveness of two different medications. \n",
    "The recovery times of the patients in each group are as follows:\n",
    "   Medication A: [10, 12, 14, 11, 13]\n",
    "   Medication B: [15, 17, 16, 14, 18]\n",
    "   Perform an analysis of variance (ANOVA) to determine if there is a significant difference in the mean recovery \n",
    "   times between the two medications.\n",
    "\n",
    "**Solution:**\n",
    "\n",
    "Analysis of variance (ANOVA) is used to determine if there is a significant difference in the means of three or more groups. \n",
    "In this case, we want to compare the mean recovery times between two medications.\n",
    "\n",
    "Medication A: [10, 12, 14, 11, 13]\n",
    "Medication B: [15, 17, 16, 14, 18]\n",
    "\n",
    "We can use statistical software or Python libraries like SciPy or StatsModels to perform the ANOVA.'''\n",
    "\n",
    "from scipy.stats import f_oneway\n",
    "\n",
    "medication_a = [10, 12, 14, 11, 13]\n",
    "medication_b = [15, 17, 16, 14, 18]\n",
    "\n",
    "f_statistic, p_value = f_oneway(medication_a, medication_b)\n",
    "\n",
    "# Assuming a significance level of 0.05\n",
    "if p_value < 0.05:\n",
    "    print(\"There is a significant difference in the mean recovery times between the two medications.\")\n",
    "else:\n",
    "    print(\"There is no significant difference in the mean recovery times between the two medications.\")\n",
    "\n",
    "\n",
    "'''The output of the ANOVA will provide the F-statistic and p-value. \n",
    "If the p-value is less than the chosen significance level (e.g., 0.05), \n",
    "we can conclude that there is a significant difference in the mean recovery times between the two medications.'''\n",
    "\n"
   ]
  },
  {
   "cell_type": "code",
   "execution_count": 15,
   "id": "87e44aed",
   "metadata": {},
   "outputs": [
    {
     "name": "stdout",
     "output_type": "stream",
     "text": [
      "75th position % =  8.5\n"
     ]
    }
   ],
   "source": [
    "'''10. Scenario: A company wants to analyze customer feedback ratings on a scale of 1 to 10. The data collected is as follows:\n",
    "    [8, 9, 7, 6, 8, 10, 9, 8, 7, 8]\n",
    "    Calculate the 75th percentile of the feedback ratings.\n",
    "\n",
    "**Solution:**'''\n",
    "data= [8, 9, 7, 6, 8, 10, 9, 8, 7, 8]\n",
    "\n",
    "\n",
    "Percentile_Position = (75 / 100) * len(data)+1\n",
    "\n",
    "print('75th position % = ',Percentile_Position)\n",
    "\n",
    "#Since the position is not an integer, we can take the average of the values at positions 8 and 9 \n",
    "#to calculate the 75th percentile:\n",
    "\n",
    "#75th Percentile = (8 + 9) / 2 = 8.5\n",
    "\n",
    "\n",
    "\n"
   ]
  },
  {
   "cell_type": "code",
   "execution_count": 17,
   "id": "e45420d9",
   "metadata": {},
   "outputs": [
    {
     "name": "stdout",
     "output_type": "stream",
     "text": [
      "The mean weight does not differ significantly from10 grams.\n"
     ]
    },
    {
     "data": {
      "text/plain": [
       "'The output of the t-test will provide the t-statistic and p-value. \\nIf the p-value is less than the chosen significance level (e.g., 0.05), \\nwe can reject the null hypothesis and conclude that the mean weight differs significantly from 10 grams.'"
      ]
     },
     "execution_count": 17,
     "metadata": {},
     "output_type": "execute_result"
    }
   ],
   "source": [
    "'''11. Scenario: A quality control department wants to test the weight consistency of a product. The weights of a sample of products are as follows:\n",
    "    [10.2, 9.8, 10.0, 10.5, 10.3, 10.1]\n",
    "    Perform a hypothesis test to determine if the mean weight differs significantly from 10 grams.\n",
    "\n",
    "**Solution:**\n",
    "\n",
    "To perform a hypothesis test to determine if the mean weight differs significantly from 10 grams, \n",
    "we can use a one-sample t-test. The null hypothesis (H0) is that the mean weight is equal to 10 grams, \n",
    "and the alternative hypothesis (Ha) is that the mean weight differs from 10 grams.\n",
    "\n",
    "Weights = [10.2, 9.8, 10.0, 10.5, 10.3, 10.1]\n",
    "\n",
    "We can use statistical software or Python libraries like SciPy to perform the t-test.'''\n",
    "\n",
    "from scipy.stats import ttest_1samp\n",
    "\n",
    "weights = [10.2, 9.8, 10.0, 10.5, 10.3, 10.1]\n",
    "\n",
    "t_statistic, p_value = ttest_1samp(weights, 10)\n",
    "\n",
    "# Assuming a significance level of 0.05\n",
    "if p_value < 0.05:\n",
    "    print(\"The mean weight differs significantly from 10 grams.\")\n",
    "else:\n",
    "    print(\"The mean weight does not differ significantly from10 grams.\")\n",
    "\n",
    "\n",
    "'''The output of the t-test will provide the t-statistic and p-value. \n",
    "If the p-value is less than the chosen significance level (e.g., 0.05), \n",
    "we can reject the null hypothesis and conclude that the mean weight differs significantly from 10 grams.'''\n",
    "\n"
   ]
  },
  {
   "cell_type": "code",
   "execution_count": 10,
   "id": "25eace8b",
   "metadata": {},
   "outputs": [
    {
     "name": "stdout",
     "output_type": "stream",
     "text": [
      "There is no significant difference in the click-through rates between the two designs.\n"
     ]
    },
    {
     "data": {
      "text/plain": [
       "'The output of the chi-square test will provide the chi-square statistic and p-value. \\nIf the p-value is less than the chosen significance level (e.g., 0.05), we can conclude that there is a significant \\ndifference in the click-through rates between the two designs.'"
      ]
     },
     "execution_count": 10,
     "metadata": {},
     "output_type": "execute_result"
    }
   ],
   "source": [
    "'''12. Scenario: A company wants to analyze the click-through rates of two different website designs. The number of clicks for each design is as follows:\n",
    "    Design A: [100, 120, 110, 90, 95]\n",
    "    Design B: [80, 85, 90, 95, 100]\n",
    "    Perform a chi-square test to determine if there is a significant difference in the click-through rates between the two designs.\n",
    "\n",
    "**Solution:**\n",
    "\n",
    "The chi-square test is used to determine if there is a significant association between two categorical variables. In this case, we want to test if there is a significant difference in the click-through rates between two website designs.\n",
    "\n",
    "Design A: [100, 120, 110, 90, 95]\n",
    "Design B: [80, 85, 90, 95, 100]\n",
    "\n",
    "We can use statistical software or Python libraries like SciPy or StatsModels to perform the chi-square test.\n",
    "'''\n",
    "from scipy.stats import chi2_contingency\n",
    "\n",
    "design_a = [100, 120, 110, 90, 95]\n",
    "design_b = [80, 85, 90, 95, 100]\n",
    "\n",
    "observed = [design_a, design_b]\n",
    "\n",
    "chi2_statistic, p_value, _, _ = chi2_contingency(observed)\n",
    "\n",
    "# Assuming a significance level of 0.05\n",
    "if p_value < 0.05:\n",
    "    print(\"There is a significant difference in the click-through rates between the two designs.\")\n",
    "else:\n",
    "    print(\"There is no significant difference in the click-through rates between the two designs.\")\n",
    "\n",
    "\n",
    "'''The output of the chi-square test will provide the chi-square statistic and p-value. \n",
    "If the p-value is less than the chosen significance level (e.g., 0.05), we can conclude that there is a significant \n",
    "difference in the click-through rates between the two designs.'''\n",
    "\n"
   ]
  },
  {
   "cell_type": "code",
   "execution_count": 8,
   "id": "a7990148",
   "metadata": {},
   "outputs": [
    {
     "name": "stdout",
     "output_type": "stream",
     "text": [
      "8.285204719597255\n",
      "7.514795280402745\n"
     ]
    }
   ],
   "source": [
    "'''13. Scenario: A survey is conducted to measure customer satisfaction with a product on a scale of 1 to 10. \n",
    "    The data collected is as follows:\n",
    "    [7, 9, 6, 8, 10, 7, 8, 9, 7, 8]\n",
    "    Calculate the 95% confidence interval for the population mean satisfaction score.\n",
    "\n",
    "**Solution:**\n",
    "\n",
    "A confidence interval provides a range of values within which the population parameter is likely to fall. To calculate the 95% confidence interval for the population mean satisfaction score, we can use the following formula:\n",
    "\n",
    "```\n",
    "confidence interval = sample mean ± (critical value * standard error)\n",
    "```\n",
    "\n",
    "where the critical value is obtained from the t-distribution table for the desired confidence level, \n",
    "and the standard error is calculated as the standard deviation of the sample divided by the square root of the sample size.'''\n",
    "import numpy as np\n",
    "import math\n",
    "Satisfaction_Scores= [7, 9, 6, 8, 10, 7, 8, 9, 7, 8]\n",
    "\n",
    "arr = np.array(Satisfaction_Scores)\n",
    "sample_mean= arr.mean()\n",
    "deviation_sum = 0\n",
    "for i in range(len(Satisfaction_Scores)):\n",
    "   deviation_sum += (Satisfaction_Scores[i]- sample_mean)**2\n",
    "   psd = math.sqrt((deviation_sum)/len(Satisfaction_Scores))\n",
    "\n",
    "#calculating sample standard deviation of the dataset\n",
    "ssd = math.sqrt((deviation_sum)/len(Satisfaction_Scores) - 1) \n",
    "\n",
    "\n",
    "\n",
    "\n",
    "# standard error:\n",
    "\n",
    "Standard_Error = ssd / math.sqrt(len(Satisfaction_Scores))\n",
    "\n",
    "'''The critical value for a 95% confidence level can be obtained from the t-distribution table. For simplicity, \n",
    "let's assume the critical value is 2.262 (corresponding to a sample size of 10 and a two-tailed test).\n",
    "'''\n",
    "#Finally, we calculate the confidence interval:\n",
    "\n",
    "Confidence_Interval1 = sample_mean + (2.262 * Standard_Error)\n",
    "Confidence_Interval2 = sample_mean - (2.262 * Standard_Error)\n",
    "\n",
    "print(Confidence_Interval1)\n",
    "print(Confidence_Interval2)\n",
    "\n",
    "#Therefore, the 95% confidence interval for the population mean satisfaction score is approximately (7.163, 8.637).\n",
    "\n"
   ]
  },
  {
   "cell_type": "code",
   "execution_count": 29,
   "id": "a1b083e1",
   "metadata": {},
   "outputs": [
    {
     "name": "stdout",
     "output_type": "stream",
     "text": [
      "Slope: 0.5000000000000014\n",
      "Intercept: -2.9000000000000368\n"
     ]
    }
   ],
   "source": [
    "'''14. Scenario: A company wants to analyze the effect of temperature on product performance. The data collected is as follows:\n",
    "    Temperature (in degrees Celsius): [20, 22, 23, 19, 21]\n",
    "    Performance (on a scale of 1 to 10): [8, 7, 9, 6, 8]\n",
    "    Perform a simple linear regression to predict performance based on temperature.\n",
    "\n",
    "**Solution:**\n",
    "\n",
    "Simple linear regression is used to model the relationship between two continuous variables. \n",
    "In this case, we want to predict performance based on temperature.\n",
    "\n",
    "Temperature\n",
    "\n",
    "(in degrees Celsius): [20, 22, 23, 19, 21]\n",
    "Performance (on a scale of 1 to 10): [8, 7, 9, 6, 8]\n",
    "\n",
    "We can use statistical software or Python libraries like NumPy and SciPy to perform the linear regression analysis. \n",
    "'''\n",
    "import numpy as np\n",
    "\n",
    "temperature = np.array([20, 22, 23, 19, 21])\n",
    "performance = np.array([8, 7, 9, 6, 8])\n",
    "\n",
    "slope, intercept = np.polyfit(temperature, performance, 1)\n",
    "\n",
    "print(\"Slope:\", slope)\n",
    "print(\"Intercept:\", intercept)\n",
    "\n",
    "\n",
    "'''The output will provide the slope and intercept of the regression line. The slope represents the change in \n",
    "performance for every one-unit change in temperature, and the intercept represents the predicted performance \n",
    "when temperature is zero.'''\n",
    "\n",
    "#The slope and intercept can be used to create the regression equation. In this case, the equation is:\n",
    "\n",
    "#performance = slope * temperature + intercept\n",
    "\n",
    "#Therefore, the linear regression equation for predicting performance based on temperature is \n",
    "performance = 0.3 * temperature + 3.1\n",
    "\n"
   ]
  },
  {
   "cell_type": "code",
   "execution_count": 26,
   "id": "c81d4362",
   "metadata": {},
   "outputs": [
    {
     "name": "stdout",
     "output_type": "stream",
     "text": [
      "There is no significant difference in the median preferences between the two groups.\n"
     ]
    },
    {
     "data": {
      "text/plain": [
       "'The output of the Mann-Whitney U test will provide the test statistic and p-value. \\nIf the p-value is less than the chosen significance level (e.g., 0.05), we can conclude that there is a \\nsignificant difference in the median preferences between the two groups.'"
      ]
     },
     "execution_count": 26,
     "metadata": {},
     "output_type": "execute_result"
    }
   ],
   "source": [
    "'''15. Scenario: A study is conducted to compare the preferences of two groups of participants. The preferences are measured \n",
    "    on a Likert scale from 1 to 5. The data collected is as follows:\n",
    "    Group A: [4, 3, 5, 2, 4]\n",
    "    Group B: [3, 2, 4, 3, 3]\n",
    "    Perform a Mann-Whitney U test to determine if there is a significant difference in the median preferences between the \n",
    "    two groups.\n",
    "\n",
    "**Solution:**\n",
    "\n",
    "The Mann-Whitney U test is a non-parametric test used to determine if there is a significant difference in the medians of \n",
    "two independent groups. In this case, we want to test if there is a significant difference in the median preferences between \n",
    "Group A and Group B.\n",
    "\n",
    "Group A: [4, 3, 5, 2, 4]\n",
    "Group B: [3, 2, 4, 3, 3]\n",
    "\n",
    "We can use statistical software or Python libraries like SciPy to perform the Mann-Whitney U test.\n",
    "'''\n",
    "\n",
    "from scipy.stats import mannwhitneyu\n",
    "\n",
    "group_a = [4, 3, 5, 2, 4]\n",
    "group_b = [3, 2, 4, 3, 3]\n",
    "\n",
    "statistic, p_value = mannwhitneyu(group_a, group_b)\n",
    "\n",
    "# Assuming a significance level of 0.05\n",
    "if p_value < 0.05:\n",
    "    print(\"There is a significant difference in the median preferences between the two groups.\")\n",
    "else:\n",
    "    print(\"There is no significant difference in the median preferences between the two groups.\")\n",
    "\n",
    "\n",
    "'''The output of the Mann-Whitney U test will provide the test statistic and p-value. \n",
    "If the p-value is less than the chosen significance level (e.g., 0.05), we can conclude that there is a \n",
    "significant difference in the median preferences between the two groups.'''\n",
    "\n"
   ]
  },
  {
   "cell_type": "code",
   "execution_count": 27,
   "id": "01192647",
   "metadata": {},
   "outputs": [
    {
     "name": "stdout",
     "output_type": "stream",
     "text": [
      "Q1 =  2.75\n",
      "Q3 =  8.25\n",
      "35 40\n",
      "65 70\n",
      "IQR =  5.5\n"
     ]
    }
   ],
   "source": [
    "'''16. Scenario: A company wants to analyze the distribution of customer ages. The data collected is as follows:\n",
    "    [25, 30, 35, 40, 45, 50, 55, 60, 65, 70]\n",
    "    Calculate the interquartile range (IQR) of the ages.\n",
    "\n",
    "**Solution:**\n",
    "\n",
    "The interquartile range (IQR) is a measure of statistical dispersion that represents the range between the first \n",
    "quartile (Q1) and the third quartile (Q3) of a data set. To calculate the IQR of the ages, we need to sort the data in \n",
    "ascending order and find the values at the 25th and 75th percentiles.'''\n",
    "\n",
    "Ages= [25, 30, 35, 40, 45, 50, 55, 60, 65, 70]\n",
    "Ages= np.array(Ages)\n",
    "sorted_arr= np.sort(Ages)\n",
    "#sort the data in ascending order:\n",
    "\n",
    "[25, 30, 35, 40, 45, 50, 55, 60, 65, 70]\n",
    "\n",
    "#calculate the positions of the 25th and 75th percentiles:\n",
    "N= len(sorted_arr)\n",
    "#25th_Percentile_Position \n",
    "Q1 = (25 / 100) * (N + 1)\n",
    "\n",
    "#75th_Percentile_Position \n",
    "Q3= (75 / 100) * (N + 1)\n",
    "\n",
    "print('Q1 = ',Q1)\n",
    "print('Q3 = ',Q3)\n",
    "\n",
    "print(sorted_arr[2],sorted_arr[3])\n",
    "print(sorted_arr[8],sorted_arr[9])\n",
    "#Since the positions are not integers, we can take the average of the values at positions 2 and 3 for Q1, \n",
    "#and positions 8 and 9 for Q3:\n",
    "\n",
    "\n",
    "\n",
    "#Finally, we calculate the IQR:\n",
    "\n",
    "IQR = Q3 - Q1 \n",
    "\n",
    "print('IQR = ',IQR)\n",
    "\n"
   ]
  },
  {
   "cell_type": "code",
   "execution_count": 15,
   "id": "d88f1a00",
   "metadata": {},
   "outputs": [
    {
     "name": "stdout",
     "output_type": "stream",
     "text": [
      "There is a significant difference in the median accuracy scores between the algorithms.\n"
     ]
    },
    {
     "data": {
      "text/plain": [
       "'The output of the Kruskal-Wallis test will provide the test statistic and p-value. \\nIf the p-value is less than the chosen significance level (e.g., 0.05), we can conclude that there is a \\nsignificant difference in the median accuracy scores between the algorithms.'"
      ]
     },
     "execution_count": 15,
     "metadata": {},
     "output_type": "execute_result"
    }
   ],
   "source": [
    "'''17. Scenario: A study is conducted to compare the performance of three different machine learning algorithms. \n",
    "    The accuracy scores for each algorithm are as follows:\n",
    "    Algorithm A: [0.85, 0.80, 0.82, 0.87, 0.83]\n",
    "    Algorithm B: [0.78, 0.82, 0.84, 0.80, 0.79]\n",
    "    Algorithm C: [0.90, 0.88, 0.89, 0.86, 0.87]\n",
    "    Perform a Kruskal-Wallis test to determine if there is a significant difference in the median accuracy scores between \n",
    "    the algorithms.\n",
    "\n",
    "**Solution:**\n",
    "\n",
    "The Kruskal-Wallis test is a non-parametric test used to determine if there is a significant difference in the \n",
    "medians of three or more independent groups. In this case, we want to test if there is a significant difference in the\n",
    "median accuracy scores between Algorithm A, Algorithm B, and Algorithm C.\n",
    "\n",
    "Algorithm A: [0.85, 0.80, 0.82, 0.87, 0.83]\n",
    "Algorithm B: [0.78, 0.82, 0.84, 0.80, 0.79]\n",
    "Algorithm C: [0.90, 0.88, 0.89, 0.86, 0.87]\n",
    "\n",
    "We can use statistical software or Python libraries like SciPy to perform the Kruskal-Wallis test. \n",
    "'''\n",
    "from scipy.stats import kruskal\n",
    "\n",
    "algorithm_a = [0.85, 0.80, 0.82, 0.87, 0.83]\n",
    "algorithm_b = [0.78, 0.82, 0.84, 0.80, 0.79]\n",
    "algorithm_c = [0.90, 0.88, 0.89, 0.86, 0.87]\n",
    "\n",
    "statistic, p_value = kruskal(algorithm_a, algorithm_b, algorithm_c)\n",
    "\n",
    "# Assuming a significance level of 0.05\n",
    "if p_value < 0.05:\n",
    "    print(\"There is a significant difference in the median accuracy scores between the algorithms.\")\n",
    "else:\n",
    "    print(\"There is no significant difference in the median accuracy scores between the algorithms.\")\n",
    "\n",
    "\n",
    "'''The output of the Kruskal-Wallis test will provide the test statistic and p-value. \n",
    "If the p-value is less than the chosen significance level (e.g., 0.05), we can conclude that there is a \n",
    "significant difference in the median accuracy scores between the algorithms.'''\n",
    "\n"
   ]
  },
  {
   "cell_type": "code",
   "execution_count": 14,
   "id": "17737820",
   "metadata": {},
   "outputs": [
    {
     "name": "stdout",
     "output_type": "stream",
     "text": [
      "Slope: -3.5060975609756038\n",
      "Intercept: 136.37195121951208\n"
     ]
    }
   ],
   "source": [
    "'''18. Scenario: A company wants to analyze the effect of price on sales. The data collected is as follows:\n",
    "    Price (in dollars): [10, 15, 12, 8, 14]\n",
    "    Sales: [100, 80, 90, 110, 95]\n",
    "    Perform a simple linear regression to predict sales based on price.'''\n",
    "\n",
    "#**Solution:**\n",
    "\n",
    "#Simple linear regression is used to model the relationship between two continuous variables. \n",
    "#In this case, we want to predict sales based on price.\n",
    "\n",
    "#Price (in dollars): [10, 15, 12, 8, 14]\n",
    "#Sales: [100, 80, 90, 110, 95]\n",
    "\n",
    "#using the statistical software or Python libraries like NumPy and SciPy to perform the linear regression analysis. \n",
    "\n",
    "\n",
    "import numpy as np\n",
    "\n",
    "price = np.array([10, 15, 12, 8, 14])\n",
    "sales = np.array([100, 80, 90, 110, 95])\n",
    "\n",
    "slope, intercept = np.polyfit(price, sales, 1)\n",
    "\n",
    "print(\"Slope:\", slope)\n",
    "print(\"Intercept:\", intercept)\n",
    "\n",
    "\n",
    "'''The output will provide the slope and intercept of the regression line. The slope represents the change in sales for \n",
    "every one-unit change in price, and the intercept represents the predicted sales when price is zero.'''\n",
    "\n",
    "#The slope and intercept can be used to create the regression equation. In this case, the equation is:\n",
    "\n",
    "#sales = slope * price + intercept\n",
    "\n",
    "#Therefore, the linear regression equation for predicting sales based on price is \n",
    "sales = -5.25 * price + 140.\n",
    "\n"
   ]
  },
  {
   "cell_type": "code",
   "execution_count": 12,
   "id": "1dce7d69",
   "metadata": {},
   "outputs": [
    {
     "name": "stdout",
     "output_type": "stream",
     "text": [
      "Sample mean =  7.6\n",
      "Standard error =  0.09165151389911681\n"
     ]
    }
   ],
   "source": [
    "'''19. Scenario: A survey is conducted to measure the satisfaction levels of customers with a new product. The data collected is as follows:\n",
    "    [7, 8, 9, 6, 8, 7, 9, 7, 8, 7]\n",
    "    Calculate the standard error of the mean satisfaction score.\n",
    "\n",
    "**Solution:**'''\n",
    "\n",
    "\n",
    "import numpy as np\n",
    "import pandas as pd\n",
    "Satisfaction_Scores= [7, 8, 9, 6, 8, 7, 9, 7, 8, 7]\n",
    "\n",
    "arr= np.array(Satisfaction_Scores)\n",
    "sample_mean = arr.mean()\n",
    "print('Sample mean = ', sample_mean)\n",
    "\n",
    "standard_error = arr.std()/len(arr)\n",
    "print('Standard error = ', standard_error)\n",
    "    \n",
    "\n",
    "\n"
   ]
  },
  {
   "cell_type": "code",
   "execution_count": 2,
   "id": "56d2738c",
   "metadata": {},
   "outputs": [
    {
     "name": "stdout",
     "output_type": "stream",
     "text": [
      "Intercept: 12.20121951219511\n",
      "Coefficient: 1.1524390243902443\n"
     ]
    },
    {
     "data": {
      "text/plain": [
       "'The output will provide the intercept and coefficient of the regression model. The intercept represents the\\npredicted sales when advertising expenditure is zero, and the coefficient represents the change in sales for every one-unit\\nchange in advertising expenditure.\\n\\nThe multiple regression equation is:\\n\\nsales = intercept + coefficient * advertising_expenditure\\n\\nTherefore, the multiple regression equation for predicting sales based on advertising expenditure is:\\n\\nsales =\\n\\n-0.4 + 2.2 * advertising_expenditure.\\n'"
      ]
     },
     "execution_count": 2,
     "metadata": {},
     "output_type": "execute_result"
    }
   ],
   "source": [
    "'''20. Scenario: A company wants to analyze the relationship between advertising expenditure and sales. \n",
    "The data collected is as follows:\n",
    "    Advertising Expenditure (in thousands): [10, 15, 12, 8, 14]\n",
    "    Sales (in thousands): [25, 30, 28, 20, 26]\n",
    "    Perform a multiple regression analysis to predict sales based on advertising expenditure.\n",
    "\n",
    "**Solution:**\n",
    "\n",
    "Multiple regression analysis is used to model the relationship between a dependent variable and multiple independent variables.\n",
    "In this case, we want to predict sales based on advertising expenditure.\n",
    "\n",
    "Advertising Expenditure (in thousands): [10, 15, 12, 8, 14]\n",
    "Sales (in thousands): [25, 30, 28, 20, 26]\n",
    "\n",
    "\n",
    "'''\n",
    "import statsmodels.api as sm\n",
    "import numpy as np\n",
    "\n",
    "advertising_expenditure = np.array([10, 15, 12, 8, 14])\n",
    "sales = np.array([25, 30, 28, 20, 26])\n",
    "\n",
    "# Add a constant term to the independent variable array\n",
    "X = sm.add_constant(advertising_expenditure)\n",
    "\n",
    "# Fit the multiple regression model\n",
    "model = sm.OLS(sales, X)\n",
    "results = model.fit()\n",
    "\n",
    "# Get the coefficients of the regression model\n",
    "intercept = results.params[0]\n",
    "coefficient = results.params[1]\n",
    "\n",
    "print(\"Intercept:\", intercept)\n",
    "print(\"Coefficient:\", coefficient)\n",
    "\n",
    "\n",
    "'''The output will provide the intercept and coefficient of the regression model. The intercept represents the\n",
    "predicted sales when advertising expenditure is zero, and the coefficient represents the change in sales for every one-unit\n",
    "change in advertising expenditure.\n",
    "\n",
    "The multiple regression equation is:\n",
    "\n",
    "sales = intercept + coefficient * advertising_expenditure\n",
    "\n",
    "Therefore, the multiple regression equation for predicting sales based on advertising expenditure is:\n",
    "\n",
    "sales = -0.4 + 2.2 * advertising_expenditure.\n"
   ]
  },
  {
   "cell_type": "code",
   "execution_count": null,
   "id": "83cdf75e",
   "metadata": {},
   "outputs": [],
   "source": []
  }
 ],
 "metadata": {
  "kernelspec": {
   "display_name": "Python 3 (ipykernel)",
   "language": "python",
   "name": "python3"
  },
  "language_info": {
   "codemirror_mode": {
    "name": "ipython",
    "version": 3
   },
   "file_extension": ".py",
   "mimetype": "text/x-python",
   "name": "python",
   "nbconvert_exporter": "python",
   "pygments_lexer": "ipython3",
   "version": "3.10.9"
  }
 },
 "nbformat": 4,
 "nbformat_minor": 5
}
