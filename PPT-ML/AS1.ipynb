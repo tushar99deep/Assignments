{
 "cells": [
  {
   "cell_type": "code",
   "execution_count": 1,
   "id": "c0cb75c0",
   "metadata": {},
   "outputs": [
    {
     "name": "stdout",
     "output_type": "stream",
     "text": [
      "!dlroW ,olleH\n"
     ]
    }
   ],
   "source": [
    "#1. Write a Python program to reverse a string without using any built-in string reversal functions.\n",
    "\n",
    "def reverse_string(s):\n",
    "    reversed_string = \"\"\n",
    "    for i in range(len(s) - 1, -1, -1):\n",
    "        reversed_string += s[i]\n",
    "    return reversed_string\n",
    "\n",
    "# Example usage\n",
    "input_string = \"Hello, World!\"\n",
    "reversed = reverse_string(input_string)\n",
    "print(reversed)\n",
    "\n",
    "\n",
    "\n"
   ]
  },
  {
   "cell_type": "code",
   "execution_count": 2,
   "id": "df6e5596",
   "metadata": {},
   "outputs": [
    {
     "name": "stdout",
     "output_type": "stream",
     "text": [
      "True\n"
     ]
    }
   ],
   "source": [
    "#2. Implement a function to check if a given string is a palindrome.\n",
    "\n",
    "def is_palindrome(s):\n",
    "    reversed_string = reverse_string(s)\n",
    "    return s == reversed_string\n",
    "\n",
    "# Example usage\n",
    "input_string = \"radar\"\n",
    "is_pal = is_palindrome(input_string)\n",
    "print(is_pal)\n"
   ]
  },
  {
   "cell_type": "code",
   "execution_count": 3,
   "id": "a744bd64",
   "metadata": {},
   "outputs": [
    {
     "name": "stdout",
     "output_type": "stream",
     "text": [
      "25\n"
     ]
    }
   ],
   "source": [
    "#3. Write a program to find the largest element in a given list.\n",
    "\n",
    "def find_largest_element(lst):\n",
    "    largest = lst[0]\n",
    "    for num in lst:\n",
    "        if num > largest:\n",
    "            largest = num\n",
    "    return largest\n",
    "\n",
    "# Example usage\n",
    "numbers = [10, 5, 20, 15, 25]\n",
    "largest_num = find_largest_element(numbers)\n",
    "print(largest_num)\n",
    "\n",
    "\n"
   ]
  },
  {
   "cell_type": "code",
   "execution_count": 4,
   "id": "6c001d72",
   "metadata": {},
   "outputs": [
    {
     "name": "stdout",
     "output_type": "stream",
     "text": [
      "{1: 2, 2: 3, 3: 1, 4: 3, 5: 1}\n"
     ]
    }
   ],
   "source": [
    "#4. Implement a function to count the occurrence of each element in a list.\n",
    "\n",
    "def count_occurrences(lst):\n",
    "    occurrence_count = {}\n",
    "    for element in lst:\n",
    "        if element in occurrence_count:\n",
    "            occurrence_count[element] += 1\n",
    "        else:\n",
    "            occurrence_count[element] = 1\n",
    "    return occurrence_count\n",
    "\n",
    "# Example usage\n",
    "numbers = [1, 2, 1, 3, 2, 2, 4, 5, 4, 4]\n",
    "occurrences = count_occurrences(numbers)\n",
    "print(occurrences)\n",
    "\n",
    "\n"
   ]
  },
  {
   "cell_type": "code",
   "execution_count": 5,
   "id": "02c084a5",
   "metadata": {},
   "outputs": [
    {
     "name": "stdout",
     "output_type": "stream",
     "text": [
      "20\n"
     ]
    }
   ],
   "source": [
    "#5. Write a Python program to find the second largest number in a list.\n",
    "\n",
    "def find_second_largest(lst):\n",
    "    largest = float('-inf')\n",
    "    second_largest = float('-inf')\n",
    "    for num in lst:\n",
    "        if num > largest:\n",
    "            second_largest = largest\n",
    "            largest = num\n",
    "        elif num > second_largest and num != largest:\n",
    "            second_largest = num\n",
    "    return second_largest\n",
    "\n",
    "# Example usage\n",
    "numbers = [10, 5, 20, 15, 25]\n",
    "second_largest = find_second_largest(numbers)\n",
    "print(second_largest)\n"
   ]
  },
  {
   "cell_type": "code",
   "execution_count": 6,
   "id": "5705f3c2",
   "metadata": {},
   "outputs": [
    {
     "name": "stdout",
     "output_type": "stream",
     "text": [
      "[1, 2, 3, 4, 5]\n"
     ]
    }
   ],
   "source": [
    "#6. Implement a function to remove duplicate elements from a list.\n",
    "\n",
    "def remove_duplicates(lst):\n",
    "    unique_lst = []\n",
    "    for element in lst:\n",
    "        if element not in unique_lst:\n",
    "            unique_lst.append(element)\n",
    "    return unique_lst\n",
    "\n",
    "# Example usage\n",
    "numbers = [1, 2, 2, 3, 4, 4, 5]\n",
    "unique_numbers = remove_duplicates(numbers)\n",
    "print(unique_numbers)\n",
    "\n",
    "\n",
    "\n"
   ]
  },
  {
   "cell_type": "code",
   "execution_count": 7,
   "id": "ec5986ef",
   "metadata": {},
   "outputs": [
    {
     "name": "stdout",
     "output_type": "stream",
     "text": [
      "120\n"
     ]
    }
   ],
   "source": [
    "#7. Write a program to calculate the factorial of a given number.\n",
    "\n",
    "def factorial(n):\n",
    "    if n == 0 or n == 1:\n",
    "        return 1\n",
    "    else:\n",
    "        return n * factorial(n-1)\n",
    "\n",
    "# Example usage\n",
    "number = 5\n",
    "factorial_value = factorial(number)\n",
    "print(factorial_value)\n",
    "\n"
   ]
  },
  {
   "cell_type": "code",
   "execution_count": 8,
   "id": "327edd8b",
   "metadata": {},
   "outputs": [
    {
     "name": "stdout",
     "output_type": "stream",
     "text": [
      "True\n"
     ]
    }
   ],
   "source": [
    "#8. Implement a function to check if a given number is prime.\n",
    "\n",
    "def is_prime(n):\n",
    "    if n <= 1:\n",
    "        return False\n",
    "    for i in range(2, int(n**0.5) + 1):\n",
    "        if n % i == 0:\n",
    "            return False\n",
    "    return True\n",
    "\n",
    "# Example usage\n",
    "number = 13\n",
    "is_prime_number = is_prime(number)\n",
    "print(is_prime_number)\n",
    "\n",
    "\n",
    "\n"
   ]
  },
  {
   "cell_type": "code",
   "execution_count": 9,
   "id": "2f66ae68",
   "metadata": {},
   "outputs": [
    {
     "name": "stdout",
     "output_type": "stream",
     "text": [
      "[1, 2, 5, 8, 9]\n"
     ]
    }
   ],
   "source": [
    "#9. Write a Python program to sort a list of integers in ascending order.\n",
    "\n",
    "def sort_list(lst):\n",
    "    sorted_lst = sorted(lst)\n",
    "    return sorted_lst\n",
    "\n",
    "# Example usage\n",
    "numbers = [5, 2, 8, 1, 9]\n",
    "sorted_numbers = sort_list(numbers)\n",
    "print(sorted_numbers)\n"
   ]
  },
  {
   "cell_type": "code",
   "execution_count": 10,
   "id": "6d2cbd0f",
   "metadata": {},
   "outputs": [
    {
     "name": "stdout",
     "output_type": "stream",
     "text": [
      "15\n"
     ]
    }
   ],
   "source": [
    "#10. Implement a function to find the sum of all numbers in a list.\n",
    "\n",
    "def calculate_sum(lst):\n",
    "    total_sum = sum(lst)\n",
    "    return total_sum\n",
    "\n",
    "# Example usage\n",
    "numbers = [1, 2, 3, 4, 5]\n",
    "sum_of_numbers = calculate_sum(numbers)\n",
    "print(sum_of_numbers)\n"
   ]
  },
  {
   "cell_type": "code",
   "execution_count": 11,
   "id": "1dadaaee",
   "metadata": {},
   "outputs": [
    {
     "name": "stdout",
     "output_type": "stream",
     "text": [
      "[4, 5]\n"
     ]
    }
   ],
   "source": [
    "#11. Write a program to find the common elements between two lists.\n",
    "\n",
    "\n",
    "def find_common_elements(list1, list2):\n",
    "    common_elements = []\n",
    "    for element in list1:\n",
    "        if element in list2:\n",
    "            common_elements.append(element)\n",
    "    return common_elements\n",
    "\n",
    "# Example usage\n",
    "list1 = [1, 2, 3, 4, 5]\n",
    "list2 = [4, 5, 6, 7, 8]\n",
    "common_elements = find_common_elements(list1, list2)\n",
    "print(common_elements)\n",
    "\n",
    "\n",
    "\n"
   ]
  },
  {
   "cell_type": "code",
   "execution_count": 12,
   "id": "cc64e8c2",
   "metadata": {},
   "outputs": [
    {
     "name": "stdout",
     "output_type": "stream",
     "text": [
      "True\n"
     ]
    }
   ],
   "source": [
    "#12. Implement a function to check if a given string is an anagram of another string.\n",
    "\n",
    "\n",
    "def is_anagram(str1, str2):\n",
    "    sorted_str1 = sorted(str1)\n",
    "    sorted_str2 = sorted(str2)\n",
    "    return sorted_str1 == sorted_str2\n",
    "\n",
    "# Example usage\n",
    "string1 = \"listen\"\n",
    "string2 = \"silent\"\n",
    "is_anagram_result = is_anagram(string1, string2)\n",
    "print(is_anagram_result)\n"
   ]
  },
  {
   "cell_type": "code",
   "execution_count": 13,
   "id": "fbb4a266",
   "metadata": {},
   "outputs": [
    {
     "name": "stdout",
     "output_type": "stream",
     "text": [
      "['abc', 'acb', 'bac', 'bca', 'cab', 'cba']\n"
     ]
    }
   ],
   "source": [
    "#13. Write a Python program to generate all permutations of a given string.\n",
    "\n",
    "\n",
    "import itertools\n",
    "\n",
    "def generate_permutations(string):\n",
    "    permutations = list(itertools.permutations(string))\n",
    "    return [''.join(permutation) for permutation in permutations]\n",
    "\n",
    "# Example usage\n",
    "string = \"abc\"\n",
    "permutations = generate_permutations(string)\n",
    "print(permutations)\n",
    "\n"
   ]
  },
  {
   "cell_type": "code",
   "execution_count": 14,
   "id": "7cbf15b4",
   "metadata": {},
   "outputs": [
    {
     "name": "stdout",
     "output_type": "stream",
     "text": [
      "[0, 1, 1, 2, 3, 5, 8, 13]\n"
     ]
    }
   ],
   "source": [
    "#14. Implement a function to calculate the Fibonacci sequence up to a given number of terms.\n",
    "\n",
    "\n",
    "def fibonacci_sequence(n):\n",
    "    sequence = [0, 1]\n",
    "    while len(sequence) < n:\n",
    "        next_num = sequence[-1] + sequence[-2]\n",
    "        sequence.append(next_num)\n",
    "    return sequence\n",
    "\n",
    "# Example usage\n",
    "num_terms = 8\n",
    "fibonacci_seq = fibonacci_sequence(num_terms)\n",
    "print(fibonacci_seq)\n"
   ]
  },
  {
   "cell_type": "code",
   "execution_count": 15,
   "id": "2bea9b74",
   "metadata": {},
   "outputs": [
    {
     "name": "stdout",
     "output_type": "stream",
     "text": [
      "5\n"
     ]
    }
   ],
   "source": [
    "#15. Write a program to find the median of a list of numbers.\n",
    "\n",
    "def find_median(numbers):\n",
    "    sorted_numbers = sorted(numbers)\n",
    "    n = len(sorted_numbers)\n",
    "    if n % 2 == 0:\n",
    "        median = (sorted_numbers[n//2-1] + sorted_numbers[n//2]) / 2\n",
    "    else:\n",
    "        median = sorted_numbers[n//2]\n",
    "    return median\n",
    "\n",
    "# Example usage\n",
    "numbers = [7, 3, 9, 2, 5]\n",
    "median = find_median(numbers)\n",
    "print(median)\n"
   ]
  },
  {
   "cell_type": "code",
   "execution_count": 16,
   "id": "bedace42",
   "metadata": {},
   "outputs": [
    {
     "name": "stdout",
     "output_type": "stream",
     "text": [
      "True\n",
      "False\n"
     ]
    }
   ],
   "source": [
    "#16. Implement a function to check if a given list is sorted in non-decreasing order.\n",
    "\n",
    "def is_sorted(numbers):\n",
    "    for i in range(1, len(numbers)):\n",
    "        if numbers[i] < numbers[i-1]:\n",
    "            return False\n",
    "    return True\n",
    "\n",
    "# Example usage\n",
    "numbers1 = [1, 2, 3, 4, 5]\n",
    "numbers2 = [7, 2, 9, 5, 3]\n",
    "is_sorted_result1 = is_sorted(numbers1)\n",
    "is_sorted_result2 = is_sorted(numbers2)\n",
    "print(is_sorted_result1)  # True\n",
    "print(is_sorted_result2)  # False\n",
    "\n",
    "\n",
    "\n",
    "\n",
    "\n"
   ]
  },
  {
   "cell_type": "code",
   "execution_count": 17,
   "id": "73908fab",
   "metadata": {},
   "outputs": [
    {
     "name": "stdout",
     "output_type": "stream",
     "text": [
      "[4, 5]\n"
     ]
    }
   ],
   "source": [
    "#17. Write a Python program to find the intersection of two lists.\n",
    "\n",
    "\n",
    "def find_intersection(list1, list2):\n",
    "    return list(set(list1) & set(list2))\n",
    "\n",
    "# Example usage\n",
    "list1 = [1, 2, 3, 4, 5]\n",
    "list2 = [4, 5, 6, 7, 8]\n",
    "intersection = find_intersection(list1, list2)\n",
    "print(intersection)\n"
   ]
  },
  {
   "cell_type": "code",
   "execution_count": 18,
   "id": "eee9c2fd",
   "metadata": {},
   "outputs": [
    {
     "name": "stdout",
     "output_type": "stream",
     "text": [
      "6\n"
     ]
    }
   ],
   "source": [
    "#18. Implement a function to find the maximum subarray sum in a given list.\n",
    "\n",
    "\n",
    "def max_subarray_sum(numbers):\n",
    "    max_sum = current_sum = numbers[0]\n",
    "    for num in numbers[1:]:\n",
    "        current_sum = max(num, current_sum + num)\n",
    "        max_sum = max(max_sum, current_sum)\n",
    "    return max_sum\n",
    "\n",
    "# Example usage\n",
    "numbers = [-2, 1, -3, 4, -1, 2, 1, -5, 4]\n",
    "max_sum = max_subarray_sum(numbers)\n",
    "print(max_sum)\n"
   ]
  },
  {
   "cell_type": "code",
   "execution_count": 19,
   "id": "6ed50f00",
   "metadata": {},
   "outputs": [
    {
     "name": "stdout",
     "output_type": "stream",
     "text": [
      "Hll, Wrld!\n"
     ]
    }
   ],
   "source": [
    "#19. Write a program to remove all vowels from a given string.\n",
    "\n",
    "\n",
    "def remove_vowels(string):\n",
    "    vowels = 'aeiouAEIOU'\n",
    "    return ''.join(char for char in string if char not in vowels)\n",
    "\n",
    "\n",
    "string = \"Hello, World!\"\n",
    "new_string = remove_vowels(string)\n",
    "print(new_string)\n",
    "\n"
   ]
  },
  {
   "cell_type": "code",
   "execution_count": 20,
   "id": "ce309668",
   "metadata": {},
   "outputs": [
    {
     "name": "stdout",
     "output_type": "stream",
     "text": [
      "you? are how Hello,\n"
     ]
    }
   ],
   "source": [
    "#20. Implement a function to reverse the order of words in a given sentence.\n",
    "\n",
    "\n",
    "def reverse_words(sentence):\n",
    "    words = sentence.split()\n",
    "    reversed_words = ' '.join(words[::-1])\n",
    "    return reversed_words\n",
    "\n",
    "\n",
    "sentence = \"Hello, how are you?\"\n",
    "reversed_sentence = reverse_words(sentence)\n",
    "print(reversed_sentence)\n"
   ]
  },
  {
   "cell_type": "code",
   "execution_count": 21,
   "id": "8b4b723c",
   "metadata": {},
   "outputs": [
    {
     "name": "stdout",
     "output_type": "stream",
     "text": [
      "True\n"
     ]
    }
   ],
   "source": [
    "#21. Write a Python program to check if two strings are anagrams of each other.\n",
    "\n",
    "def are_anagrams(str1, str2):\n",
    "    return sorted(str1) == sorted(str2)\n",
    "\n",
    "# Example usage\n",
    "string1 = \"listen\"\n",
    "string2 = \"silent\"\n",
    "is_anagram = are_anagrams(string1, string2)\n",
    "print(is_anagram)"
   ]
  },
  {
   "cell_type": "code",
   "execution_count": 22,
   "id": "a96d88c6",
   "metadata": {},
   "outputs": [
    {
     "name": "stdout",
     "output_type": "stream",
     "text": [
      "c\n"
     ]
    }
   ],
   "source": [
    "#22. Implement a function to find the first non-repeating character in a string.\n",
    "\n",
    "def find_first_non_repeating_character(string):\n",
    "    char_count = {}\n",
    "    for char in string:\n",
    "        char_count[char] = char_count.get(char, 0) + 1\n",
    "    for char in string:\n",
    "        if char_count[char] == 1:\n",
    "            return char\n",
    "    return None\n",
    "\n",
    "# Example usage\n",
    "string = \"abracadabra\"\n",
    "non_repeating_char = find_first_non_repeating_character(string)\n",
    "print(non_repeating_char)"
   ]
  },
  {
   "cell_type": "code",
   "execution_count": 23,
   "id": "7ea7143a",
   "metadata": {},
   "outputs": [
    {
     "name": "stdout",
     "output_type": "stream",
     "text": [
      "[2, 2, 3, 3]\n"
     ]
    }
   ],
   "source": [
    "#23. Write a program to find the prime factors of a given number.\n",
    "\n",
    "def find_prime_factors(number):\n",
    "    factors = []\n",
    "    divisor = 2\n",
    "    while divisor <= number:\n",
    "        if number % divisor == 0:\n",
    "            factors.append(divisor)\n",
    "            number = number // divisor\n",
    "        else:\n",
    "            divisor += 1\n",
    "    return factors\n",
    "\n",
    "# Example usage\n",
    "number = 36\n",
    "prime_factors = find_prime_factors(number)\n",
    "print(prime_factors)"
   ]
  },
  {
   "cell_type": "code",
   "execution_count": 24,
   "id": "68aa0483",
   "metadata": {},
   "outputs": [
    {
     "name": "stdout",
     "output_type": "stream",
     "text": [
      "True\n",
      "False\n"
     ]
    }
   ],
   "source": [
    "#24. Implement a function to check if a given number is a power of two.\n",
    "\n",
    "\n",
    "def is_power_of_two(number):\n",
    "    if number <= 0:\n",
    "        return False\n",
    "    return (number & (number - 1)) == 0\n",
    "\n",
    "# Example usage\n",
    "num1 = 16\n",
    "num2 = 9\n",
    "is_power_of_two_num1 = is_power_of_two(num1)\n",
    "is_power_of_two_num2 = is_power_of_two(num2)\n",
    "print(is_power_of_two_num1)\n",
    "print(is_power_of_two_num2)"
   ]
  },
  {
   "cell_type": "code",
   "execution_count": 25,
   "id": "90c81510",
   "metadata": {},
   "outputs": [
    {
     "name": "stdout",
     "output_type": "stream",
     "text": [
      "[1, 2, 3, 4, 5, 6, 7, 8]\n"
     ]
    }
   ],
   "source": [
    "#25. Write a Python program to merge two sorted lists into a single sorted list.\n",
    "\n",
    "def merge_sorted_lists(list1, list2):\n",
    "    merged_list = []\n",
    "    i, j = 0, 0\n",
    "    while i < len(list1) and j < len(list2):\n",
    "        if list1[i] < list2[j]:\n",
    "            merged_list.append(list1[i])\n",
    "            i += 1\n",
    "        else:\n",
    "            merged_list.append(list2[j])\n",
    "            j += 1\n",
    "    while i < len(list1):\n",
    "        merged_list.append(list1[i])\n",
    "        i += 1\n",
    "    while j < len(list2):\n",
    "        merged_list.append(list2[j])\n",
    "        j += 1\n",
    "    return merged_list\n",
    "\n",
    "# Example usage\n",
    "list1 = [1, 3, 5, 7]\n",
    "list2 = [2, 4, 6, 8]\n",
    "merged_list = merge_sorted_lists(list1, list2)\n",
    "print(merged_list)"
   ]
  },
  {
   "cell_type": "code",
   "execution_count": 26,
   "id": "bede54ec",
   "metadata": {},
   "outputs": [
    {
     "name": "stdout",
     "output_type": "stream",
     "text": [
      "2\n"
     ]
    }
   ],
   "source": [
    "#26. Implement a function to find the mode of a list of numbers.\n",
    "\n",
    "\n",
    "from collections import Counter\n",
    "\n",
    "def find_mode(numbers):\n",
    "    counter = Counter(numbers)\n",
    "    mode = counter.most_common(1)[0][0]\n",
    "    return mode\n",
    "\n",
    "# Example usage\n",
    "numbers = [1, 2, 3, 2, 4, 2, 5, 2]\n",
    "mode = find_mode(numbers)\n",
    "print(mode)"
   ]
  },
  {
   "cell_type": "code",
   "execution_count": 27,
   "id": "fefc5316",
   "metadata": {},
   "outputs": [
    {
     "name": "stdout",
     "output_type": "stream",
     "text": [
      "12\n"
     ]
    }
   ],
   "source": [
    "#27. Write a program to find the greatest common divisor (GCD) of two numbers.\n",
    "\n",
    "def find_gcd(a, b):\n",
    "    while b:\n",
    "        a, b = b, a % b\n",
    "    return a\n",
    "\n",
    "# Example usage\n",
    "num1 = 36\n",
    "num2 = 48\n",
    "gcd = find_gcd(num1, num2)\n",
    "print(gcd)"
   ]
  },
  {
   "cell_type": "code",
   "execution_count": 28,
   "id": "8625cbbf",
   "metadata": {},
   "outputs": [
    {
     "name": "stdout",
     "output_type": "stream",
     "text": [
      "3.000000001396984\n"
     ]
    }
   ],
   "source": [
    "#28. Implement a function to calculate the square root of a given number.\n",
    "\n",
    "\n",
    "def calculate_square_root(number):\n",
    "    if number < 0:\n",
    "        return None\n",
    "    guess = number\n",
    "    while abs(guess * guess - number) > 0.0001:\n",
    "        guess = (guess + number / guess) / 2\n",
    "    return guess\n",
    "\n",
    "# Example usage\n",
    "number = 9\n",
    "square_root = calculate_square_root(number)\n",
    "print(square_root)"
   ]
  },
  {
   "cell_type": "code",
   "execution_count": 29,
   "id": "0b2fbb5f",
   "metadata": {},
   "outputs": [
    {
     "name": "stdout",
     "output_type": "stream",
     "text": [
      "True\n",
      "False\n"
     ]
    }
   ],
   "source": [
    "#29. Write a Python program to check if a given string is a valid palindrome ignoring non-alphanumeric characters.\n",
    "\n",
    "\n",
    "import re\n",
    "\n",
    "def is_valid_palindrome(string):\n",
    "    clean_string = re.sub(r'[^a-zA-Z0-9]', '', string.lower())\n",
    "    return clean_string == clean_string[::-1]\n",
    "\n",
    "# Example usage\n",
    "string1 = \"A man, a plan, a canal: Panama\"\n",
    "string2 = \"race a car\"\n",
    "is_palindrome1 = is_valid_palindrome(string1)\n",
    "is_palindrome2 = is_valid_palindrome(string2)\n",
    "print(is_palindrome1)\n",
    "print(is_palindrome2)"
   ]
  },
  {
   "cell_type": "code",
   "execution_count": 30,
   "id": "80d43363",
   "metadata": {},
   "outputs": [
    {
     "name": "stdout",
     "output_type": "stream",
     "text": [
      "0\n"
     ]
    }
   ],
   "source": [
    "#30. Implement a function to find the minimum element in a rotated sorted list.\n",
    "\n",
    "\n",
    "def find_minimum(numbers):\n",
    "    left = 0\n",
    "    right = len(numbers) - 1\n",
    "    while left < right:\n",
    "        mid = left + (right - left) // 2\n",
    "        if numbers[mid] > numbers[right]:\n",
    "            left = mid + 1\n",
    "        else:\n",
    "            right = mid\n",
    "    return numbers[left]\n",
    "\n",
    "# Example usage\n",
    "rotated_list = [4, 5, 6, 7, 0, 1, 2]\n",
    "minimum = find_minimum(rotated_list)\n",
    "print(minimum)"
   ]
  },
  {
   "cell_type": "code",
   "execution_count": 31,
   "id": "3cc78b19",
   "metadata": {},
   "outputs": [
    {
     "name": "stdout",
     "output_type": "stream",
     "text": [
      "30\n"
     ]
    }
   ],
   "source": [
    "#31. Write a program to find the sum of all even numbers in a list.\n",
    "\n",
    "\n",
    "def sum_even_numbers(numbers):\n",
    "    return sum(num for num in numbers if num % 2 == 0)\n",
    "\n",
    "# Example usage\n",
    "numbers = [1, 2, 3, 4, 5, 6, 7, 8, 9, 10]\n",
    "even_sum = sum_even_numbers(numbers)\n",
    "print(even_sum)"
   ]
  },
  {
   "cell_type": "code",
   "execution_count": 32,
   "id": "a237ffcb",
   "metadata": {},
   "outputs": [
    {
     "name": "stdout",
     "output_type": "stream",
     "text": [
      "8\n"
     ]
    }
   ],
   "source": [
    "#32. Implement a function to calculate the power of a number using recursion.\n",
    "\n",
    "\n",
    "def calculate_power(base, exponent):\n",
    "    if exponent == 0:\n",
    "        return 1\n",
    "    elif exponent < 0:\n",
    "        return 1 / calculate_power(base, -exponent)\n",
    "    else:\n",
    "        return base * calculate_power(base, exponent - 1)\n",
    "\n",
    "# Example usage\n",
    "base = 2\n",
    "exponent = 3\n",
    "power = calculate_power(base, exponent)\n",
    "print(power)"
   ]
  },
  {
   "cell_type": "code",
   "execution_count": 34,
   "id": "c9401e21",
   "metadata": {},
   "outputs": [
    {
     "ename": "IndentationError",
     "evalue": "unindent does not match any outer indentation level (<tokenize>, line 8)",
     "output_type": "error",
     "traceback": [
      "\u001b[1;36m  File \u001b[1;32m<tokenize>:8\u001b[1;36m\u001b[0m\n\u001b[1;33m    return [num for num in numbers if not (num in seen or seen.add(num))]\u001b[0m\n\u001b[1;37m    ^\u001b[0m\n\u001b[1;31mIndentationError\u001b[0m\u001b[1;31m:\u001b[0m unindent does not match any outer indentation level\n"
     ]
    }
   ],
   "source": [
    "#33. Write a Python program to remove duplicates from a list while preserving the order.\n",
    "\n",
    "\n",
    "def remove_duplicates(numbers):\n",
    "    seen = set()\n",
    "   \n",
    "\n",
    " return [num for num in numbers if not (num in seen or seen.add(num))]\n",
    "\n",
    "# Example usage\n",
    "numbers = [1, 2, 3, 2, 4, 3, 5, 1]\n",
    "new_numbers = remove_duplicates(numbers)\n",
    "print(new_numbers)"
   ]
  },
  {
   "cell_type": "code",
   "execution_count": 35,
   "id": "8573fefd",
   "metadata": {},
   "outputs": [
    {
     "name": "stdout",
     "output_type": "stream",
     "text": [
      "fl\n"
     ]
    }
   ],
   "source": [
    "#34. Implement a function to find the longest common prefix among a list of strings.\n",
    "\n",
    "\n",
    "def find_longest_common_prefix(strings):\n",
    "    if not strings:\n",
    "        return \"\"\n",
    "    shortest_string = min(strings, key=len)\n",
    "    for i, char in enumerate(shortest_string):\n",
    "        for string in strings:\n",
    "            if string[i] != char:\n",
    "                return shortest_string[:i]\n",
    "    return shortest_string\n",
    "\n",
    "# Example usage\n",
    "string_list = [\"flower\", \"flow\", \"flight\"]\n",
    "longest_prefix = find_longest_common_prefix(string_list)\n",
    "print(longest_prefix)"
   ]
  },
  {
   "cell_type": "code",
   "execution_count": 36,
   "id": "4a5ad6a8",
   "metadata": {},
   "outputs": [
    {
     "name": "stdout",
     "output_type": "stream",
     "text": [
      "True\n",
      "False\n"
     ]
    }
   ],
   "source": [
    "#35. Write a program to check if a given number is a perfect square.\n",
    "\n",
    "\n",
    "import math\n",
    "\n",
    "def is_perfect_square(number):\n",
    "    root = math.isqrt(number)\n",
    "    return root * root == number\n",
    "\n",
    "# Example usage\n",
    "num1 = 16\n",
    "num2 = 17\n",
    "is_perfect_square_num1 = is_perfect_square(num1)\n",
    "is_perfect_square_num2 = is_perfect_square(num2)\n",
    "print(is_perfect_square_num1)\n",
    "print(is_perfect_square_num2)"
   ]
  },
  {
   "cell_type": "code",
   "execution_count": 37,
   "id": "87281cbe",
   "metadata": {},
   "outputs": [
    {
     "name": "stdout",
     "output_type": "stream",
     "text": [
      "120\n"
     ]
    }
   ],
   "source": [
    "#36. Implement a function to calculate the product of all elements in a list.\n",
    "\n",
    "\n",
    "from functools import reduce\n",
    "import operator\n",
    "\n",
    "def calculate_product(numbers):\n",
    "    return reduce(operator.mul, numbers, 1)\n",
    "\n",
    "# Example usage\n",
    "numbers = [1, 2, 3, 4, 5]\n",
    "product = calculate_product(numbers)\n",
    "print(product)"
   ]
  },
  {
   "cell_type": "code",
   "execution_count": 38,
   "id": "023478e8",
   "metadata": {},
   "outputs": [
    {
     "name": "stdout",
     "output_type": "stream",
     "text": [
      "you? are how Hello,\n"
     ]
    }
   ],
   "source": [
    "#37. Write a Python program to reverse the order of words in a sentence while preserving the word order.\n",
    "\n",
    "\n",
    "def reverse_sentence(sentence):\n",
    "    words = sentence.split()\n",
    "    reversed_words = ' '.join(words[::-1])\n",
    "    return reversed_words\n",
    "\n",
    "# Example usage\n",
    "sentence = \"Hello, how are you?\"\n",
    "reversed_sentence = reverse_sentence(sentence)\n",
    "print(reversed_sentence)"
   ]
  },
  {
   "cell_type": "code",
   "execution_count": 39,
   "id": "f8ae1876",
   "metadata": {},
   "outputs": [
    {
     "name": "stdout",
     "output_type": "stream",
     "text": [
      "4\n"
     ]
    }
   ],
   "source": [
    "#38. Implement a function to find the missing number in a given list of consecutive numbers.\n",
    "\n",
    "\n",
    "def find_missing_number(numbers):\n",
    "    n = len(numbers) + 1\n",
    "    total_sum = n * (n + 1) // 2\n",
    "    current_sum = sum(numbers)\n",
    "    return total_sum - current_sum\n",
    "\n",
    "# Example usage\n",
    "numbers = [1, 2, 3, 5, 6]\n",
    "missing_number = find_missing_number(numbers)\n",
    "print(missing_number)"
   ]
  },
  {
   "cell_type": "code",
   "execution_count": 40,
   "id": "9be38939",
   "metadata": {},
   "outputs": [
    {
     "name": "stdout",
     "output_type": "stream",
     "text": [
      "15\n"
     ]
    }
   ],
   "source": [
    "#39. Write a program to find the sum of digits of a given number.\n",
    "\n",
    "\n",
    "def sum_of_digits(number):\n",
    "    digit_sum = sum(int(digit) for digit in str(number))\n",
    "    return digit_sum\n",
    "\n",
    "# Example usage\n",
    "number = 12345\n",
    "digit_sum = sum_of_digits(number)\n",
    "print(digit_sum)"
   ]
  },
  {
   "cell_type": "code",
   "execution_count": 41,
   "id": "32200b44",
   "metadata": {},
   "outputs": [
    {
     "name": "stdout",
     "output_type": "stream",
     "text": [
      "True\n",
      "False\n"
     ]
    }
   ],
   "source": [
    "#40. Implement a function to check if a given string is a valid palindrome considering case sensitivity.\n",
    "\n",
    "\n",
    "def is_valid_palindrome(string):\n",
    "    return string == string[::-1]\n",
    "\n",
    "# Example usage\n",
    "string1 = \"level\"\n",
    "string2 = \"Hello\"\n",
    "is_palindrome1 = is_valid_palindrome(string1)\n",
    "is_palindrome2 = is_valid_palindrome(string2)\n",
    "print(is_palindrome1)\n",
    "print(is_palindrome2)"
   ]
  },
  {
   "cell_type": "code",
   "execution_count": 42,
   "id": "4740b7a3",
   "metadata": {},
   "outputs": [
    {
     "name": "stdout",
     "output_type": "stream",
     "text": [
      "2\n"
     ]
    }
   ],
   "source": [
    "#41. Write a Python program to find the smallest missing positive integer in a list.\n",
    "\n",
    "def find_smallest_missing_positive(numbers):\n",
    "    positive_numbers = set(numbers)\n",
    "    smallest_missing = 1\n",
    "    while smallest_missing in positive_numbers:\n",
    "        smallest_missing += 1\n",
    "    return smallest_missing\n",
    "\n",
    "# Example usage\n",
    "number_list = [3, 4, -1, 1]\n",
    "smallest_missing = find_smallest_missing_positive(number_list)\n",
    "print(smallest_missing)\n",
    "\n",
    "\n"
   ]
  },
  {
   "cell_type": "code",
   "execution_count": 43,
   "id": "2c4efa01",
   "metadata": {},
   "outputs": [
    {
     "name": "stdout",
     "output_type": "stream",
     "text": [
      "bab\n"
     ]
    }
   ],
   "source": [
    "#42. Implement a function to find the longest palindrome substring in a given string.\n",
    "def find_longest_palindrome_substring(string):\n",
    "    longest_palindrome = ''\n",
    "    for i in range(len(string)):\n",
    "        for j in range(i, len(string)):\n",
    "            substring = string[i:j+1]\n",
    "            if substring == substring[::-1] and len(substring) > len(longest_palindrome):\n",
    "                longest_palindrome = substring\n",
    "    return longest_palindrome\n",
    "\n",
    "# Example usage\n",
    "input_string = \"babad\"\n",
    "longest_palindrome_substring = find_longest_palindrome_substring(input_string)\n",
    "print(longest_palindrome_substring)\n"
   ]
  },
  {
   "cell_type": "code",
   "execution_count": 44,
   "id": "88ad0466",
   "metadata": {},
   "outputs": [
    {
     "name": "stdout",
     "output_type": "stream",
     "text": [
      "4\n"
     ]
    }
   ],
   "source": [
    "#43. Write a program to find the number of occurrences of a given element in a list.\n",
    "def count_occurrences(numbers, element):\n",
    "    return numbers.count(element)\n",
    "\n",
    "# Example usage\n",
    "number_list = [1, 2, 3, 4, 2, 2, 5, 2]\n",
    "element = 2\n",
    "occurrences = count_occurrences(number_list, element)\n",
    "print(occurrences)\n"
   ]
  },
  {
   "cell_type": "code",
   "execution_count": 45,
   "id": "6f6f98f8",
   "metadata": {},
   "outputs": [
    {
     "name": "stdout",
     "output_type": "stream",
     "text": [
      "True\n",
      "False\n"
     ]
    }
   ],
   "source": [
    "#44. Implement a function to check if a given number is a perfect number.\n",
    "def is_perfect_number(number):\n",
    "    divisors = [i for i in range(1, number) if number % i == 0]\n",
    "    return sum(divisors) == number\n",
    "\n",
    "# Example usage\n",
    "num1 = 6\n",
    "num2 = 12\n",
    "is_perfect1 = is_perfect_number(num1)\n",
    "is_perfect2 = is_perfect_number(num2)\n",
    "print(is_perfect1)\n",
    "print(is_perfect2)\n"
   ]
  },
  {
   "cell_type": "code",
   "execution_count": 46,
   "id": "41292a39",
   "metadata": {},
   "outputs": [
    {
     "name": "stdout",
     "output_type": "stream",
     "text": [
      "helo\n"
     ]
    }
   ],
   "source": [
    "#45. Write a Python program to remove all duplicates from a string.\n",
    "def remove_duplicates(string):\n",
    "    unique_chars = []\n",
    "    for char in string:\n",
    "        if char not in unique_chars:\n",
    "            unique_chars.append(char)\n",
    "    return ''.join(unique_chars)\n",
    "\n",
    "# Example usage\n",
    "input_string = \"hello\"\n",
    "string_without_duplicates = remove_duplicates(input_string)\n",
    "print(string_without_duplicates)\n",
    "\n"
   ]
  },
  {
   "cell_type": "code",
   "execution_count": 47,
   "id": "0411b434",
   "metadata": {},
   "outputs": [
    {
     "name": "stdout",
     "output_type": "stream",
     "text": [
      "2\n"
     ]
    }
   ],
   "source": [
    "#46. Implement a function to find the first missing positive\n",
    "def find_first_missing_positive(numbers):\n",
    "    n = len(numbers)\n",
    "    for i in range(n):\n",
    "        while 1 <= numbers[i] <= n and numbers[numbers[i] - 1] != numbers[i]:\n",
    "            numbers[numbers[i] - 1], numbers[i] = numbers[i], numbers[numbers[i] - 1]\n",
    "    for i in range(n):\n",
    "        if numbers[i] != i + 1:\n",
    "            return i + 1\n",
    "    return n + 1\n",
    "\n",
    "# Example usage\n",
    "number_list = [3, 4, -1, 1]\n",
    "first_missing_positive = find_first_missing_positive(number_list)\n",
    "print(first_missing_positive)\n"
   ]
  },
  {
   "cell_type": "code",
   "execution_count": null,
   "id": "fc808ff7",
   "metadata": {},
   "outputs": [],
   "source": []
  },
  {
   "cell_type": "code",
   "execution_count": null,
   "id": "0969f1f5",
   "metadata": {},
   "outputs": [],
   "source": []
  },
  {
   "cell_type": "code",
   "execution_count": null,
   "id": "f5b79a01",
   "metadata": {},
   "outputs": [],
   "source": []
  },
  {
   "cell_type": "code",
   "execution_count": null,
   "id": "d33dd27c",
   "metadata": {},
   "outputs": [],
   "source": []
  },
  {
   "cell_type": "code",
   "execution_count": null,
   "id": "08caf43b",
   "metadata": {},
   "outputs": [],
   "source": []
  }
 ],
 "metadata": {
  "kernelspec": {
   "display_name": "Python 3 (ipykernel)",
   "language": "python",
   "name": "python3"
  },
  "language_info": {
   "codemirror_mode": {
    "name": "ipython",
    "version": 3
   },
   "file_extension": ".py",
   "mimetype": "text/x-python",
   "name": "python",
   "nbconvert_exporter": "python",
   "pygments_lexer": "ipython3",
   "version": "3.10.9"
  }
 },
 "nbformat": 4,
 "nbformat_minor": 5
}
