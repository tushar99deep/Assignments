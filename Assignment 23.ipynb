{
 "cells": [
  {
   "cell_type": "code",
   "execution_count": 2,
   "id": "b3d7a8f0",
   "metadata": {},
   "outputs": [
    {
     "name": "stdout",
     "output_type": "stream",
     "text": [
      "1 2 8\n"
     ]
    },
    {
     "data": {
      "text/plain": [
       "'func(), the parameter a is required, while the parameters b and c have default values assigned to them.\\nWhen the function is called with func(1, 2), the value of a is passed as 1, the value of b is passed as 2, and since no \\nvalue is provided for c, it takes its default value of 8.\\n\\nTherefore, when the function is executed, it prints 1 2 8, where 1 corresponds to a, 2 corresponds to b, and 8 \\ncorresponds to c'"
      ]
     },
     "execution_count": 2,
     "metadata": {},
     "output_type": "execute_result"
    }
   ],
   "source": [
    "# 1. What is the result of the code, and why?\n",
    "def func(a, b=6, c=8):\n",
    "    print(a, b, c)\n",
    "func(1, 2)\n",
    "\n",
    "\n",
    "'''func(), the parameter a is required, while the parameters b and c have default values assigned to them.\n",
    "When the function is called with func(1, 2), the value of a is passed as 1, the value of b is passed as 2, and since no \n",
    "value is provided for c, it takes its default value of 8.\n",
    "\n",
    "Therefore, when the function is executed, it prints 1 2 8, where 1 corresponds to a, 2 corresponds to b, and 8 \n",
    "corresponds to c'''"
   ]
  },
  {
   "cell_type": "code",
   "execution_count": 3,
   "id": "d3aa7a82",
   "metadata": {},
   "outputs": [
    {
     "name": "stdout",
     "output_type": "stream",
     "text": [
      "1 2 3\n"
     ]
    }
   ],
   "source": [
    "#2. What is the result of this code, and why?\n",
    "def func(a, b, c=5):\n",
    "    print(a, b, c)\n",
    "func(1, c=3, b=2)\n",
    "\n",
    "'''In the function func(), the parameters a and b are required, while the parameter c has a default value assigned to it. When the function is called with func(1, c=3, b=2), the value of a is passed as 1, the value of b is passed as 2 (using keyword argument), and the value of c is passed as 3 (using keyword argument).\n",
    "\n",
    "Keyword arguments allow us to specify the value for a specific parameter by using its name. In this case, by using c=3 and b=2, we explicitly specify the values for those parameters, overriding their default values.\n",
    "\n",
    "Therefore, when the function is executed, it prints 1 2 3, where 1 corresponds to a, 2 corresponds to b, and 3 corresponds to c.'''"
   ]
  },
  {
   "cell_type": "code",
   "execution_count": 5,
   "id": "6c114fb1",
   "metadata": {},
   "outputs": [
    {
     "name": "stdout",
     "output_type": "stream",
     "text": [
      "Object `why` not found.\n",
      "1 (2, 3)\n"
     ]
    }
   ],
   "source": [
    "#3. How about this code: what is its result, and why?\n",
    "def func(a, *pargs):\n",
    "    print(a, pargs)\n",
    "func(1, 2, 3)\n",
    "\n",
    "\n",
    "'''In the function func(), the parameter a is a required positional parameter, and *pargs is a variable-length argument parameter, also known as \"args\" or \"positional arguments\". The *pargs parameter allows the function to accept any number of additional positional arguments after the required a parameter.\n",
    "\n",
    "When the function is called with func(1, 2, 3), the value of a is passed as 1, and the values 2 and 3 are treated as additional positional arguments. These additional arguments are collected into a tuple due to the *pargs parameter.\n",
    "\n",
    "Therefore, when the function is executed, it prints 1 (2, 3), where 1 corresponds to a, and (2, 3) corresponds to pargs, which is a tuple containing the additional positional arguments.'''"
   ]
  },
  {
   "cell_type": "code",
   "execution_count": 7,
   "id": "1866b886",
   "metadata": {},
   "outputs": [
    {
     "name": "stdout",
     "output_type": "stream",
     "text": [
      "1 {'c': 3, 'b': 2}\n"
     ]
    }
   ],
   "source": [
    "#4. What does this code print, and why?\n",
    "def func(a, **kargs):\n",
    "    print(a, kargs)\n",
    "func(a=1, c=3, b=2)\n",
    "'''\n",
    "In the function func(), the parameter a is a required keyword parameter, and **kargs is a variable-length argument parameter, also known as \"kwargs\" or \"keyword arguments\". The **kargs parameter allows the function to accept any number of additional keyword arguments after the required a parameter.\n",
    "\n",
    "When the function is called with func(a=1, c=3, b=2), the value of a is passed as 1 as a keyword argument. The additional keyword arguments c=3 and b=2 are collected into a dictionary due to the **kargs parameter. The keys in the dictionary are the names of the keyword arguments, and the values are the corresponding values passed to those arguments.\n",
    "\n",
    "Therefore, when the function is executed, it prints 1 {'c': 3, 'b': 2}, where 1 corresponds to a, and {'c': 3, 'b': 2} corresponds to kargs, which is a dictionary containing the additional keyword arguments.'''"
   ]
  },
  {
   "cell_type": "code",
   "execution_count": 8,
   "id": "88fde992",
   "metadata": {},
   "outputs": [
    {
     "name": "stdout",
     "output_type": "stream",
     "text": [
      "1 5 6 5\n"
     ]
    },
    {
     "data": {
      "text/plain": [
       "'\\nIn the function func(), the parameters a, b, c, and d are defined. a and b are required positional parameters, while c and d have default values assigned to them.\\n\\nWhen the function is called with func(1, *(5, 6)), the value 1 is passed as the first positional argument a, and (5, 6) is unpacked using the * operator, resulting in 5 assigned to b and 6 assigned to c. Since no value is provided for d, it takes its default value of 5.\\n\\nTherefore, when the function is executed, it prints 1 5 6 5, where 1 corresponds to a, 5 corresponds to b, 6 corresponds to c, and 5 corresponds to d.'"
      ]
     },
     "execution_count": 8,
     "metadata": {},
     "output_type": "execute_result"
    }
   ],
   "source": [
    "#5. What gets printed by this, and explain?\n",
    "def func(a, b, c=8, d=5):\n",
    "    print(a, b, c, d)\n",
    "func(1, *(5, 6))\n",
    "'''\n",
    "In the function func(), the parameters a, b, c, and d are defined. a and b are required positional parameters, while c and d have default values assigned to them.\n",
    "\n",
    "When the function is called with func(1, *(5, 6)), the value 1 is passed as the first positional argument a, and (5, 6) is unpacked using the * operator, resulting in 5 assigned to b and 6 assigned to c. Since no value is provided for d, it takes its default value of 5.\n",
    "\n",
    "Therefore, when the function is executed, it prints 1 5 6 5, where 1 corresponds to a, 5 corresponds to b, 6 corresponds to c, and 5 corresponds to d.'''"
   ]
  },
  {
   "cell_type": "code",
   "execution_count": 13,
   "id": "9fca7f85",
   "metadata": {},
   "outputs": [
    {
     "data": {
      "text/plain": [
       "\"In the function func(), there are three parameters a, b, and c. Inside the function, the following operations are performed:\\n\\na is assigned the value 2. However, since a is a local variable within the function, this assignment does not affect the value of the variable l that was passed as an argument.\\n\\nThe first element of list b is modified by assigning it the value 'x'. Since lists are mutable objects and m is a reference to the same list object as b, this modification affects the value of m as well.\\n\\nThe value associated with the key 'a' in the dictionary c is modified by assigning it the value 'y'. Since dictionaries are mutable objects and n is a reference to the same dictionary object as c, this modification affects the value of n as well.\\n\\nAfter the function call func(l, m, n), the values of l, m, and n are printed:\\n\\nThe value of l remains unchanged and is still 1.\\n\\nThe value of m is modified because it refers to the same list object as b within the function. The first element of the list is updated to 'x'.\\n\\nThe value of n is modified because it refers to the same dictionary object as c within the function. The value associated with the key 'a' is updated to 'y'.\\n\\nTherefore, when l, m, n is printed, it shows 1, ['x'], and {'a': 'y'} respectively.\""
      ]
     },
     "execution_count": 13,
     "metadata": {},
     "output_type": "execute_result"
    }
   ],
   "source": [
    "#6. what is the result of this, and explain?\n",
    "def func(a, b, c): \n",
    "    a = 2; b[0] ='x'; c['a'] = 'y'\n",
    "l=1; m=[1]; n={'a':0}\n",
    "func(l, m, n)\n",
    "\n",
    "l, m, n\n",
    "\n",
    "\n",
    "'''In the function func(), there are three parameters a, b, and c. Inside the function, the following operations are performed:\n",
    "\n",
    "a is assigned the value 2. However, since a is a local variable within the function, this assignment does not affect the value of the variable l that was passed as an argument.\n",
    "\n",
    "The first element of list b is modified by assigning it the value 'x'. Since lists are mutable objects and m is a reference to the same list object as b, this modification affects the value of m as well.\n",
    "\n",
    "The value associated with the key 'a' in the dictionary c is modified by assigning it the value 'y'. Since dictionaries are mutable objects and n is a reference to the same dictionary object as c, this modification affects the value of n as well.\n",
    "\n",
    "After the function call func(l, m, n), the values of l, m, and n are printed:\n",
    "\n",
    "The value of l remains unchanged and is still 1.\n",
    "\n",
    "The value of m is modified because it refers to the same list object as b within the function. The first element of the list is updated to 'x'.\n",
    "\n",
    "The value of n is modified because it refers to the same dictionary object as c within the function. The value associated with the key 'a' is updated to 'y'.\n",
    "\n",
    "Therefore, when l, m, n is printed, it shows 1, ['x'], and {'a': 'y'} respectively.'''"
   ]
  },
  {
   "cell_type": "code",
   "execution_count": null,
   "id": "4dab3b3c",
   "metadata": {},
   "outputs": [],
   "source": []
  }
 ],
 "metadata": {
  "kernelspec": {
   "display_name": "Python 3 (ipykernel)",
   "language": "python",
   "name": "python3"
  },
  "language_info": {
   "codemirror_mode": {
    "name": "ipython",
    "version": 3
   },
   "file_extension": ".py",
   "mimetype": "text/x-python",
   "name": "python",
   "nbconvert_exporter": "python",
   "pygments_lexer": "ipython3",
   "version": "3.9.13"
  }
 },
 "nbformat": 4,
 "nbformat_minor": 5
}
